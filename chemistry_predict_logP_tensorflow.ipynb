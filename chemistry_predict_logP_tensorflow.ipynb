{
  "cells": [
    {
      "cell_type": "markdown",
      "id": "604baa65",
      "metadata": {
        "id": "604baa65"
      },
      "source": [
        "# Deep Learning for Chemistry\n",
        "\n",
        "[![Open In Colab](https://colab.research.google.com/assets/colab-badge.svg)](https://colab.research.google.com/github/tonyreina/chemistry/blob/main/chemistry_predict_logP_tensorflow.ipynb)\n",
        "\n",
        "This notebook is based on the excellent [Kaggle tutorial](https://www.kaggle.com/vladislavkisin/tutorial-ml-in-chemistry-research-rdkit-mol2vec) from [Vlad Kisin](https://www.kaggle.com/vladislavkisin). In this example, you'll learn how to read a Chemistry datafile and create predictive models of [lipophilicity](https://en.wikipedia.org/wiki/Partition_coefficient#Partition_coefficient_and_log_P). \n",
        "\n",
        "Lipophilicity is the ability of a chemical compound to dissolve in non-polar (fatty or oily) solvents. In simple terms, if you had a glass of oil and water (which will separate with one on top of the other as in the figure below), then lipophilicity is the proportion of how much a chemical dissovles in the water portion versus the oil portion. In the figure below there are 3 molecules in water to every 1 molecule in oil. P is 3 and the log P is $\\log_{10}{3} = 0.477$.\n",
        "\n",
        "Lipophilicity contributes to the absorption, distribution, metabolism, excretion, and toxicity of a pharmaceutical and contributes to a drug's potency and selectivity.\n",
        "\n",
        "![Figure1](https://github.com/tonyreina/chemistry/blob/main/logP.png?raw=1)\n",
        "\n",
        "I'll demonstrate how to load the raw data from a CSV file and use the [RD-Kit](https://github.com/rdkit/rdkit) and [Mol2Vec](https://pubs.acs.org/doi/10.1021/acs.jcim.7b00616) packages to create features based on the chemical formula of a molecule."
      ]
    },
    {
      "cell_type": "markdown",
      "id": "7e90dfac",
      "metadata": {
        "id": "7e90dfac"
      },
      "source": [
        "## Import the usual libraries\n",
        "\n",
        "You might need to install [Seaborn](https://seaborn.pydata.org/) via `pip install seaborn` or `conda install seaborn` and [Pandas](https://pandas.pydata.org/) via `pip install pandas` or `conda install pandas`\n",
        "\n",
        "Here are the commands I used to create the conda environment:\n",
        "\n",
        "```\n",
        "conda create -n chem python=3.8 pip jupyter matplotlib seaborn\n",
        "conda activate chem\n",
        "conda install -c conda-forge rdkit\n",
        "pip install git+https://github.com/samoturk/mol2vec\n",
        "wget https://raw.githubusercontent.com/tonyreina/mol2vec/master/mol2vec/features.py -O  ~/anaconda3/envs/chem/lib/python3.8/site-packages/mol2vec/features.py\n",
        "wget https://github.com/samoturk/mol2vec_notebooks/blob/master/Notebooks/model_300dim.pkl\n",
        "pip install -U tensorflow==2.4.1\n",
        "pip install openvino-tensorflow==0.5.0\n",
        "conda install scikit-learn\n",
        "pip install py3Dmol\n",
        "```"
      ]
    },
    {
      "cell_type": "code",
      "source": [
        "!pip install -q condacolab\n",
        "import condacolab\n",
        "condacolab.install()\n",
        "\n"
      ],
      "metadata": {
        "id": "bBaxP8YECtBG",
        "outputId": "c86cce9c-3b72-4c6b-d331-7f8dce8d3305",
        "colab": {
          "base_uri": "https://localhost:8080/"
        }
      },
      "id": "bBaxP8YECtBG",
      "execution_count": 13,
      "outputs": [
        {
          "output_type": "stream",
          "name": "stdout",
          "text": [
            "⏬ Downloading https://github.com/jaimergp/miniforge/releases/latest/download/Mambaforge-colab-Linux-x86_64.sh...\n",
            "📦 Installing...\n",
            "📌 Adjusting configuration...\n",
            "🩹 Patching environment...\n",
            "⏲ Done in 0:00:35\n",
            "🔁 Restarting kernel...\n"
          ]
        }
      ]
    },
    {
      "cell_type": "code",
      "source": [
        "!mamba install -q -c rdkit rdkit"
      ],
      "metadata": {
        "id": "ZzcW5CMzC7Ik"
      },
      "id": "ZzcW5CMzC7Ik",
      "execution_count": null,
      "outputs": []
    },
    {
      "cell_type": "code",
      "source": [
        "%pip install py3Dmol\n",
        "%pip install git+https://github.com/samoturk/mol2vec"
      ],
      "metadata": {
        "id": "FhucN7FIDW6-",
        "outputId": "7e65bfa6-9f60-4eed-9a8f-b2b259e95498",
        "colab": {
          "base_uri": "https://localhost:8080/",
          "height": 1000
        }
      },
      "id": "FhucN7FIDW6-",
      "execution_count": 18,
      "outputs": [
        {
          "output_type": "stream",
          "name": "stdout",
          "text": [
            "Requirement already satisfied: py3Dmol in /usr/local/lib/python3.7/site-packages (1.8.0)\n",
            "Collecting git+https://github.com/samoturk/mol2vec\n",
            "  Cloning https://github.com/samoturk/mol2vec to /tmp/pip-req-build-zf0juwwn\n",
            "  Running command git clone -q https://github.com/samoturk/mol2vec /tmp/pip-req-build-zf0juwwn\n",
            "Requirement already satisfied: numpy in /usr/local/lib/python3.7/site-packages (from mol2vec==0.1) (1.21.5)\n",
            "Collecting gensim\n",
            "  Downloading gensim-4.1.2-cp37-cp37m-manylinux_2_12_x86_64.manylinux2010_x86_64.whl (24.1 MB)\n",
            "\u001b[K     |████████████████████████████████| 24.1 MB 1.6 MB/s \n",
            "\u001b[?25hRequirement already satisfied: tqdm in /usr/local/lib/python3.7/site-packages (from mol2vec==0.1) (4.59.0)\n",
            "Collecting joblib\n",
            "  Downloading joblib-1.1.0-py2.py3-none-any.whl (306 kB)\n",
            "\u001b[K     |████████████████████████████████| 306 kB 44.9 MB/s \n",
            "\u001b[?25hRequirement already satisfied: pandas in /usr/local/lib/python3.7/site-packages (from mol2vec==0.1) (1.3.5)\n",
            "Requirement already satisfied: matplotlib in /usr/local/lib/python3.7/site-packages (from mol2vec==0.1) (3.4.3)\n",
            "Collecting IPython\n",
            "  Downloading ipython-7.31.1-py3-none-any.whl (792 kB)\n",
            "\u001b[K     |████████████████████████████████| 792 kB 45.1 MB/s \n",
            "\u001b[?25hCollecting seaborn\n",
            "  Downloading seaborn-0.11.2-py3-none-any.whl (292 kB)\n",
            "\u001b[K     |████████████████████████████████| 292 kB 47.7 MB/s \n",
            "\u001b[?25hCollecting smart-open>=1.8.1\n",
            "  Downloading smart_open-5.2.1-py3-none-any.whl (58 kB)\n",
            "\u001b[K     |████████████████████████████████| 58 kB 6.5 MB/s \n",
            "\u001b[?25hCollecting scipy>=0.18.1\n",
            "  Downloading scipy-1.7.3-cp37-cp37m-manylinux_2_12_x86_64.manylinux2010_x86_64.whl (38.1 MB)\n",
            "\u001b[K     |████████████████████████████████| 38.1 MB 1.3 MB/s \n",
            "\u001b[?25hCollecting traitlets>=4.2\n",
            "  Downloading traitlets-5.1.1-py3-none-any.whl (102 kB)\n",
            "\u001b[K     |████████████████████████████████| 102 kB 11.0 MB/s \n",
            "\u001b[?25hCollecting pexpect>4.3\n",
            "  Downloading pexpect-4.8.0-py2.py3-none-any.whl (59 kB)\n",
            "\u001b[K     |████████████████████████████████| 59 kB 7.1 MB/s \n",
            "\u001b[?25hCollecting jedi>=0.16\n",
            "  Downloading jedi-0.18.1-py2.py3-none-any.whl (1.6 MB)\n",
            "\u001b[K     |████████████████████████████████| 1.6 MB 45.4 MB/s \n",
            "\u001b[?25hCollecting prompt-toolkit!=3.0.0,!=3.0.1,<3.1.0,>=2.0.0\n",
            "  Downloading prompt_toolkit-3.0.27-py3-none-any.whl (380 kB)\n",
            "\u001b[K     |████████████████████████████████| 380 kB 52.1 MB/s \n",
            "\u001b[?25hCollecting pygments\n",
            "  Downloading Pygments-2.11.2-py3-none-any.whl (1.1 MB)\n",
            "\u001b[K     |████████████████████████████████| 1.1 MB 32.0 MB/s \n",
            "\u001b[?25hRequirement already satisfied: setuptools>=18.5 in /usr/local/lib/python3.7/site-packages (from IPython->mol2vec==0.1) (49.6.0.post20210108)\n",
            "Collecting pickleshare\n",
            "  Downloading pickleshare-0.7.5-py2.py3-none-any.whl (6.9 kB)\n",
            "Collecting matplotlib-inline\n",
            "  Downloading matplotlib_inline-0.1.3-py3-none-any.whl (8.2 kB)\n",
            "Collecting decorator\n",
            "  Downloading decorator-5.1.1-py3-none-any.whl (9.1 kB)\n",
            "Collecting backcall\n",
            "  Downloading backcall-0.2.0-py2.py3-none-any.whl (11 kB)\n",
            "Collecting parso<0.9.0,>=0.8.0\n",
            "  Downloading parso-0.8.3-py2.py3-none-any.whl (100 kB)\n",
            "\u001b[K     |████████████████████████████████| 100 kB 10.7 MB/s \n",
            "\u001b[?25hCollecting ptyprocess>=0.5\n",
            "  Downloading ptyprocess-0.7.0-py2.py3-none-any.whl (13 kB)\n",
            "Collecting wcwidth\n",
            "  Downloading wcwidth-0.2.5-py2.py3-none-any.whl (30 kB)\n",
            "Requirement already satisfied: cycler>=0.10 in /usr/local/lib/python3.7/site-packages (from matplotlib->mol2vec==0.1) (0.11.0)\n",
            "Requirement already satisfied: python-dateutil>=2.7 in /usr/local/lib/python3.7/site-packages (from matplotlib->mol2vec==0.1) (2.8.2)\n",
            "Requirement already satisfied: kiwisolver>=1.0.1 in /usr/local/lib/python3.7/site-packages (from matplotlib->mol2vec==0.1) (1.3.2)\n",
            "Requirement already satisfied: pyparsing>=2.2.1 in /usr/local/lib/python3.7/site-packages (from matplotlib->mol2vec==0.1) (3.0.7)\n",
            "Requirement already satisfied: pillow>=6.2.0 in /usr/local/lib/python3.7/site-packages (from matplotlib->mol2vec==0.1) (8.2.0)\n",
            "Requirement already satisfied: six>=1.5 in /usr/local/lib/python3.7/site-packages (from python-dateutil>=2.7->matplotlib->mol2vec==0.1) (1.15.0)\n",
            "Requirement already satisfied: pytz>=2017.3 in /usr/local/lib/python3.7/site-packages (from pandas->mol2vec==0.1) (2021.3)\n",
            "Building wheels for collected packages: mol2vec\n",
            "  Building wheel for mol2vec (setup.py) ... \u001b[?25l\u001b[?25hdone\n",
            "  Created wheel for mol2vec: filename=mol2vec-0.1-py3-none-any.whl size=14025 sha256=07a1bf1238bd2644b319e31d17d96f739a6f66e2856425119c722708baec03d9\n",
            "  Stored in directory: /tmp/pip-ephem-wheel-cache-4cmm4vi1/wheels/80/d5/e1/90dc211e4a17780f99eaec43328470a70284cd731ef2a77034\n",
            "Successfully built mol2vec\n",
            "Installing collected packages: wcwidth, traitlets, ptyprocess, parso, smart-open, scipy, pygments, prompt-toolkit, pickleshare, pexpect, matplotlib-inline, jedi, decorator, backcall, seaborn, joblib, IPython, gensim, mol2vec\n",
            "Successfully installed IPython-7.31.1 backcall-0.2.0 decorator-5.1.1 gensim-4.1.2 jedi-0.18.1 joblib-1.1.0 matplotlib-inline-0.1.3 mol2vec-0.1 parso-0.8.3 pexpect-4.8.0 pickleshare-0.7.5 prompt-toolkit-3.0.27 ptyprocess-0.7.0 pygments-2.11.2 scipy-1.7.3 seaborn-0.11.2 smart-open-5.2.1 traitlets-5.1.1 wcwidth-0.2.5\n"
          ]
        },
        {
          "output_type": "display_data",
          "data": {
            "application/vnd.colab-display-data+json": {
              "pip_warning": {
                "packages": [
                  "pexpect",
                  "pickleshare",
                  "seaborn",
                  "smart_open",
                  "traitlets",
                  "wcwidth"
                ]
              }
            }
          },
          "metadata": {}
        }
      ]
    },
    {
      "cell_type": "markdown",
      "id": "7bdffb0d",
      "metadata": {
        "id": "7bdffb0d"
      },
      "source": [
        "## Important!\n",
        "Currently (MAY 2021) the [OpenVINO™-TensorFlow bridge](https://github.com/openvinotoolkit/openvino_tensorflow) only works with Python 3.8 and TensorFlow 2.4.1. You may want to check the [website](https://github.com/openvinotoolkit/openvino_tensorflow) to see what version of TensorFlow and Python you need to use. \n",
        "\n",
        "You only need the OpenVINO™-TensorFlow bridge and the specific version of TensorFlow if you want to complete the last section of this tutorial. Otherwise, any current version of TensorFlow should work."
      ]
    },
    {
      "cell_type": "code",
      "execution_count": 2,
      "id": "15db48b8",
      "metadata": {
        "id": "15db48b8"
      },
      "outputs": [],
      "source": [
        "%matplotlib inline\n",
        "\n",
        "import numpy as np                #!pip install numpy\n",
        "import pandas as pd               #!pip install pandas\n",
        "import matplotlib.pyplot as plt   #!pip install matplotlib\n",
        "import seaborn as sns             #!pip install seaborn"
      ]
    },
    {
      "cell_type": "markdown",
      "id": "2891707a",
      "metadata": {
        "id": "2891707a"
      },
      "source": [
        "## Load the raw data from the CSV file for the lipophilicity dataset\n",
        "\n",
        "The lipophilicity dataset is available on [Kaggle](https://www.kaggle.com/matthewmasters/chemical-structure-and-logp) and released under the Public Domain ([CC0](https://creativecommons.org/share-your-work/public-domain/cc0/)). The raw data is in a CSV file with the SMILES notation of the chemical in the first column and the lipophilicity (logP) in the second column.\n",
        "\n",
        "[SMILES](https://en.wikipedia.org/wiki/Simplified_molecular-input_line-entry_system) stands for the **S**implified **M**olecular **I**nput **L**ine **E**ntry **S**ystem which is a method for describing the structure of chemical species using short ASCII strings. Essentially it's a short-hand notation for describing a molecule including information about which atoms are connected together, the types of chemical bonds, and the 2D structure. In SMILES notation, 'C' represents a carbon atom, 'N' represents a nitrogen atom, 'Cl' represents a Chlorine atom, and '=' indicates a double bond between the adjacent atoms. For example, in the figure below the SMILES notation for the top/left molecule is **Cl\n",
        "ClC\\[C@H\\](\\[C@@H\\](C)Cl)Cl**.\n",
        "\n",
        "A good resource for learning about SMILES notation is:\n",
        "\n",
        "Quirós, M., Gražulis, S., Girdzijauskaitė, S. et al. Using SMILES strings for the description of chemical connectivity in the Crystallography Open Database. J Cheminform 10, 23 (2018). https://doi.org/10.1186/s13321-018-0279-6\n",
        "\n",
      ]
    },
    {
      "cell_type": "code",
      "execution_count": 3,
      "id": "a85d557b",
      "metadata": {
        "id": "a85d557b",
        "outputId": "f521d6f1-7cbb-4722-fdd9-c44831edd2ce",
        "colab": {
          "base_uri": "https://localhost:8080/",
          "height": 206
        }
      },
      "outputs": [
        {
          "output_type": "execute_result",
          "data": {
            "text/html": [
              "\n",
              "  <div id=\"df-d44e1c6f-ddb3-423a-9705-740573bc6e75\">\n",
              "    <div class=\"colab-df-container\">\n",
              "      <div>\n",
              "<style scoped>\n",
              "    .dataframe tbody tr th:only-of-type {\n",
              "        vertical-align: middle;\n",
              "    }\n",
              "\n",
              "    .dataframe tbody tr th {\n",
              "        vertical-align: top;\n",
              "    }\n",
              "\n",
              "    .dataframe thead th {\n",
              "        text-align: right;\n",
              "    }\n",
              "</style>\n",
              "<table border=\"1\" class=\"dataframe\">\n",
              "  <thead>\n",
              "    <tr style=\"text-align: right;\">\n",
              "      <th></th>\n",
              "      <th>smiles</th>\n",
              "      <th>logP</th>\n",
              "    </tr>\n",
              "  </thead>\n",
              "  <tbody>\n",
              "    <tr>\n",
              "      <th>0</th>\n",
              "      <td>C[C@H]([C@@H](C)Cl)Cl</td>\n",
              "      <td>2.3</td>\n",
              "    </tr>\n",
              "    <tr>\n",
              "      <th>1</th>\n",
              "      <td>C(C=CBr)N</td>\n",
              "      <td>0.3</td>\n",
              "    </tr>\n",
              "    <tr>\n",
              "      <th>2</th>\n",
              "      <td>CCC(CO)Br</td>\n",
              "      <td>1.3</td>\n",
              "    </tr>\n",
              "    <tr>\n",
              "      <th>3</th>\n",
              "      <td>[13CH3][13CH2][13CH2][13CH2][13CH2][13CH2]O</td>\n",
              "      <td>2.0</td>\n",
              "    </tr>\n",
              "    <tr>\n",
              "      <th>4</th>\n",
              "      <td>CCCOCCP</td>\n",
              "      <td>0.6</td>\n",
              "    </tr>\n",
              "  </tbody>\n",
              "</table>\n",
              "</div>\n",
              "      <button class=\"colab-df-convert\" onclick=\"convertToInteractive('df-d44e1c6f-ddb3-423a-9705-740573bc6e75')\"\n",
              "              title=\"Convert this dataframe to an interactive table.\"\n",
              "              style=\"display:none;\">\n",
              "        \n",
              "  <svg xmlns=\"http://www.w3.org/2000/svg\" height=\"24px\"viewBox=\"0 0 24 24\"\n",
              "       width=\"24px\">\n",
              "    <path d=\"M0 0h24v24H0V0z\" fill=\"none\"/>\n",
              "    <path d=\"M18.56 5.44l.94 2.06.94-2.06 2.06-.94-2.06-.94-.94-2.06-.94 2.06-2.06.94zm-11 1L8.5 8.5l.94-2.06 2.06-.94-2.06-.94L8.5 2.5l-.94 2.06-2.06.94zm10 10l.94 2.06.94-2.06 2.06-.94-2.06-.94-.94-2.06-.94 2.06-2.06.94z\"/><path d=\"M17.41 7.96l-1.37-1.37c-.4-.4-.92-.59-1.43-.59-.52 0-1.04.2-1.43.59L10.3 9.45l-7.72 7.72c-.78.78-.78 2.05 0 2.83L4 21.41c.39.39.9.59 1.41.59.51 0 1.02-.2 1.41-.59l7.78-7.78 2.81-2.81c.8-.78.8-2.07 0-2.86zM5.41 20L4 18.59l7.72-7.72 1.47 1.35L5.41 20z\"/>\n",
              "  </svg>\n",
              "      </button>\n",
              "      \n",
              "  <style>\n",
              "    .colab-df-container {\n",
              "      display:flex;\n",
              "      flex-wrap:wrap;\n",
              "      gap: 12px;\n",
              "    }\n",
              "\n",
              "    .colab-df-convert {\n",
              "      background-color: #E8F0FE;\n",
              "      border: none;\n",
              "      border-radius: 50%;\n",
              "      cursor: pointer;\n",
              "      display: none;\n",
              "      fill: #1967D2;\n",
              "      height: 32px;\n",
              "      padding: 0 0 0 0;\n",
              "      width: 32px;\n",
              "    }\n",
              "\n",
              "    .colab-df-convert:hover {\n",
              "      background-color: #E2EBFA;\n",
              "      box-shadow: 0px 1px 2px rgba(60, 64, 67, 0.3), 0px 1px 3px 1px rgba(60, 64, 67, 0.15);\n",
              "      fill: #174EA6;\n",
              "    }\n",
              "\n",
              "    [theme=dark] .colab-df-convert {\n",
              "      background-color: #3B4455;\n",
              "      fill: #D2E3FC;\n",
              "    }\n",
              "\n",
              "    [theme=dark] .colab-df-convert:hover {\n",
              "      background-color: #434B5C;\n",
              "      box-shadow: 0px 1px 3px 1px rgba(0, 0, 0, 0.15);\n",
              "      filter: drop-shadow(0px 1px 2px rgba(0, 0, 0, 0.3));\n",
              "      fill: #FFFFFF;\n",
              "    }\n",
              "  </style>\n",
              "\n",
              "      <script>\n",
              "        const buttonEl =\n",
              "          document.querySelector('#df-d44e1c6f-ddb3-423a-9705-740573bc6e75 button.colab-df-convert');\n",
              "        buttonEl.style.display =\n",
              "          google.colab.kernel.accessAllowed ? 'block' : 'none';\n",
              "\n",
              "        async function convertToInteractive(key) {\n",
              "          const element = document.querySelector('#df-d44e1c6f-ddb3-423a-9705-740573bc6e75');\n",
              "          const dataTable =\n",
              "            await google.colab.kernel.invokeFunction('convertToInteractive',\n",
              "                                                     [key], {});\n",
              "          if (!dataTable) return;\n",
              "\n",
              "          const docLinkHtml = 'Like what you see? Visit the ' +\n",
              "            '<a target=\"_blank\" href=https://colab.research.google.com/notebooks/data_table.ipynb>data table notebook</a>'\n",
              "            + ' to learn more about interactive tables.';\n",
              "          element.innerHTML = '';\n",
              "          dataTable['output_type'] = 'display_data';\n",
              "          await google.colab.output.renderOutput(dataTable, element);\n",
              "          const docLink = document.createElement('div');\n",
              "          docLink.innerHTML = docLinkHtml;\n",
              "          element.appendChild(docLink);\n",
              "        }\n",
              "      </script>\n",
              "    </div>\n",
              "  </div>\n",
              "  "
            ],
            "text/plain": [
              "                                        smiles  logP\n",
              "0                        C[C@H]([C@@H](C)Cl)Cl   2.3\n",
              "1                                    C(C=CBr)N   0.3\n",
              "2                                    CCC(CO)Br   1.3\n",
              "3  [13CH3][13CH2][13CH2][13CH2][13CH2][13CH2]O   2.0\n",
              "4                                      CCCOCCP   0.6"
            ]
          },
          "metadata": {},
          "execution_count": 3
        }
      ],
      "source": [
        "df = pd.read_csv('https://raw.githubusercontent.com/tonyreina/chemistry/main/logP_dataset.csv', names=['smiles', 'logP']) #load the CSV file\n",
        "df.head()  # Display a few rows"
      ]
    },
    {
      "cell_type": "markdown",
      "id": "38d414e7",
      "metadata": {
        "id": "38d414e7"
      },
      "source": [
        "## What is our goal?\n",
        "\n",
        "We'd like to create an algorithm **f(x)** that takes the **smiles** data as input and returns the **logP** as the output. For example,\n",
        "\n",
        "```\n",
        "f( 'C[C@H]([C@@H](C)Cl)Cl' ) = 2.3\n",
        "f( 'CCCOCCP' )               = 0.6\n",
        "```\n",
        "\n",
        "We can accomplish this with machine learning."
      ]
    },
    {
      "cell_type": "markdown",
      "id": "e7eae45a",
      "metadata": {
        "id": "e7eae45a"
      },
      "source": [
        "## RD-Kit\n",
        "[RD-Kit](https://github.com/rdkit/rdkit) is an open-source (BSD-3) Python package for data scientists to work with Chemistry data. It has some excellent modules that allow us to preprocess data from chemistry experiments.\n",
        "\n",
        "You can install it using the conda package:\n",
        "`conda install -c rdkit rdkit`\n",
        "\n",
        "With RD-Kit we can transform the SMILES notation into a more useful Python object called a *Mol* (for molecule). Mol objects contain the atoms, bonds, connectivity and coordinates of a molecule. It adds important 3D information, such as the distance between atoms, that may be useful to our model. We can use *Mol* objects to craft features of the chemical to provide as inputs to our model."
      ]
    },
    {
      "cell_type": "code",
      "execution_count": 4,
      "id": "ff308042",
      "metadata": {
        "id": "ff308042",
        "outputId": "b2929b6a-c44f-4b86-f797-2091f46e20fa",
        "colab": {
          "base_uri": "https://localhost:8080/",
          "height": 206
        }
      },
      "outputs": [
        {
          "output_type": "execute_result",
          "data": {
            "text/html": [
              "\n",
              "  <div id=\"df-4ae05a1a-3a53-4a28-bdfd-e780dc9e9b3e\">\n",
              "    <div class=\"colab-df-container\">\n",
              "      <div>\n",
              "<style scoped>\n",
              "    .dataframe tbody tr th:only-of-type {\n",
              "        vertical-align: middle;\n",
              "    }\n",
              "\n",
              "    .dataframe tbody tr th {\n",
              "        vertical-align: top;\n",
              "    }\n",
              "\n",
              "    .dataframe thead th {\n",
              "        text-align: right;\n",
              "    }\n",
              "</style>\n",
              "<table border=\"1\" class=\"dataframe\">\n",
              "  <thead>\n",
              "    <tr style=\"text-align: right;\">\n",
              "      <th></th>\n",
              "      <th>smiles</th>\n",
              "      <th>logP</th>\n",
              "      <th>mol</th>\n",
              "    </tr>\n",
              "  </thead>\n",
              "  <tbody>\n",
              "    <tr>\n",
              "      <th>0</th>\n",
              "      <td>C[C@H]([C@@H](C)Cl)Cl</td>\n",
              "      <td>2.3</td>\n",
              "      <td>&lt;rdkit.Chem.rdchem.Mol object at 0x7f0450288d00&gt;</td>\n",
              "    </tr>\n",
              "    <tr>\n",
              "      <th>1</th>\n",
              "      <td>C(C=CBr)N</td>\n",
              "      <td>0.3</td>\n",
              "      <td>&lt;rdkit.Chem.rdchem.Mol object at 0x7f0450288cb0&gt;</td>\n",
              "    </tr>\n",
              "    <tr>\n",
              "      <th>2</th>\n",
              "      <td>CCC(CO)Br</td>\n",
              "      <td>1.3</td>\n",
              "      <td>&lt;rdkit.Chem.rdchem.Mol object at 0x7f0450288da0&gt;</td>\n",
              "    </tr>\n",
              "    <tr>\n",
              "      <th>3</th>\n",
              "      <td>[13CH3][13CH2][13CH2][13CH2][13CH2][13CH2]O</td>\n",
              "      <td>2.0</td>\n",
              "      <td>&lt;rdkit.Chem.rdchem.Mol object at 0x7f0450288df0&gt;</td>\n",
              "    </tr>\n",
              "    <tr>\n",
              "      <th>4</th>\n",
              "      <td>CCCOCCP</td>\n",
              "      <td>0.6</td>\n",
              "      <td>&lt;rdkit.Chem.rdchem.Mol object at 0x7f0450288e40&gt;</td>\n",
              "    </tr>\n",
              "  </tbody>\n",
              "</table>\n",
              "</div>\n",
              "      <button class=\"colab-df-convert\" onclick=\"convertToInteractive('df-4ae05a1a-3a53-4a28-bdfd-e780dc9e9b3e')\"\n",
              "              title=\"Convert this dataframe to an interactive table.\"\n",
              "              style=\"display:none;\">\n",
              "        \n",
              "  <svg xmlns=\"http://www.w3.org/2000/svg\" height=\"24px\"viewBox=\"0 0 24 24\"\n",
              "       width=\"24px\">\n",
              "    <path d=\"M0 0h24v24H0V0z\" fill=\"none\"/>\n",
              "    <path d=\"M18.56 5.44l.94 2.06.94-2.06 2.06-.94-2.06-.94-.94-2.06-.94 2.06-2.06.94zm-11 1L8.5 8.5l.94-2.06 2.06-.94-2.06-.94L8.5 2.5l-.94 2.06-2.06.94zm10 10l.94 2.06.94-2.06 2.06-.94-2.06-.94-.94-2.06-.94 2.06-2.06.94z\"/><path d=\"M17.41 7.96l-1.37-1.37c-.4-.4-.92-.59-1.43-.59-.52 0-1.04.2-1.43.59L10.3 9.45l-7.72 7.72c-.78.78-.78 2.05 0 2.83L4 21.41c.39.39.9.59 1.41.59.51 0 1.02-.2 1.41-.59l7.78-7.78 2.81-2.81c.8-.78.8-2.07 0-2.86zM5.41 20L4 18.59l7.72-7.72 1.47 1.35L5.41 20z\"/>\n",
              "  </svg>\n",
              "      </button>\n",
              "      \n",
              "  <style>\n",
              "    .colab-df-container {\n",
              "      display:flex;\n",
              "      flex-wrap:wrap;\n",
              "      gap: 12px;\n",
              "    }\n",
              "\n",
              "    .colab-df-convert {\n",
              "      background-color: #E8F0FE;\n",
              "      border: none;\n",
              "      border-radius: 50%;\n",
              "      cursor: pointer;\n",
              "      display: none;\n",
              "      fill: #1967D2;\n",
              "      height: 32px;\n",
              "      padding: 0 0 0 0;\n",
              "      width: 32px;\n",
              "    }\n",
              "\n",
              "    .colab-df-convert:hover {\n",
              "      background-color: #E2EBFA;\n",
              "      box-shadow: 0px 1px 2px rgba(60, 64, 67, 0.3), 0px 1px 3px 1px rgba(60, 64, 67, 0.15);\n",
              "      fill: #174EA6;\n",
              "    }\n",
              "\n",
              "    [theme=dark] .colab-df-convert {\n",
              "      background-color: #3B4455;\n",
              "      fill: #D2E3FC;\n",
              "    }\n",
              "\n",
              "    [theme=dark] .colab-df-convert:hover {\n",
              "      background-color: #434B5C;\n",
              "      box-shadow: 0px 1px 3px 1px rgba(0, 0, 0, 0.15);\n",
              "      filter: drop-shadow(0px 1px 2px rgba(0, 0, 0, 0.3));\n",
              "      fill: #FFFFFF;\n",
              "    }\n",
              "  </style>\n",
              "\n",
              "      <script>\n",
              "        const buttonEl =\n",
              "          document.querySelector('#df-4ae05a1a-3a53-4a28-bdfd-e780dc9e9b3e button.colab-df-convert');\n",
              "        buttonEl.style.display =\n",
              "          google.colab.kernel.accessAllowed ? 'block' : 'none';\n",
              "\n",
              "        async function convertToInteractive(key) {\n",
              "          const element = document.querySelector('#df-4ae05a1a-3a53-4a28-bdfd-e780dc9e9b3e');\n",
              "          const dataTable =\n",
              "            await google.colab.kernel.invokeFunction('convertToInteractive',\n",
              "                                                     [key], {});\n",
              "          if (!dataTable) return;\n",
              "\n",
              "          const docLinkHtml = 'Like what you see? Visit the ' +\n",
              "            '<a target=\"_blank\" href=https://colab.research.google.com/notebooks/data_table.ipynb>data table notebook</a>'\n",
              "            + ' to learn more about interactive tables.';\n",
              "          element.innerHTML = '';\n",
              "          dataTable['output_type'] = 'display_data';\n",
              "          await google.colab.output.renderOutput(dataTable, element);\n",
              "          const docLink = document.createElement('div');\n",
              "          docLink.innerHTML = docLinkHtml;\n",
              "          element.appendChild(docLink);\n",
              "        }\n",
              "      </script>\n",
              "    </div>\n",
              "  </div>\n",
              "  "
            ],
            "text/plain": [
              "                                        smiles  ...                                               mol\n",
              "0                        C[C@H]([C@@H](C)Cl)Cl  ...  <rdkit.Chem.rdchem.Mol object at 0x7f0450288d00>\n",
              "1                                    C(C=CBr)N  ...  <rdkit.Chem.rdchem.Mol object at 0x7f0450288cb0>\n",
              "2                                    CCC(CO)Br  ...  <rdkit.Chem.rdchem.Mol object at 0x7f0450288da0>\n",
              "3  [13CH3][13CH2][13CH2][13CH2][13CH2][13CH2]O  ...  <rdkit.Chem.rdchem.Mol object at 0x7f0450288df0>\n",
              "4                                      CCCOCCP  ...  <rdkit.Chem.rdchem.Mol object at 0x7f0450288e40>\n",
              "\n",
              "[5 rows x 3 columns]"
            ]
          },
          "metadata": {},
          "execution_count": 4
        }
      ],
      "source": [
        "#Importing Chem module\n",
        "from rdkit import Chem \n",
        "\n",
        "#Method transforms smiles strings to mol rdkit object\n",
        "df['mol'] = df['smiles'].apply(lambda x: Chem.MolFromSmiles(x)) \n",
        "\n",
        "df.head()"
      ]
    },
    {
      "cell_type": "markdown",
      "id": "85a61a48",
      "metadata": {
        "id": "85a61a48"
      },
      "source": [
        "## Plot some chemical structures\n",
        "\n",
        "Once we have our molecules as *Mol* Python objects, then RD-Kit allows us to plot the chemical structures easily."
      ]
    },
    {
      "cell_type": "code",
      "execution_count": 8,
      "id": "b6080e2f",
      "metadata": {
        "id": "b6080e2f",
        "outputId": "2b48302e-82e9-43a8-c45c-552f2aa392c2",
        "colab": {
          "base_uri": "https://localhost:8080/",
          "height": 87
        }
      },
      "outputs": [
        {
          "output_type": "execute_result",
          "data": {
            "application/vnd.google.colaboratory.intrinsic+json": {
              "type": "string"
            },
            "text/plain": [
              "\"<?xml version='1.0' encoding='iso-8859-1'?>\\n<svg version='1.1' baseProfile='full'\\n              xmlns='http://www.w3.org/2000/svg'\\n                      xmlns:rdkit='http://www.rdkit.org/xml'\\n                      xmlns:xlink='http://www.w3.org/1999/xlink'\\n                  xml:space='preserve'\\nwidth='1000px' height='800px' viewBox='0 0 1000 800'>\\n<!-- END OF HEADER -->\\n<rect style='opacity:1.0;fill:#FFFFFF;stroke:none' width='1000.0' height='800.0' x='0.0' y='0.0'> </rect>\\n<rect style='opacity:1.0;fill:#FFFFFF;stroke:none' width='1000.0' height='800.0' x='0.0' y='0.0'> </rect>\\n<rect style='opacity:1.0;fill:#FFFFFF;stroke:none' width='1000.0' height='800.0' x='0.0' y='0.0'> </rect>\\n<rect style='opacity:1.0;fill:#FFFFFF;stroke:none' width='1000.0' height='800.0' x='0.0' y='0.0'> </rect>\\n<rect style='opacity:1.0;fill:#FFFFFF;stroke:none' width='1000.0' height='800.0' x='0.0' y='0.0'> </rect>\\n<rect style='opacity:1.0;fill:#FFFFFF;stroke:none' width='1000.0' height='800.0' x='0.0' y='0.0'> </rect>\\n<rect style='opacity:1.0;fill:#FFFFFF;stroke:none' width='1000.0' height='800.0' x='0.0' y='0.0'> </rect>\\n<rect style='opacity:1.0;fill:#FFFFFF;stroke:none' width='1000.0' height='800.0' x='0.0' y='0.0'> </rect>\\n<rect style='opacity:1.0;fill:#FFFFFF;stroke:none' width='1000.0' height='800.0' x='0.0' y='0.0'> </rect>\\n<rect style='opacity:1.0;fill:#FFFFFF;stroke:none' width='1000.0' height='800.0' x='0.0' y='0.0'> </rect>\\n<rect style='opacity:1.0;fill:#FFFFFF;stroke:none' width='1000.0' height='800.0' x='0.0' y='0.0'> </rect>\\n<rect style='opacity:1.0;fill:#FFFFFF;stroke:none' width='1000.0' height='800.0' x='0.0' y='0.0'> </rect>\\n<rect style='opacity:1.0;fill:#FFFFFF;stroke:none' width='1000.0' height='800.0' x='0.0' y='0.0'> </rect>\\n<rect style='opacity:1.0;fill:#FFFFFF;stroke:none' width='1000.0' height='800.0' x='0.0' y='0.0'> </rect>\\n<rect style='opacity:1.0;fill:#FFFFFF;stroke:none' width='1000.0' height='800.0' x='0.0' y='0.0'> </rect>\\n<rect style='opacity:1.0;fill:#FFFFFF;stroke:none' width='1000.0' height='800.0' x='0.0' y='0.0'> </rect>\\n<rect style='opacity:1.0;fill:#FFFFFF;stroke:none' width='1000.0' height='800.0' x='0.0' y='0.0'> </rect>\\n<rect style='opacity:1.0;fill:#FFFFFF;stroke:none' width='1000.0' height='800.0' x='0.0' y='0.0'> </rect>\\n<rect style='opacity:1.0;fill:#FFFFFF;stroke:none' width='1000.0' height='800.0' x='0.0' y='0.0'> </rect>\\n<rect style='opacity:1.0;fill:#FFFFFF;stroke:none' width='1000.0' height='800.0' x='0.0' y='0.0'> </rect>\\n<rect style='opacity:1.0;fill:#FFFFFF;stroke:none' width='1000.0' height='800.0' x='0.0' y='0.0'> </rect>\\n<path class='bond-0 atom-1 atom-0' d='M 106.9,80.7 L 123.1,58.1 L 118.3,55.3 Z' style='fill:#000000;fill-rule:evenodd;fill-opacity:1;stroke:#000000;stroke-width:2.0px;stroke-linecap:butt;stroke-linejoin:miter;stroke-opacity:1;' />\\n<path class='bond-1 atom-1 atom-2' d='M 106.9,80.7 L 79.2,80.7' style='fill:none;fill-rule:evenodd;stroke:#000000;stroke-width:2.0px;stroke-linecap:butt;stroke-linejoin:miter;stroke-opacity:1' />\\n<path class='bond-4 atom-1 atom-5' d='M 106.9,80.7 L 112.5,90.4' style='fill:none;fill-rule:evenodd;stroke:#000000;stroke-width:2.0px;stroke-linecap:butt;stroke-linejoin:miter;stroke-opacity:1' />\\n<path class='bond-4 atom-1 atom-5' d='M 112.5,90.4 L 118.2,100.2' style='fill:none;fill-rule:evenodd;stroke:#00CC00;stroke-width:2.0px;stroke-linecap:butt;stroke-linejoin:miter;stroke-opacity:1' />\\n<path class='bond-2 atom-2 atom-3' d='M 79.2,80.7 L 63.0,103.2 L 67.8,106.0 Z' style='fill:#000000;fill-rule:evenodd;fill-opacity:1;stroke:#000000;stroke-width:2.0px;stroke-linecap:butt;stroke-linejoin:miter;stroke-opacity:1;' />\\n<path class='bond-3 atom-2 atom-4' d='M 79.2,80.7 L 72.9,69.7' style='fill:none;fill-rule:evenodd;stroke:#000000;stroke-width:2.0px;stroke-linecap:butt;stroke-linejoin:miter;stroke-opacity:1' />\\n<path class='bond-3 atom-2 atom-4' d='M 72.9,69.7 L 66.6,58.8' style='fill:none;fill-rule:evenodd;stroke:#00CC00;stroke-width:2.0px;stroke-linecap:butt;stroke-linejoin:miter;stroke-opacity:1' />\\n<path  class='atom-4' d='M 57.9 57.0\\nQ 57.9 55.0, 58.8 54.0\\nQ 59.7 53.0, 61.5 53.0\\nQ 63.1 53.0, 63.9 54.1\\nL 63.2 54.7\\nQ 62.6 53.9, 61.5 53.9\\nQ 60.3 53.9, 59.7 54.7\\nQ 59.0 55.5, 59.0 57.0\\nQ 59.0 58.5, 59.7 59.3\\nQ 60.3 60.1, 61.6 60.1\\nQ 62.5 60.1, 63.5 59.6\\nL 63.8 60.4\\nQ 63.4 60.7, 62.7 60.9\\nQ 62.1 61.0, 61.4 61.0\\nQ 59.7 61.0, 58.8 60.0\\nQ 57.9 58.9, 57.9 57.0\\n' fill='#00CC00'/>\\n<path  class='atom-4' d='M 64.9 52.5\\nL 65.9 52.5\\nL 65.9 60.9\\nL 64.9 60.9\\nL 64.9 52.5\\n' fill='#00CC00'/>\\n<path  class='atom-5' d='M 117.7 104.9\\nQ 117.7 102.9, 118.6 101.9\\nQ 119.5 100.9, 121.2 100.9\\nQ 122.9 100.9, 123.7 102.0\\nL 123.0 102.6\\nQ 122.4 101.8, 121.2 101.8\\nQ 120.1 101.8, 119.4 102.6\\nQ 118.8 103.4, 118.8 104.9\\nQ 118.8 106.4, 119.5 107.2\\nQ 120.1 108.0, 121.4 108.0\\nQ 122.2 108.0, 123.2 107.5\\nL 123.5 108.3\\nQ 123.1 108.6, 122.5 108.7\\nQ 121.9 108.9, 121.2 108.9\\nQ 119.5 108.9, 118.6 107.9\\nQ 117.7 106.8, 117.7 104.9\\n' fill='#00CC00'/>\\n<path  class='atom-5' d='M 124.7 100.4\\nL 125.7 100.4\\nL 125.7 108.8\\nL 124.7 108.8\\nL 124.7 100.4\\n' fill='#00CC00'/>\\n<path  d='M 14.0 184.4\\nQ 14.0 181.6, 15.3 180.1\\nQ 16.7 178.6, 19.2 178.6\\nQ 21.5 178.6, 22.8 180.3\\nL 21.7 181.1\\nQ 20.8 179.9, 19.2 179.9\\nQ 17.5 179.9, 16.6 181.1\\nQ 15.7 182.2, 15.7 184.4\\nQ 15.7 186.6, 16.6 187.8\\nQ 17.5 188.9, 19.4 188.9\\nQ 20.6 188.9, 22.1 188.2\\nL 22.5 189.4\\nQ 21.9 189.8, 21.0 190.0\\nQ 20.1 190.2, 19.1 190.2\\nQ 16.7 190.2, 15.3 188.7\\nQ 14.0 187.2, 14.0 184.4\\n' fill='#000000'/>\\n<path  d='M 24.1 177.7\\nL 27.5 177.7\\nL 27.5 178.8\\nL 25.5 178.8\\nL 25.5 192.0\\nL 27.5 192.0\\nL 27.5 193.2\\nL 24.1 193.2\\nL 24.1 177.7\\n' fill='#000000'/>\\n<path  d='M 28.3 184.4\\nQ 28.3 181.6, 29.6 180.1\\nQ 31.0 178.6, 33.5 178.6\\nQ 35.8 178.6, 37.1 180.3\\nL 36.0 181.1\\nQ 35.1 179.9, 33.5 179.9\\nQ 31.8 179.9, 30.9 181.1\\nQ 30.0 182.2, 30.0 184.4\\nQ 30.0 186.6, 30.9 187.8\\nQ 31.8 188.9, 33.7 188.9\\nQ 34.9 188.9, 36.4 188.2\\nL 36.8 189.4\\nQ 36.2 189.8, 35.3 190.0\\nQ 34.4 190.2, 33.4 190.2\\nQ 31.0 190.2, 29.6 188.7\\nQ 28.3 187.2, 28.3 184.4\\n' fill='#000000'/>\\n<path  d='M 48.2 193.1\\nQ 47.7 193.3, 46.9 193.5\\nQ 46.1 193.7, 45.1 193.7\\nQ 42.9 193.7, 41.2 192.8\\nQ 39.6 191.9, 38.7 190.3\\nQ 37.8 188.7, 37.8 186.6\\nQ 37.8 184.3, 38.8 182.5\\nQ 39.8 180.7, 41.6 179.7\\nQ 43.4 178.7, 45.6 178.7\\nQ 47.6 178.7, 49.2 179.4\\nQ 50.7 180.2, 51.5 181.7\\nQ 52.3 183.1, 52.3 185.0\\nQ 52.3 186.4, 51.9 187.5\\nQ 51.5 188.5, 50.7 189.1\\nQ 50.0 189.6, 49.0 189.6\\nQ 48.2 189.6, 47.6 189.2\\nQ 47.0 188.8, 46.7 188.1\\nQ 46.3 188.9, 45.7 189.3\\nQ 45.0 189.6, 44.2 189.6\\nQ 43.1 189.6, 42.5 188.9\\nQ 41.8 188.2, 41.8 186.9\\nQ 41.8 185.6, 42.3 184.7\\nQ 42.9 183.7, 43.8 183.2\\nQ 44.8 182.6, 46.0 182.6\\nQ 47.0 182.6, 48.0 183.0\\nL 47.7 185.6\\nQ 47.7 186.0, 47.7 186.4\\nQ 47.7 188.4, 49.0 188.4\\nQ 49.8 188.4, 50.3 187.6\\nQ 50.8 186.8, 50.8 185.0\\nQ 50.8 182.7, 49.5 181.3\\nQ 48.2 179.9, 45.6 179.9\\nQ 43.8 179.9, 42.4 180.8\\nQ 41.0 181.7, 40.2 183.2\\nQ 39.4 184.8, 39.4 186.6\\nQ 39.4 188.3, 40.1 189.6\\nQ 40.8 190.9, 42.1 191.7\\nQ 43.4 192.4, 45.1 192.4\\nQ 46.0 192.4, 46.7 192.3\\nQ 47.4 192.1, 47.8 192.0\\nL 48.2 193.1\\nM 43.2 186.7\\nQ 43.2 187.5, 43.6 188.0\\nQ 43.9 188.4, 44.5 188.4\\nQ 45.2 188.4, 45.7 187.8\\nQ 46.2 187.1, 46.4 186.0\\nL 46.7 184.0\\nQ 46.3 183.8, 45.8 183.8\\nQ 44.7 183.8, 44.0 184.6\\nQ 43.3 185.4, 43.2 186.7\\n' fill='#000000'/>\\n<path  d='M 53.7 178.8\\nL 55.2 178.8\\nL 55.2 183.6\\nL 61.0 183.6\\nL 61.0 178.8\\nL 62.6 178.8\\nL 62.6 190.1\\nL 61.0 190.1\\nL 61.0 184.8\\nL 55.2 184.8\\nL 55.2 190.1\\nL 53.7 190.1\\nL 53.7 178.8\\n' fill='#000000'/>\\n<path  d='M 66.3 177.7\\nL 66.3 193.2\\nL 62.9 193.2\\nL 62.9 192.0\\nL 65.0 192.0\\nL 65.0 178.8\\nL 62.9 178.8\\nL 62.9 177.7\\nL 66.3 177.7\\n' fill='#000000'/>\\n<path  d='M 67.1 185.5\\nQ 67.1 183.2, 67.8 181.3\\nQ 68.4 179.5, 69.7 177.4\\nL 70.6 178.0\\nQ 69.6 179.9, 69.0 181.6\\nQ 68.5 183.3, 68.5 185.5\\nQ 68.5 187.7, 69.0 189.4\\nQ 69.6 191.1, 70.6 193.1\\nL 69.7 193.6\\nQ 68.4 191.6, 67.8 189.7\\nQ 67.1 187.8, 67.1 185.5\\n' fill='#000000'/>\\n<path  d='M 72.0 177.7\\nL 75.4 177.7\\nL 75.4 178.8\\nL 73.3 178.8\\nL 73.3 192.0\\nL 75.4 192.0\\nL 75.4 193.2\\nL 72.0 193.2\\nL 72.0 177.7\\n' fill='#000000'/>\\n<path  d='M 76.2 184.4\\nQ 76.2 181.6, 77.5 180.1\\nQ 78.8 178.6, 81.3 178.6\\nQ 83.7 178.6, 84.9 180.3\\nL 83.9 181.1\\nQ 83.0 179.9, 81.3 179.9\\nQ 79.6 179.9, 78.7 181.1\\nQ 77.8 182.2, 77.8 184.4\\nQ 77.8 186.6, 78.7 187.8\\nQ 79.7 188.9, 81.5 188.9\\nQ 82.8 188.9, 84.2 188.2\\nL 84.7 189.4\\nQ 84.1 189.8, 83.2 190.0\\nQ 82.3 190.2, 81.3 190.2\\nQ 78.8 190.2, 77.5 188.7\\nQ 76.2 187.2, 76.2 184.4\\n' fill='#000000'/>\\n<path  d='M 96.1 193.1\\nQ 95.6 193.3, 94.8 193.5\\nQ 94.0 193.7, 93.0 193.7\\nQ 90.7 193.7, 89.1 192.8\\nQ 87.4 191.9, 86.6 190.3\\nQ 85.7 188.7, 85.7 186.6\\nQ 85.7 184.3, 86.7 182.5\\nQ 87.7 180.7, 89.5 179.7\\nQ 91.2 178.7, 93.4 178.7\\nQ 95.5 178.7, 97.0 179.4\\nQ 98.6 180.2, 99.4 181.7\\nQ 100.2 183.1, 100.2 185.0\\nQ 100.2 186.4, 99.8 187.5\\nQ 99.4 188.5, 98.6 189.1\\nQ 97.8 189.6, 96.8 189.6\\nQ 96.0 189.6, 95.4 189.2\\nQ 94.8 188.8, 94.6 188.1\\nQ 94.2 188.9, 93.5 189.3\\nQ 92.9 189.6, 92.1 189.6\\nQ 91.0 189.6, 90.3 188.9\\nQ 89.7 188.2, 89.7 186.9\\nQ 89.7 185.6, 90.2 184.7\\nQ 90.7 183.7, 91.7 183.2\\nQ 92.7 182.6, 93.8 182.6\\nQ 94.8 182.6, 95.9 183.0\\nL 95.6 185.6\\nQ 95.5 186.0, 95.5 186.4\\nQ 95.5 188.4, 96.9 188.4\\nQ 97.6 188.4, 98.1 187.6\\nQ 98.6 186.8, 98.6 185.0\\nQ 98.6 182.7, 97.3 181.3\\nQ 96.0 179.9, 93.4 179.9\\nQ 91.7 179.9, 90.3 180.8\\nQ 88.9 181.7, 88.1 183.2\\nQ 87.3 184.8, 87.3 186.6\\nQ 87.3 188.3, 88.0 189.6\\nQ 88.7 190.9, 90.0 191.7\\nQ 91.3 192.4, 93.0 192.4\\nQ 93.9 192.4, 94.6 192.3\\nQ 95.3 192.1, 95.7 192.0\\nL 96.1 193.1\\nM 91.1 186.7\\nQ 91.1 187.5, 91.4 188.0\\nQ 91.8 188.4, 92.3 188.4\\nQ 93.0 188.4, 93.6 187.8\\nQ 94.1 187.1, 94.2 186.0\\nL 94.6 184.0\\nQ 94.1 183.8, 93.7 183.8\\nQ 92.5 183.8, 91.8 184.6\\nQ 91.2 185.4, 91.1 186.7\\n' fill='#000000'/>\\n<path  d='M 111.4 193.1\\nQ 110.9 193.3, 110.1 193.5\\nQ 109.3 193.7, 108.3 193.7\\nQ 106.0 193.7, 104.4 192.8\\nQ 102.7 191.9, 101.8 190.3\\nQ 101.0 188.7, 101.0 186.6\\nQ 101.0 184.3, 102.0 182.5\\nQ 103.0 180.7, 104.7 179.7\\nQ 106.5 178.7, 108.7 178.7\\nQ 110.8 178.7, 112.3 179.4\\nQ 113.8 180.2, 114.6 181.7\\nQ 115.5 183.1, 115.5 185.0\\nQ 115.5 186.4, 115.1 187.5\\nQ 114.6 188.5, 113.9 189.1\\nQ 113.1 189.6, 112.1 189.6\\nQ 111.3 189.6, 110.7 189.2\\nQ 110.1 188.8, 109.9 188.1\\nQ 109.5 188.9, 108.8 189.3\\nQ 108.2 189.6, 107.4 189.6\\nQ 106.3 189.6, 105.6 188.9\\nQ 104.9 188.2, 104.9 186.9\\nQ 104.9 185.6, 105.5 184.7\\nQ 106.0 183.7, 107.0 183.2\\nQ 107.9 182.6, 109.1 182.6\\nQ 110.1 182.6, 111.2 183.0\\nL 110.8 185.6\\nQ 110.8 186.0, 110.8 186.4\\nQ 110.8 188.4, 112.2 188.4\\nQ 112.9 188.4, 113.4 187.6\\nQ 113.9 186.8, 113.9 185.0\\nQ 113.9 182.7, 112.6 181.3\\nQ 111.3 179.9, 108.7 179.9\\nQ 107.0 179.9, 105.6 180.8\\nQ 104.2 181.7, 103.4 183.2\\nQ 102.6 184.8, 102.6 186.6\\nQ 102.6 188.3, 103.2 189.6\\nQ 103.9 190.9, 105.2 191.7\\nQ 106.6 192.4, 108.3 192.4\\nQ 109.1 192.4, 109.9 192.3\\nQ 110.6 192.1, 111.0 192.0\\nL 111.4 193.1\\nM 106.4 186.7\\nQ 106.4 187.5, 106.7 188.0\\nQ 107.0 188.4, 107.6 188.4\\nQ 108.3 188.4, 108.8 187.8\\nQ 109.4 187.1, 109.5 186.0\\nL 109.8 184.0\\nQ 109.4 183.8, 108.9 183.8\\nQ 107.8 183.8, 107.1 184.6\\nQ 106.4 185.4, 106.4 186.7\\n' fill='#000000'/>\\n<path  d='M 116.8 178.8\\nL 118.4 178.8\\nL 118.4 183.6\\nL 124.2 183.6\\nL 124.2 178.8\\nL 125.7 178.8\\nL 125.7 190.1\\nL 124.2 190.1\\nL 124.2 184.8\\nL 118.4 184.8\\nL 118.4 190.1\\nL 116.8 190.1\\nL 116.8 178.8\\n' fill='#000000'/>\\n<path  d='M 129.4 177.7\\nL 129.4 193.2\\nL 126.0 193.2\\nL 126.0 192.0\\nL 128.1 192.0\\nL 128.1 178.8\\nL 126.0 178.8\\nL 126.0 177.7\\nL 129.4 177.7\\n' fill='#000000'/>\\n<path  d='M 130.2 185.5\\nQ 130.2 183.2, 130.9 181.3\\nQ 131.6 179.5, 132.9 177.4\\nL 133.8 178.0\\nQ 132.7 179.9, 132.2 181.6\\nQ 131.7 183.3, 131.7 185.5\\nQ 131.7 187.7, 132.2 189.4\\nQ 132.7 191.1, 133.8 193.1\\nL 132.9 193.6\\nQ 131.6 191.6, 130.9 189.7\\nQ 130.2 187.8, 130.2 185.5\\n' fill='#000000'/>\\n<path  d='M 134.6 184.4\\nQ 134.6 181.6, 135.9 180.1\\nQ 137.2 178.6, 139.7 178.6\\nQ 142.0 178.6, 143.3 180.3\\nL 142.2 181.1\\nQ 141.3 179.9, 139.7 179.9\\nQ 138.0 179.9, 137.1 181.1\\nQ 136.2 182.2, 136.2 184.4\\nQ 136.2 186.6, 137.1 187.8\\nQ 138.1 188.9, 139.9 188.9\\nQ 141.1 188.9, 142.6 188.2\\nL 143.0 189.4\\nQ 142.4 189.8, 141.5 190.0\\nQ 140.6 190.2, 139.7 190.2\\nQ 137.2 190.2, 135.9 188.7\\nQ 134.6 187.2, 134.6 184.4\\n' fill='#000000'/>\\n<path  d='M 147.2 185.5\\nQ 147.2 187.8, 146.5 189.7\\nQ 145.9 191.6, 144.6 193.6\\nL 143.7 193.1\\nQ 144.7 191.1, 145.2 189.4\\nQ 145.8 187.7, 145.8 185.5\\nQ 145.8 183.3, 145.2 181.6\\nQ 144.7 179.9, 143.7 178.0\\nL 144.6 177.4\\nQ 145.9 179.5, 146.5 181.3\\nQ 147.2 183.2, 147.2 185.5\\n' fill='#000000'/>\\n<path  d='M 148.0 184.4\\nQ 148.0 181.6, 149.3 180.1\\nQ 150.6 178.6, 153.2 178.6\\nQ 155.5 178.6, 156.7 180.3\\nL 155.7 181.1\\nQ 154.8 179.9, 153.2 179.9\\nQ 151.4 179.9, 150.5 181.1\\nQ 149.6 182.2, 149.6 184.4\\nQ 149.6 186.6, 150.6 187.8\\nQ 151.5 188.9, 153.3 188.9\\nQ 154.6 188.9, 156.0 188.2\\nL 156.5 189.4\\nQ 155.9 189.8, 155.0 190.0\\nQ 154.1 190.2, 153.1 190.2\\nQ 150.6 190.2, 149.3 188.7\\nQ 148.0 187.2, 148.0 184.4\\n' fill='#000000'/>\\n<path  d='M 158.1 177.9\\nL 159.6 177.9\\nL 159.6 190.1\\nL 158.1 190.1\\nL 158.1 177.9\\n' fill='#000000'/>\\n<path  d='M 163.5 185.5\\nQ 163.5 187.8, 162.8 189.7\\nQ 162.2 191.6, 160.9 193.6\\nL 160.0 193.1\\nQ 161.0 191.1, 161.5 189.4\\nQ 162.1 187.7, 162.1 185.5\\nQ 162.1 183.3, 161.5 181.6\\nQ 161.0 179.9, 160.0 178.0\\nL 160.9 177.4\\nQ 162.2 179.5, 162.8 181.3\\nQ 163.5 183.2, 163.5 185.5\\n' fill='#000000'/>\\n<path  d='M 164.3 184.4\\nQ 164.3 181.6, 165.6 180.1\\nQ 167.0 178.6, 169.5 178.6\\nQ 171.8 178.6, 173.0 180.3\\nL 172.0 181.1\\nQ 171.1 179.9, 169.5 179.9\\nQ 167.8 179.9, 166.8 181.1\\nQ 165.9 182.2, 165.9 184.4\\nQ 165.9 186.6, 166.9 187.8\\nQ 167.8 188.9, 169.6 188.9\\nQ 170.9 188.9, 172.3 188.2\\nL 172.8 189.4\\nQ 172.2 189.8, 171.3 190.0\\nQ 170.4 190.2, 169.4 190.2\\nQ 167.0 190.2, 165.6 188.7\\nQ 164.3 187.2, 164.3 184.4\\n' fill='#000000'/>\\n<path  d='M 174.4 177.9\\nL 175.9 177.9\\nL 175.9 190.1\\nL 174.4 190.1\\nL 174.4 177.9\\n' fill='#000000'/>\\n<path class='bond-0 atom-0 atom-1' d='M 269.1,89.0 L 293.1,75.1' style='fill:none;fill-rule:evenodd;stroke:#000000;stroke-width:2.0px;stroke-linecap:butt;stroke-linejoin:miter;stroke-opacity:1' />\\n<path class='bond-3 atom-0 atom-4' d='M 269.1,89.0 L 259.0,83.1' style='fill:none;fill-rule:evenodd;stroke:#000000;stroke-width:2.0px;stroke-linecap:butt;stroke-linejoin:miter;stroke-opacity:1' />\\n<path class='bond-3 atom-0 atom-4' d='M 259.0,83.1 L 248.8,77.2' style='fill:none;fill-rule:evenodd;stroke:#0000FF;stroke-width:2.0px;stroke-linecap:butt;stroke-linejoin:miter;stroke-opacity:1' />\\n<path class='bond-1 atom-1 atom-2' d='M 293.1,75.1 L 317.0,89.0' style='fill:none;fill-rule:evenodd;stroke:#000000;stroke-width:2.0px;stroke-linecap:butt;stroke-linejoin:miter;stroke-opacity:1' />\\n<path class='bond-1 atom-1 atom-2' d='M 293.9,82.0 L 310.6,91.7' style='fill:none;fill-rule:evenodd;stroke:#000000;stroke-width:2.0px;stroke-linecap:butt;stroke-linejoin:miter;stroke-opacity:1' />\\n<path class='bond-2 atom-2 atom-3' d='M 317.0,89.0 L 327.3,83.0' style='fill:none;fill-rule:evenodd;stroke:#000000;stroke-width:2.0px;stroke-linecap:butt;stroke-linejoin:miter;stroke-opacity:1' />\\n<path class='bond-2 atom-2 atom-3' d='M 327.3,83.0 L 337.6,77.1' style='fill:none;fill-rule:evenodd;stroke:#7F4C19;stroke-width:2.0px;stroke-linecap:butt;stroke-linejoin:miter;stroke-opacity:1' />\\n<path  class='atom-3' d='M 342.1 74.9\\nQ 342.8 75.1, 343.2 75.6\\nQ 343.6 76.1, 343.6 76.7\\nQ 343.6 77.8, 342.9 78.4\\nQ 342.2 79.0, 340.9 79.0\\nL 338.3 79.0\\nL 338.3 71.2\\nL 340.6 71.2\\nQ 341.9 71.2, 342.6 71.8\\nQ 343.3 72.3, 343.3 73.3\\nQ 343.3 74.5, 342.1 74.9\\nM 339.3 72.1\\nL 339.3 74.6\\nL 340.6 74.6\\nQ 341.4 74.6, 341.8 74.2\\nQ 342.2 73.9, 342.2 73.3\\nQ 342.2 72.1, 340.6 72.1\\nL 339.3 72.1\\nM 340.9 78.2\\nQ 341.7 78.2, 342.1 77.8\\nQ 342.5 77.4, 342.5 76.7\\nQ 342.5 76.1, 342.0 75.8\\nQ 341.6 75.4, 340.8 75.4\\nL 339.3 75.4\\nL 339.3 78.2\\nL 340.9 78.2\\n' fill='#7F4C19'/>\\n<path  class='atom-3' d='M 345.4 73.4\\nL 345.5 74.1\\nQ 346.1 73.3, 347.1 73.3\\nQ 347.4 73.3, 347.8 73.4\\nL 347.6 74.3\\nQ 347.2 74.2, 346.9 74.2\\nQ 346.4 74.2, 346.1 74.4\\nQ 345.8 74.6, 345.6 75.0\\nL 345.6 79.0\\nL 344.5 79.0\\nL 344.5 73.4\\nL 345.4 73.4\\n' fill='#7F4C19'/>\\n<path  class='atom-4' d='M 231.3 71.2\\nL 232.4 71.2\\nL 232.4 74.5\\nL 236.4 74.5\\nL 236.4 71.2\\nL 237.4 71.2\\nL 237.4 79.0\\nL 236.4 79.0\\nL 236.4 75.4\\nL 232.4 75.4\\nL 232.4 79.0\\nL 231.3 79.0\\nL 231.3 71.2\\n' fill='#0000FF'/>\\n<path  class='atom-4' d='M 237.8 78.8\\nQ 238.0 78.3, 238.5 78.0\\nQ 238.9 77.7, 239.5 77.7\\nQ 240.3 77.7, 240.8 78.2\\nQ 241.2 78.6, 241.2 79.3\\nQ 241.2 80.1, 240.6 80.8\\nQ 240.1 81.5, 238.9 82.4\\nL 241.3 82.4\\nL 241.3 83.0\\nL 237.8 83.0\\nL 237.8 82.5\\nQ 238.8 81.8, 239.3 81.3\\nQ 239.9 80.8, 240.2 80.3\\nQ 240.5 79.8, 240.5 79.4\\nQ 240.5 78.9, 240.2 78.6\\nQ 240.0 78.3, 239.5 78.3\\nQ 239.1 78.3, 238.8 78.5\\nQ 238.6 78.6, 238.4 79.0\\nL 237.8 78.8\\n' fill='#0000FF'/>\\n<path  class='atom-4' d='M 243.4 71.2\\nL 246.0 75.4\\nQ 246.3 75.8, 246.7 76.5\\nQ 247.1 77.2, 247.1 77.3\\nL 247.1 71.2\\nL 248.1 71.2\\nL 248.1 79.0\\nL 247.1 79.0\\nL 244.3 74.5\\nQ 244.0 74.0, 243.6 73.4\\nQ 243.3 72.8, 243.2 72.6\\nL 243.2 79.0\\nL 242.2 79.0\\nL 242.2 71.2\\nL 243.4 71.2\\n' fill='#0000FF'/>\\n<path  d='M 261.7 184.4\\nQ 261.7 181.6, 263.0 180.1\\nQ 264.3 178.7, 266.8 178.7\\nQ 269.1 178.7, 270.4 180.3\\nL 269.3 181.2\\nQ 268.4 180.0, 266.8 180.0\\nQ 265.1 180.0, 264.2 181.1\\nQ 263.3 182.3, 263.3 184.4\\nQ 263.3 186.7, 264.2 187.8\\nQ 265.2 189.0, 267.0 189.0\\nQ 268.2 189.0, 269.7 188.2\\nL 270.1 189.4\\nQ 269.5 189.8, 268.6 190.0\\nQ 267.7 190.3, 266.8 190.3\\nQ 264.3 190.3, 263.0 188.8\\nQ 261.7 187.2, 261.7 184.4\\n' fill='#000000'/>\\n<path  d='M 271.2 185.6\\nQ 271.2 183.2, 271.8 181.4\\nQ 272.5 179.5, 273.8 177.4\\nL 274.7 178.0\\nQ 273.7 179.9, 273.1 181.6\\nQ 272.6 183.4, 272.6 185.6\\nQ 272.6 187.7, 273.1 189.4\\nQ 273.7 191.1, 274.7 193.1\\nL 273.8 193.7\\nQ 272.5 191.6, 271.8 189.8\\nQ 271.2 187.9, 271.2 185.6\\n' fill='#000000'/>\\n<path  d='M 275.5 184.4\\nQ 275.5 181.6, 276.8 180.1\\nQ 278.1 178.7, 280.7 178.7\\nQ 283.0 178.7, 284.2 180.3\\nL 283.2 181.2\\nQ 282.3 180.0, 280.7 180.0\\nQ 278.9 180.0, 278.0 181.1\\nQ 277.1 182.3, 277.1 184.4\\nQ 277.1 186.7, 278.1 187.8\\nQ 279.0 189.0, 280.8 189.0\\nQ 282.1 189.0, 283.5 188.2\\nL 284.0 189.4\\nQ 283.4 189.8, 282.5 190.0\\nQ 281.6 190.3, 280.6 190.3\\nQ 278.1 190.3, 276.8 188.8\\nQ 275.5 187.2, 275.5 184.4\\n' fill='#000000'/>\\n<path  d='M 285.7 183.2\\nL 293.0 183.2\\nL 293.0 184.3\\nL 285.7 184.3\\nL 285.7 183.2\\nM 285.7 186.6\\nL 293.0 186.6\\nL 293.0 187.7\\nL 285.7 187.7\\nL 285.7 186.6\\n' fill='#000000'/>\\n<path  d='M 293.8 184.4\\nQ 293.8 181.6, 295.1 180.1\\nQ 296.5 178.7, 299.0 178.7\\nQ 301.3 178.7, 302.6 180.3\\nL 301.5 181.2\\nQ 300.6 180.0, 299.0 180.0\\nQ 297.3 180.0, 296.4 181.1\\nQ 295.5 182.3, 295.5 184.4\\nQ 295.5 186.7, 296.4 187.8\\nQ 297.3 189.0, 299.2 189.0\\nQ 300.4 189.0, 301.9 188.2\\nL 302.3 189.4\\nQ 301.7 189.8, 300.8 190.0\\nQ 299.9 190.3, 298.9 190.3\\nQ 296.5 190.3, 295.1 188.8\\nQ 293.8 187.2, 293.8 184.4\\n' fill='#000000'/>\\n<path  d='M 309.4 184.2\\nQ 310.5 184.5, 311.1 185.1\\nQ 311.6 185.8, 311.6 186.8\\nQ 311.6 188.3, 310.6 189.2\\nQ 309.6 190.1, 307.7 190.1\\nL 303.9 190.1\\nL 303.9 178.8\\nL 307.3 178.8\\nQ 309.2 178.8, 310.2 179.6\\nQ 311.2 180.4, 311.2 181.8\\nQ 311.2 183.5, 309.4 184.2\\nM 305.4 180.1\\nL 305.4 183.6\\nL 307.3 183.6\\nQ 308.4 183.6, 309.0 183.2\\nQ 309.6 182.7, 309.6 181.8\\nQ 309.6 180.1, 307.3 180.1\\nL 305.4 180.1\\nM 307.7 188.8\\nQ 308.8 188.8, 309.4 188.3\\nQ 310.0 187.8, 310.0 186.8\\nQ 310.0 185.8, 309.4 185.4\\nQ 308.7 184.9, 307.5 184.9\\nL 305.4 184.9\\nL 305.4 188.8\\nL 307.7 188.8\\n' fill='#000000'/>\\n<path  d='M 314.2 181.9\\nL 314.4 183.0\\nQ 315.2 181.7, 316.6 181.7\\nQ 317.1 181.7, 317.7 181.9\\nL 317.5 183.2\\nQ 316.8 183.1, 316.4 183.1\\nQ 315.7 183.1, 315.3 183.4\\nQ 314.8 183.6, 314.5 184.2\\nL 314.5 190.1\\nL 313.0 190.1\\nL 313.0 181.9\\nL 314.2 181.9\\n' fill='#000000'/>\\n<path  d='M 321.6 185.6\\nQ 321.6 187.9, 320.9 189.8\\nQ 320.3 191.6, 319.0 193.7\\nL 318.1 193.1\\nQ 319.1 191.1, 319.7 189.4\\nQ 320.2 187.7, 320.2 185.6\\nQ 320.2 183.4, 319.7 181.6\\nQ 319.1 179.9, 318.1 178.0\\nL 319.0 177.4\\nQ 320.3 179.5, 320.9 181.4\\nQ 321.6 183.2, 321.6 185.6\\n' fill='#000000'/>\\n<path  d='M 324.7 178.8\\nL 328.5 184.8\\nQ 328.8 185.4, 329.4 186.4\\nQ 330.0 187.5, 330.0 187.6\\nL 330.0 178.8\\nL 331.5 178.8\\nL 331.5 190.1\\nL 330.0 190.1\\nL 326.0 183.6\\nQ 325.5 182.8, 325.0 181.9\\nQ 324.6 181.0, 324.4 180.8\\nL 324.4 190.1\\nL 322.9 190.1\\nL 322.9 178.8\\nL 324.7 178.8\\n' fill='#000000'/>\\n<path class='bond-0 atom-0 atom-1' d='M 445.2,80.7 L 469.1,66.8' style='fill:none;fill-rule:evenodd;stroke:#000000;stroke-width:2.0px;stroke-linecap:butt;stroke-linejoin:miter;stroke-opacity:1' />\\n<path class='bond-1 atom-1 atom-2' d='M 469.1,66.8 L 493.1,80.7' style='fill:none;fill-rule:evenodd;stroke:#000000;stroke-width:2.0px;stroke-linecap:butt;stroke-linejoin:miter;stroke-opacity:1' />\\n<path class='bond-2 atom-2 atom-3' d='M 493.1,80.7 L 517.0,66.8' style='fill:none;fill-rule:evenodd;stroke:#000000;stroke-width:2.0px;stroke-linecap:butt;stroke-linejoin:miter;stroke-opacity:1' />\\n<path class='bond-4 atom-2 atom-5' d='M 493.1,80.7 L 493.1,92.2' style='fill:none;fill-rule:evenodd;stroke:#000000;stroke-width:2.0px;stroke-linecap:butt;stroke-linejoin:miter;stroke-opacity:1' />\\n<path class='bond-4 atom-2 atom-5' d='M 493.1,92.2 L 493.1,103.7' style='fill:none;fill-rule:evenodd;stroke:#7F4C19;stroke-width:2.0px;stroke-linecap:butt;stroke-linejoin:miter;stroke-opacity:1' />\\n<path class='bond-3 atom-3 atom-4' d='M 517.0,66.8 L 526.8,72.5' style='fill:none;fill-rule:evenodd;stroke:#000000;stroke-width:2.0px;stroke-linecap:butt;stroke-linejoin:miter;stroke-opacity:1' />\\n<path class='bond-3 atom-3 atom-4' d='M 526.8,72.5 L 536.7,78.2' style='fill:none;fill-rule:evenodd;stroke:#FF0000;stroke-width:2.0px;stroke-linecap:butt;stroke-linejoin:miter;stroke-opacity:1' />\\n<path  class='atom-4' d='M 537.4 80.7\\nQ 537.4 78.8, 538.3 77.7\\nQ 539.2 76.7, 540.9 76.7\\nQ 542.7 76.7, 543.6 77.7\\nQ 544.5 78.8, 544.5 80.7\\nQ 544.5 82.6, 543.6 83.7\\nQ 542.7 84.7, 540.9 84.7\\nQ 539.2 84.7, 538.3 83.7\\nQ 537.4 82.6, 537.4 80.7\\nM 540.9 83.9\\nQ 542.1 83.9, 542.8 83.1\\nQ 543.4 82.2, 543.4 80.7\\nQ 543.4 79.1, 542.8 78.4\\nQ 542.1 77.6, 540.9 77.6\\nQ 539.8 77.6, 539.1 78.4\\nQ 538.5 79.1, 538.5 80.7\\nQ 538.5 82.3, 539.1 83.1\\nQ 539.8 83.9, 540.9 83.9\\n' fill='#FF0000'/>\\n<path  class='atom-4' d='M 545.5 76.8\\nL 546.5 76.8\\nL 546.5 80.1\\nL 550.5 80.1\\nL 550.5 76.8\\nL 551.6 76.8\\nL 551.6 84.6\\nL 550.5 84.6\\nL 550.5 81.0\\nL 546.5 81.0\\nL 546.5 84.6\\nL 545.5 84.6\\nL 545.5 76.8\\n' fill='#FF0000'/>\\n<path  class='atom-5' d='M 494.2 108.1\\nQ 495.0 108.3, 495.3 108.8\\nQ 495.7 109.2, 495.7 109.9\\nQ 495.7 111.0, 495.0 111.6\\nQ 494.3 112.2, 493.0 112.2\\nL 490.4 112.2\\nL 490.4 104.4\\nL 492.7 104.4\\nQ 494.0 104.4, 494.7 104.9\\nQ 495.4 105.5, 495.4 106.5\\nQ 495.4 107.7, 494.2 108.1\\nM 491.4 105.3\\nL 491.4 107.7\\nL 492.7 107.7\\nQ 493.5 107.7, 493.9 107.4\\nQ 494.3 107.1, 494.3 106.5\\nQ 494.3 105.3, 492.7 105.3\\nL 491.4 105.3\\nM 493.0 111.3\\nQ 493.8 111.3, 494.2 111.0\\nQ 494.6 110.6, 494.6 109.9\\nQ 494.6 109.3, 494.2 108.9\\nQ 493.7 108.6, 492.9 108.6\\nL 491.4 108.6\\nL 491.4 111.3\\nL 493.0 111.3\\n' fill='#7F4C19'/>\\n<path  class='atom-5' d='M 497.5 106.5\\nL 497.6 107.3\\nQ 498.2 106.4, 499.2 106.4\\nQ 499.5 106.4, 499.9 106.5\\nL 499.8 107.5\\nQ 499.3 107.4, 499.0 107.4\\nQ 498.5 107.4, 498.2 107.6\\nQ 497.9 107.7, 497.7 108.2\\nL 497.7 112.2\\nL 496.7 112.2\\nL 496.7 106.5\\nL 497.5 106.5\\n' fill='#7F4C19'/>\\n<path  d='M 459.6 184.4\\nQ 459.6 181.6, 460.9 180.1\\nQ 462.3 178.7, 464.8 178.7\\nQ 467.1 178.7, 468.4 180.3\\nL 467.3 181.2\\nQ 466.4 180.0, 464.8 180.0\\nQ 463.1 180.0, 462.2 181.1\\nQ 461.3 182.3, 461.3 184.4\\nQ 461.3 186.7, 462.2 187.8\\nQ 463.1 189.0, 465.0 189.0\\nQ 466.2 189.0, 467.7 188.2\\nL 468.1 189.4\\nQ 467.5 189.8, 466.6 190.0\\nQ 465.7 190.3, 464.7 190.3\\nQ 462.3 190.3, 460.9 188.8\\nQ 459.6 187.2, 459.6 184.4\\n' fill='#000000'/>\\n<path  d='M 469.2 184.4\\nQ 469.2 181.6, 470.5 180.1\\nQ 471.8 178.7, 474.3 178.7\\nQ 476.7 178.7, 477.9 180.3\\nL 476.9 181.2\\nQ 475.9 180.0, 474.3 180.0\\nQ 472.6 180.0, 471.7 181.1\\nQ 470.8 182.3, 470.8 184.4\\nQ 470.8 186.7, 471.7 187.8\\nQ 472.7 189.0, 474.5 189.0\\nQ 475.7 189.0, 477.2 188.2\\nL 477.7 189.4\\nQ 477.1 189.8, 476.2 190.0\\nQ 475.3 190.3, 474.3 190.3\\nQ 471.8 190.3, 470.5 188.8\\nQ 469.2 187.2, 469.2 184.4\\n' fill='#000000'/>\\n<path  d='M 478.7 184.4\\nQ 478.7 181.6, 480.0 180.1\\nQ 481.3 178.7, 483.9 178.7\\nQ 486.2 178.7, 487.4 180.3\\nL 486.4 181.2\\nQ 485.5 180.0, 483.9 180.0\\nQ 482.1 180.0, 481.2 181.1\\nQ 480.3 182.3, 480.3 184.4\\nQ 480.3 186.7, 481.3 187.8\\nQ 482.2 189.0, 484.0 189.0\\nQ 485.3 189.0, 486.7 188.2\\nL 487.2 189.4\\nQ 486.6 189.8, 485.7 190.0\\nQ 484.8 190.3, 483.8 190.3\\nQ 481.3 190.3, 480.0 188.8\\nQ 478.7 187.2, 478.7 184.4\\n' fill='#000000'/>\\n<path  d='M 488.2 185.6\\nQ 488.2 183.2, 488.9 181.4\\nQ 489.6 179.5, 490.9 177.4\\nL 491.8 178.0\\nQ 490.7 179.9, 490.2 181.6\\nQ 489.7 183.4, 489.7 185.6\\nQ 489.7 187.7, 490.2 189.4\\nQ 490.7 191.1, 491.8 193.1\\nL 490.9 193.7\\nQ 489.6 191.6, 488.9 189.8\\nQ 488.2 187.9, 488.2 185.6\\n' fill='#000000'/>\\n<path  d='M 492.6 184.4\\nQ 492.6 181.6, 493.9 180.1\\nQ 495.2 178.7, 497.7 178.7\\nQ 500.1 178.7, 501.3 180.3\\nL 500.2 181.2\\nQ 499.3 180.0, 497.7 180.0\\nQ 496.0 180.0, 495.1 181.1\\nQ 494.2 182.3, 494.2 184.4\\nQ 494.2 186.7, 495.1 187.8\\nQ 496.1 189.0, 497.9 189.0\\nQ 499.1 189.0, 500.6 188.2\\nL 501.0 189.4\\nQ 500.5 189.8, 499.6 190.0\\nQ 498.7 190.3, 497.7 190.3\\nQ 495.2 190.3, 493.9 188.8\\nQ 492.6 187.2, 492.6 184.4\\n' fill='#000000'/>\\n<path  d='M 502.1 184.4\\nQ 502.1 181.7, 503.4 180.2\\nQ 504.8 178.7, 507.3 178.7\\nQ 509.8 178.7, 511.2 180.2\\nQ 512.5 181.7, 512.5 184.4\\nQ 512.5 187.2, 511.1 188.7\\nQ 509.8 190.3, 507.3 190.3\\nQ 504.8 190.3, 503.4 188.7\\nQ 502.1 187.2, 502.1 184.4\\nM 507.3 189.0\\nQ 509.0 189.0, 510.0 187.9\\nQ 510.9 186.7, 510.9 184.4\\nQ 510.9 182.2, 510.0 181.1\\nQ 509.0 179.9, 507.3 179.9\\nQ 505.6 179.9, 504.6 181.1\\nQ 503.7 182.2, 503.7 184.4\\nQ 503.7 186.7, 504.6 187.9\\nQ 505.6 189.0, 507.3 189.0\\n' fill='#000000'/>\\n<path  d='M 516.4 185.6\\nQ 516.4 187.9, 515.7 189.8\\nQ 515.1 191.6, 513.8 193.7\\nL 512.9 193.1\\nQ 513.9 191.1, 514.5 189.4\\nQ 515.0 187.7, 515.0 185.6\\nQ 515.0 183.4, 514.5 181.6\\nQ 513.9 179.9, 512.9 178.0\\nL 513.8 177.4\\nQ 515.1 179.5, 515.7 181.4\\nQ 516.4 183.2, 516.4 185.6\\n' fill='#000000'/>\\n<path  d='M 523.3 184.2\\nQ 524.4 184.5, 524.9 185.1\\nQ 525.5 185.8, 525.5 186.8\\nQ 525.5 188.3, 524.5 189.2\\nQ 523.5 190.1, 521.6 190.1\\nL 517.8 190.1\\nL 517.8 178.8\\nL 521.1 178.8\\nQ 523.1 178.8, 524.0 179.6\\nQ 525.0 180.4, 525.0 181.8\\nQ 525.0 183.5, 523.3 184.2\\nM 519.3 180.1\\nL 519.3 183.6\\nL 521.1 183.6\\nQ 522.2 183.6, 522.8 183.2\\nQ 523.4 182.7, 523.4 181.8\\nQ 523.4 180.1, 521.1 180.1\\nL 519.3 180.1\\nM 521.6 188.8\\nQ 522.7 188.8, 523.3 188.3\\nQ 523.9 187.8, 523.9 186.8\\nQ 523.9 185.8, 523.2 185.4\\nQ 522.6 184.9, 521.3 184.9\\nL 519.3 184.9\\nL 519.3 188.8\\nL 521.6 188.8\\n' fill='#000000'/>\\n<path  d='M 528.1 181.9\\nL 528.2 183.0\\nQ 529.1 181.7, 530.5 181.7\\nQ 530.9 181.7, 531.6 181.9\\nL 531.3 183.2\\nQ 530.6 183.1, 530.2 183.1\\nQ 529.6 183.1, 529.1 183.4\\nQ 528.7 183.6, 528.3 184.2\\nL 528.3 190.1\\nL 526.8 190.1\\nL 526.8 181.9\\nL 528.1 181.9\\n' fill='#000000'/>\\n<path class='bond-0 atom-0 atom-1' d='M 624.9,84.4 L 641.6,74.8' style='fill:none;fill-rule:evenodd;stroke:#000000;stroke-width:2.0px;stroke-linecap:butt;stroke-linejoin:miter;stroke-opacity:1' />\\n<path class='bond-1 atom-1 atom-2' d='M 648.9,74.9 L 659.0,80.7' style='fill:none;fill-rule:evenodd;stroke:#000000;stroke-width:2.0px;stroke-linecap:butt;stroke-linejoin:miter;stroke-opacity:1' />\\n<path class='bond-2 atom-2 atom-3' d='M 672.8,84.4 L 689.5,74.8' style='fill:none;fill-rule:evenodd;stroke:#000000;stroke-width:2.0px;stroke-linecap:butt;stroke-linejoin:miter;stroke-opacity:1' />\\n<path class='bond-3 atom-3 atom-4' d='M 696.8,74.9 L 706.9,80.7' style='fill:none;fill-rule:evenodd;stroke:#000000;stroke-width:2.0px;stroke-linecap:butt;stroke-linejoin:miter;stroke-opacity:1' />\\n<path class='bond-4 atom-4 atom-5' d='M 720.7,84.4 L 737.3,74.8' style='fill:none;fill-rule:evenodd;stroke:#000000;stroke-width:2.0px;stroke-linecap:butt;stroke-linejoin:miter;stroke-opacity:1' />\\n<path class='bond-5 atom-5 atom-6' d='M 744.7,74.9 L 752.7,79.5' style='fill:none;fill-rule:evenodd;stroke:#000000;stroke-width:2.0px;stroke-linecap:butt;stroke-linejoin:miter;stroke-opacity:1' />\\n<path class='bond-5 atom-5 atom-6' d='M 752.7,79.5 L 760.7,84.2' style='fill:none;fill-rule:evenodd;stroke:#FF0000;stroke-width:2.0px;stroke-linecap:butt;stroke-linejoin:miter;stroke-opacity:1' />\\n<path  class='atom-0' d='M 611.0 85.9\\nL 612.2 85.9\\nL 612.2 82.1\\nL 610.9 82.5\\nL 610.8 82.0\\nL 612.3 81.3\\nL 612.9 81.4\\nL 612.9 85.9\\nL 613.9 85.9\\nL 613.9 86.5\\nL 611.0 86.5\\nL 611.0 85.9\\n' fill='#000000'/>\\n<path  class='atom-0' d='M 616.7 83.8\\nQ 617.2 84.0, 617.4 84.3\\nQ 617.7 84.6, 617.7 85.1\\nQ 617.7 85.6, 617.4 85.9\\nQ 617.2 86.2, 616.8 86.4\\nQ 616.4 86.6, 615.9 86.6\\nQ 615.3 86.6, 614.9 86.4\\nQ 614.5 86.2, 614.2 85.8\\nL 614.6 85.4\\nQ 614.9 85.7, 615.2 85.9\\nQ 615.5 86.0, 615.9 86.0\\nQ 616.4 86.0, 616.6 85.8\\nQ 616.9 85.5, 616.9 85.1\\nQ 616.9 84.6, 616.6 84.3\\nQ 616.3 84.1, 615.7 84.1\\nL 615.3 84.1\\nL 615.3 83.6\\nL 615.7 83.6\\nQ 616.2 83.6, 616.5 83.3\\nQ 616.8 83.1, 616.8 82.6\\nQ 616.8 82.3, 616.6 82.1\\nQ 616.3 81.9, 615.9 81.9\\nQ 615.5 81.9, 615.2 82.0\\nQ 614.9 82.2, 614.7 82.6\\nL 614.2 82.3\\nQ 614.4 81.9, 614.8 81.6\\nQ 615.3 81.3, 615.9 81.3\\nQ 616.7 81.3, 617.1 81.7\\nQ 617.5 82.0, 617.5 82.6\\nQ 617.5 83.0, 617.3 83.3\\nQ 617.1 83.6, 616.7 83.8\\n' fill='#000000'/>\\n<path  class='atom-0' d='M 618.2 86.6\\nQ 618.2 84.7, 619.1 83.6\\nQ 620.0 82.6, 621.8 82.6\\nQ 623.4 82.6, 624.2 83.8\\nL 623.5 84.4\\nQ 622.9 83.5, 621.8 83.5\\nQ 620.6 83.5, 620.0 84.3\\nQ 619.3 85.1, 619.3 86.6\\nQ 619.3 88.2, 620.0 89.0\\nQ 620.6 89.8, 621.9 89.8\\nQ 622.7 89.8, 623.8 89.2\\nL 624.1 90.1\\nQ 623.7 90.3, 623.0 90.5\\nQ 622.4 90.6, 621.7 90.6\\nQ 620.0 90.6, 619.1 89.6\\nQ 618.2 88.6, 618.2 86.6\\n' fill='#000000'/>\\n<path  class='atom-1' d='M 635.0 72.1\\nL 636.1 72.1\\nL 636.1 68.3\\nL 634.9 68.6\\nL 634.7 68.2\\nL 636.3 67.5\\nL 636.8 67.6\\nL 636.8 72.1\\nL 637.8 72.1\\nL 637.8 72.7\\nL 635.0 72.7\\nL 635.0 72.1\\n' fill='#000000'/>\\n<path  class='atom-1' d='M 640.6 70.0\\nQ 641.1 70.1, 641.3 70.5\\nQ 641.6 70.8, 641.6 71.3\\nQ 641.6 71.7, 641.4 72.1\\nQ 641.2 72.4, 640.8 72.6\\nQ 640.4 72.8, 639.8 72.8\\nQ 639.3 72.8, 638.9 72.6\\nQ 638.5 72.4, 638.1 72.0\\nL 638.5 71.6\\nQ 638.9 71.9, 639.1 72.1\\nQ 639.4 72.2, 639.8 72.2\\nQ 640.3 72.2, 640.6 71.9\\nQ 640.9 71.7, 640.9 71.3\\nQ 640.9 70.8, 640.6 70.5\\nQ 640.3 70.3, 639.6 70.3\\nL 639.3 70.3\\nL 639.3 69.8\\nL 639.6 69.8\\nQ 640.2 69.7, 640.5 69.5\\nQ 640.8 69.3, 640.8 68.8\\nQ 640.8 68.5, 640.5 68.3\\nQ 640.3 68.1, 639.8 68.1\\nQ 639.4 68.1, 639.1 68.2\\nQ 638.9 68.4, 638.7 68.8\\nL 638.2 68.5\\nQ 638.3 68.1, 638.8 67.8\\nQ 639.2 67.5, 639.8 67.5\\nQ 640.6 67.5, 641.0 67.8\\nQ 641.5 68.2, 641.5 68.8\\nQ 641.5 69.2, 641.3 69.5\\nQ 641.0 69.8, 640.6 70.0\\n' fill='#000000'/>\\n<path  class='atom-1' d='M 642.1 72.8\\nQ 642.1 70.8, 643.1 69.8\\nQ 644.0 68.8, 645.7 68.8\\nQ 647.3 68.8, 648.2 69.9\\nL 647.5 70.5\\nQ 646.8 69.7, 645.7 69.7\\nQ 644.5 69.7, 643.9 70.5\\nQ 643.3 71.3, 643.3 72.8\\nQ 643.3 74.3, 643.9 75.1\\nQ 644.6 75.9, 645.8 75.9\\nQ 646.7 75.9, 647.7 75.4\\nL 648.0 76.2\\nQ 647.6 76.5, 647.0 76.7\\nQ 646.4 76.8, 645.7 76.8\\nQ 644.0 76.8, 643.1 75.8\\nQ 642.1 74.7, 642.1 72.8\\n' fill='#000000'/>\\n<path  class='atom-2' d='M 658.9 85.9\\nL 660.1 85.9\\nL 660.1 82.1\\nL 658.8 82.5\\nL 658.6 82.0\\nL 660.2 81.3\\nL 660.7 81.4\\nL 660.7 85.9\\nL 661.8 85.9\\nL 661.8 86.5\\nL 658.9 86.5\\nL 658.9 85.9\\n' fill='#000000'/>\\n<path  class='atom-2' d='M 664.5 83.8\\nQ 665.1 84.0, 665.3 84.3\\nQ 665.5 84.6, 665.5 85.1\\nQ 665.5 85.6, 665.3 85.9\\nQ 665.1 86.2, 664.7 86.4\\nQ 664.3 86.6, 663.8 86.6\\nQ 663.2 86.6, 662.8 86.4\\nQ 662.4 86.2, 662.1 85.8\\nL 662.5 85.4\\nQ 662.8 85.7, 663.1 85.9\\nQ 663.3 86.0, 663.8 86.0\\nQ 664.2 86.0, 664.5 85.8\\nQ 664.8 85.5, 664.8 85.1\\nQ 664.8 84.6, 664.5 84.3\\nQ 664.2 84.1, 663.6 84.1\\nL 663.2 84.1\\nL 663.2 83.6\\nL 663.5 83.6\\nQ 664.1 83.6, 664.4 83.3\\nQ 664.7 83.1, 664.7 82.6\\nQ 664.7 82.3, 664.5 82.1\\nQ 664.2 81.9, 663.8 81.9\\nQ 663.4 81.9, 663.1 82.0\\nQ 662.8 82.2, 662.6 82.6\\nL 662.1 82.3\\nQ 662.3 81.9, 662.7 81.6\\nQ 663.2 81.3, 663.8 81.3\\nQ 664.5 81.3, 665.0 81.7\\nQ 665.4 82.0, 665.4 82.6\\nQ 665.4 83.0, 665.2 83.3\\nQ 665.0 83.6, 664.5 83.8\\n' fill='#000000'/>\\n<path  class='atom-2' d='M 666.1 86.6\\nQ 666.1 84.7, 667.0 83.6\\nQ 667.9 82.6, 669.7 82.6\\nQ 671.3 82.6, 672.1 83.8\\nL 671.4 84.4\\nQ 670.8 83.5, 669.7 83.5\\nQ 668.5 83.5, 667.8 84.3\\nQ 667.2 85.1, 667.2 86.6\\nQ 667.2 88.2, 667.9 89.0\\nQ 668.5 89.8, 669.8 89.8\\nQ 670.6 89.8, 671.6 89.2\\nL 672.0 90.1\\nQ 671.5 90.3, 670.9 90.5\\nQ 670.3 90.6, 669.6 90.6\\nQ 667.9 90.6, 667.0 89.6\\nQ 666.1 88.6, 666.1 86.6\\n' fill='#000000'/>\\n<path  class='atom-3' d='M 682.9 72.1\\nL 684.0 72.1\\nL 684.0 68.3\\nL 682.8 68.6\\nL 682.6 68.2\\nL 684.2 67.5\\nL 684.7 67.6\\nL 684.7 72.1\\nL 685.7 72.1\\nL 685.7 72.7\\nL 682.9 72.7\\nL 682.9 72.1\\n' fill='#000000'/>\\n<path  class='atom-3' d='M 688.5 70.0\\nQ 689.0 70.1, 689.2 70.5\\nQ 689.5 70.8, 689.5 71.3\\nQ 689.5 71.7, 689.3 72.1\\nQ 689.0 72.4, 688.6 72.6\\nQ 688.2 72.8, 687.7 72.8\\nQ 687.2 72.8, 686.7 72.6\\nQ 686.3 72.4, 686.0 72.0\\nL 686.4 71.6\\nQ 686.7 71.9, 687.0 72.1\\nQ 687.3 72.2, 687.7 72.2\\nQ 688.2 72.2, 688.5 71.9\\nQ 688.8 71.7, 688.8 71.3\\nQ 688.8 70.8, 688.5 70.5\\nQ 688.2 70.3, 687.5 70.3\\nL 687.2 70.3\\nL 687.2 69.8\\nL 687.5 69.8\\nQ 688.0 69.7, 688.3 69.5\\nQ 688.6 69.3, 688.6 68.8\\nQ 688.6 68.5, 688.4 68.3\\nQ 688.2 68.1, 687.7 68.1\\nQ 687.3 68.1, 687.0 68.2\\nQ 686.8 68.4, 686.6 68.8\\nL 686.1 68.5\\nQ 686.2 68.1, 686.7 67.8\\nQ 687.1 67.5, 687.7 67.5\\nQ 688.5 67.5, 688.9 67.8\\nQ 689.4 68.2, 689.4 68.8\\nQ 689.4 69.2, 689.2 69.5\\nQ 688.9 69.8, 688.5 70.0\\n' fill='#000000'/>\\n<path  class='atom-3' d='M 690.0 72.8\\nQ 690.0 70.8, 690.9 69.8\\nQ 691.9 68.8, 693.6 68.8\\nQ 695.2 68.8, 696.1 69.9\\nL 695.3 70.5\\nQ 694.7 69.7, 693.6 69.7\\nQ 692.4 69.7, 691.8 70.5\\nQ 691.2 71.3, 691.2 72.8\\nQ 691.2 74.3, 691.8 75.1\\nQ 692.5 75.9, 693.7 75.9\\nQ 694.6 75.9, 695.6 75.4\\nL 695.9 76.2\\nQ 695.5 76.5, 694.9 76.7\\nQ 694.3 76.8, 693.6 76.8\\nQ 691.9 76.8, 690.9 75.8\\nQ 690.0 74.7, 690.0 72.8\\n' fill='#000000'/>\\n<path  class='atom-4' d='M 706.8 85.9\\nL 707.9 85.9\\nL 707.9 82.1\\nL 706.7 82.5\\nL 706.5 82.0\\nL 708.1 81.3\\nL 708.6 81.4\\nL 708.6 85.9\\nL 709.6 85.9\\nL 709.6 86.5\\nL 706.8 86.5\\nL 706.8 85.9\\n' fill='#000000'/>\\n<path  class='atom-4' d='M 712.4 83.8\\nQ 712.9 84.0, 713.2 84.3\\nQ 713.4 84.6, 713.4 85.1\\nQ 713.4 85.6, 713.2 85.9\\nQ 713.0 86.2, 712.6 86.4\\nQ 712.2 86.6, 711.7 86.6\\nQ 711.1 86.6, 710.7 86.4\\nQ 710.3 86.2, 710.0 85.8\\nL 710.4 85.4\\nQ 710.7 85.7, 711.0 85.9\\nQ 711.2 86.0, 711.7 86.0\\nQ 712.1 86.0, 712.4 85.8\\nQ 712.7 85.5, 712.7 85.1\\nQ 712.7 84.6, 712.4 84.3\\nQ 712.1 84.1, 711.5 84.1\\nL 711.1 84.1\\nL 711.1 83.6\\nL 711.4 83.6\\nQ 712.0 83.6, 712.3 83.3\\nQ 712.6 83.1, 712.6 82.6\\nQ 712.6 82.3, 712.3 82.1\\nQ 712.1 81.9, 711.7 81.9\\nQ 711.2 81.9, 711.0 82.0\\nQ 710.7 82.2, 710.5 82.6\\nL 710.0 82.3\\nQ 710.2 81.9, 710.6 81.6\\nQ 711.1 81.3, 711.7 81.3\\nQ 712.4 81.3, 712.9 81.7\\nQ 713.3 82.0, 713.3 82.6\\nQ 713.3 83.0, 713.1 83.3\\nQ 712.9 83.6, 712.4 83.8\\n' fill='#000000'/>\\n<path  class='atom-4' d='M 714.0 86.6\\nQ 714.0 84.7, 714.9 83.6\\nQ 715.8 82.6, 717.5 82.6\\nQ 719.2 82.6, 720.0 83.8\\nL 719.3 84.4\\nQ 718.7 83.5, 717.5 83.5\\nQ 716.4 83.5, 715.7 84.3\\nQ 715.1 85.1, 715.1 86.6\\nQ 715.1 88.2, 715.8 89.0\\nQ 716.4 89.8, 717.7 89.8\\nQ 718.5 89.8, 719.5 89.2\\nL 719.8 90.1\\nQ 719.4 90.3, 718.8 90.5\\nQ 718.2 90.6, 717.5 90.6\\nQ 715.8 90.6, 714.9 89.6\\nQ 714.0 88.6, 714.0 86.6\\n' fill='#000000'/>\\n<path  class='atom-5' d='M 730.8 72.1\\nL 731.9 72.1\\nL 731.9 68.3\\nL 730.6 68.6\\nL 730.5 68.2\\nL 732.1 67.5\\nL 732.6 67.6\\nL 732.6 72.1\\nL 733.6 72.1\\nL 733.6 72.7\\nL 730.8 72.7\\nL 730.8 72.1\\n' fill='#000000'/>\\n<path  class='atom-5' d='M 736.4 70.0\\nQ 736.9 70.1, 737.1 70.5\\nQ 737.4 70.8, 737.4 71.3\\nQ 737.4 71.7, 737.2 72.1\\nQ 736.9 72.4, 736.5 72.6\\nQ 736.1 72.8, 735.6 72.8\\nQ 735.1 72.8, 734.6 72.6\\nQ 734.2 72.4, 733.9 72.0\\nL 734.3 71.6\\nQ 734.6 71.9, 734.9 72.1\\nQ 735.2 72.2, 735.6 72.2\\nQ 736.1 72.2, 736.4 71.9\\nQ 736.6 71.7, 736.6 71.3\\nQ 736.6 70.8, 736.3 70.5\\nQ 736.1 70.3, 735.4 70.3\\nL 735.0 70.3\\nL 735.0 69.8\\nL 735.4 69.8\\nQ 735.9 69.7, 736.2 69.5\\nQ 736.5 69.3, 736.5 68.8\\nQ 736.5 68.5, 736.3 68.3\\nQ 736.0 68.1, 735.6 68.1\\nQ 735.2 68.1, 734.9 68.2\\nQ 734.7 68.4, 734.4 68.8\\nL 733.9 68.5\\nQ 734.1 68.1, 734.6 67.8\\nQ 735.0 67.5, 735.6 67.5\\nQ 736.4 67.5, 736.8 67.8\\nQ 737.3 68.2, 737.3 68.8\\nQ 737.3 69.2, 737.0 69.5\\nQ 736.8 69.8, 736.4 70.0\\n' fill='#000000'/>\\n<path  class='atom-5' d='M 737.9 72.8\\nQ 737.9 70.8, 738.8 69.8\\nQ 739.8 68.8, 741.5 68.8\\nQ 743.1 68.8, 744.0 69.9\\nL 743.2 70.5\\nQ 742.6 69.7, 741.5 69.7\\nQ 740.3 69.7, 739.7 70.5\\nQ 739.1 71.3, 739.1 72.8\\nQ 739.1 74.3, 739.7 75.1\\nQ 740.4 75.9, 741.6 75.9\\nQ 742.5 75.9, 743.5 75.4\\nL 743.8 76.2\\nQ 743.4 76.5, 742.8 76.7\\nQ 742.1 76.8, 741.5 76.8\\nQ 739.8 76.8, 738.8 75.8\\nQ 737.9 74.7, 737.9 72.8\\n' fill='#000000'/>\\n<path  class='atom-6' d='M 761.3 86.6\\nQ 761.3 84.7, 762.2 83.7\\nQ 763.2 82.6, 764.9 82.6\\nQ 766.6 82.6, 767.6 83.7\\nQ 768.5 84.7, 768.5 86.6\\nQ 768.5 88.5, 767.5 89.6\\nQ 766.6 90.7, 764.9 90.7\\nQ 763.2 90.7, 762.2 89.6\\nQ 761.3 88.5, 761.3 86.6\\nM 764.9 89.8\\nQ 766.1 89.8, 766.7 89.0\\nQ 767.4 88.2, 767.4 86.6\\nQ 767.4 85.1, 766.7 84.3\\nQ 766.1 83.5, 764.9 83.5\\nQ 763.7 83.5, 763.0 84.3\\nQ 762.4 85.1, 762.4 86.6\\nQ 762.4 88.2, 763.0 89.0\\nQ 763.7 89.8, 764.9 89.8\\n' fill='#FF0000'/>\\n<path  class='atom-6' d='M 769.4 82.7\\nL 770.5 82.7\\nL 770.5 86.0\\nL 774.5 86.0\\nL 774.5 82.7\\nL 775.6 82.7\\nL 775.6 90.5\\nL 774.5 90.5\\nL 774.5 86.9\\nL 770.5 86.9\\nL 770.5 90.5\\nL 769.4 90.5\\nL 769.4 82.7\\n' fill='#FF0000'/>\\n<path  d='M 599.1 186.7\\nL 601.2 186.7\\nL 601.2 187.4\\nL 600.0 187.4\\nL 600.0 195.5\\nL 601.2 195.5\\nL 601.2 196.2\\nL 599.1 196.2\\nL 599.1 186.7\\n' fill='#000000'/>\\n<path  d='M 602.1 193.5\\nL 603.7 193.5\\nL 603.7 188.3\\nL 602.0 188.8\\nL 601.8 188.3\\nL 603.9 187.3\\nL 604.6 187.4\\nL 604.6 193.5\\nL 605.9 193.5\\nL 605.9 194.3\\nL 602.1 194.3\\nL 602.1 193.5\\n' fill='#000000'/>\\n<path  d='M 609.7 190.6\\nQ 610.4 190.8, 610.7 191.3\\nQ 611.0 191.7, 611.0 192.4\\nQ 611.0 193.0, 610.7 193.4\\nQ 610.4 193.9, 609.9 194.2\\nQ 609.4 194.4, 608.7 194.4\\nQ 607.9 194.4, 607.4 194.1\\nQ 606.8 193.9, 606.4 193.3\\nL 606.9 192.8\\nQ 607.4 193.3, 607.7 193.4\\nQ 608.1 193.6, 608.7 193.6\\nQ 609.3 193.6, 609.7 193.3\\nQ 610.1 192.9, 610.1 192.4\\nQ 610.1 191.7, 609.7 191.4\\nQ 609.3 191.0, 608.4 191.0\\nL 607.9 191.0\\nL 607.9 190.3\\nL 608.3 190.3\\nQ 609.1 190.3, 609.5 190.0\\nQ 609.9 189.7, 609.9 189.0\\nQ 609.9 188.6, 609.6 188.3\\nQ 609.2 188.1, 608.7 188.1\\nQ 608.1 188.1, 607.7 188.3\\nQ 607.4 188.5, 607.1 189.0\\nL 606.4 188.6\\nQ 606.7 188.0, 607.3 187.7\\nQ 607.8 187.3, 608.7 187.3\\nQ 609.7 187.3, 610.3 187.7\\nQ 610.9 188.2, 610.9 189.0\\nQ 610.9 189.6, 610.6 190.0\\nQ 610.3 190.4, 609.7 190.6\\n' fill='#000000'/>\\n<path  d='M 611.5 190.8\\nQ 611.5 189.1, 612.3 188.2\\nQ 613.2 187.3, 614.7 187.3\\nQ 616.1 187.3, 616.9 188.3\\nL 616.2 188.8\\nQ 615.7 188.1, 614.7 188.1\\nQ 613.6 188.1, 613.1 188.8\\nQ 612.5 189.5, 612.5 190.8\\nQ 612.5 192.2, 613.1 192.9\\nQ 613.7 193.6, 614.8 193.6\\nQ 615.6 193.6, 616.5 193.1\\nL 616.7 193.9\\nQ 616.4 194.1, 615.8 194.3\\nQ 615.3 194.4, 614.7 194.4\\nQ 613.2 194.4, 612.3 193.5\\nQ 611.5 192.5, 611.5 190.8\\n' fill='#000000'/>\\n<path  d='M 617.7 187.3\\nL 618.7 187.3\\nL 618.7 190.3\\nL 622.2 190.3\\nL 622.2 187.3\\nL 623.2 187.3\\nL 623.2 194.3\\nL 622.2 194.3\\nL 622.2 191.1\\nL 618.7 191.1\\nL 618.7 194.3\\nL 617.7 194.3\\nL 617.7 187.3\\n' fill='#000000'/>\\n<path  d='M 626.9 190.6\\nQ 627.6 190.8, 627.9 191.3\\nQ 628.3 191.7, 628.3 192.4\\nQ 628.3 193.0, 628.0 193.4\\nQ 627.7 193.9, 627.1 194.2\\nQ 626.6 194.4, 625.9 194.4\\nQ 625.1 194.4, 624.6 194.1\\nQ 624.0 193.9, 623.6 193.3\\nL 624.1 192.8\\nQ 624.6 193.3, 624.9 193.4\\nQ 625.3 193.6, 625.9 193.6\\nQ 626.5 193.6, 626.9 193.3\\nQ 627.3 192.9, 627.3 192.4\\nQ 627.3 191.7, 626.9 191.4\\nQ 626.5 191.0, 625.6 191.0\\nL 625.1 191.0\\nL 625.1 190.3\\nL 625.6 190.3\\nQ 626.3 190.3, 626.7 190.0\\nQ 627.1 189.7, 627.1 189.0\\nQ 627.1 188.6, 626.8 188.3\\nQ 626.5 188.1, 625.9 188.1\\nQ 625.3 188.1, 624.9 188.3\\nQ 624.6 188.5, 624.3 189.0\\nL 623.6 188.6\\nQ 623.9 188.0, 624.5 187.7\\nQ 625.1 187.3, 625.9 187.3\\nQ 626.9 187.3, 627.5 187.7\\nQ 628.1 188.2, 628.1 189.0\\nQ 628.1 189.6, 627.8 190.0\\nQ 627.5 190.4, 626.9 190.6\\n' fill='#000000'/>\\n<path  d='M 630.5 186.7\\nL 630.5 196.2\\nL 628.5 196.2\\nL 628.5 195.5\\nL 629.7 195.5\\nL 629.7 187.4\\nL 628.5 187.4\\nL 628.5 186.7\\nL 630.5 186.7\\n' fill='#000000'/>\\n<path  d='M 631.4 186.7\\nL 633.5 186.7\\nL 633.5 187.4\\nL 632.2 187.4\\nL 632.2 195.5\\nL 633.5 195.5\\nL 633.5 196.2\\nL 631.4 196.2\\nL 631.4 186.7\\n' fill='#000000'/>\\n<path  d='M 634.4 193.5\\nL 635.9 193.5\\nL 635.9 188.3\\nL 634.2 188.8\\nL 634.0 188.3\\nL 636.1 187.3\\nL 636.8 187.4\\nL 636.8 193.5\\nL 638.2 193.5\\nL 638.2 194.3\\nL 634.4 194.3\\nL 634.4 193.5\\n' fill='#000000'/>\\n<path  d='M 642.0 190.6\\nQ 642.6 190.8, 643.0 191.3\\nQ 643.3 191.7, 643.3 192.4\\nQ 643.3 193.0, 643.0 193.4\\nQ 642.7 193.9, 642.2 194.2\\nQ 641.6 194.4, 640.9 194.4\\nQ 640.2 194.4, 639.6 194.1\\nQ 639.1 193.9, 638.6 193.3\\nL 639.2 192.8\\nQ 639.6 193.3, 640.0 193.4\\nQ 640.3 193.6, 640.9 193.6\\nQ 641.5 193.6, 641.9 193.3\\nQ 642.3 192.9, 642.3 192.4\\nQ 642.3 191.7, 641.9 191.4\\nQ 641.5 191.0, 640.7 191.0\\nL 640.2 191.0\\nL 640.2 190.3\\nL 640.6 190.3\\nQ 641.4 190.3, 641.8 190.0\\nQ 642.2 189.7, 642.2 189.0\\nQ 642.2 188.6, 641.8 188.3\\nQ 641.5 188.1, 640.9 188.1\\nQ 640.3 188.1, 640.0 188.3\\nQ 639.6 188.5, 639.4 189.0\\nL 638.7 188.6\\nQ 638.9 188.0, 639.5 187.7\\nQ 640.1 187.3, 640.9 187.3\\nQ 641.9 187.3, 642.5 187.7\\nQ 643.1 188.2, 643.1 189.0\\nQ 643.1 189.6, 642.8 190.0\\nQ 642.5 190.4, 642.0 190.6\\n' fill='#000000'/>\\n<path  d='M 643.8 190.8\\nQ 643.8 189.1, 644.6 188.2\\nQ 645.4 187.3, 646.9 187.3\\nQ 648.4 187.3, 649.1 188.3\\nL 648.5 188.8\\nQ 647.9 188.1, 646.9 188.1\\nQ 645.9 188.1, 645.3 188.8\\nQ 644.8 189.5, 644.8 190.8\\nQ 644.8 192.2, 645.4 192.9\\nQ 645.9 193.6, 647.1 193.6\\nQ 647.8 193.6, 648.7 193.1\\nL 649.0 193.9\\nQ 648.6 194.1, 648.1 194.3\\nQ 647.5 194.4, 646.9 194.4\\nQ 645.4 194.4, 644.6 193.5\\nQ 643.8 192.5, 643.8 190.8\\n' fill='#000000'/>\\n<path  d='M 650.0 187.3\\nL 650.9 187.3\\nL 650.9 190.3\\nL 654.5 190.3\\nL 654.5 187.3\\nL 655.4 187.3\\nL 655.4 194.3\\nL 654.5 194.3\\nL 654.5 191.1\\nL 650.9 191.1\\nL 650.9 194.3\\nL 650.0 194.3\\nL 650.0 187.3\\n' fill='#000000'/>\\n<path  d='M 655.9 188.7\\nQ 656.2 188.0, 656.8 187.6\\nQ 657.4 187.3, 658.3 187.3\\nQ 659.3 187.3, 659.9 187.8\\nQ 660.5 188.4, 660.5 189.4\\nQ 660.5 190.5, 659.7 191.4\\nQ 659.0 192.4, 657.4 193.5\\nL 660.6 193.5\\nL 660.6 194.3\\nL 655.9 194.3\\nL 655.9 193.6\\nQ 657.2 192.7, 658.0 192.0\\nQ 658.8 191.3, 659.1 190.7\\nQ 659.5 190.1, 659.5 189.5\\nQ 659.5 188.8, 659.2 188.4\\nQ 658.8 188.1, 658.3 188.1\\nQ 657.7 188.1, 657.3 188.3\\nQ 656.9 188.5, 656.7 189.0\\nL 655.9 188.7\\n' fill='#000000'/>\\n<path  d='M 662.9 186.7\\nL 662.9 196.2\\nL 660.8 196.2\\nL 660.8 195.5\\nL 662.1 195.5\\nL 662.1 187.4\\nL 660.8 187.4\\nL 660.8 186.7\\nL 662.9 186.7\\n' fill='#000000'/>\\n<path  d='M 663.7 186.7\\nL 665.8 186.7\\nL 665.8 187.4\\nL 664.6 187.4\\nL 664.6 195.5\\nL 665.8 195.5\\nL 665.8 196.2\\nL 663.7 196.2\\nL 663.7 186.7\\n' fill='#000000'/>\\n<path  d='M 666.7 193.5\\nL 668.3 193.5\\nL 668.3 188.3\\nL 666.6 188.8\\nL 666.3 188.3\\nL 668.5 187.3\\nL 669.2 187.4\\nL 669.2 193.5\\nL 670.5 193.5\\nL 670.5 194.3\\nL 666.7 194.3\\nL 666.7 193.5\\n' fill='#000000'/>\\n<path  d='M 674.3 190.6\\nQ 675.0 190.8, 675.3 191.3\\nQ 675.6 191.7, 675.6 192.4\\nQ 675.6 193.0, 675.3 193.4\\nQ 675.0 193.9, 674.5 194.2\\nQ 674.0 194.4, 673.3 194.4\\nQ 672.5 194.4, 671.9 194.1\\nQ 671.4 193.9, 671.0 193.3\\nL 671.5 192.8\\nQ 671.9 193.3, 672.3 193.4\\nQ 672.7 193.6, 673.3 193.6\\nQ 673.9 193.6, 674.3 193.3\\nQ 674.6 192.9, 674.6 192.4\\nQ 674.6 191.7, 674.2 191.4\\nQ 673.9 191.0, 673.0 191.0\\nL 672.5 191.0\\nL 672.5 190.3\\nL 672.9 190.3\\nQ 673.7 190.3, 674.1 190.0\\nQ 674.5 189.7, 674.5 189.0\\nQ 674.5 188.6, 674.2 188.3\\nQ 673.8 188.1, 673.3 188.1\\nQ 672.7 188.1, 672.3 188.3\\nQ 672.0 188.5, 671.7 189.0\\nL 671.0 188.6\\nQ 671.3 188.0, 671.9 187.7\\nQ 672.4 187.3, 673.3 187.3\\nQ 674.3 187.3, 674.9 187.7\\nQ 675.5 188.2, 675.5 189.0\\nQ 675.5 189.6, 675.2 190.0\\nQ 674.9 190.4, 674.3 190.6\\n' fill='#000000'/>\\n<path  d='M 676.1 190.8\\nQ 676.1 189.1, 676.9 188.2\\nQ 677.7 187.3, 679.3 187.3\\nQ 680.7 187.3, 681.5 188.3\\nL 680.8 188.8\\nQ 680.3 188.1, 679.3 188.1\\nQ 678.2 188.1, 677.7 188.8\\nQ 677.1 189.5, 677.1 190.8\\nQ 677.1 192.2, 677.7 192.9\\nQ 678.3 193.6, 679.4 193.6\\nQ 680.2 193.6, 681.1 193.1\\nL 681.3 193.9\\nQ 681.0 194.1, 680.4 194.3\\nQ 679.9 194.4, 679.3 194.4\\nQ 677.7 194.4, 676.9 193.5\\nQ 676.1 192.5, 676.1 190.8\\n' fill='#000000'/>\\n<path  d='M 682.3 187.3\\nL 683.3 187.3\\nL 683.3 190.3\\nL 686.8 190.3\\nL 686.8 187.3\\nL 687.8 187.3\\nL 687.8 194.3\\nL 686.8 194.3\\nL 686.8 191.1\\nL 683.3 191.1\\nL 683.3 194.3\\nL 682.3 194.3\\nL 682.3 187.3\\n' fill='#000000'/>\\n<path  d='M 688.3 188.7\\nQ 688.5 188.0, 689.1 187.6\\nQ 689.7 187.3, 690.6 187.3\\nQ 691.6 187.3, 692.2 187.8\\nQ 692.8 188.4, 692.8 189.4\\nQ 692.8 190.5, 692.1 191.4\\nQ 691.3 192.4, 689.7 193.5\\nL 692.9 193.5\\nL 692.9 194.3\\nL 688.3 194.3\\nL 688.3 193.6\\nQ 689.6 192.7, 690.3 192.0\\nQ 691.1 191.3, 691.5 190.7\\nQ 691.8 190.1, 691.8 189.5\\nQ 691.8 188.8, 691.5 188.4\\nQ 691.2 188.1, 690.6 188.1\\nQ 690.0 188.1, 689.7 188.3\\nQ 689.3 188.5, 689.0 189.0\\nL 688.3 188.7\\n' fill='#000000'/>\\n<path  d='M 695.2 186.7\\nL 695.2 196.2\\nL 693.1 196.2\\nL 693.1 195.5\\nL 694.4 195.5\\nL 694.4 187.4\\nL 693.1 187.4\\nL 693.1 186.7\\nL 695.2 186.7\\n' fill='#000000'/>\\n<path  d='M 696.1 186.7\\nL 698.2 186.7\\nL 698.2 187.4\\nL 696.9 187.4\\nL 696.9 195.5\\nL 698.2 195.5\\nL 698.2 196.2\\nL 696.1 196.2\\nL 696.1 186.7\\n' fill='#000000'/>\\n<path  d='M 699.1 193.5\\nL 700.6 193.5\\nL 700.6 188.3\\nL 698.9 188.8\\nL 698.7 188.3\\nL 700.8 187.3\\nL 701.5 187.4\\nL 701.5 193.5\\nL 702.9 193.5\\nL 702.9 194.3\\nL 699.1 194.3\\nL 699.1 193.5\\n' fill='#000000'/>\\n<path  d='M 706.6 190.6\\nQ 707.3 190.8, 707.6 191.3\\nQ 708.0 191.7, 708.0 192.4\\nQ 708.0 193.0, 707.7 193.4\\nQ 707.4 193.9, 706.8 194.2\\nQ 706.3 194.4, 705.6 194.4\\nQ 704.8 194.4, 704.3 194.1\\nQ 703.7 193.9, 703.3 193.3\\nL 703.9 192.8\\nQ 704.3 193.3, 704.7 193.4\\nQ 705.0 193.6, 705.6 193.6\\nQ 706.2 193.6, 706.6 193.3\\nQ 707.0 192.9, 707.0 192.4\\nQ 707.0 191.7, 706.6 191.4\\nQ 706.2 191.0, 705.3 191.0\\nL 704.8 191.0\\nL 704.8 190.3\\nL 705.3 190.3\\nQ 706.0 190.3, 706.4 190.0\\nQ 706.8 189.7, 706.8 189.0\\nQ 706.8 188.6, 706.5 188.3\\nQ 706.2 188.1, 705.6 188.1\\nQ 705.0 188.1, 704.7 188.3\\nQ 704.3 188.5, 704.0 189.0\\nL 703.4 188.6\\nQ 703.6 188.0, 704.2 187.7\\nQ 704.8 187.3, 705.6 187.3\\nQ 706.6 187.3, 707.2 187.7\\nQ 707.8 188.2, 707.8 189.0\\nQ 707.8 189.6, 707.5 190.0\\nQ 707.2 190.4, 706.6 190.6\\n' fill='#000000'/>\\n<path  d='M 708.5 190.8\\nQ 708.5 189.1, 709.3 188.2\\nQ 710.1 187.3, 711.6 187.3\\nQ 713.1 187.3, 713.8 188.3\\nL 713.2 188.8\\nQ 712.6 188.1, 711.6 188.1\\nQ 710.6 188.1, 710.0 188.8\\nQ 709.5 189.5, 709.5 190.8\\nQ 709.5 192.2, 710.0 192.9\\nQ 710.6 193.6, 711.7 193.6\\nQ 712.5 193.6, 713.4 193.1\\nL 713.7 193.9\\nQ 713.3 194.1, 712.8 194.3\\nQ 712.2 194.4, 711.6 194.4\\nQ 710.1 194.4, 709.3 193.5\\nQ 708.5 192.5, 708.5 190.8\\n' fill='#000000'/>\\n<path  d='M 714.7 187.3\\nL 715.6 187.3\\nL 715.6 190.3\\nL 719.2 190.3\\nL 719.2 187.3\\nL 720.1 187.3\\nL 720.1 194.3\\nL 719.2 194.3\\nL 719.2 191.1\\nL 715.6 191.1\\nL 715.6 194.3\\nL 714.7 194.3\\nL 714.7 187.3\\n' fill='#000000'/>\\n<path  d='M 720.6 188.7\\nQ 720.9 188.0, 721.5 187.6\\nQ 722.1 187.3, 722.9 187.3\\nQ 724.0 187.3, 724.6 187.8\\nQ 725.2 188.4, 725.2 189.4\\nQ 725.2 190.5, 724.4 191.4\\nQ 723.6 192.4, 722.1 193.5\\nL 725.3 193.5\\nL 725.3 194.3\\nL 720.6 194.3\\nL 720.6 193.6\\nQ 721.9 192.7, 722.7 192.0\\nQ 723.4 191.3, 723.8 190.7\\nQ 724.2 190.1, 724.2 189.5\\nQ 724.2 188.8, 723.8 188.4\\nQ 723.5 188.1, 722.9 188.1\\nQ 722.4 188.1, 722.0 188.3\\nQ 721.6 188.5, 721.4 189.0\\nL 720.6 188.7\\n' fill='#000000'/>\\n<path  d='M 727.6 186.7\\nL 727.6 196.2\\nL 725.5 196.2\\nL 725.5 195.5\\nL 726.7 195.5\\nL 726.7 187.4\\nL 725.5 187.4\\nL 725.5 186.7\\nL 727.6 186.7\\n' fill='#000000'/>\\n<path  d='M 728.4 186.7\\nL 730.5 186.7\\nL 730.5 187.4\\nL 729.2 187.4\\nL 729.2 195.5\\nL 730.5 195.5\\nL 730.5 196.2\\nL 728.4 196.2\\nL 728.4 186.7\\n' fill='#000000'/>\\n<path  d='M 731.4 193.5\\nL 732.9 193.5\\nL 732.9 188.3\\nL 731.3 188.8\\nL 731.0 188.3\\nL 733.2 187.3\\nL 733.9 187.4\\nL 733.9 193.5\\nL 735.2 193.5\\nL 735.2 194.3\\nL 731.4 194.3\\nL 731.4 193.5\\n' fill='#000000'/>\\n<path  d='M 739.0 190.6\\nQ 739.7 190.8, 740.0 191.3\\nQ 740.3 191.7, 740.3 192.4\\nQ 740.3 193.0, 740.0 193.4\\nQ 739.7 193.9, 739.2 194.2\\nQ 738.6 194.4, 737.9 194.4\\nQ 737.2 194.4, 736.6 194.1\\nQ 736.1 193.9, 735.6 193.3\\nL 736.2 192.8\\nQ 736.6 193.3, 737.0 193.4\\nQ 737.4 193.6, 737.9 193.6\\nQ 738.6 193.6, 738.9 193.3\\nQ 739.3 192.9, 739.3 192.4\\nQ 739.3 191.7, 738.9 191.4\\nQ 738.5 191.0, 737.7 191.0\\nL 737.2 191.0\\nL 737.2 190.3\\nL 737.6 190.3\\nQ 738.4 190.3, 738.8 190.0\\nQ 739.2 189.7, 739.2 189.0\\nQ 739.2 188.6, 738.9 188.3\\nQ 738.5 188.1, 737.9 188.1\\nQ 737.4 188.1, 737.0 188.3\\nQ 736.7 188.5, 736.4 189.0\\nL 735.7 188.6\\nQ 735.9 188.0, 736.5 187.7\\nQ 737.1 187.3, 737.9 187.3\\nQ 739.0 187.3, 739.6 187.7\\nQ 740.2 188.2, 740.2 189.0\\nQ 740.2 189.6, 739.9 190.0\\nQ 739.6 190.4, 739.0 190.6\\n' fill='#000000'/>\\n<path  d='M 740.8 190.8\\nQ 740.8 189.1, 741.6 188.2\\nQ 742.4 187.3, 744.0 187.3\\nQ 745.4 187.3, 746.2 188.3\\nL 745.5 188.8\\nQ 745.0 188.1, 744.0 188.1\\nQ 742.9 188.1, 742.4 188.8\\nQ 741.8 189.5, 741.8 190.8\\nQ 741.8 192.2, 742.4 192.9\\nQ 743.0 193.6, 744.1 193.6\\nQ 744.8 193.6, 745.7 193.1\\nL 746.0 193.9\\nQ 745.6 194.1, 745.1 194.3\\nQ 744.5 194.4, 743.9 194.4\\nQ 742.4 194.4, 741.6 193.5\\nQ 740.8 192.5, 740.8 190.8\\n' fill='#000000'/>\\n<path  d='M 747.0 187.3\\nL 747.9 187.3\\nL 747.9 190.3\\nL 751.5 190.3\\nL 751.5 187.3\\nL 752.4 187.3\\nL 752.4 194.3\\nL 751.5 194.3\\nL 751.5 191.1\\nL 747.9 191.1\\nL 747.9 194.3\\nL 747.0 194.3\\nL 747.0 187.3\\n' fill='#000000'/>\\n<path  d='M 753.0 188.7\\nQ 753.2 188.0, 753.8 187.6\\nQ 754.4 187.3, 755.3 187.3\\nQ 756.3 187.3, 756.9 187.8\\nQ 757.5 188.4, 757.5 189.4\\nQ 757.5 190.5, 756.7 191.4\\nQ 756.0 192.4, 754.4 193.5\\nL 757.6 193.5\\nL 757.6 194.3\\nL 752.9 194.3\\nL 752.9 193.6\\nQ 754.2 192.7, 755.0 192.0\\nQ 755.8 191.3, 756.2 190.7\\nQ 756.5 190.1, 756.5 189.5\\nQ 756.5 188.8, 756.2 188.4\\nQ 755.9 188.1, 755.3 188.1\\nQ 754.7 188.1, 754.3 188.3\\nQ 754.0 188.5, 753.7 189.0\\nL 753.0 188.7\\n' fill='#000000'/>\\n<path  d='M 759.9 186.7\\nL 759.9 196.2\\nL 757.8 196.2\\nL 757.8 195.5\\nL 759.1 195.5\\nL 759.1 187.4\\nL 757.8 187.4\\nL 757.8 186.7\\nL 759.9 186.7\\n' fill='#000000'/>\\n<path  d='M 760.7 186.7\\nL 762.8 186.7\\nL 762.8 187.4\\nL 761.6 187.4\\nL 761.6 195.5\\nL 762.8 195.5\\nL 762.8 196.2\\nL 760.7 196.2\\nL 760.7 186.7\\n' fill='#000000'/>\\n<path  d='M 763.8 193.5\\nL 765.3 193.5\\nL 765.3 188.3\\nL 763.6 188.8\\nL 763.4 188.3\\nL 765.5 187.3\\nL 766.2 187.4\\nL 766.2 193.5\\nL 767.6 193.5\\nL 767.6 194.3\\nL 763.8 194.3\\nL 763.8 193.5\\n' fill='#000000'/>\\n<path  d='M 771.3 190.6\\nQ 772.0 190.8, 772.3 191.3\\nQ 772.7 191.7, 772.7 192.4\\nQ 772.7 193.0, 772.4 193.4\\nQ 772.1 193.9, 771.5 194.2\\nQ 771.0 194.4, 770.3 194.4\\nQ 769.5 194.4, 769.0 194.1\\nQ 768.4 193.9, 768.0 193.3\\nL 768.5 192.8\\nQ 769.0 193.3, 769.3 193.4\\nQ 769.7 193.6, 770.3 193.6\\nQ 770.9 193.6, 771.3 193.3\\nQ 771.7 192.9, 771.7 192.4\\nQ 771.7 191.7, 771.3 191.4\\nQ 770.9 191.0, 770.0 191.0\\nL 769.5 191.0\\nL 769.5 190.3\\nL 770.0 190.3\\nQ 770.7 190.3, 771.1 190.0\\nQ 771.5 189.7, 771.5 189.0\\nQ 771.5 188.6, 771.2 188.3\\nQ 770.9 188.1, 770.3 188.1\\nQ 769.7 188.1, 769.3 188.3\\nQ 769.0 188.5, 768.7 189.0\\nL 768.0 188.6\\nQ 768.3 188.0, 768.9 187.7\\nQ 769.5 187.3, 770.3 187.3\\nQ 771.3 187.3, 771.9 187.7\\nQ 772.5 188.2, 772.5 189.0\\nQ 772.5 189.6, 772.2 190.0\\nQ 771.9 190.4, 771.3 190.6\\n' fill='#000000'/>\\n<path  d='M 773.1 190.8\\nQ 773.1 189.1, 774.0 188.2\\nQ 774.8 187.3, 776.3 187.3\\nQ 777.7 187.3, 778.5 188.3\\nL 777.9 188.8\\nQ 777.3 188.1, 776.3 188.1\\nQ 775.3 188.1, 774.7 188.8\\nQ 774.1 189.5, 774.1 190.8\\nQ 774.1 192.2, 774.7 192.9\\nQ 775.3 193.6, 776.4 193.6\\nQ 777.2 193.6, 778.1 193.1\\nL 778.4 193.9\\nQ 778.0 194.1, 777.4 194.3\\nQ 776.9 194.4, 776.3 194.4\\nQ 774.8 194.4, 774.0 193.5\\nQ 773.1 192.5, 773.1 190.8\\n' fill='#000000'/>\\n<path  d='M 779.3 187.3\\nL 780.3 187.3\\nL 780.3 190.3\\nL 783.8 190.3\\nL 783.8 187.3\\nL 784.8 187.3\\nL 784.8 194.3\\nL 783.8 194.3\\nL 783.8 191.1\\nL 780.3 191.1\\nL 780.3 194.3\\nL 779.3 194.3\\nL 779.3 187.3\\n' fill='#000000'/>\\n<path  d='M 785.3 188.7\\nQ 785.6 188.0, 786.2 187.6\\nQ 786.8 187.3, 787.6 187.3\\nQ 788.7 187.3, 789.3 187.8\\nQ 789.8 188.4, 789.8 189.4\\nQ 789.8 190.5, 789.1 191.4\\nQ 788.3 192.4, 786.8 193.5\\nL 790.0 193.5\\nL 790.0 194.3\\nL 785.3 194.3\\nL 785.3 193.6\\nQ 786.6 192.7, 787.3 192.0\\nQ 788.1 191.3, 788.5 190.7\\nQ 788.9 190.1, 788.9 189.5\\nQ 788.9 188.8, 788.5 188.4\\nQ 788.2 188.1, 787.6 188.1\\nQ 787.1 188.1, 786.7 188.3\\nQ 786.3 188.5, 786.0 189.0\\nL 785.3 188.7\\n' fill='#000000'/>\\n<path  d='M 792.3 186.7\\nL 792.3 196.2\\nL 790.2 196.2\\nL 790.2 195.5\\nL 791.4 195.5\\nL 791.4 187.4\\nL 790.2 187.4\\nL 790.2 186.7\\nL 792.3 186.7\\n' fill='#000000'/>\\n<path  d='M 792.7 190.8\\nQ 792.7 189.1, 793.6 188.2\\nQ 794.4 187.3, 795.9 187.3\\nQ 797.5 187.3, 798.3 188.2\\nQ 799.1 189.1, 799.1 190.8\\nQ 799.1 192.5, 798.3 193.5\\nQ 797.5 194.4, 795.9 194.4\\nQ 794.4 194.4, 793.6 193.5\\nQ 792.7 192.5, 792.7 190.8\\nM 795.9 193.6\\nQ 797.0 193.6, 797.6 192.9\\nQ 798.1 192.2, 798.1 190.8\\nQ 798.1 189.4, 797.6 188.8\\nQ 797.0 188.1, 795.9 188.1\\nQ 794.9 188.1, 794.3 188.7\\nQ 793.7 189.4, 793.7 190.8\\nQ 793.7 192.2, 794.3 192.9\\nQ 794.9 193.6, 795.9 193.6\\n' fill='#000000'/>\\n<path class='bond-0 atom-0 atom-1' d='M 821.2,86.6 L 845.2,72.8' style='fill:none;fill-rule:evenodd;stroke:#000000;stroke-width:2.0px;stroke-linecap:butt;stroke-linejoin:miter;stroke-opacity:1' />\\n<path class='bond-1 atom-1 atom-2' d='M 845.2,72.8 L 869.1,86.6' style='fill:none;fill-rule:evenodd;stroke:#000000;stroke-width:2.0px;stroke-linecap:butt;stroke-linejoin:miter;stroke-opacity:1' />\\n<path class='bond-2 atom-2 atom-3' d='M 869.1,86.6 L 878.9,80.9' style='fill:none;fill-rule:evenodd;stroke:#000000;stroke-width:2.0px;stroke-linecap:butt;stroke-linejoin:miter;stroke-opacity:1' />\\n<path class='bond-2 atom-2 atom-3' d='M 878.9,80.9 L 888.8,75.2' style='fill:none;fill-rule:evenodd;stroke:#FF0000;stroke-width:2.0px;stroke-linecap:butt;stroke-linejoin:miter;stroke-opacity:1' />\\n<path class='bond-3 atom-3 atom-4' d='M 897.3,75.2 L 907.2,80.9' style='fill:none;fill-rule:evenodd;stroke:#FF0000;stroke-width:2.0px;stroke-linecap:butt;stroke-linejoin:miter;stroke-opacity:1' />\\n<path class='bond-3 atom-3 atom-4' d='M 907.2,80.9 L 917.0,86.6' style='fill:none;fill-rule:evenodd;stroke:#000000;stroke-width:2.0px;stroke-linecap:butt;stroke-linejoin:miter;stroke-opacity:1' />\\n<path class='bond-4 atom-4 atom-5' d='M 917.0,86.6 L 940.9,72.8' style='fill:none;fill-rule:evenodd;stroke:#000000;stroke-width:2.0px;stroke-linecap:butt;stroke-linejoin:miter;stroke-opacity:1' />\\n<path class='bond-5 atom-5 atom-6' d='M 940.9,72.8 L 951.3,78.7' style='fill:none;fill-rule:evenodd;stroke:#000000;stroke-width:2.0px;stroke-linecap:butt;stroke-linejoin:miter;stroke-opacity:1' />\\n<path class='bond-5 atom-5 atom-6' d='M 951.3,78.7 L 961.7,84.7' style='fill:none;fill-rule:evenodd;stroke:#FF7F00;stroke-width:2.0px;stroke-linecap:butt;stroke-linejoin:miter;stroke-opacity:1' />\\n<path  class='atom-3' d='M 889.5 72.8\\nQ 889.5 70.9, 890.4 69.8\\nQ 891.3 68.8, 893.1 68.8\\nQ 894.8 68.8, 895.7 69.8\\nQ 896.7 70.9, 896.7 72.8\\nQ 896.7 74.7, 895.7 75.8\\nQ 894.8 76.8, 893.1 76.8\\nQ 891.3 76.8, 890.4 75.8\\nQ 889.5 74.7, 889.5 72.8\\nM 893.1 76.0\\nQ 894.3 76.0, 894.9 75.2\\nQ 895.5 74.3, 895.5 72.8\\nQ 895.5 71.2, 894.9 70.5\\nQ 894.3 69.7, 893.1 69.7\\nQ 891.9 69.7, 891.2 70.5\\nQ 890.6 71.2, 890.6 72.8\\nQ 890.6 74.4, 891.2 75.2\\nQ 891.9 76.0, 893.1 76.0\\n' fill='#FF0000'/>\\n<path  class='atom-6' d='M 964.7 82.7\\nQ 966.0 82.7, 966.7 83.3\\nQ 967.4 83.9, 967.4 85.0\\nQ 967.4 86.0, 966.7 86.7\\nQ 966.0 87.3, 964.7 87.3\\nL 963.5 87.3\\nL 963.5 90.5\\nL 962.4 90.5\\nL 962.4 82.7\\nL 964.7 82.7\\nM 964.7 86.4\\nQ 965.5 86.4, 965.9 86.0\\nQ 966.3 85.7, 966.3 85.0\\nQ 966.3 84.3, 965.9 83.9\\nQ 965.5 83.6, 964.7 83.6\\nL 963.5 83.6\\nL 963.5 86.4\\nL 964.7 86.4\\n' fill='#FF7F00'/>\\n<path  class='atom-6' d='M 968.3 82.7\\nL 969.4 82.7\\nL 969.4 86.0\\nL 973.4 86.0\\nL 973.4 82.7\\nL 974.5 82.7\\nL 974.5 90.5\\nL 973.4 90.5\\nL 973.4 86.9\\nL 969.4 86.9\\nL 969.4 90.5\\nL 968.3 90.5\\nL 968.3 82.7\\n' fill='#FF7F00'/>\\n<path  class='atom-6' d='M 974.8 90.2\\nQ 975.0 89.7, 975.5 89.5\\nQ 975.9 89.2, 976.6 89.2\\nQ 977.3 89.2, 977.8 89.6\\nQ 978.2 90.0, 978.2 90.8\\nQ 978.2 91.5, 977.6 92.3\\nQ 977.1 93.0, 975.9 93.8\\nL 978.3 93.8\\nL 978.3 94.4\\nL 974.8 94.4\\nL 974.8 93.9\\nQ 975.8 93.2, 976.4 92.7\\nQ 976.9 92.2, 977.2 91.8\\nQ 977.5 91.3, 977.5 90.8\\nQ 977.5 90.3, 977.2 90.0\\nQ 977.0 89.8, 976.6 89.8\\nQ 976.1 89.8, 975.9 89.9\\nQ 975.6 90.1, 975.4 90.5\\nL 974.8 90.2\\n' fill='#FF7F00'/>\\n<path  d='M 862.1 188.4\\nQ 862.1 185.6, 863.4 184.1\\nQ 864.7 182.6, 867.3 182.6\\nQ 869.6 182.6, 870.8 184.3\\nL 869.8 185.2\\nQ 868.9 184.0, 867.3 184.0\\nQ 865.5 184.0, 864.6 185.1\\nQ 863.7 186.2, 863.7 188.4\\nQ 863.7 190.7, 864.7 191.8\\nQ 865.6 193.0, 867.4 193.0\\nQ 868.7 193.0, 870.1 192.2\\nL 870.6 193.4\\nQ 870.0 193.8, 869.1 194.0\\nQ 868.2 194.2, 867.2 194.2\\nQ 864.7 194.2, 863.4 192.7\\nQ 862.1 191.2, 862.1 188.4\\n' fill='#000000'/>\\n<path  d='M 871.6 188.4\\nQ 871.6 185.6, 873.0 184.1\\nQ 874.3 182.6, 876.8 182.6\\nQ 879.1 182.6, 880.4 184.3\\nL 879.3 185.2\\nQ 878.4 184.0, 876.8 184.0\\nQ 875.1 184.0, 874.2 185.1\\nQ 873.3 186.2, 873.3 188.4\\nQ 873.3 190.7, 874.2 191.8\\nQ 875.1 193.0, 877.0 193.0\\nQ 878.2 193.0, 879.7 192.2\\nL 880.1 193.4\\nQ 879.5 193.8, 878.6 194.0\\nQ 877.7 194.2, 876.7 194.2\\nQ 874.3 194.2, 873.0 192.7\\nQ 871.6 191.2, 871.6 188.4\\n' fill='#000000'/>\\n<path  d='M 881.2 188.4\\nQ 881.2 185.6, 882.5 184.1\\nQ 883.8 182.6, 886.3 182.6\\nQ 888.7 182.6, 889.9 184.3\\nL 888.9 185.2\\nQ 887.9 184.0, 886.3 184.0\\nQ 884.6 184.0, 883.7 185.1\\nQ 882.8 186.2, 882.8 188.4\\nQ 882.8 190.7, 883.7 191.8\\nQ 884.7 193.0, 886.5 193.0\\nQ 887.8 193.0, 889.2 192.2\\nL 889.7 193.4\\nQ 889.1 193.8, 888.2 194.0\\nQ 887.3 194.2, 886.3 194.2\\nQ 883.8 194.2, 882.5 192.7\\nQ 881.2 191.2, 881.2 188.4\\n' fill='#000000'/>\\n<path  d='M 890.7 188.4\\nQ 890.7 185.7, 892.1 184.2\\nQ 893.4 182.6, 895.9 182.6\\nQ 898.4 182.6, 899.8 184.2\\nQ 901.1 185.7, 901.1 188.4\\nQ 901.1 191.2, 899.8 192.7\\nQ 898.4 194.3, 895.9 194.3\\nQ 893.4 194.3, 892.1 192.7\\nQ 890.7 191.2, 890.7 188.4\\nM 895.9 193.0\\nQ 897.6 193.0, 898.6 191.8\\nQ 899.5 190.7, 899.5 188.4\\nQ 899.5 186.2, 898.6 185.1\\nQ 897.6 183.9, 895.9 183.9\\nQ 894.2 183.9, 893.2 185.0\\nQ 892.3 186.2, 892.3 188.4\\nQ 892.3 190.7, 893.2 191.8\\nQ 894.2 193.0, 895.9 193.0\\n' fill='#000000'/>\\n<path  d='M 901.9 188.4\\nQ 901.9 185.6, 903.2 184.1\\nQ 904.6 182.6, 907.1 182.6\\nQ 909.4 182.6, 910.7 184.3\\nL 909.6 185.2\\nQ 908.7 184.0, 907.1 184.0\\nQ 905.4 184.0, 904.4 185.1\\nQ 903.5 186.2, 903.5 188.4\\nQ 903.5 190.7, 904.5 191.8\\nQ 905.4 193.0, 907.2 193.0\\nQ 908.5 193.0, 909.9 192.2\\nL 910.4 193.4\\nQ 909.8 193.8, 908.9 194.0\\nQ 908.0 194.2, 907.0 194.2\\nQ 904.6 194.2, 903.2 192.7\\nQ 901.9 191.2, 901.9 188.4\\n' fill='#000000'/>\\n<path  d='M 911.5 188.4\\nQ 911.5 185.6, 912.8 184.1\\nQ 914.1 182.6, 916.6 182.6\\nQ 918.9 182.6, 920.2 184.3\\nL 919.1 185.2\\nQ 918.2 184.0, 916.6 184.0\\nQ 914.9 184.0, 914.0 185.1\\nQ 913.1 186.2, 913.1 188.4\\nQ 913.1 190.7, 914.0 191.8\\nQ 915.0 193.0, 916.8 193.0\\nQ 918.0 193.0, 919.5 192.2\\nL 919.9 193.4\\nQ 919.3 193.8, 918.4 194.0\\nQ 917.5 194.2, 916.6 194.2\\nQ 914.1 194.2, 912.8 192.7\\nQ 911.5 191.2, 911.5 188.4\\n' fill='#000000'/>\\n<path  d='M 924.9 182.8\\nQ 926.8 182.8, 927.8 183.6\\nQ 928.8 184.5, 928.8 186.1\\nQ 928.8 187.7, 927.8 188.6\\nQ 926.8 189.4, 924.9 189.4\\nL 923.1 189.4\\nL 923.1 194.1\\nL 921.5 194.1\\nL 921.5 182.8\\nL 924.9 182.8\\nM 924.9 188.2\\nQ 926.0 188.2, 926.6 187.6\\nQ 927.2 187.1, 927.2 186.1\\nQ 927.2 185.1, 926.6 184.6\\nQ 926.0 184.0, 924.9 184.0\\nL 923.1 184.0\\nL 923.1 188.2\\nL 924.9 188.2\\n' fill='#000000'/>\\n<path class='bond-0 atom-0 atom-1' d='M 77.1,294.5 L 101.0,280.7' style='fill:none;fill-rule:evenodd;stroke:#000000;stroke-width:2.0px;stroke-linecap:butt;stroke-linejoin:miter;stroke-opacity:1' />\\n<path class='bond-4 atom-0 atom-5' d='M 77.1,294.5 L 66.6,288.4' style='fill:none;fill-rule:evenodd;stroke:#000000;stroke-width:2.0px;stroke-linecap:butt;stroke-linejoin:miter;stroke-opacity:1' />\\n<path class='bond-4 atom-0 atom-5' d='M 66.6,288.4 L 56.2,282.4' style='fill:none;fill-rule:evenodd;stroke:#33CCCC;stroke-width:2.0px;stroke-linecap:butt;stroke-linejoin:miter;stroke-opacity:1' />\\n<path class='bond-1 atom-1 atom-2' d='M 101.0,280.7 L 111.5,274.6' style='fill:none;fill-rule:evenodd;stroke:#000000;stroke-width:2.0px;stroke-linecap:butt;stroke-linejoin:miter;stroke-opacity:1' />\\n<path class='bond-1 atom-1 atom-2' d='M 111.5,274.6 L 122.0,268.6' style='fill:none;fill-rule:evenodd;stroke:#33CCCC;stroke-width:2.0px;stroke-linecap:butt;stroke-linejoin:miter;stroke-opacity:1' />\\n<path class='bond-2 atom-1 atom-3' d='M 101.0,280.7 L 106.6,290.3' style='fill:none;fill-rule:evenodd;stroke:#000000;stroke-width:2.0px;stroke-linecap:butt;stroke-linejoin:miter;stroke-opacity:1' />\\n<path class='bond-2 atom-1 atom-3' d='M 106.6,290.3 L 112.2,300.0' style='fill:none;fill-rule:evenodd;stroke:#33CCCC;stroke-width:2.0px;stroke-linecap:butt;stroke-linejoin:miter;stroke-opacity:1' />\\n<path class='bond-3 atom-1 atom-4' d='M 101.0,280.7 L 95.5,271.0' style='fill:none;fill-rule:evenodd;stroke:#000000;stroke-width:2.0px;stroke-linecap:butt;stroke-linejoin:miter;stroke-opacity:1' />\\n<path class='bond-3 atom-1 atom-4' d='M 95.5,271.0 L 89.9,261.3' style='fill:none;fill-rule:evenodd;stroke:#33CCCC;stroke-width:2.0px;stroke-linecap:butt;stroke-linejoin:miter;stroke-opacity:1' />\\n<path  class='atom-2' d='M 122.7 262.9\\nL 127.3 262.9\\nL 127.3 263.8\\nL 123.7 263.8\\nL 123.7 266.2\\nL 126.9 266.2\\nL 126.9 267.1\\nL 123.7 267.1\\nL 123.7 270.7\\nL 122.7 270.7\\nL 122.7 262.9\\n' fill='#33CCCC'/>\\n<path  class='atom-3' d='M 112.5 300.7\\nL 117.2 300.7\\nL 117.2 301.6\\nL 113.6 301.6\\nL 113.6 304.0\\nL 116.8 304.0\\nL 116.8 304.9\\nL 113.6 304.9\\nL 113.6 308.5\\nL 112.5 308.5\\nL 112.5 300.7\\n' fill='#33CCCC'/>\\n<path  class='atom-4' d='M 84.9 252.8\\nL 89.5 252.8\\nL 89.5 253.7\\nL 85.9 253.7\\nL 85.9 256.1\\nL 89.1 256.1\\nL 89.1 257.0\\nL 85.9 257.0\\nL 85.9 260.6\\nL 84.9 260.6\\nL 84.9 252.8\\n' fill='#33CCCC'/>\\n<path  class='atom-5' d='M 50.8 276.7\\nL 55.5 276.7\\nL 55.5 277.6\\nL 51.9 277.6\\nL 51.9 280.0\\nL 55.1 280.0\\nL 55.1 280.9\\nL 51.9 280.9\\nL 51.9 284.6\\nL 50.8 284.6\\nL 50.8 276.7\\n' fill='#33CCCC'/>\\n<path  d='M 59.3 384.4\\nQ 59.3 381.6, 60.6 380.1\\nQ 61.9 378.7, 64.4 378.7\\nQ 66.8 378.7, 68.0 380.3\\nL 67.0 381.2\\nQ 66.0 380.0, 64.4 380.0\\nQ 62.7 380.0, 61.8 381.1\\nQ 60.9 382.3, 60.9 384.4\\nQ 60.9 386.7, 61.8 387.8\\nQ 62.8 389.0, 64.6 389.0\\nQ 65.9 389.0, 67.3 388.2\\nL 67.8 389.4\\nQ 67.2 389.8, 66.3 390.0\\nQ 65.4 390.3, 64.4 390.3\\nQ 61.9 390.3, 60.6 388.8\\nQ 59.3 387.2, 59.3 384.4\\n' fill='#000000'/>\\n<path  d='M 68.8 385.6\\nQ 68.8 383.2, 69.5 381.4\\nQ 70.1 379.5, 71.4 377.4\\nL 72.3 378.0\\nQ 71.3 379.9, 70.8 381.6\\nQ 70.3 383.4, 70.3 385.6\\nQ 70.3 387.7, 70.8 389.4\\nQ 71.3 391.1, 72.3 393.1\\nL 71.4 393.7\\nQ 70.1 391.6, 69.5 389.8\\nQ 68.8 387.9, 68.8 385.6\\n' fill='#000000'/>\\n<path  d='M 73.1 384.4\\nQ 73.1 381.6, 74.4 380.1\\nQ 75.8 378.7, 78.3 378.7\\nQ 80.6 378.7, 81.9 380.3\\nL 80.8 381.2\\nQ 79.9 380.0, 78.3 380.0\\nQ 76.6 380.0, 75.7 381.1\\nQ 74.8 382.3, 74.8 384.4\\nQ 74.8 386.7, 75.7 387.8\\nQ 76.6 389.0, 78.5 389.0\\nQ 79.7 389.0, 81.2 388.2\\nL 81.6 389.4\\nQ 81.0 389.8, 80.1 390.0\\nQ 79.2 390.3, 78.2 390.3\\nQ 75.8 390.3, 74.4 388.8\\nQ 73.1 387.2, 73.1 384.4\\n' fill='#000000'/>\\n<path  d='M 82.7 385.6\\nQ 82.7 383.2, 83.3 381.4\\nQ 84.0 379.5, 85.3 377.4\\nL 86.2 378.0\\nQ 85.1 379.9, 84.6 381.6\\nQ 84.1 383.4, 84.1 385.6\\nQ 84.1 387.7, 84.6 389.4\\nQ 85.1 391.1, 86.2 393.1\\nL 85.3 393.7\\nQ 84.0 391.6, 83.3 389.8\\nQ 82.7 387.9, 82.7 385.6\\n' fill='#000000'/>\\n<path  d='M 87.5 378.8\\nL 94.3 378.8\\nL 94.3 380.1\\nL 89.1 380.1\\nL 89.1 383.5\\nL 93.7 383.5\\nL 93.7 384.8\\nL 89.1 384.8\\nL 89.1 390.1\\nL 87.5 390.1\\nL 87.5 378.8\\n' fill='#000000'/>\\n<path  d='M 98.2 385.6\\nQ 98.2 387.9, 97.5 389.8\\nQ 96.9 391.6, 95.6 393.7\\nL 94.7 393.1\\nQ 95.7 391.1, 96.2 389.4\\nQ 96.8 387.7, 96.8 385.6\\nQ 96.8 383.4, 96.2 381.6\\nQ 95.7 379.9, 94.7 378.0\\nL 95.6 377.4\\nQ 96.9 379.5, 97.5 381.4\\nQ 98.2 383.2, 98.2 385.6\\n' fill='#000000'/>\\n<path  d='M 99.0 385.6\\nQ 99.0 383.2, 99.7 381.4\\nQ 100.3 379.5, 101.6 377.4\\nL 102.5 378.0\\nQ 101.5 379.9, 101.0 381.6\\nQ 100.4 383.4, 100.4 385.6\\nQ 100.4 387.7, 101.0 389.4\\nQ 101.5 391.1, 102.5 393.1\\nL 101.6 393.7\\nQ 100.3 391.6, 99.7 389.8\\nQ 99.0 387.9, 99.0 385.6\\n' fill='#000000'/>\\n<path  d='M 103.9 378.8\\nL 110.6 378.8\\nL 110.6 380.1\\nL 105.4 380.1\\nL 105.4 383.5\\nL 110.0 383.5\\nL 110.0 384.8\\nL 105.4 384.8\\nL 105.4 390.1\\nL 103.9 390.1\\nL 103.9 378.8\\n' fill='#000000'/>\\n<path  d='M 114.5 385.6\\nQ 114.5 387.9, 113.9 389.8\\nQ 113.2 391.6, 111.9 393.7\\nL 111.0 393.1\\nQ 112.1 391.1, 112.6 389.4\\nQ 113.1 387.7, 113.1 385.6\\nQ 113.1 383.4, 112.6 381.6\\nQ 112.1 379.9, 111.0 378.0\\nL 111.9 377.4\\nQ 113.2 379.5, 113.9 381.4\\nQ 114.5 383.2, 114.5 385.6\\n' fill='#000000'/>\\n<path  d='M 115.9 378.8\\nL 122.6 378.8\\nL 122.6 380.1\\nL 117.4 380.1\\nL 117.4 383.5\\nL 122.1 383.5\\nL 122.1 384.8\\nL 117.4 384.8\\nL 117.4 390.1\\nL 115.9 390.1\\nL 115.9 378.8\\n' fill='#000000'/>\\n<path  d='M 126.6 385.6\\nQ 126.6 387.9, 125.9 389.8\\nQ 125.2 391.6, 123.9 393.7\\nL 123.0 393.1\\nQ 124.1 391.1, 124.6 389.4\\nQ 125.1 387.7, 125.1 385.6\\nQ 125.1 383.4, 124.6 381.6\\nQ 124.1 379.9, 123.0 378.0\\nL 123.9 377.4\\nQ 125.2 379.5, 125.9 381.4\\nQ 126.6 383.2, 126.6 385.6\\n' fill='#000000'/>\\n<path  d='M 127.9 378.8\\nL 134.7 378.8\\nL 134.7 380.1\\nL 129.4 380.1\\nL 129.4 383.5\\nL 134.1 383.5\\nL 134.1 384.8\\nL 129.4 384.8\\nL 129.4 390.1\\nL 127.9 390.1\\nL 127.9 378.8\\n' fill='#000000'/>\\n<path class='bond-0 atom-0 atom-1' d='M 266.1,300.0 L 277.3,280.7' style='fill:none;fill-rule:evenodd;stroke:#000000;stroke-width:2.0px;stroke-linecap:butt;stroke-linejoin:miter;stroke-opacity:1' />\\n<path class='bond-1 atom-1 atom-2' d='M 277.3,280.7 L 266.1,261.3' style='fill:none;fill-rule:evenodd;stroke:#000000;stroke-width:2.0px;stroke-linecap:butt;stroke-linejoin:miter;stroke-opacity:1' />\\n<path class='bond-2 atom-1 atom-3' d='M 277.3,280.7 L 304.9,280.7' style='fill:none;fill-rule:evenodd;stroke:#000000;stroke-width:2.0px;stroke-linecap:butt;stroke-linejoin:miter;stroke-opacity:1' />\\n<path class='bond-3 atom-3 atom-4' d='M 304.9,280.7 L 304.9,253.0' style='fill:none;fill-rule:evenodd;stroke:#000000;stroke-width:2.0px;stroke-linecap:butt;stroke-linejoin:miter;stroke-opacity:1' />\\n<path class='bond-4 atom-3 atom-5' d='M 304.9,280.7 L 304.9,308.3' style='fill:none;fill-rule:evenodd;stroke:#000000;stroke-width:2.0px;stroke-linecap:butt;stroke-linejoin:miter;stroke-opacity:1' />\\n<path class='bond-5 atom-3 atom-6' d='M 304.9,280.7 L 316.9,280.7' style='fill:none;fill-rule:evenodd;stroke:#000000;stroke-width:2.0px;stroke-linecap:butt;stroke-linejoin:miter;stroke-opacity:1' />\\n<path class='bond-5 atom-3 atom-6' d='M 316.9,280.7 L 328.8,280.7' style='fill:none;fill-rule:evenodd;stroke:#00CC00;stroke-width:2.0px;stroke-linecap:butt;stroke-linejoin:miter;stroke-opacity:1' />\\n<path  class='atom-0' d='M 256.0 300.4\\nQ 256.2 299.9, 256.6 299.7\\nQ 257.1 299.4, 257.7 299.4\\nQ 258.5 299.4, 258.9 299.8\\nQ 259.3 300.2, 259.3 301.0\\nQ 259.3 301.7, 258.8 302.5\\nQ 258.2 303.2, 257.0 304.0\\nL 259.4 304.0\\nL 259.4 304.6\\nL 255.9 304.6\\nL 255.9 304.1\\nQ 256.9 303.4, 257.5 302.9\\nQ 258.1 302.4, 258.3 301.9\\nQ 258.6 301.5, 258.6 301.0\\nQ 258.6 300.5, 258.4 300.2\\nQ 258.1 300.0, 257.7 300.0\\nQ 257.3 300.0, 257.0 300.1\\nQ 256.7 300.3, 256.5 300.7\\nL 256.0 300.4\\n' fill='#000000'/>\\n<path  class='atom-0' d='M 260.4 300.7\\nL 261.4 300.7\\nL 261.4 304.0\\nL 265.4 304.0\\nL 265.4 300.7\\nL 266.5 300.7\\nL 266.5 308.5\\nL 265.4 308.5\\nL 265.4 304.9\\nL 261.4 304.9\\nL 261.4 308.5\\nL 260.4 308.5\\nL 260.4 300.7\\n' fill='#000000'/>\\n<path  class='atom-2' d='M 256.0 252.5\\nQ 256.2 252.0, 256.6 251.8\\nQ 257.1 251.5, 257.7 251.5\\nQ 258.5 251.5, 258.9 251.9\\nQ 259.3 252.3, 259.3 253.1\\nQ 259.3 253.8, 258.8 254.6\\nQ 258.2 255.3, 257.0 256.1\\nL 259.4 256.1\\nL 259.4 256.7\\nL 255.9 256.7\\nL 255.9 256.2\\nQ 256.9 255.5, 257.5 255.0\\nQ 258.1 254.5, 258.3 254.1\\nQ 258.6 253.6, 258.6 253.1\\nQ 258.6 252.6, 258.4 252.3\\nQ 258.1 252.1, 257.7 252.1\\nQ 257.3 252.1, 257.0 252.2\\nQ 256.7 252.4, 256.5 252.8\\nL 256.0 252.5\\n' fill='#000000'/>\\n<path  class='atom-2' d='M 260.4 252.8\\nL 261.4 252.8\\nL 261.4 256.1\\nL 265.4 256.1\\nL 265.4 252.8\\nL 266.5 252.8\\nL 266.5 260.6\\nL 265.4 260.6\\nL 265.4 257.0\\nL 261.4 257.0\\nL 261.4 260.6\\nL 260.4 260.6\\nL 260.4 252.8\\n' fill='#000000'/>\\n<path  class='atom-6' d='M 329.5 280.9\\nQ 329.5 279.0, 330.4 278.0\\nQ 331.4 276.9, 333.1 276.9\\nQ 334.7 276.9, 335.6 278.1\\nL 334.8 278.7\\nQ 334.2 277.8, 333.1 277.8\\nQ 331.9 277.8, 331.3 278.6\\nQ 330.7 279.4, 330.7 280.9\\nQ 330.7 282.5, 331.3 283.3\\nQ 332.0 284.1, 333.2 284.1\\nQ 334.1 284.1, 335.1 283.5\\nL 335.4 284.4\\nQ 335.0 284.6, 334.4 284.8\\nQ 333.8 285.0, 333.1 285.0\\nQ 331.4 285.0, 330.4 283.9\\nQ 329.5 282.9, 329.5 280.9\\n' fill='#00CC00'/>\\n<path  class='atom-6' d='M 336.5 276.5\\nL 337.5 276.5\\nL 337.5 284.9\\nL 336.5 284.9\\nL 336.5 276.5\\n' fill='#00CC00'/>\\n<path  d='M 233.1 377.7\\nL 236.5 377.7\\nL 236.5 378.9\\nL 234.5 378.9\\nL 234.5 392.0\\nL 236.5 392.0\\nL 236.5 393.2\\nL 233.1 393.2\\nL 233.1 377.7\\n' fill='#000000'/>\\n<path  d='M 237.4 380.9\\nQ 237.8 379.9, 238.8 379.3\\nQ 239.8 378.7, 241.1 378.7\\nQ 242.9 378.7, 243.8 379.6\\nQ 244.8 380.5, 244.8 382.2\\nQ 244.8 383.8, 243.5 385.4\\nQ 242.3 387.0, 239.7 388.8\\nL 245.0 388.8\\nL 245.0 390.1\\nL 237.3 390.1\\nL 237.3 389.0\\nQ 239.5 387.5, 240.7 386.4\\nQ 242.0 385.3, 242.6 384.3\\nQ 243.2 383.3, 243.2 382.2\\nQ 243.2 381.2, 242.6 380.5\\nQ 242.1 379.9, 241.1 379.9\\nQ 240.2 379.9, 239.6 380.3\\nQ 239.0 380.7, 238.6 381.5\\nL 237.4 380.9\\n' fill='#000000'/>\\n<path  d='M 246.3 378.8\\nL 247.9 378.8\\nL 247.9 383.6\\nL 253.7 383.6\\nL 253.7 378.8\\nL 255.2 378.8\\nL 255.2 390.1\\nL 253.7 390.1\\nL 253.7 384.9\\nL 247.9 384.9\\nL 247.9 390.1\\nL 246.3 390.1\\nL 246.3 378.8\\n' fill='#000000'/>\\n<path  d='M 258.9 377.7\\nL 258.9 393.2\\nL 255.5 393.2\\nL 255.5 392.0\\nL 257.6 392.0\\nL 257.6 378.9\\nL 255.5 378.9\\nL 255.5 377.7\\nL 258.9 377.7\\n' fill='#000000'/>\\n<path  d='M 259.7 384.4\\nQ 259.7 381.6, 261.0 380.1\\nQ 262.4 378.7, 264.9 378.7\\nQ 267.2 378.7, 268.5 380.3\\nL 267.4 381.2\\nQ 266.5 380.0, 264.9 380.0\\nQ 263.2 380.0, 262.3 381.1\\nQ 261.4 382.3, 261.4 384.4\\nQ 261.4 386.7, 262.3 387.8\\nQ 263.2 389.0, 265.1 389.0\\nQ 266.3 389.0, 267.8 388.2\\nL 268.2 389.4\\nQ 267.6 389.8, 266.7 390.0\\nQ 265.8 390.3, 264.8 390.3\\nQ 262.4 390.3, 261.0 388.8\\nQ 259.7 387.2, 259.7 384.4\\n' fill='#000000'/>\\n<path  d='M 269.3 385.6\\nQ 269.3 383.2, 269.9 381.4\\nQ 270.6 379.5, 271.9 377.4\\nL 272.8 378.0\\nQ 271.7 379.9, 271.2 381.6\\nQ 270.7 383.4, 270.7 385.6\\nQ 270.7 387.7, 271.2 389.4\\nQ 271.7 391.1, 272.8 393.1\\nL 271.9 393.7\\nQ 270.6 391.6, 269.9 389.8\\nQ 269.3 387.9, 269.3 385.6\\n' fill='#000000'/>\\n<path  d='M 274.1 377.7\\nL 277.5 377.7\\nL 277.5 378.9\\nL 275.5 378.9\\nL 275.5 392.0\\nL 277.5 392.0\\nL 277.5 393.2\\nL 274.1 393.2\\nL 274.1 377.7\\n' fill='#000000'/>\\n<path  d='M 278.4 380.9\\nQ 278.8 379.9, 279.8 379.3\\nQ 280.8 378.7, 282.2 378.7\\nQ 283.9 378.7, 284.8 379.6\\nQ 285.8 380.5, 285.8 382.2\\nQ 285.8 383.8, 284.5 385.4\\nQ 283.3 387.0, 280.7 388.8\\nL 286.0 388.8\\nL 286.0 390.1\\nL 278.3 390.1\\nL 278.3 389.0\\nQ 280.5 387.5, 281.7 386.4\\nQ 283.0 385.3, 283.6 384.3\\nQ 284.2 383.3, 284.2 382.2\\nQ 284.2 381.2, 283.6 380.5\\nQ 283.1 379.9, 282.2 379.9\\nQ 281.2 379.9, 280.6 380.3\\nQ 280.0 380.7, 279.6 381.5\\nL 278.4 380.9\\n' fill='#000000'/>\\n<path  d='M 287.3 378.8\\nL 288.9 378.8\\nL 288.9 383.6\\nL 294.7 383.6\\nL 294.7 378.8\\nL 296.2 378.8\\nL 296.2 390.1\\nL 294.7 390.1\\nL 294.7 384.9\\nL 288.9 384.9\\nL 288.9 390.1\\nL 287.3 390.1\\nL 287.3 378.8\\n' fill='#000000'/>\\n<path  d='M 299.9 377.7\\nL 299.9 393.2\\nL 296.5 393.2\\nL 296.5 392.0\\nL 298.6 392.0\\nL 298.6 378.9\\nL 296.5 378.9\\nL 296.5 377.7\\nL 299.9 377.7\\n' fill='#000000'/>\\n<path  d='M 303.9 385.6\\nQ 303.9 387.9, 303.2 389.8\\nQ 302.5 391.6, 301.2 393.7\\nL 300.3 393.1\\nQ 301.4 391.1, 301.9 389.4\\nQ 302.4 387.7, 302.4 385.6\\nQ 302.4 383.4, 301.9 381.6\\nQ 301.4 379.9, 300.3 378.0\\nL 301.2 377.4\\nQ 302.5 379.5, 303.2 381.4\\nQ 303.9 383.2, 303.9 385.6\\n' fill='#000000'/>\\n<path  d='M 304.7 384.4\\nQ 304.7 381.6, 306.0 380.1\\nQ 307.3 378.7, 309.8 378.7\\nQ 312.1 378.7, 313.4 380.3\\nL 312.3 381.2\\nQ 311.4 380.0, 309.8 380.0\\nQ 308.1 380.0, 307.2 381.1\\nQ 306.3 382.3, 306.3 384.4\\nQ 306.3 386.7, 307.2 387.8\\nQ 308.2 389.0, 310.0 389.0\\nQ 311.2 389.0, 312.7 388.2\\nL 313.1 389.4\\nQ 312.5 389.8, 311.6 390.0\\nQ 310.7 390.3, 309.8 390.3\\nQ 307.3 390.3, 306.0 388.8\\nQ 304.7 387.2, 304.7 384.4\\n' fill='#000000'/>\\n<path  d='M 314.2 385.6\\nQ 314.2 383.2, 314.8 381.4\\nQ 315.5 379.5, 316.8 377.4\\nL 317.7 378.0\\nQ 316.7 379.9, 316.1 381.6\\nQ 315.6 383.4, 315.6 385.6\\nQ 315.6 387.7, 316.1 389.4\\nQ 316.7 391.1, 317.7 393.1\\nL 316.8 393.7\\nQ 315.5 391.6, 314.8 389.8\\nQ 314.2 387.9, 314.2 385.6\\n' fill='#000000'/>\\n<path  d='M 318.5 384.4\\nQ 318.5 381.6, 319.8 380.1\\nQ 321.1 378.7, 323.7 378.7\\nQ 326.0 378.7, 327.2 380.3\\nL 326.2 381.2\\nQ 325.3 380.0, 323.7 380.0\\nQ 321.9 380.0, 321.0 381.1\\nQ 320.1 382.3, 320.1 384.4\\nQ 320.1 386.7, 321.1 387.8\\nQ 322.0 389.0, 323.8 389.0\\nQ 325.1 389.0, 326.5 388.2\\nL 327.0 389.4\\nQ 326.4 389.8, 325.5 390.0\\nQ 324.6 390.3, 323.6 390.3\\nQ 321.1 390.3, 319.8 388.8\\nQ 318.5 387.2, 318.5 384.4\\n' fill='#000000'/>\\n<path  d='M 331.2 385.6\\nQ 331.2 387.9, 330.5 389.8\\nQ 329.8 391.6, 328.5 393.7\\nL 327.6 393.1\\nQ 328.7 391.1, 329.2 389.4\\nQ 329.7 387.7, 329.7 385.6\\nQ 329.7 383.4, 329.2 381.6\\nQ 328.7 379.9, 327.6 378.0\\nL 328.5 377.4\\nQ 329.8 379.5, 330.5 381.4\\nQ 331.2 383.2, 331.2 385.6\\n' fill='#000000'/>\\n<path  d='M 332.0 385.6\\nQ 332.0 383.2, 332.6 381.4\\nQ 333.3 379.5, 334.6 377.4\\nL 335.5 378.0\\nQ 334.4 379.9, 333.9 381.6\\nQ 333.4 383.4, 333.4 385.6\\nQ 333.4 387.7, 333.9 389.4\\nQ 334.4 391.1, 335.5 393.1\\nL 334.6 393.7\\nQ 333.3 391.6, 332.6 389.8\\nQ 332.0 387.9, 332.0 385.6\\n' fill='#000000'/>\\n<path  d='M 336.3 384.4\\nQ 336.3 381.6, 337.6 380.1\\nQ 338.9 378.7, 341.4 378.7\\nQ 343.8 378.7, 345.0 380.3\\nL 344.0 381.2\\nQ 343.1 380.0, 341.4 380.0\\nQ 339.7 380.0, 338.8 381.1\\nQ 337.9 382.3, 337.9 384.4\\nQ 337.9 386.7, 338.8 387.8\\nQ 339.8 389.0, 341.6 389.0\\nQ 342.9 389.0, 344.3 388.2\\nL 344.8 389.4\\nQ 344.2 389.8, 343.3 390.0\\nQ 342.4 390.3, 341.4 390.3\\nQ 338.9 390.3, 337.6 388.8\\nQ 336.3 387.2, 336.3 384.4\\n' fill='#000000'/>\\n<path  d='M 348.9 385.6\\nQ 348.9 387.9, 348.3 389.8\\nQ 347.6 391.6, 346.3 393.7\\nL 345.4 393.1\\nQ 346.5 391.1, 347.0 389.4\\nQ 347.5 387.7, 347.5 385.6\\nQ 347.5 383.4, 347.0 381.6\\nQ 346.5 379.9, 345.4 378.0\\nL 346.3 377.4\\nQ 347.6 379.5, 348.3 381.4\\nQ 348.9 383.2, 348.9 385.6\\n' fill='#000000'/>\\n<path  d='M 349.7 384.4\\nQ 349.7 381.6, 351.1 380.1\\nQ 352.4 378.7, 354.9 378.7\\nQ 357.2 378.7, 358.5 380.3\\nL 357.4 381.2\\nQ 356.5 380.0, 354.9 380.0\\nQ 353.2 380.0, 352.3 381.1\\nQ 351.4 382.3, 351.4 384.4\\nQ 351.4 386.7, 352.3 387.8\\nQ 353.2 389.0, 355.1 389.0\\nQ 356.3 389.0, 357.8 388.2\\nL 358.2 389.4\\nQ 357.6 389.8, 356.7 390.0\\nQ 355.8 390.3, 354.8 390.3\\nQ 352.4 390.3, 351.1 388.8\\nQ 349.7 387.2, 349.7 384.4\\n' fill='#000000'/>\\n<path  d='M 359.9 378.0\\nL 361.3 378.0\\nL 361.3 390.1\\nL 359.9 390.1\\nL 359.9 378.0\\n' fill='#000000'/>\\n<path class='bond-0 atom-0 atom-1' d='M 430.6,286.6 L 455.8,275.1' style='fill:none;fill-rule:evenodd;stroke:#000000;stroke-width:2.0px;stroke-linecap:butt;stroke-linejoin:miter;stroke-opacity:1' />\\n<path class='bond-1 atom-1 atom-2' d='M 455.8,275.1 L 478.3,291.2' style='fill:none;fill-rule:evenodd;stroke:#000000;stroke-width:2.0px;stroke-linecap:butt;stroke-linejoin:miter;stroke-opacity:1' />\\n<path class='bond-2 atom-2 atom-3' d='M 478.3,291.2 L 503.5,279.7' style='fill:none;fill-rule:evenodd;stroke:#000000;stroke-width:2.0px;stroke-linecap:butt;stroke-linejoin:miter;stroke-opacity:1' />\\n<path class='bond-3 atom-3 atom-4' d='M 503.5,279.7 L 526.0,295.7' style='fill:none;fill-rule:evenodd;stroke:#000000;stroke-width:2.0px;stroke-linecap:butt;stroke-linejoin:miter;stroke-opacity:1' />\\n<path class='bond-5 atom-3 atom-6' d='M 503.5,279.7 L 504.5,268.3' style='fill:none;fill-rule:evenodd;stroke:#000000;stroke-width:2.0px;stroke-linecap:butt;stroke-linejoin:miter;stroke-opacity:1' />\\n<path class='bond-5 atom-3 atom-6' d='M 504.5,268.3 L 505.6,256.9' style='fill:none;fill-rule:evenodd;stroke:#FF0000;stroke-width:2.0px;stroke-linecap:butt;stroke-linejoin:miter;stroke-opacity:1' />\\n<path class='bond-4 atom-4 atom-5' d='M 526.0,295.7 L 538.0,290.2' style='fill:none;fill-rule:evenodd;stroke:#000000;stroke-width:2.0px;stroke-linecap:butt;stroke-linejoin:miter;stroke-opacity:1' />\\n<path class='bond-4 atom-4 atom-5' d='M 538.0,290.2 L 549.9,284.8' style='fill:none;fill-rule:evenodd;stroke:#A01EEF;stroke-width:2.0px;stroke-linecap:butt;stroke-linejoin:miter;stroke-opacity:1' />\\n<path  class='atom-5' d='M 550.6 280.3\\nL 551.7 280.3\\nL 551.7 288.1\\nL 550.6 288.1\\nL 550.6 280.3\\n' fill='#A01EEF'/>\\n<path  class='atom-6' d='M 502.5 252.2\\nQ 502.5 250.3, 503.4 249.2\\nQ 504.3 248.2, 506.1 248.2\\nQ 507.8 248.2, 508.8 249.2\\nQ 509.7 250.3, 509.7 252.2\\nQ 509.7 254.1, 508.7 255.1\\nQ 507.8 256.2, 506.1 256.2\\nQ 504.4 256.2, 503.4 255.1\\nQ 502.5 254.1, 502.5 252.2\\nM 506.1 255.3\\nQ 507.3 255.3, 507.9 254.5\\nQ 508.6 253.7, 508.6 252.2\\nQ 508.6 250.6, 507.9 249.8\\nQ 507.3 249.1, 506.1 249.1\\nQ 504.9 249.1, 504.2 249.8\\nQ 503.6 250.6, 503.6 252.2\\nQ 503.6 253.7, 504.2 254.5\\nQ 504.9 255.3, 506.1 255.3\\n' fill='#FF0000'/>\\n<path  class='atom-6' d='M 510.6 248.3\\nL 511.7 248.3\\nL 511.7 251.6\\nL 515.7 251.6\\nL 515.7 248.3\\nL 516.7 248.3\\nL 516.7 256.1\\nL 515.7 256.1\\nL 515.7 252.5\\nL 511.7 252.5\\nL 511.7 256.1\\nL 510.6 256.1\\nL 510.6 248.3\\n' fill='#FF0000'/>\\n<path  d='M 462.3 384.4\\nQ 462.3 381.6, 463.6 380.1\\nQ 464.9 378.7, 467.4 378.7\\nQ 469.8 378.7, 471.0 380.3\\nL 470.0 381.2\\nQ 469.1 380.0, 467.4 380.0\\nQ 465.7 380.0, 464.8 381.1\\nQ 463.9 382.3, 463.9 384.4\\nQ 463.9 386.7, 464.8 387.8\\nQ 465.8 389.0, 467.6 389.0\\nQ 468.9 389.0, 470.3 388.2\\nL 470.8 389.4\\nQ 470.2 389.8, 469.3 390.0\\nQ 468.4 390.3, 467.4 390.3\\nQ 464.9 390.3, 463.6 388.8\\nQ 462.3 387.2, 462.3 384.4\\n' fill='#000000'/>\\n<path  d='M 471.8 384.4\\nQ 471.8 381.6, 473.1 380.1\\nQ 474.5 378.7, 477.0 378.7\\nQ 479.3 378.7, 480.6 380.3\\nL 479.5 381.2\\nQ 478.6 380.0, 477.0 380.0\\nQ 475.3 380.0, 474.4 381.1\\nQ 473.5 382.3, 473.5 384.4\\nQ 473.5 386.7, 474.4 387.8\\nQ 475.3 389.0, 477.2 389.0\\nQ 478.4 389.0, 479.9 388.2\\nL 480.3 389.4\\nQ 479.7 389.8, 478.8 390.0\\nQ 477.9 390.3, 476.9 390.3\\nQ 474.5 390.3, 473.1 388.8\\nQ 471.8 387.2, 471.8 384.4\\n' fill='#000000'/>\\n<path  d='M 481.4 384.4\\nQ 481.4 381.6, 482.7 380.1\\nQ 484.0 378.7, 486.5 378.7\\nQ 488.8 378.7, 490.1 380.3\\nL 489.0 381.2\\nQ 488.1 380.0, 486.5 380.0\\nQ 484.8 380.0, 483.9 381.1\\nQ 483.0 382.3, 483.0 384.4\\nQ 483.0 386.7, 483.9 387.8\\nQ 484.9 389.0, 486.7 389.0\\nQ 487.9 389.0, 489.4 388.2\\nL 489.8 389.4\\nQ 489.2 389.8, 488.4 390.0\\nQ 487.5 390.3, 486.5 390.3\\nQ 484.0 390.3, 482.7 388.8\\nQ 481.4 387.2, 481.4 384.4\\n' fill='#000000'/>\\n<path  d='M 490.9 384.4\\nQ 490.9 381.6, 492.2 380.1\\nQ 493.5 378.7, 496.0 378.7\\nQ 498.4 378.7, 499.6 380.3\\nL 498.6 381.2\\nQ 497.7 380.0, 496.0 380.0\\nQ 494.3 380.0, 493.4 381.1\\nQ 492.5 382.3, 492.5 384.4\\nQ 492.5 386.7, 493.5 387.8\\nQ 494.4 389.0, 496.2 389.0\\nQ 497.5 389.0, 498.9 388.2\\nL 499.4 389.4\\nQ 498.8 389.8, 497.9 390.0\\nQ 497.0 390.3, 496.0 390.3\\nQ 493.5 390.3, 492.2 388.8\\nQ 490.9 387.2, 490.9 384.4\\n' fill='#000000'/>\\n<path  d='M 500.4 385.6\\nQ 500.4 383.2, 501.1 381.4\\nQ 501.8 379.5, 503.1 377.4\\nL 504.0 378.0\\nQ 502.9 379.9, 502.4 381.6\\nQ 501.9 383.4, 501.9 385.6\\nQ 501.9 387.7, 502.4 389.4\\nQ 502.9 391.1, 504.0 393.1\\nL 503.1 393.7\\nQ 501.8 391.6, 501.1 389.8\\nQ 500.4 387.9, 500.4 385.6\\n' fill='#000000'/>\\n<path  d='M 504.8 384.4\\nQ 504.8 381.6, 506.1 380.1\\nQ 507.4 378.7, 509.9 378.7\\nQ 512.2 378.7, 513.5 380.3\\nL 512.4 381.2\\nQ 511.5 380.0, 509.9 380.0\\nQ 508.2 380.0, 507.3 381.1\\nQ 506.4 382.3, 506.4 384.4\\nQ 506.4 386.7, 507.3 387.8\\nQ 508.3 389.0, 510.1 389.0\\nQ 511.3 389.0, 512.8 388.2\\nL 513.2 389.4\\nQ 512.6 389.8, 511.7 390.0\\nQ 510.8 390.3, 509.9 390.3\\nQ 507.4 390.3, 506.1 388.8\\nQ 504.8 387.2, 504.8 384.4\\n' fill='#000000'/>\\n<path  d='M 514.9 378.7\\nL 516.4 378.7\\nL 516.4 390.1\\nL 514.9 390.1\\nL 514.9 378.7\\n' fill='#000000'/>\\n<path  d='M 520.3 385.6\\nQ 520.3 387.9, 519.7 389.8\\nQ 519.0 391.6, 517.7 393.7\\nL 516.8 393.1\\nQ 517.9 391.1, 518.4 389.4\\nQ 518.9 387.7, 518.9 385.6\\nQ 518.9 383.4, 518.4 381.6\\nQ 517.9 379.9, 516.8 378.0\\nL 517.7 377.4\\nQ 519.0 379.5, 519.7 381.4\\nQ 520.3 383.2, 520.3 385.6\\n' fill='#000000'/>\\n<path  d='M 521.1 384.4\\nQ 521.1 381.7, 522.5 380.2\\nQ 523.8 378.7, 526.3 378.7\\nQ 528.8 378.7, 530.2 380.2\\nQ 531.5 381.7, 531.5 384.4\\nQ 531.5 387.2, 530.2 388.7\\nQ 528.8 390.3, 526.3 390.3\\nQ 523.8 390.3, 522.5 388.7\\nQ 521.1 387.2, 521.1 384.4\\nM 526.3 389.0\\nQ 528.1 389.0, 529.0 387.9\\nQ 529.9 386.7, 529.9 384.4\\nQ 529.9 382.2, 529.0 381.1\\nQ 528.1 379.9, 526.3 379.9\\nQ 524.6 379.9, 523.7 381.1\\nQ 522.7 382.2, 522.7 384.4\\nQ 522.7 386.7, 523.7 387.9\\nQ 524.6 389.0, 526.3 389.0\\n' fill='#000000'/>\\n<path class='bond-0 atom-0 atom-1' d='M 609.1,285.2 L 633.4,272.1' style='fill:none;fill-rule:evenodd;stroke:#000000;stroke-width:2.0px;stroke-linecap:butt;stroke-linejoin:miter;stroke-opacity:1' />\\n<path class='bond-1 atom-1 atom-2' d='M 633.4,272.1 L 657.0,286.6' style='fill:none;fill-rule:evenodd;stroke:#000000;stroke-width:2.0px;stroke-linecap:butt;stroke-linejoin:miter;stroke-opacity:1' />\\n<path class='bond-2 atom-2 atom-3' d='M 657.0,286.6 L 681.3,273.4' style='fill:none;fill-rule:evenodd;stroke:#000000;stroke-width:2.0px;stroke-linecap:butt;stroke-linejoin:miter;stroke-opacity:1' />\\n<path class='bond-3 atom-3 atom-4' d='M 681.3,273.4 L 704.8,287.9' style='fill:none;fill-rule:evenodd;stroke:#000000;stroke-width:2.0px;stroke-linecap:butt;stroke-linejoin:miter;stroke-opacity:1' />\\n<path class='bond-4 atom-4 atom-5' d='M 704.8,287.9 L 729.2,274.7' style='fill:none;fill-rule:evenodd;stroke:#000000;stroke-width:2.0px;stroke-linecap:butt;stroke-linejoin:miter;stroke-opacity:1' />\\n<path class='bond-5 atom-5 atom-6' d='M 729.2,274.7 L 749.0,287.0' style='fill:none;fill-rule:evenodd;stroke:#000000;stroke-width:2.0px;stroke-linecap:butt;stroke-linejoin:miter;stroke-opacity:1' />\\n<path class='bond-6 atom-6 atom-7' d='M 760.5,285.0 L 777.0,276.1' style='fill:none;fill-rule:evenodd;stroke:#000000;stroke-width:2.0px;stroke-linecap:butt;stroke-linejoin:miter;stroke-opacity:1' />\\n<path  class='atom-6' d='M 749.7 289.3\\nQ 749.7 287.3, 750.6 286.3\\nQ 751.5 285.3, 753.2 285.3\\nQ 754.9 285.3, 755.7 286.4\\nL 755.0 287.0\\nQ 754.4 286.2, 753.2 286.2\\nQ 752.1 286.2, 751.4 287.0\\nQ 750.8 287.8, 750.8 289.3\\nQ 750.8 290.8, 751.5 291.6\\nQ 752.1 292.4, 753.4 292.4\\nQ 754.2 292.4, 755.2 291.9\\nL 755.5 292.7\\nQ 755.1 293.0, 754.5 293.1\\nQ 753.9 293.3, 753.2 293.3\\nQ 751.5 293.3, 750.6 292.3\\nQ 749.7 291.2, 749.7 289.3\\n' fill='#000000'/>\\n<path  class='atom-6' d='M 756.4 286.7\\nL 757.8 286.7\\nL 757.8 285.2\\nL 758.4 285.2\\nL 758.4 286.7\\nL 759.8 286.7\\nL 759.8 287.2\\nL 758.4 287.2\\nL 758.4 288.7\\nL 757.8 288.7\\nL 757.8 287.2\\nL 756.4 287.2\\nL 756.4 286.7\\n' fill='#000000'/>\\n<path  d='M 644.5 385.0\\nQ 644.5 382.2, 645.8 380.8\\nQ 647.1 379.3, 649.6 379.3\\nQ 651.9 379.3, 653.2 380.9\\nL 652.1 381.8\\nQ 651.2 380.6, 649.6 380.6\\nQ 647.9 380.6, 647.0 381.7\\nQ 646.1 382.9, 646.1 385.0\\nQ 646.1 387.3, 647.0 388.4\\nQ 648.0 389.6, 649.8 389.6\\nQ 651.0 389.6, 652.5 388.8\\nL 652.9 390.0\\nQ 652.3 390.4, 651.4 390.6\\nQ 650.6 390.9, 649.6 390.9\\nQ 647.1 390.9, 645.8 389.4\\nQ 644.5 387.9, 644.5 385.0\\n' fill='#000000'/>\\n<path  d='M 654.0 385.0\\nQ 654.0 382.2, 655.3 380.8\\nQ 656.6 379.3, 659.1 379.3\\nQ 661.5 379.3, 662.7 380.9\\nL 661.7 381.8\\nQ 660.8 380.6, 659.1 380.6\\nQ 657.4 380.6, 656.5 381.7\\nQ 655.6 382.9, 655.6 385.0\\nQ 655.6 387.3, 656.6 388.4\\nQ 657.5 389.6, 659.3 389.6\\nQ 660.6 389.6, 662.0 388.8\\nL 662.5 390.0\\nQ 661.9 390.4, 661.0 390.6\\nQ 660.1 390.9, 659.1 390.9\\nQ 656.6 390.9, 655.3 389.4\\nQ 654.0 387.9, 654.0 385.0\\n' fill='#000000'/>\\n<path  d='M 663.5 385.0\\nQ 663.5 382.2, 664.8 380.8\\nQ 666.2 379.3, 668.7 379.3\\nQ 671.0 379.3, 672.3 380.9\\nL 671.2 381.8\\nQ 670.3 380.6, 668.7 380.6\\nQ 667.0 380.6, 666.1 381.7\\nQ 665.2 382.9, 665.2 385.0\\nQ 665.2 387.3, 666.1 388.4\\nQ 667.0 389.6, 668.9 389.6\\nQ 670.1 389.6, 671.6 388.8\\nL 672.0 390.0\\nQ 671.4 390.4, 670.5 390.6\\nQ 669.6 390.9, 668.6 390.9\\nQ 666.2 390.9, 664.8 389.4\\nQ 663.5 387.9, 663.5 385.0\\n' fill='#000000'/>\\n<path  d='M 673.1 385.0\\nQ 673.1 382.2, 674.4 380.8\\nQ 675.7 379.3, 678.2 379.3\\nQ 680.6 379.3, 681.8 380.9\\nL 680.7 381.8\\nQ 679.8 380.6, 678.2 380.6\\nQ 676.5 380.6, 675.6 381.7\\nQ 674.7 382.9, 674.7 385.0\\nQ 674.7 387.3, 675.6 388.4\\nQ 676.6 389.6, 678.4 389.6\\nQ 679.6 389.6, 681.1 388.8\\nL 681.5 390.0\\nQ 681.0 390.4, 680.1 390.6\\nQ 679.2 390.9, 678.2 390.9\\nQ 675.7 390.9, 674.4 389.4\\nQ 673.1 387.9, 673.1 385.0\\n' fill='#000000'/>\\n<path  d='M 682.6 385.0\\nQ 682.6 382.2, 683.9 380.8\\nQ 685.2 379.3, 687.8 379.3\\nQ 690.1 379.3, 691.3 380.9\\nL 690.3 381.8\\nQ 689.4 380.6, 687.8 380.6\\nQ 686.0 380.6, 685.1 381.7\\nQ 684.2 382.9, 684.2 385.0\\nQ 684.2 387.3, 685.2 388.4\\nQ 686.1 389.6, 687.9 389.6\\nQ 689.2 389.6, 690.6 388.8\\nL 691.1 390.0\\nQ 690.5 390.4, 689.6 390.6\\nQ 688.7 390.9, 687.7 390.9\\nQ 685.2 390.9, 683.9 389.4\\nQ 682.6 387.9, 682.6 385.0\\n' fill='#000000'/>\\n<path  d='M 692.1 385.0\\nQ 692.1 382.2, 693.4 380.8\\nQ 694.8 379.3, 697.3 379.3\\nQ 699.6 379.3, 700.9 380.9\\nL 699.8 381.8\\nQ 698.9 380.6, 697.3 380.6\\nQ 695.6 380.6, 694.7 381.7\\nQ 693.8 382.9, 693.8 385.0\\nQ 693.8 387.3, 694.7 388.4\\nQ 695.6 389.6, 697.5 389.6\\nQ 698.7 389.6, 700.2 388.8\\nL 700.6 390.0\\nQ 700.0 390.4, 699.1 390.6\\nQ 698.2 390.9, 697.2 390.9\\nQ 694.8 390.9, 693.4 389.4\\nQ 692.1 387.9, 692.1 385.0\\n' fill='#000000'/>\\n<path  d='M 702.2 378.3\\nL 705.6 378.3\\nL 705.6 379.5\\nL 703.6 379.5\\nL 703.6 392.7\\nL 705.6 392.7\\nL 705.6 393.8\\nL 702.2 393.8\\nL 702.2 378.3\\n' fill='#000000'/>\\n<path  d='M 706.4 385.0\\nQ 706.4 382.2, 707.8 380.8\\nQ 709.1 379.3, 711.6 379.3\\nQ 713.9 379.3, 715.2 380.9\\nL 714.1 381.8\\nQ 713.2 380.6, 711.6 380.6\\nQ 709.9 380.6, 709.0 381.7\\nQ 708.1 382.9, 708.1 385.0\\nQ 708.1 387.3, 709.0 388.4\\nQ 709.9 389.6, 711.8 389.6\\nQ 713.0 389.6, 714.5 388.8\\nL 714.9 390.0\\nQ 714.3 390.4, 713.4 390.6\\nQ 712.5 390.9, 711.5 390.9\\nQ 709.1 390.9, 707.8 389.4\\nQ 706.4 387.9, 706.4 385.0\\n' fill='#000000'/>\\n<path  d='M 716.5 379.4\\nL 718.1 379.4\\nL 718.1 384.2\\nL 723.9 384.2\\nL 723.9 379.4\\nL 725.4 379.4\\nL 725.4 390.7\\nL 723.9 390.7\\nL 723.9 385.5\\nL 718.1 385.5\\nL 718.1 390.7\\nL 716.5 390.7\\nL 716.5 379.4\\n' fill='#000000'/>\\n<path  d='M 726.8 385.2\\nL 729.9 385.2\\nL 729.9 382.0\\nL 731.2 382.0\\nL 731.2 385.2\\nL 734.3 385.2\\nL 734.3 386.4\\nL 731.2 386.4\\nL 731.2 389.6\\nL 729.9 389.6\\nL 729.9 386.4\\nL 726.8 386.4\\nL 726.8 385.2\\n' fill='#000000'/>\\n<path  d='M 738.0 378.3\\nL 738.0 393.8\\nL 734.6 393.8\\nL 734.6 392.7\\nL 736.7 392.7\\nL 736.7 379.5\\nL 734.6 379.5\\nL 734.6 378.3\\nL 738.0 378.3\\n' fill='#000000'/>\\n<path  d='M 738.8 385.0\\nQ 738.8 382.2, 740.2 380.8\\nQ 741.5 379.3, 744.0 379.3\\nQ 746.3 379.3, 747.6 380.9\\nL 746.5 381.8\\nQ 745.6 380.6, 744.0 380.6\\nQ 742.3 380.6, 741.4 381.7\\nQ 740.5 382.9, 740.5 385.0\\nQ 740.5 387.3, 741.4 388.4\\nQ 742.3 389.6, 744.2 389.6\\nQ 745.4 389.6, 746.9 388.8\\nL 747.3 390.0\\nQ 746.7 390.4, 745.8 390.6\\nQ 744.9 390.9, 743.9 390.9\\nQ 741.5 390.9, 740.2 389.4\\nQ 738.8 387.9, 738.8 385.0\\n' fill='#000000'/>\\n<path class='bond-0 atom-0 atom-1' d='M 917.0,286.6 L 940.9,272.8' style='fill:none;fill-rule:evenodd;stroke:#000000;stroke-width:2.0px;stroke-linecap:butt;stroke-linejoin:miter;stroke-opacity:1' />\\n<path class='bond-2 atom-0 atom-3' d='M 917.0,286.6 L 906.9,280.7' style='fill:none;fill-rule:evenodd;stroke:#000000;stroke-width:2.0px;stroke-linecap:butt;stroke-linejoin:miter;stroke-opacity:1' />\\n<path class='bond-2 atom-0 atom-3' d='M 906.9,280.7 L 896.7,274.9' style='fill:none;fill-rule:evenodd;stroke:#0000FF;stroke-width:2.0px;stroke-linecap:butt;stroke-linejoin:miter;stroke-opacity:1' />\\n<path class='bond-1 atom-1 atom-2' d='M 940.9,272.8 L 950.8,278.4' style='fill:none;fill-rule:evenodd;stroke:#000000;stroke-width:2.0px;stroke-linecap:butt;stroke-linejoin:miter;stroke-opacity:1' />\\n<path class='bond-1 atom-1 atom-2' d='M 950.8,278.4 L 960.6,284.1' style='fill:none;fill-rule:evenodd;stroke:#FF0000;stroke-width:2.0px;stroke-linecap:butt;stroke-linejoin:miter;stroke-opacity:1' />\\n<path class='bond-3 atom-3 atom-4' d='M 889.4,274.9 L 879.3,280.7' style='fill:none;fill-rule:evenodd;stroke:#0000FF;stroke-width:2.0px;stroke-linecap:butt;stroke-linejoin:miter;stroke-opacity:1' />\\n<path class='bond-3 atom-3 atom-4' d='M 879.3,280.7 L 869.1,286.6' style='fill:none;fill-rule:evenodd;stroke:#000000;stroke-width:2.0px;stroke-linecap:butt;stroke-linejoin:miter;stroke-opacity:1' />\\n<path class='bond-4 atom-4 atom-5' d='M 869.1,286.6 L 845.2,272.8' style='fill:none;fill-rule:evenodd;stroke:#000000;stroke-width:2.0px;stroke-linecap:butt;stroke-linejoin:miter;stroke-opacity:1' />\\n<path class='bond-5 atom-5 atom-6' d='M 845.2,272.8 L 835.3,278.4' style='fill:none;fill-rule:evenodd;stroke:#000000;stroke-width:2.0px;stroke-linecap:butt;stroke-linejoin:miter;stroke-opacity:1' />\\n<path class='bond-5 atom-5 atom-6' d='M 835.3,278.4 L 825.5,284.1' style='fill:none;fill-rule:evenodd;stroke:#FF0000;stroke-width:2.0px;stroke-linecap:butt;stroke-linejoin:miter;stroke-opacity:1' />\\n<path  class='atom-2' d='M 961.3 286.6\\nQ 961.3 284.7, 962.2 283.7\\nQ 963.2 282.6, 964.9 282.6\\nQ 966.6 282.6, 967.6 283.7\\nQ 968.5 284.7, 968.5 286.6\\nQ 968.5 288.5, 967.5 289.6\\nQ 966.6 290.7, 964.9 290.7\\nQ 963.2 290.7, 962.2 289.6\\nQ 961.3 288.5, 961.3 286.6\\nM 964.9 289.8\\nQ 966.1 289.8, 966.7 289.0\\nQ 967.4 288.2, 967.4 286.6\\nQ 967.4 285.1, 966.7 284.3\\nQ 966.1 283.5, 964.9 283.5\\nQ 963.7 283.5, 963.0 284.3\\nQ 962.4 285.1, 962.4 286.6\\nQ 962.4 288.2, 963.0 289.0\\nQ 963.7 289.8, 964.9 289.8\\n' fill='#FF0000'/>\\n<path  class='atom-2' d='M 969.4 282.7\\nL 970.5 282.7\\nL 970.5 286.0\\nL 974.5 286.0\\nL 974.5 282.7\\nL 975.6 282.7\\nL 975.6 290.5\\nL 974.5 290.5\\nL 974.5 286.9\\nL 970.5 286.9\\nL 970.5 290.5\\nL 969.4 290.5\\nL 969.4 282.7\\n' fill='#FF0000'/>\\n<path  class='atom-3' d='M 891.3 268.8\\nL 893.9 273.0\\nQ 894.1 273.4, 894.6 274.1\\nQ 895.0 274.9, 895.0 274.9\\nL 895.0 268.8\\nL 896.0 268.8\\nL 896.0 276.7\\nL 895.0 276.7\\nL 892.2 272.1\\nQ 891.9 271.6, 891.5 271.0\\nQ 891.2 270.4, 891.1 270.2\\nL 891.1 276.7\\nL 890.1 276.7\\nL 890.1 268.8\\nL 891.3 268.8\\n' fill='#0000FF'/>\\n<path  class='atom-3' d='M 890.0 260.2\\nL 891.1 260.2\\nL 891.1 263.6\\nL 895.1 263.6\\nL 895.1 260.2\\nL 896.1 260.2\\nL 896.1 268.1\\nL 895.1 268.1\\nL 895.1 264.4\\nL 891.1 264.4\\nL 891.1 268.1\\nL 890.0 268.1\\nL 890.0 260.2\\n' fill='#0000FF'/>\\n<path  class='atom-6' d='M 810.9 282.7\\nL 812.0 282.7\\nL 812.0 286.0\\nL 816.0 286.0\\nL 816.0 282.7\\nL 817.1 282.7\\nL 817.1 290.5\\nL 816.0 290.5\\nL 816.0 286.9\\nL 812.0 286.9\\nL 812.0 290.5\\nL 810.9 290.5\\nL 810.9 282.7\\n' fill='#FF0000'/>\\n<path  class='atom-6' d='M 817.6 286.6\\nQ 817.6 284.7, 818.6 283.7\\nQ 819.5 282.6, 821.2 282.6\\nQ 823.0 282.6, 823.9 283.7\\nQ 824.8 284.7, 824.8 286.6\\nQ 824.8 288.5, 823.9 289.6\\nQ 822.9 290.7, 821.2 290.7\\nQ 819.5 290.7, 818.6 289.6\\nQ 817.6 288.5, 817.6 286.6\\nM 821.2 289.8\\nQ 822.4 289.8, 823.1 289.0\\nQ 823.7 288.2, 823.7 286.6\\nQ 823.7 285.1, 823.1 284.3\\nQ 822.4 283.5, 821.2 283.5\\nQ 820.0 283.5, 819.4 284.3\\nQ 818.7 285.1, 818.7 286.6\\nQ 818.7 288.2, 819.4 289.0\\nQ 820.0 289.8, 821.2 289.8\\n' fill='#FF0000'/>\\n<path  d='M 857.5 384.4\\nQ 857.5 381.6, 858.8 380.1\\nQ 860.1 378.7, 862.6 378.7\\nQ 865.0 378.7, 866.2 380.3\\nL 865.2 381.2\\nQ 864.3 380.0, 862.6 380.0\\nQ 860.9 380.0, 860.0 381.1\\nQ 859.1 382.3, 859.1 384.4\\nQ 859.1 386.7, 860.0 387.8\\nQ 861.0 389.0, 862.8 389.0\\nQ 864.1 389.0, 865.5 388.2\\nL 866.0 389.4\\nQ 865.4 389.8, 864.5 390.0\\nQ 863.6 390.3, 862.6 390.3\\nQ 860.1 390.3, 858.8 388.8\\nQ 857.5 387.2, 857.5 384.4\\n' fill='#000000'/>\\n<path  d='M 867.0 385.6\\nQ 867.0 383.2, 867.7 381.4\\nQ 868.3 379.5, 869.6 377.4\\nL 870.5 378.0\\nQ 869.5 379.9, 869.0 381.6\\nQ 868.5 383.4, 868.5 385.6\\nQ 868.5 387.7, 869.0 389.4\\nQ 869.5 391.1, 870.5 393.1\\nL 869.6 393.7\\nQ 868.3 391.6, 867.7 389.8\\nQ 867.0 387.9, 867.0 385.6\\n' fill='#000000'/>\\n<path  d='M 871.3 384.4\\nQ 871.3 381.6, 872.7 380.1\\nQ 874.0 378.7, 876.5 378.7\\nQ 878.8 378.7, 880.1 380.3\\nL 879.0 381.2\\nQ 878.1 380.0, 876.5 380.0\\nQ 874.8 380.0, 873.9 381.1\\nQ 873.0 382.3, 873.0 384.4\\nQ 873.0 386.7, 873.9 387.8\\nQ 874.8 389.0, 876.7 389.0\\nQ 877.9 389.0, 879.4 388.2\\nL 879.8 389.4\\nQ 879.2 389.8, 878.3 390.0\\nQ 877.4 390.3, 876.4 390.3\\nQ 874.0 390.3, 872.7 388.8\\nQ 871.3 387.2, 871.3 384.4\\n' fill='#000000'/>\\n<path  d='M 880.9 384.4\\nQ 880.9 381.7, 882.2 380.2\\nQ 883.6 378.7, 886.1 378.7\\nQ 888.6 378.7, 889.9 380.2\\nQ 891.3 381.7, 891.3 384.4\\nQ 891.3 387.2, 889.9 388.7\\nQ 888.6 390.3, 886.1 390.3\\nQ 883.6 390.3, 882.2 388.7\\nQ 880.9 387.2, 880.9 384.4\\nM 886.1 389.0\\nQ 887.8 389.0, 888.7 387.9\\nQ 889.7 386.7, 889.7 384.4\\nQ 889.7 382.2, 888.7 381.1\\nQ 887.8 379.9, 886.1 379.9\\nQ 884.3 379.9, 883.4 381.1\\nQ 882.5 382.2, 882.5 384.4\\nQ 882.5 386.7, 883.4 387.9\\nQ 884.3 389.0, 886.1 389.0\\n' fill='#000000'/>\\n<path  d='M 895.2 385.6\\nQ 895.2 387.9, 894.5 389.8\\nQ 893.9 391.6, 892.6 393.7\\nL 891.7 393.1\\nQ 892.7 391.1, 893.2 389.4\\nQ 893.8 387.7, 893.8 385.6\\nQ 893.8 383.4, 893.2 381.6\\nQ 892.7 379.9, 891.7 378.0\\nL 892.6 377.4\\nQ 893.9 379.5, 894.5 381.4\\nQ 895.2 383.2, 895.2 385.6\\n' fill='#000000'/>\\n<path  d='M 898.3 378.8\\nL 902.0 384.8\\nQ 902.4 385.4, 903.0 386.4\\nQ 903.6 387.5, 903.6 387.6\\nL 903.6 378.8\\nL 905.1 378.8\\nL 905.1 390.1\\nL 903.6 390.1\\nL 899.6 383.6\\nQ 899.1 382.8, 898.6 381.9\\nQ 898.1 381.0, 898.0 380.8\\nL 898.0 390.1\\nL 896.5 390.1\\nL 896.5 378.8\\nL 898.3 378.8\\n' fill='#000000'/>\\n<path  d='M 905.9 384.4\\nQ 905.9 381.6, 907.2 380.1\\nQ 908.6 378.7, 911.1 378.7\\nQ 913.4 378.7, 914.7 380.3\\nL 913.6 381.2\\nQ 912.7 380.0, 911.1 380.0\\nQ 909.4 380.0, 908.4 381.1\\nQ 907.5 382.3, 907.5 384.4\\nQ 907.5 386.7, 908.5 387.8\\nQ 909.4 389.0, 911.2 389.0\\nQ 912.5 389.0, 913.9 388.2\\nL 914.4 389.4\\nQ 913.8 389.8, 912.9 390.0\\nQ 912.0 390.3, 911.0 390.3\\nQ 908.6 390.3, 907.2 388.8\\nQ 905.9 387.2, 905.9 384.4\\n' fill='#000000'/>\\n<path  d='M 915.5 384.4\\nQ 915.5 381.6, 916.8 380.1\\nQ 918.1 378.7, 920.6 378.7\\nQ 922.9 378.7, 924.2 380.3\\nL 923.1 381.2\\nQ 922.2 380.0, 920.6 380.0\\nQ 918.9 380.0, 918.0 381.1\\nQ 917.1 382.3, 917.1 384.4\\nQ 917.1 386.7, 918.0 387.8\\nQ 919.0 389.0, 920.8 389.0\\nQ 922.0 389.0, 923.5 388.2\\nL 923.9 389.4\\nQ 923.3 389.8, 922.4 390.0\\nQ 921.5 390.3, 920.6 390.3\\nQ 918.1 390.3, 916.8 388.8\\nQ 915.5 387.2, 915.5 384.4\\n' fill='#000000'/>\\n<path  d='M 925.0 384.4\\nQ 925.0 381.7, 926.3 380.2\\nQ 927.7 378.7, 930.2 378.7\\nQ 932.7 378.7, 934.0 380.2\\nQ 935.4 381.7, 935.4 384.4\\nQ 935.4 387.2, 934.0 388.7\\nQ 932.7 390.3, 930.2 390.3\\nQ 927.7 390.3, 926.3 388.7\\nQ 925.0 387.2, 925.0 384.4\\nM 930.2 389.0\\nQ 931.9 389.0, 932.8 387.9\\nQ 933.8 386.7, 933.8 384.4\\nQ 933.8 382.2, 932.8 381.1\\nQ 931.9 379.9, 930.2 379.9\\nQ 928.5 379.9, 927.5 381.1\\nQ 926.6 382.2, 926.6 384.4\\nQ 926.6 386.7, 927.5 387.9\\nQ 928.5 389.0, 930.2 389.0\\n' fill='#000000'/>\\n<path class='bond-0 atom-0 atom-1' d='M 157.8,475.0 L 134.7,490.1' style='fill:none;fill-rule:evenodd;stroke:#000000;stroke-width:2.0px;stroke-linecap:butt;stroke-linejoin:miter;stroke-opacity:1' />\\n<path class='bond-1 atom-1 atom-2' d='M 134.7,490.1 L 110.0,477.7' style='fill:none;fill-rule:evenodd;stroke:#000000;stroke-width:2.0px;stroke-linecap:butt;stroke-linejoin:miter;stroke-opacity:1' />\\n<path class='bond-2 atom-2 atom-3' d='M 110.0,477.7 L 86.9,492.9' style='fill:none;fill-rule:evenodd;stroke:#000000;stroke-width:2.0px;stroke-linecap:butt;stroke-linejoin:miter;stroke-opacity:1' />\\n<path class='bond-3 atom-3 atom-4' d='M 86.9,492.9 L 76.2,487.5' style='fill:none;fill-rule:evenodd;stroke:#000000;stroke-width:2.0px;stroke-linecap:butt;stroke-linejoin:miter;stroke-opacity:1' />\\n<path class='bond-3 atom-3 atom-4' d='M 76.2,487.5 L 65.4,482.1' style='fill:none;fill-rule:evenodd;stroke:#FF7F00;stroke-width:2.0px;stroke-linecap:butt;stroke-linejoin:miter;stroke-opacity:1' />\\n<path class='bond-4 atom-4 atom-5' d='M 59.0,482.5 L 49.1,489.1' style='fill:none;fill-rule:evenodd;stroke:#FF7F00;stroke-width:2.0px;stroke-linecap:butt;stroke-linejoin:miter;stroke-opacity:1' />\\n<path class='bond-4 atom-4 atom-5' d='M 49.1,489.1 L 39.1,495.6' style='fill:none;fill-rule:evenodd;stroke:#000000;stroke-width:2.0px;stroke-linecap:butt;stroke-linejoin:miter;stroke-opacity:1' />\\n<path class='bond-5 atom-4 atom-6' d='M 61.9,475.8 L 60.9,457.3' style='fill:none;fill-rule:evenodd;stroke:#FF7F00;stroke-width:2.0px;stroke-linecap:butt;stroke-linejoin:miter;stroke-opacity:1' />\\n<path  class='atom-4' d='M 62.0 476.5\\nQ 63.4 476.5, 64.0 477.1\\nQ 64.7 477.7, 64.7 478.8\\nQ 64.7 479.9, 64.0 480.5\\nQ 63.3 481.1, 62.0 481.1\\nL 60.8 481.1\\nL 60.8 484.4\\nL 59.7 484.4\\nL 59.7 476.5\\nL 62.0 476.5\\nM 62.0 480.3\\nQ 62.8 480.3, 63.2 479.9\\nQ 63.6 479.5, 63.6 478.8\\nQ 63.6 478.1, 63.2 477.8\\nQ 62.8 477.4, 62.0 477.4\\nL 60.8 477.4\\nL 60.8 480.3\\nL 62.0 480.3\\n' fill='#FF7F00'/>\\n<path  class='atom-6' d='M 60.4 448.9\\nQ 61.8 448.9, 62.4 449.5\\nQ 63.1 450.1, 63.1 451.2\\nQ 63.1 452.3, 62.4 452.9\\nQ 61.7 453.5, 60.4 453.5\\nL 59.2 453.5\\nL 59.2 456.8\\nL 58.1 456.8\\nL 58.1 448.9\\nL 60.4 448.9\\nM 60.4 452.7\\nQ 61.2 452.7, 61.6 452.3\\nQ 62.0 451.9, 62.0 451.2\\nQ 62.0 450.5, 61.6 450.2\\nQ 61.2 449.8, 60.4 449.8\\nL 59.2 449.8\\nL 59.2 452.7\\nL 60.4 452.7\\n' fill='#FF7F00'/>\\n<path  class='atom-6' d='M 64.1 448.9\\nL 65.1 448.9\\nL 65.1 452.3\\nL 69.1 452.3\\nL 69.1 448.9\\nL 70.2 448.9\\nL 70.2 456.8\\nL 69.1 456.8\\nL 69.1 453.1\\nL 65.1 453.1\\nL 65.1 456.8\\nL 64.1 456.8\\nL 64.1 448.9\\n' fill='#FF7F00'/>\\n<path  class='atom-6' d='M 70.6 456.5\\nQ 70.8 456.0, 71.2 455.7\\nQ 71.7 455.5, 72.3 455.5\\nQ 73.1 455.5, 73.5 455.9\\nQ 73.9 456.3, 73.9 457.1\\nQ 73.9 457.8, 73.4 458.5\\nQ 72.8 459.2, 71.6 460.1\\nL 74.0 460.1\\nL 74.0 460.7\\nL 70.6 460.7\\nL 70.6 460.2\\nQ 71.5 459.5, 72.1 459.0\\nQ 72.7 458.5, 72.9 458.0\\nQ 73.2 457.6, 73.2 457.1\\nQ 73.2 456.6, 73.0 456.3\\nQ 72.7 456.0, 72.3 456.0\\nQ 71.9 456.0, 71.6 456.2\\nQ 71.3 456.4, 71.1 456.7\\nL 70.6 456.5\\n' fill='#FF7F00'/>\\n<path  d='M 60.1 584.4\\nQ 60.1 581.6, 61.4 580.1\\nQ 62.7 578.7, 65.2 578.7\\nQ 67.5 578.7, 68.8 580.3\\nL 67.7 581.2\\nQ 66.8 580.0, 65.2 580.0\\nQ 63.5 580.0, 62.6 581.1\\nQ 61.7 582.3, 61.7 584.4\\nQ 61.7 586.7, 62.6 587.8\\nQ 63.6 589.0, 65.4 589.0\\nQ 66.6 589.0, 68.1 588.2\\nL 68.5 589.4\\nQ 67.9 589.8, 67.0 590.0\\nQ 66.1 590.3, 65.2 590.3\\nQ 62.7 590.3, 61.4 588.8\\nQ 60.1 587.2, 60.1 584.4\\n' fill='#000000'/>\\n<path  d='M 69.6 584.4\\nQ 69.6 581.6, 70.9 580.1\\nQ 72.2 578.7, 74.7 578.7\\nQ 77.1 578.7, 78.3 580.3\\nL 77.3 581.2\\nQ 76.4 580.0, 74.7 580.0\\nQ 73.0 580.0, 72.1 581.1\\nQ 71.2 582.3, 71.2 584.4\\nQ 71.2 586.7, 72.1 587.8\\nQ 73.1 589.0, 74.9 589.0\\nQ 76.2 589.0, 77.6 588.2\\nL 78.1 589.4\\nQ 77.5 589.8, 76.6 590.0\\nQ 75.7 590.3, 74.7 590.3\\nQ 72.2 590.3, 70.9 588.8\\nQ 69.6 587.2, 69.6 584.4\\n' fill='#000000'/>\\n<path  d='M 79.1 584.4\\nQ 79.1 581.6, 80.4 580.1\\nQ 81.8 578.7, 84.3 578.7\\nQ 86.6 578.7, 87.9 580.3\\nL 86.8 581.2\\nQ 85.9 580.0, 84.3 580.0\\nQ 82.6 580.0, 81.7 581.1\\nQ 80.8 582.3, 80.8 584.4\\nQ 80.8 586.7, 81.7 587.8\\nQ 82.6 589.0, 84.5 589.0\\nQ 85.7 589.0, 87.2 588.2\\nL 87.6 589.4\\nQ 87.0 589.8, 86.1 590.0\\nQ 85.2 590.3, 84.2 590.3\\nQ 81.8 590.3, 80.4 588.8\\nQ 79.1 587.2, 79.1 584.4\\n' fill='#000000'/>\\n<path  d='M 88.7 584.4\\nQ 88.7 581.6, 90.0 580.1\\nQ 91.3 578.7, 93.8 578.7\\nQ 96.1 578.7, 97.4 580.3\\nL 96.3 581.2\\nQ 95.4 580.0, 93.8 580.0\\nQ 92.1 580.0, 91.2 581.1\\nQ 90.3 582.3, 90.3 584.4\\nQ 90.3 586.7, 91.2 587.8\\nQ 92.2 589.0, 94.0 589.0\\nQ 95.2 589.0, 96.7 588.2\\nL 97.1 589.4\\nQ 96.5 589.8, 95.7 590.0\\nQ 94.8 590.3, 93.8 590.3\\nQ 91.3 590.3, 90.0 588.8\\nQ 88.7 587.2, 88.7 584.4\\n' fill='#000000'/>\\n<path  d='M 102.1 578.8\\nQ 104.0 578.8, 105.0 579.7\\nQ 106.0 580.5, 106.0 582.1\\nQ 106.0 583.7, 105.0 584.6\\nQ 104.0 585.5, 102.1 585.5\\nL 100.3 585.5\\nL 100.3 590.1\\nL 98.8 590.1\\nL 98.8 578.8\\nL 102.1 578.8\\nM 102.1 584.2\\nQ 103.2 584.2, 103.8 583.6\\nQ 104.4 583.1, 104.4 582.1\\nQ 104.4 581.1, 103.8 580.6\\nQ 103.2 580.1, 102.1 580.1\\nL 100.3 580.1\\nL 100.3 584.2\\nL 102.1 584.2\\n' fill='#000000'/>\\n<path  d='M 106.8 585.6\\nQ 106.8 583.2, 107.4 581.4\\nQ 108.1 579.5, 109.4 577.4\\nL 110.3 578.0\\nQ 109.3 579.9, 108.7 581.6\\nQ 108.2 583.4, 108.2 585.6\\nQ 108.2 587.7, 108.7 589.4\\nQ 109.3 591.1, 110.3 593.1\\nL 109.4 593.7\\nQ 108.1 591.6, 107.4 589.8\\nQ 106.8 587.9, 106.8 585.6\\n' fill='#000000'/>\\n<path  d='M 111.1 584.4\\nQ 111.1 581.6, 112.4 580.1\\nQ 113.7 578.7, 116.3 578.7\\nQ 118.6 578.7, 119.8 580.3\\nL 118.8 581.2\\nQ 117.9 580.0, 116.3 580.0\\nQ 114.5 580.0, 113.6 581.1\\nQ 112.7 582.3, 112.7 584.4\\nQ 112.7 586.7, 113.7 587.8\\nQ 114.6 589.0, 116.4 589.0\\nQ 117.7 589.0, 119.1 588.2\\nL 119.6 589.4\\nQ 119.0 589.8, 118.1 590.0\\nQ 117.2 590.3, 116.2 590.3\\nQ 113.7 590.3, 112.4 588.8\\nQ 111.1 587.2, 111.1 584.4\\n' fill='#000000'/>\\n<path  d='M 123.8 585.6\\nQ 123.8 587.9, 123.1 589.8\\nQ 122.4 591.6, 121.1 593.7\\nL 120.2 593.1\\nQ 121.3 591.1, 121.8 589.4\\nQ 122.3 587.7, 122.3 585.6\\nQ 122.3 583.4, 121.8 581.6\\nQ 121.3 579.9, 120.2 578.0\\nL 121.1 577.4\\nQ 122.4 579.5, 123.1 581.4\\nQ 123.8 583.2, 123.8 585.6\\n' fill='#000000'/>\\n<path  d='M 128.5 578.8\\nQ 130.4 578.8, 131.4 579.7\\nQ 132.4 580.5, 132.4 582.1\\nQ 132.4 583.7, 131.3 584.6\\nQ 130.4 585.5, 128.5 585.5\\nL 126.7 585.5\\nL 126.7 590.1\\nL 125.1 590.1\\nL 125.1 578.8\\nL 128.5 578.8\\nM 128.5 584.2\\nQ 129.6 584.2, 130.2 583.6\\nQ 130.8 583.1, 130.8 582.1\\nQ 130.8 581.1, 130.2 580.6\\nQ 129.6 580.1, 128.5 580.1\\nL 126.7 580.1\\nL 126.7 584.2\\nL 128.5 584.2\\n' fill='#000000'/>\\n<path class='bond-0 atom-0 atom-1' d='M 340.9,488.6 L 350.8,482.9' style='fill:none;fill-rule:evenodd;stroke:#000000;stroke-width:2.0px;stroke-linecap:butt;stroke-linejoin:miter;stroke-opacity:1' />\\n<path class='bond-0 atom-0 atom-1' d='M 350.8,482.9 L 360.6,477.2' style='fill:none;fill-rule:evenodd;stroke:#FF0000;stroke-width:2.0px;stroke-linecap:butt;stroke-linejoin:miter;stroke-opacity:1' />\\n<path class='bond-1 atom-0 atom-2' d='M 340.9,488.6 L 331.1,482.9' style='fill:none;fill-rule:evenodd;stroke:#000000;stroke-width:2.0px;stroke-linecap:butt;stroke-linejoin:miter;stroke-opacity:1' />\\n<path class='bond-1 atom-0 atom-2' d='M 331.1,482.9 L 321.3,477.2' style='fill:none;fill-rule:evenodd;stroke:#FF0000;stroke-width:2.0px;stroke-linecap:butt;stroke-linejoin:miter;stroke-opacity:1' />\\n<path class='bond-2 atom-2 atom-3' d='M 312.7,477.2 L 297.2,486.2' style='fill:none;fill-rule:evenodd;stroke:#FF0000;stroke-width:2.0px;stroke-linecap:butt;stroke-linejoin:miter;stroke-opacity:1' />\\n<path class='bond-3 atom-3 atom-4' d='M 288.8,486.1 L 273.3,477.1' style='fill:none;fill-rule:evenodd;stroke:#FF0000;stroke-width:2.0px;stroke-linecap:butt;stroke-linejoin:miter;stroke-opacity:1' />\\n<path class='bond-4 atom-4 atom-5' d='M 264.8,477.2 L 255.0,482.9' style='fill:none;fill-rule:evenodd;stroke:#FF0000;stroke-width:2.0px;stroke-linecap:butt;stroke-linejoin:miter;stroke-opacity:1' />\\n<path class='bond-4 atom-4 atom-5' d='M 255.0,482.9 L 245.2,488.6' style='fill:none;fill-rule:evenodd;stroke:#000000;stroke-width:2.0px;stroke-linecap:butt;stroke-linejoin:miter;stroke-opacity:1' />\\n<path class='bond-5 atom-5 atom-6' d='M 245.2,488.6 L 235.3,482.9' style='fill:none;fill-rule:evenodd;stroke:#000000;stroke-width:2.0px;stroke-linecap:butt;stroke-linejoin:miter;stroke-opacity:1' />\\n<path class='bond-5 atom-5 atom-6' d='M 235.3,482.9 L 225.5,477.2' style='fill:none;fill-rule:evenodd;stroke:#FF0000;stroke-width:2.0px;stroke-linecap:butt;stroke-linejoin:miter;stroke-opacity:1' />\\n<path  class='atom-1' d='M 361.3 474.8\\nQ 361.3 472.9, 362.2 471.8\\nQ 363.2 470.8, 364.9 470.8\\nQ 366.6 470.8, 367.6 471.8\\nQ 368.5 472.9, 368.5 474.8\\nQ 368.5 476.7, 367.5 477.7\\nQ 366.6 478.8, 364.9 478.8\\nQ 363.2 478.8, 362.2 477.7\\nQ 361.3 476.7, 361.3 474.8\\nM 364.9 477.9\\nQ 366.1 477.9, 366.7 477.1\\nQ 367.4 476.3, 367.4 474.8\\nQ 367.4 473.2, 366.7 472.4\\nQ 366.1 471.7, 364.9 471.7\\nQ 363.7 471.7, 363.0 472.4\\nQ 362.4 473.2, 362.4 474.8\\nQ 362.4 476.3, 363.0 477.1\\nQ 363.7 477.9, 364.9 477.9\\n' fill='#FF0000'/>\\n<path  class='atom-1' d='M 369.4 470.9\\nL 370.5 470.9\\nL 370.5 474.2\\nL 374.5 474.2\\nL 374.5 470.9\\nL 375.6 470.9\\nL 375.6 478.7\\nL 374.5 478.7\\nL 374.5 475.1\\nL 370.5 475.1\\nL 370.5 478.7\\nL 369.4 478.7\\nL 369.4 470.9\\n' fill='#FF0000'/>\\n<path  class='atom-2' d='M 313.4 474.8\\nQ 313.4 472.9, 314.3 471.8\\nQ 315.3 470.8, 317.0 470.8\\nQ 318.7 470.8, 319.7 471.8\\nQ 320.6 472.9, 320.6 474.8\\nQ 320.6 476.7, 319.7 477.7\\nQ 318.7 478.8, 317.0 478.8\\nQ 315.3 478.8, 314.3 477.7\\nQ 313.4 476.7, 313.4 474.8\\nM 317.0 477.9\\nQ 318.2 477.9, 318.8 477.1\\nQ 319.5 476.3, 319.5 474.8\\nQ 319.5 473.2, 318.8 472.4\\nQ 318.2 471.7, 317.0 471.7\\nQ 315.8 471.7, 315.2 472.4\\nQ 314.5 473.2, 314.5 474.8\\nQ 314.5 476.3, 315.2 477.1\\nQ 315.8 477.9, 317.0 477.9\\n' fill='#FF0000'/>\\n<path  class='atom-3' d='M 289.5 488.6\\nQ 289.5 486.7, 290.4 485.6\\nQ 291.3 484.6, 293.1 484.6\\nQ 294.8 484.6, 295.7 485.6\\nQ 296.7 486.7, 296.7 488.6\\nQ 296.7 490.5, 295.7 491.6\\nQ 294.8 492.6, 293.1 492.6\\nQ 291.3 492.6, 290.4 491.6\\nQ 289.5 490.5, 289.5 488.6\\nM 293.1 491.8\\nQ 294.3 491.8, 294.9 491.0\\nQ 295.5 490.1, 295.5 488.6\\nQ 295.5 487.0, 294.9 486.3\\nQ 294.3 485.5, 293.1 485.5\\nQ 291.9 485.5, 291.2 486.3\\nQ 290.6 487.0, 290.6 488.6\\nQ 290.6 490.2, 291.2 491.0\\nQ 291.9 491.8, 293.1 491.8\\n' fill='#FF0000'/>\\n<path  class='atom-4' d='M 265.5 474.8\\nQ 265.5 472.9, 266.4 471.8\\nQ 267.4 470.8, 269.1 470.8\\nQ 270.8 470.8, 271.8 471.8\\nQ 272.7 472.9, 272.7 474.8\\nQ 272.7 476.7, 271.8 477.7\\nQ 270.8 478.8, 269.1 478.8\\nQ 267.4 478.8, 266.4 477.7\\nQ 265.5 476.7, 265.5 474.8\\nM 269.1 477.9\\nQ 270.3 477.9, 270.9 477.1\\nQ 271.6 476.3, 271.6 474.8\\nQ 271.6 473.2, 270.9 472.4\\nQ 270.3 471.7, 269.1 471.7\\nQ 267.9 471.7, 267.3 472.4\\nQ 266.6 473.2, 266.6 474.8\\nQ 266.6 476.3, 267.3 477.1\\nQ 267.9 477.9, 269.1 477.9\\n' fill='#FF0000'/>\\n<path  class='atom-6' d='M 210.9 470.9\\nL 212.0 470.9\\nL 212.0 474.2\\nL 216.0 474.2\\nL 216.0 470.9\\nL 217.1 470.9\\nL 217.1 478.7\\nL 216.0 478.7\\nL 216.0 475.1\\nL 212.0 475.1\\nL 212.0 478.7\\nL 210.9 478.7\\nL 210.9 470.9\\n' fill='#FF0000'/>\\n<path  class='atom-6' d='M 217.6 474.8\\nQ 217.6 472.9, 218.6 471.8\\nQ 219.5 470.8, 221.2 470.8\\nQ 223.0 470.8, 223.9 471.8\\nQ 224.8 472.9, 224.8 474.8\\nQ 224.8 476.7, 223.9 477.7\\nQ 222.9 478.8, 221.2 478.8\\nQ 219.5 478.8, 218.6 477.7\\nQ 217.6 476.7, 217.6 474.8\\nM 221.2 477.9\\nQ 222.4 477.9, 223.1 477.1\\nQ 223.7 476.3, 223.7 474.8\\nQ 223.7 473.2, 223.1 472.4\\nQ 222.4 471.7, 221.2 471.7\\nQ 220.0 471.7, 219.4 472.4\\nQ 218.7 473.2, 218.7 474.8\\nQ 218.7 476.3, 219.4 477.1\\nQ 220.0 477.9, 221.2 477.9\\n' fill='#FF0000'/>\\n<path  d='M 255.0 584.4\\nQ 255.0 581.6, 256.3 580.1\\nQ 257.6 578.7, 260.1 578.7\\nQ 262.4 578.7, 263.7 580.3\\nL 262.6 581.2\\nQ 261.7 580.0, 260.1 580.0\\nQ 258.4 580.0, 257.5 581.1\\nQ 256.6 582.3, 256.6 584.4\\nQ 256.6 586.7, 257.5 587.8\\nQ 258.5 589.0, 260.3 589.0\\nQ 261.5 589.0, 263.0 588.2\\nL 263.4 589.4\\nQ 262.8 589.8, 261.9 590.0\\nQ 261.0 590.3, 260.1 590.3\\nQ 257.6 590.3, 256.3 588.8\\nQ 255.0 587.2, 255.0 584.4\\n' fill='#000000'/>\\n<path  d='M 264.5 585.6\\nQ 264.5 583.2, 265.1 581.4\\nQ 265.8 579.5, 267.1 577.4\\nL 268.0 578.0\\nQ 267.0 579.9, 266.4 581.6\\nQ 265.9 583.4, 265.9 585.6\\nQ 265.9 587.7, 266.4 589.4\\nQ 267.0 591.1, 268.0 593.1\\nL 267.1 593.7\\nQ 265.8 591.6, 265.1 589.8\\nQ 264.5 587.9, 264.5 585.6\\n' fill='#000000'/>\\n<path  d='M 268.8 584.4\\nQ 268.8 581.7, 270.2 580.2\\nQ 271.5 578.7, 274.0 578.7\\nQ 276.5 578.7, 277.9 580.2\\nQ 279.2 581.7, 279.2 584.4\\nQ 279.2 587.2, 277.8 588.7\\nQ 276.5 590.3, 274.0 590.3\\nQ 271.5 590.3, 270.2 588.7\\nQ 268.8 587.2, 268.8 584.4\\nM 274.0 589.0\\nQ 275.7 589.0, 276.7 587.9\\nQ 277.6 586.7, 277.6 584.4\\nQ 277.6 582.2, 276.7 581.1\\nQ 275.7 579.9, 274.0 579.9\\nQ 272.3 579.9, 271.3 581.1\\nQ 270.4 582.2, 270.4 584.4\\nQ 270.4 586.7, 271.3 587.9\\nQ 272.3 589.0, 274.0 589.0\\n' fill='#000000'/>\\n<path  d='M 283.1 585.6\\nQ 283.1 587.9, 282.5 589.8\\nQ 281.8 591.6, 280.5 593.7\\nL 279.6 593.1\\nQ 280.6 591.1, 281.2 589.4\\nQ 281.7 587.7, 281.7 585.6\\nQ 281.7 583.4, 281.2 581.6\\nQ 280.6 579.9, 279.6 578.0\\nL 280.5 577.4\\nQ 281.8 579.5, 282.5 581.4\\nQ 283.1 583.2, 283.1 585.6\\n' fill='#000000'/>\\n<path  d='M 283.9 584.4\\nQ 283.9 581.7, 285.3 580.2\\nQ 286.6 578.7, 289.1 578.7\\nQ 291.6 578.7, 293.0 580.2\\nQ 294.3 581.7, 294.3 584.4\\nQ 294.3 587.2, 293.0 588.7\\nQ 291.6 590.3, 289.1 590.3\\nQ 286.6 590.3, 285.3 588.7\\nQ 283.9 587.2, 283.9 584.4\\nM 289.1 589.0\\nQ 290.9 589.0, 291.8 587.9\\nQ 292.7 586.7, 292.7 584.4\\nQ 292.7 582.2, 291.8 581.1\\nQ 290.9 579.9, 289.1 579.9\\nQ 287.4 579.9, 286.5 581.1\\nQ 285.5 582.2, 285.5 584.4\\nQ 285.5 586.7, 286.5 587.9\\nQ 287.4 589.0, 289.1 589.0\\n' fill='#000000'/>\\n<path  d='M 295.1 584.4\\nQ 295.1 581.7, 296.5 580.2\\nQ 297.8 578.7, 300.3 578.7\\nQ 302.8 578.7, 304.2 580.2\\nQ 305.5 581.7, 305.5 584.4\\nQ 305.5 587.2, 304.2 588.7\\nQ 302.8 590.3, 300.3 590.3\\nQ 297.8 590.3, 296.5 588.7\\nQ 295.1 587.2, 295.1 584.4\\nM 300.3 589.0\\nQ 302.1 589.0, 303.0 587.9\\nQ 303.9 586.7, 303.9 584.4\\nQ 303.9 582.2, 303.0 581.1\\nQ 302.1 579.9, 300.3 579.9\\nQ 298.6 579.9, 297.7 581.1\\nQ 296.7 582.2, 296.7 584.4\\nQ 296.7 586.7, 297.7 587.9\\nQ 298.6 589.0, 300.3 589.0\\n' fill='#000000'/>\\n<path  d='M 306.3 584.4\\nQ 306.3 581.7, 307.7 580.2\\nQ 309.0 578.7, 311.5 578.7\\nQ 314.0 578.7, 315.4 580.2\\nQ 316.7 581.7, 316.7 584.4\\nQ 316.7 587.2, 315.4 588.7\\nQ 314.0 590.3, 311.5 590.3\\nQ 309.0 590.3, 307.7 588.7\\nQ 306.3 587.2, 306.3 584.4\\nM 311.5 589.0\\nQ 313.3 589.0, 314.2 587.9\\nQ 315.1 586.7, 315.1 584.4\\nQ 315.1 582.2, 314.2 581.1\\nQ 313.3 579.9, 311.5 579.9\\nQ 309.8 579.9, 308.9 581.1\\nQ 307.9 582.2, 307.9 584.4\\nQ 307.9 586.7, 308.9 587.9\\nQ 309.8 589.0, 311.5 589.0\\n' fill='#000000'/>\\n<path  d='M 317.5 584.4\\nQ 317.5 581.6, 318.8 580.1\\nQ 320.2 578.7, 322.7 578.7\\nQ 325.0 578.7, 326.3 580.3\\nL 325.2 581.2\\nQ 324.3 580.0, 322.7 580.0\\nQ 321.0 580.0, 320.1 581.1\\nQ 319.2 582.3, 319.2 584.4\\nQ 319.2 586.7, 320.1 587.8\\nQ 321.0 589.0, 322.9 589.0\\nQ 324.1 589.0, 325.6 588.2\\nL 326.0 589.4\\nQ 325.4 589.8, 324.5 590.0\\nQ 323.6 590.3, 322.6 590.3\\nQ 320.2 590.3, 318.8 588.8\\nQ 317.5 587.2, 317.5 584.4\\n' fill='#000000'/>\\n<path  d='M 327.1 584.4\\nQ 327.1 581.7, 328.4 580.2\\nQ 329.8 578.7, 332.3 578.7\\nQ 334.8 578.7, 336.1 580.2\\nQ 337.5 581.7, 337.5 584.4\\nQ 337.5 587.2, 336.1 588.7\\nQ 334.7 590.3, 332.3 590.3\\nQ 329.8 590.3, 328.4 588.7\\nQ 327.1 587.2, 327.1 584.4\\nM 332.3 589.0\\nQ 334.0 589.0, 334.9 587.9\\nQ 335.9 586.7, 335.9 584.4\\nQ 335.9 582.2, 334.9 581.1\\nQ 334.0 579.9, 332.3 579.9\\nQ 330.5 579.9, 329.6 581.1\\nQ 328.7 582.2, 328.7 584.4\\nQ 328.7 586.7, 329.6 587.9\\nQ 330.5 589.0, 332.3 589.0\\n' fill='#000000'/>\\n<path class='bond-0 atom-0 atom-1' d='M 536.7,490.4 L 528.8,463.9' style='fill:none;fill-rule:evenodd;stroke:#000000;stroke-width:2.0px;stroke-linecap:butt;stroke-linejoin:miter;stroke-opacity:1' />\\n<path class='bond-5 atom-2 atom-0' d='M 509.8,484.0 L 536.7,490.4' style='fill:none;fill-rule:evenodd;stroke:#000000;stroke-width:2.0px;stroke-linecap:butt;stroke-linejoin:miter;stroke-opacity:1' />\\n<path class='bond-1 atom-1 atom-2' d='M 528.8,463.9 L 509.8,484.0' style='fill:none;fill-rule:evenodd;stroke:#000000;stroke-width:2.0px;stroke-linecap:butt;stroke-linejoin:miter;stroke-opacity:1' />\\n<path class='bond-2 atom-2 atom-3' d='M 509.8,484.0 L 483.3,491.9' style='fill:none;fill-rule:evenodd;stroke:#000000;stroke-width:2.0px;stroke-linecap:butt;stroke-linejoin:miter;stroke-opacity:1' />\\n<path class='bond-3 atom-3 atom-4' d='M 483.3,491.9 L 463.2,472.9' style='fill:none;fill-rule:evenodd;stroke:#000000;stroke-width:2.0px;stroke-linecap:butt;stroke-linejoin:miter;stroke-opacity:1' />\\n<path class='bond-4 atom-4 atom-5' d='M 463.2,472.9 L 451.5,476.4' style='fill:none;fill-rule:evenodd;stroke:#000000;stroke-width:2.0px;stroke-linecap:butt;stroke-linejoin:miter;stroke-opacity:1' />\\n<path class='bond-4 atom-4 atom-5' d='M 451.5,476.4 L 439.9,479.8' style='fill:none;fill-rule:evenodd;stroke:#FF7F00;stroke-width:2.0px;stroke-linecap:butt;stroke-linejoin:miter;stroke-opacity:1' />\\n<path  class='atom-5' d='M 423.3 476.9\\nL 424.3 476.9\\nL 424.3 480.2\\nL 428.3 480.2\\nL 428.3 476.9\\nL 429.4 476.9\\nL 429.4 484.7\\nL 428.3 484.7\\nL 428.3 481.1\\nL 424.3 481.1\\nL 424.3 484.7\\nL 423.3 484.7\\nL 423.3 476.9\\n' fill='#FF7F00'/>\\n<path  class='atom-5' d='M 429.8 484.4\\nQ 430.0 483.9, 430.4 483.7\\nQ 430.9 483.4, 431.5 483.4\\nQ 432.3 483.4, 432.7 483.8\\nQ 433.2 484.2, 433.2 485.0\\nQ 433.2 485.7, 432.6 486.5\\nQ 432.0 487.2, 430.9 488.0\\nL 433.2 488.0\\nL 433.2 488.6\\nL 429.8 488.6\\nL 429.8 488.1\\nQ 430.7 487.4, 431.3 486.9\\nQ 431.9 486.4, 432.2 485.9\\nQ 432.4 485.5, 432.4 485.0\\nQ 432.4 484.5, 432.2 484.2\\nQ 431.9 484.0, 431.5 484.0\\nQ 431.1 484.0, 430.8 484.1\\nQ 430.5 484.3, 430.3 484.7\\nL 429.8 484.4\\n' fill='#FF7F00'/>\\n<path  class='atom-5' d='M 436.5 476.9\\nQ 437.8 476.9, 438.5 477.5\\nQ 439.2 478.1, 439.2 479.2\\nQ 439.2 480.2, 438.5 480.9\\nQ 437.8 481.5, 436.5 481.5\\nL 435.2 481.5\\nL 435.2 484.7\\nL 434.2 484.7\\nL 434.2 476.9\\nL 436.5 476.9\\nM 436.5 480.6\\nQ 437.3 480.6, 437.7 480.2\\nQ 438.1 479.9, 438.1 479.2\\nQ 438.1 478.5, 437.7 478.1\\nQ 437.3 477.7, 436.5 477.7\\nL 435.2 477.7\\nL 435.2 480.6\\nL 436.5 480.6\\n' fill='#FF7F00'/>\\n<path  d='M 460.3 588.4\\nQ 460.3 585.6, 461.7 584.2\\nQ 463.0 582.7, 465.5 582.7\\nQ 467.8 582.7, 469.1 584.3\\nL 468.0 585.2\\nQ 467.1 584.0, 465.5 584.0\\nQ 463.8 584.0, 462.9 585.1\\nQ 462.0 586.3, 462.0 588.4\\nQ 462.0 590.7, 462.9 591.8\\nQ 463.9 593.0, 465.7 593.0\\nQ 466.9 593.0, 468.4 592.2\\nL 468.8 593.4\\nQ 468.2 593.8, 467.3 594.0\\nQ 466.4 594.3, 465.5 594.3\\nQ 463.0 594.3, 461.7 592.8\\nQ 460.3 591.3, 460.3 588.4\\n' fill='#000000'/>\\n<path  d='M 470.6 592.8\\nL 473.1 592.8\\nL 473.1 584.4\\nL 470.3 585.2\\nL 469.9 584.3\\nL 473.4 582.7\\nL 474.6 582.9\\nL 474.6 592.8\\nL 476.8 592.8\\nL 476.8 594.1\\nL 470.6 594.1\\nL 470.6 592.8\\n' fill='#000000'/>\\n<path  d='M 477.6 588.4\\nQ 477.6 585.6, 478.9 584.2\\nQ 480.2 582.7, 482.7 582.7\\nQ 485.1 582.7, 486.3 584.3\\nL 485.3 585.2\\nQ 484.3 584.0, 482.7 584.0\\nQ 481.0 584.0, 480.1 585.1\\nQ 479.2 586.3, 479.2 588.4\\nQ 479.2 590.7, 480.1 591.8\\nQ 481.1 593.0, 482.9 593.0\\nQ 484.2 593.0, 485.6 592.2\\nL 486.1 593.4\\nQ 485.5 593.8, 484.6 594.0\\nQ 483.7 594.3, 482.7 594.3\\nQ 480.2 594.3, 478.9 592.8\\nQ 477.6 591.3, 477.6 588.4\\n' fill='#000000'/>\\n<path  d='M 487.1 588.4\\nQ 487.1 585.6, 488.4 584.2\\nQ 489.8 582.7, 492.3 582.7\\nQ 494.6 582.7, 495.9 584.3\\nL 494.8 585.2\\nQ 493.9 584.0, 492.3 584.0\\nQ 490.6 584.0, 489.6 585.1\\nQ 488.8 586.3, 488.8 588.4\\nQ 488.8 590.7, 489.7 591.8\\nQ 490.6 593.0, 492.4 593.0\\nQ 493.7 593.0, 495.1 592.2\\nL 495.6 593.4\\nQ 495.0 593.8, 494.1 594.0\\nQ 493.2 594.3, 492.2 594.3\\nQ 489.8 594.3, 488.4 592.8\\nQ 487.1 591.3, 487.1 588.4\\n' fill='#000000'/>\\n<path  d='M 497.3 592.8\\nL 499.8 592.8\\nL 499.8 584.4\\nL 497.1 585.2\\nL 496.7 584.3\\nL 500.2 582.7\\nL 501.3 582.9\\nL 501.3 592.8\\nL 503.6 592.8\\nL 503.6 594.1\\nL 497.3 594.1\\nL 497.3 592.8\\n' fill='#000000'/>\\n<path  d='M 504.3 588.4\\nQ 504.3 585.6, 505.7 584.2\\nQ 507.0 582.7, 509.5 582.7\\nQ 511.8 582.7, 513.1 584.3\\nL 512.0 585.2\\nQ 511.1 584.0, 509.5 584.0\\nQ 507.8 584.0, 506.9 585.1\\nQ 506.0 586.3, 506.0 588.4\\nQ 506.0 590.7, 506.9 591.8\\nQ 507.9 593.0, 509.7 593.0\\nQ 510.9 593.0, 512.4 592.2\\nL 512.8 593.4\\nQ 512.2 593.8, 511.3 594.0\\nQ 510.4 594.3, 509.5 594.3\\nQ 507.0 594.3, 505.7 592.8\\nQ 504.3 591.3, 504.3 588.4\\n' fill='#000000'/>\\n<path  d='M 513.9 588.4\\nQ 513.9 585.6, 515.2 584.2\\nQ 516.5 582.7, 519.0 582.7\\nQ 521.4 582.7, 522.6 584.3\\nL 521.6 585.2\\nQ 520.7 584.0, 519.0 584.0\\nQ 517.3 584.0, 516.4 585.1\\nQ 515.5 586.3, 515.5 588.4\\nQ 515.5 590.7, 516.4 591.8\\nQ 517.4 593.0, 519.2 593.0\\nQ 520.5 593.0, 521.9 592.2\\nL 522.4 593.4\\nQ 521.8 593.8, 520.9 594.0\\nQ 520.0 594.3, 519.0 594.3\\nQ 516.5 594.3, 515.2 592.8\\nQ 513.9 591.3, 513.9 588.4\\n' fill='#000000'/>\\n<path  d='M 527.3 582.8\\nQ 529.3 582.8, 530.2 583.7\\nQ 531.2 584.5, 531.2 586.1\\nQ 531.2 587.7, 530.2 588.6\\nQ 529.2 589.5, 527.3 589.5\\nL 525.5 589.5\\nL 525.5 594.1\\nL 524.0 594.1\\nL 524.0 582.8\\nL 527.3 582.8\\nM 527.3 588.2\\nQ 528.4 588.2, 529.0 587.7\\nQ 529.6 587.1, 529.6 586.1\\nQ 529.6 585.1, 529.0 584.6\\nQ 528.4 584.1, 527.3 584.1\\nL 525.5 584.1\\nL 525.5 588.2\\nL 527.3 588.2\\n' fill='#000000'/>\\n<path class='bond-0 atom-0 atom-1' d='M 757.8,475.0 L 748.4,481.1' style='fill:none;fill-rule:evenodd;stroke:#000000;stroke-width:2.0px;stroke-linecap:butt;stroke-linejoin:miter;stroke-opacity:1' />\\n<path class='bond-0 atom-0 atom-1' d='M 748.4,481.1 L 739.0,487.3' style='fill:none;fill-rule:evenodd;stroke:#FF0000;stroke-width:2.0px;stroke-linecap:butt;stroke-linejoin:miter;stroke-opacity:1' />\\n<path class='bond-1 atom-1 atom-2' d='M 730.4,488.0 L 720.2,482.8' style='fill:none;fill-rule:evenodd;stroke:#FF0000;stroke-width:2.0px;stroke-linecap:butt;stroke-linejoin:miter;stroke-opacity:1' />\\n<path class='bond-1 atom-1 atom-2' d='M 720.2,482.8 L 710.0,477.7' style='fill:none;fill-rule:evenodd;stroke:#000000;stroke-width:2.0px;stroke-linecap:butt;stroke-linejoin:miter;stroke-opacity:1' />\\n<path class='bond-2 atom-2 atom-3' d='M 710.0,477.7 L 686.9,492.9' style='fill:none;fill-rule:evenodd;stroke:#000000;stroke-width:2.0px;stroke-linecap:butt;stroke-linejoin:miter;stroke-opacity:1' />\\n<path class='bond-3 atom-3 atom-4' d='M 686.9,492.9 L 662.2,480.5' style='fill:none;fill-rule:evenodd;stroke:#000000;stroke-width:2.0px;stroke-linecap:butt;stroke-linejoin:miter;stroke-opacity:1' />\\n<path class='bond-4 atom-4 atom-5' d='M 662.2,480.5 L 651.3,487.6' style='fill:none;fill-rule:evenodd;stroke:#000000;stroke-width:2.0px;stroke-linecap:butt;stroke-linejoin:miter;stroke-opacity:1' />\\n<path class='bond-4 atom-4 atom-5' d='M 651.3,487.6 L 640.3,494.8' style='fill:none;fill-rule:evenodd;stroke:#00CC00;stroke-width:2.0px;stroke-linecap:butt;stroke-linejoin:miter;stroke-opacity:1' />\\n<path class='bond-5 atom-4 atom-6' d='M 662.2,480.5 L 661.6,469.1' style='fill:none;fill-rule:evenodd;stroke:#000000;stroke-width:2.0px;stroke-linecap:butt;stroke-linejoin:miter;stroke-opacity:1' />\\n<path class='bond-5 atom-4 atom-6' d='M 661.6,469.1 L 660.9,457.8' style='fill:none;fill-rule:evenodd;stroke:#00CC00;stroke-width:2.0px;stroke-linecap:butt;stroke-linejoin:miter;stroke-opacity:1' />\\n<path  class='atom-1' d='M 731.1 490.1\\nQ 731.1 488.3, 732.1 487.2\\nQ 733.0 486.2, 734.7 486.2\\nQ 736.5 486.2, 737.4 487.2\\nQ 738.3 488.3, 738.3 490.1\\nQ 738.3 492.1, 737.4 493.1\\nQ 736.4 494.2, 734.7 494.2\\nQ 733.0 494.2, 732.1 493.1\\nQ 731.1 492.1, 731.1 490.1\\nM 734.7 493.3\\nQ 735.9 493.3, 736.6 492.5\\nQ 737.2 491.7, 737.2 490.1\\nQ 737.2 488.6, 736.6 487.8\\nQ 735.9 487.1, 734.7 487.1\\nQ 733.5 487.1, 732.9 487.8\\nQ 732.2 488.6, 732.2 490.1\\nQ 732.2 491.7, 732.9 492.5\\nQ 733.5 493.3, 734.7 493.3\\n' fill='#FF0000'/>\\n<path  class='atom-5' d='M 631.6 495.9\\nQ 631.6 494.0, 632.5 492.9\\nQ 633.4 491.9, 635.2 491.9\\nQ 636.8 491.9, 637.6 493.0\\nL 636.9 493.6\\nQ 636.3 492.8, 635.2 492.8\\nQ 634.0 492.8, 633.3 493.6\\nQ 632.7 494.4, 632.7 495.9\\nQ 632.7 497.4, 633.4 498.2\\nQ 634.0 499.0, 635.3 499.0\\nQ 636.1 499.0, 637.2 498.5\\nL 637.5 499.4\\nQ 637.1 499.6, 636.4 499.8\\nQ 635.8 499.9, 635.1 499.9\\nQ 633.4 499.9, 632.5 498.9\\nQ 631.6 497.8, 631.6 495.9\\n' fill='#00CC00'/>\\n<path  class='atom-5' d='M 638.6 491.4\\nL 639.6 491.4\\nL 639.6 499.8\\nL 638.6 499.8\\nL 638.6 491.4\\n' fill='#00CC00'/>\\n<path  class='atom-6' d='M 657.6 453.1\\nQ 657.6 451.2, 658.5 450.2\\nQ 659.4 449.1, 661.2 449.1\\nQ 662.8 449.1, 663.6 450.3\\nL 662.9 450.9\\nQ 662.3 450.0, 661.2 450.0\\nQ 660.0 450.0, 659.3 450.8\\nQ 658.7 451.6, 658.7 453.1\\nQ 658.7 454.7, 659.4 455.5\\nQ 660.0 456.3, 661.3 456.3\\nQ 662.1 456.3, 663.2 455.7\\nL 663.5 456.6\\nQ 663.1 456.8, 662.4 457.0\\nQ 661.8 457.1, 661.1 457.1\\nQ 659.4 457.1, 658.5 456.1\\nQ 657.6 455.1, 657.6 453.1\\n' fill='#00CC00'/>\\n<path  class='atom-6' d='M 664.6 448.7\\nL 665.6 448.7\\nL 665.6 457.0\\nL 664.6 457.0\\nL 664.6 448.7\\n' fill='#00CC00'/>\\n<path  d='M 654.3 584.4\\nQ 654.3 581.6, 655.6 580.1\\nQ 657.0 578.7, 659.5 578.7\\nQ 661.8 578.7, 663.1 580.3\\nL 662.0 581.2\\nQ 661.1 580.0, 659.5 580.0\\nQ 657.8 580.0, 656.8 581.1\\nQ 656.0 582.3, 656.0 584.4\\nQ 656.0 586.7, 656.9 587.8\\nQ 657.8 589.0, 659.6 589.0\\nQ 660.9 589.0, 662.4 588.2\\nL 662.8 589.4\\nQ 662.2 589.8, 661.3 590.0\\nQ 660.4 590.3, 659.4 590.3\\nQ 657.0 590.3, 655.6 588.8\\nQ 654.3 587.2, 654.3 584.4\\n' fill='#000000'/>\\n<path  d='M 663.9 584.4\\nQ 663.9 581.7, 665.2 580.2\\nQ 666.5 578.7, 669.1 578.7\\nQ 671.6 578.7, 672.9 580.2\\nQ 674.3 581.7, 674.3 584.4\\nQ 674.3 587.2, 672.9 588.7\\nQ 671.5 590.3, 669.1 590.3\\nQ 666.6 590.3, 665.2 588.7\\nQ 663.9 587.2, 663.9 584.4\\nM 669.1 589.0\\nQ 670.8 589.0, 671.7 587.9\\nQ 672.7 586.7, 672.7 584.4\\nQ 672.7 582.2, 671.7 581.1\\nQ 670.8 579.9, 669.1 579.9\\nQ 667.3 579.9, 666.4 581.1\\nQ 665.5 582.2, 665.5 584.4\\nQ 665.5 586.7, 666.4 587.9\\nQ 667.3 589.0, 669.1 589.0\\n' fill='#000000'/>\\n<path  d='M 675.1 584.4\\nQ 675.1 581.6, 676.4 580.1\\nQ 677.7 578.7, 680.2 578.7\\nQ 682.5 578.7, 683.8 580.3\\nL 682.7 581.2\\nQ 681.8 580.0, 680.2 580.0\\nQ 678.5 580.0, 677.6 581.1\\nQ 676.7 582.3, 676.7 584.4\\nQ 676.7 586.7, 677.6 587.8\\nQ 678.6 589.0, 680.4 589.0\\nQ 681.6 589.0, 683.1 588.2\\nL 683.5 589.4\\nQ 682.9 589.8, 682.0 590.0\\nQ 681.2 590.3, 680.2 590.3\\nQ 677.7 590.3, 676.4 588.8\\nQ 675.1 587.2, 675.1 584.4\\n' fill='#000000'/>\\n<path  d='M 684.6 584.4\\nQ 684.6 581.6, 685.9 580.1\\nQ 687.2 578.7, 689.7 578.7\\nQ 692.1 578.7, 693.3 580.3\\nL 692.3 581.2\\nQ 691.4 580.0, 689.7 580.0\\nQ 688.0 580.0, 687.1 581.1\\nQ 686.2 582.3, 686.2 584.4\\nQ 686.2 586.7, 687.2 587.8\\nQ 688.1 589.0, 689.9 589.0\\nQ 691.2 589.0, 692.6 588.2\\nL 693.1 589.4\\nQ 692.5 589.8, 691.6 590.0\\nQ 690.7 590.3, 689.7 590.3\\nQ 687.2 590.3, 685.9 588.8\\nQ 684.6 587.2, 684.6 584.4\\n' fill='#000000'/>\\n<path  d='M 694.1 584.4\\nQ 694.1 581.6, 695.4 580.1\\nQ 696.8 578.7, 699.3 578.7\\nQ 701.6 578.7, 702.9 580.3\\nL 701.8 581.2\\nQ 700.9 580.0, 699.3 580.0\\nQ 697.6 580.0, 696.7 581.1\\nQ 695.8 582.3, 695.8 584.4\\nQ 695.8 586.7, 696.7 587.8\\nQ 697.6 589.0, 699.5 589.0\\nQ 700.7 589.0, 702.2 588.2\\nL 702.6 589.4\\nQ 702.0 589.8, 701.1 590.0\\nQ 700.2 590.3, 699.2 590.3\\nQ 696.8 590.3, 695.4 588.8\\nQ 694.1 587.2, 694.1 584.4\\n' fill='#000000'/>\\n<path  d='M 703.7 585.6\\nQ 703.7 583.2, 704.3 581.4\\nQ 705.0 579.5, 706.3 577.4\\nL 707.2 578.0\\nQ 706.1 579.9, 705.6 581.6\\nQ 705.1 583.4, 705.1 585.6\\nQ 705.1 587.7, 705.6 589.4\\nQ 706.1 591.1, 707.2 593.1\\nL 706.3 593.7\\nQ 705.0 591.6, 704.3 589.8\\nQ 703.7 587.9, 703.7 585.6\\n' fill='#000000'/>\\n<path  d='M 708.0 584.4\\nQ 708.0 581.6, 709.3 580.1\\nQ 710.6 578.7, 713.1 578.7\\nQ 715.5 578.7, 716.7 580.3\\nL 715.7 581.2\\nQ 714.8 580.0, 713.1 580.0\\nQ 711.4 580.0, 710.5 581.1\\nQ 709.6 582.3, 709.6 584.4\\nQ 709.6 586.7, 710.5 587.8\\nQ 711.5 589.0, 713.3 589.0\\nQ 714.6 589.0, 716.0 588.2\\nL 716.5 589.4\\nQ 715.9 589.8, 715.0 590.0\\nQ 714.1 590.3, 713.1 590.3\\nQ 710.6 590.3, 709.3 588.8\\nQ 708.0 587.2, 708.0 584.4\\n' fill='#000000'/>\\n<path  d='M 718.1 578.0\\nL 719.6 578.0\\nL 719.6 590.1\\nL 718.1 590.1\\nL 718.1 578.0\\n' fill='#000000'/>\\n<path  d='M 723.5 585.6\\nQ 723.5 587.9, 722.8 589.8\\nQ 722.2 591.6, 720.9 593.7\\nL 720.0 593.1\\nQ 721.0 591.1, 721.5 589.4\\nQ 722.0 587.7, 722.0 585.6\\nQ 722.0 583.4, 721.5 581.6\\nQ 721.0 579.9, 720.0 578.0\\nL 720.9 577.4\\nQ 722.2 579.5, 722.8 581.4\\nQ 723.5 583.2, 723.5 585.6\\n' fill='#000000'/>\\n<path  d='M 724.3 584.4\\nQ 724.3 581.6, 725.6 580.1\\nQ 726.9 578.7, 729.4 578.7\\nQ 731.8 578.7, 733.0 580.3\\nL 732.0 581.2\\nQ 731.1 580.0, 729.4 580.0\\nQ 727.7 580.0, 726.8 581.1\\nQ 725.9 582.3, 725.9 584.4\\nQ 725.9 586.7, 726.8 587.8\\nQ 727.8 589.0, 729.6 589.0\\nQ 730.9 589.0, 732.3 588.2\\nL 732.8 589.4\\nQ 732.2 589.8, 731.3 590.0\\nQ 730.4 590.3, 729.4 590.3\\nQ 726.9 590.3, 725.6 588.8\\nQ 724.3 587.2, 724.3 584.4\\n' fill='#000000'/>\\n<path  d='M 734.4 578.0\\nL 735.9 578.0\\nL 735.9 590.1\\nL 734.4 590.1\\nL 734.4 578.0\\n' fill='#000000'/>\\n<path class='bond-0 atom-0 atom-1' d='M 867.2,508.0 L 885.9,494.5' style='fill:none;fill-rule:evenodd;stroke:#000000;stroke-width:2.0px;stroke-linecap:butt;stroke-linejoin:miter;stroke-opacity:1' />\\n<path class='bond-1 atom-1 atom-2' d='M 885.9,494.5 L 912.2,503.0' style='fill:none;fill-rule:evenodd;stroke:#000000;stroke-width:2.0px;stroke-linecap:butt;stroke-linejoin:miter;stroke-opacity:1' />\\n<path class='bond-1 atom-1 atom-2' d='M 891.5,490.5 L 909.9,496.5' style='fill:none;fill-rule:evenodd;stroke:#000000;stroke-width:2.0px;stroke-linecap:butt;stroke-linejoin:miter;stroke-opacity:1' />\\n<path class='bond-6 atom-5 atom-1' d='M 885.9,466.8 L 885.9,494.5' style='fill:none;fill-rule:evenodd;stroke:#000000;stroke-width:2.0px;stroke-linecap:butt;stroke-linejoin:miter;stroke-opacity:1' />\\n<path class='bond-2 atom-2 atom-3' d='M 912.2,503.0 L 918.7,494.0' style='fill:none;fill-rule:evenodd;stroke:#000000;stroke-width:2.0px;stroke-linecap:butt;stroke-linejoin:miter;stroke-opacity:1' />\\n<path class='bond-2 atom-2 atom-3' d='M 918.7,494.0 L 925.2,485.1' style='fill:none;fill-rule:evenodd;stroke:#CCCC00;stroke-width:2.0px;stroke-linecap:butt;stroke-linejoin:miter;stroke-opacity:1' />\\n<path class='bond-3 atom-3 atom-4' d='M 925.2,476.2 L 918.7,467.3' style='fill:none;fill-rule:evenodd;stroke:#CCCC00;stroke-width:2.0px;stroke-linecap:butt;stroke-linejoin:miter;stroke-opacity:1' />\\n<path class='bond-3 atom-3 atom-4' d='M 918.7,467.3 L 912.2,458.3' style='fill:none;fill-rule:evenodd;stroke:#000000;stroke-width:2.0px;stroke-linecap:butt;stroke-linejoin:miter;stroke-opacity:1' />\\n<path class='bond-4 atom-4 atom-5' d='M 912.2,458.3 L 885.9,466.8' style='fill:none;fill-rule:evenodd;stroke:#000000;stroke-width:2.0px;stroke-linecap:butt;stroke-linejoin:miter;stroke-opacity:1' />\\n<path class='bond-4 atom-4 atom-5' d='M 909.9,464.8 L 891.5,470.8' style='fill:none;fill-rule:evenodd;stroke:#000000;stroke-width:2.0px;stroke-linecap:butt;stroke-linejoin:miter;stroke-opacity:1' />\\n<path class='bond-5 atom-5 atom-6' d='M 885.9,466.8 L 867.2,453.3' style='fill:none;fill-rule:evenodd;stroke:#000000;stroke-width:2.0px;stroke-linecap:butt;stroke-linejoin:miter;stroke-opacity:1' />\\n<path  class='atom-0' d='M 856.0 506.5\\nQ 856.2 506.1, 856.7 505.8\\nQ 857.1 505.5, 857.7 505.5\\nQ 858.5 505.5, 859.0 505.9\\nQ 859.4 506.4, 859.4 507.1\\nQ 859.4 507.9, 858.8 508.6\\nQ 858.3 509.3, 857.1 510.1\\nL 859.5 510.1\\nL 859.5 510.7\\nL 856.0 510.7\\nL 856.0 510.2\\nQ 857.0 509.6, 857.5 509.0\\nQ 858.1 508.5, 858.4 508.1\\nQ 858.7 507.6, 858.7 507.1\\nQ 858.7 506.6, 858.4 506.4\\nQ 858.2 506.1, 857.7 506.1\\nQ 857.3 506.1, 857.0 506.3\\nQ 856.8 506.4, 856.6 506.8\\nL 856.0 506.5\\n' fill='#000000'/>\\n<path  class='atom-0' d='M 860.4 506.8\\nL 861.5 506.8\\nL 861.5 510.1\\nL 865.5 510.1\\nL 865.5 506.8\\nL 866.6 506.8\\nL 866.6 514.6\\nL 865.5 514.6\\nL 865.5 511.0\\nL 861.5 511.0\\nL 861.5 514.6\\nL 860.4 514.6\\nL 860.4 506.8\\n' fill='#000000'/>\\n<path  class='atom-3' d='M 926.2 483.3\\nQ 926.3 483.4, 926.6 483.5\\nQ 927.0 483.7, 927.4 483.8\\nQ 927.8 483.9, 928.2 483.9\\nQ 929.0 483.9, 929.4 483.5\\nQ 929.8 483.2, 929.8 482.5\\nQ 929.8 482.1, 929.6 481.8\\nQ 929.4 481.6, 929.1 481.4\\nQ 928.7 481.3, 928.2 481.1\\nQ 927.5 480.9, 927.1 480.7\\nQ 926.6 480.5, 926.3 480.1\\nQ 926.1 479.7, 926.1 479.0\\nQ 926.1 478.0, 926.7 477.4\\nQ 927.4 476.8, 928.7 476.8\\nQ 929.6 476.8, 930.7 477.2\\nL 930.4 478.0\\nQ 929.5 477.6, 928.8 477.6\\nQ 928.0 477.6, 927.6 478.0\\nQ 927.2 478.3, 927.2 478.8\\nQ 927.2 479.2, 927.4 479.5\\nQ 927.6 479.7, 927.9 479.9\\nQ 928.2 480.0, 928.8 480.2\\nQ 929.5 480.4, 929.9 480.6\\nQ 930.3 480.9, 930.6 481.3\\nQ 930.9 481.8, 930.9 482.5\\nQ 930.9 483.6, 930.2 484.2\\nQ 929.5 484.8, 928.3 484.8\\nQ 927.6 484.8, 927.0 484.6\\nQ 926.5 484.5, 925.9 484.2\\nL 926.2 483.3\\n' fill='#CCCC00'/>\\n<path  class='atom-6' d='M 856.0 446.4\\nQ 856.2 445.9, 856.7 445.6\\nQ 857.1 445.4, 857.7 445.4\\nQ 858.5 445.4, 859.0 445.8\\nQ 859.4 446.2, 859.4 447.0\\nQ 859.4 447.7, 858.8 448.4\\nQ 858.3 449.1, 857.1 450.0\\nL 859.5 450.0\\nL 859.5 450.6\\nL 856.0 450.6\\nL 856.0 450.1\\nQ 857.0 449.4, 857.5 448.9\\nQ 858.1 448.4, 858.4 447.9\\nQ 858.7 447.5, 858.7 447.0\\nQ 858.7 446.5, 858.4 446.2\\nQ 858.2 445.9, 857.7 445.9\\nQ 857.3 445.9, 857.0 446.1\\nQ 856.8 446.3, 856.6 446.6\\nL 856.0 446.4\\n' fill='#000000'/>\\n<path  class='atom-6' d='M 860.4 446.7\\nL 861.5 446.7\\nL 861.5 450.0\\nL 865.5 450.0\\nL 865.5 446.7\\nL 866.6 446.7\\nL 866.6 454.5\\nL 865.5 454.5\\nL 865.5 450.9\\nL 861.5 450.9\\nL 861.5 454.5\\nL 860.4 454.5\\nL 860.4 446.7\\n' fill='#000000'/>\\n<path  d='M 830.4 578.3\\nL 833.8 578.3\\nL 833.8 579.5\\nL 831.7 579.5\\nL 831.7 592.7\\nL 833.8 592.7\\nL 833.8 593.8\\nL 830.4 593.8\\nL 830.4 578.3\\n' fill='#000000'/>\\n<path  d='M 834.6 581.5\\nQ 835.1 580.5, 836.1 579.9\\nQ 837.0 579.3, 838.4 579.3\\nQ 840.1 579.3, 841.1 580.2\\nQ 842.1 581.1, 842.1 582.8\\nQ 842.1 584.4, 840.8 586.0\\nQ 839.6 587.6, 837.0 589.4\\nL 842.2 589.4\\nL 842.2 590.7\\nL 834.6 590.7\\nL 834.6 589.6\\nQ 836.7 588.1, 838.0 587.0\\nQ 839.2 585.9, 839.8 584.9\\nQ 840.5 583.9, 840.5 582.8\\nQ 840.5 581.8, 839.9 581.2\\nQ 839.4 580.5, 838.4 580.5\\nQ 837.5 580.5, 836.9 580.9\\nQ 836.3 581.3, 835.9 582.1\\nL 834.6 581.5\\n' fill='#000000'/>\\n<path  d='M 843.6 579.4\\nL 845.1 579.4\\nL 845.1 584.2\\nL 850.9 584.2\\nL 850.9 579.4\\nL 852.5 579.4\\nL 852.5 590.7\\nL 850.9 590.7\\nL 850.9 585.5\\nL 845.1 585.5\\nL 845.1 590.7\\nL 843.6 590.7\\nL 843.6 579.4\\n' fill='#000000'/>\\n<path  d='M 856.2 578.3\\nL 856.2 593.8\\nL 852.8 593.8\\nL 852.8 592.7\\nL 854.9 592.7\\nL 854.9 579.5\\nL 852.8 579.5\\nL 852.8 578.3\\nL 856.2 578.3\\n' fill='#000000'/>\\n<path  d='M 857.0 585.0\\nQ 857.0 582.2, 858.3 580.8\\nQ 859.6 579.3, 862.1 579.3\\nQ 864.5 579.3, 865.7 580.9\\nL 864.7 581.8\\nQ 863.8 580.6, 862.1 580.6\\nQ 860.4 580.6, 859.5 581.7\\nQ 858.6 582.9, 858.6 585.0\\nQ 858.6 587.3, 859.6 588.4\\nQ 860.5 589.6, 862.3 589.6\\nQ 863.6 589.6, 865.0 588.8\\nL 865.5 590.0\\nQ 864.9 590.4, 864.0 590.6\\nQ 863.1 590.9, 862.1 590.9\\nQ 859.6 590.9, 858.3 589.4\\nQ 857.0 587.9, 857.0 585.0\\n' fill='#000000'/>\\n<path  d='M 867.2 589.4\\nL 869.7 589.4\\nL 869.7 581.0\\nL 867.0 581.8\\nL 866.6 580.9\\nL 870.1 579.3\\nL 871.2 579.5\\nL 871.2 589.4\\nL 873.4 589.4\\nL 873.4 590.7\\nL 867.2 590.7\\nL 867.2 589.4\\n' fill='#000000'/>\\n<path  d='M 874.9 583.8\\nL 882.2 583.8\\nL 882.2 584.9\\nL 874.9 584.9\\nL 874.9 583.8\\nM 874.9 587.2\\nL 882.2 587.2\\nL 882.2 588.3\\nL 874.9 588.3\\nL 874.9 587.2\\n' fill='#000000'/>\\n<path  d='M 883.0 585.0\\nQ 883.0 582.2, 884.3 580.8\\nQ 885.7 579.3, 888.2 579.3\\nQ 890.5 579.3, 891.7 580.9\\nL 890.7 581.8\\nQ 889.8 580.6, 888.2 580.6\\nQ 886.5 580.6, 885.5 581.7\\nQ 884.6 582.9, 884.6 585.0\\nQ 884.6 587.3, 885.6 588.4\\nQ 886.5 589.6, 888.3 589.6\\nQ 889.6 589.6, 891.0 588.8\\nL 891.5 590.0\\nQ 890.9 590.4, 890.0 590.6\\nQ 889.1 590.9, 888.1 590.9\\nQ 885.7 590.9, 884.3 589.4\\nQ 883.0 587.9, 883.0 585.0\\n' fill='#000000'/>\\n<path  d='M 892.9 589.0\\nQ 893.1 589.0, 893.6 589.2\\nQ 894.1 589.5, 894.7 589.6\\nQ 895.3 589.7, 895.9 589.7\\nQ 896.9 589.7, 897.6 589.2\\nQ 898.2 588.7, 898.2 587.8\\nQ 898.2 587.2, 897.9 586.8\\nQ 897.6 586.4, 897.1 586.2\\nQ 896.6 586.0, 895.8 585.7\\nQ 894.8 585.4, 894.2 585.1\\nQ 893.6 584.8, 893.2 584.2\\nQ 892.7 583.6, 892.7 582.6\\nQ 892.7 581.2, 893.7 580.3\\nQ 894.7 579.4, 896.6 579.4\\nQ 897.9 579.4, 899.4 580.0\\nL 899.0 581.3\\nQ 897.7 580.7, 896.6 580.7\\nQ 895.5 580.7, 894.9 581.2\\nQ 894.3 581.6, 894.3 582.4\\nQ 894.3 583.0, 894.6 583.4\\nQ 895.0 583.8, 895.4 584.0\\nQ 895.9 584.2, 896.6 584.4\\nQ 897.7 584.7, 898.3 585.1\\nQ 898.9 585.4, 899.3 586.0\\nQ 899.8 586.7, 899.8 587.8\\nQ 899.8 589.3, 898.7 590.2\\nQ 897.7 591.0, 895.9 591.0\\nQ 894.9 591.0, 894.1 590.8\\nQ 893.4 590.6, 892.5 590.2\\nL 892.9 589.0\\n' fill='#000000'/>\\n<path  d='M 900.6 585.0\\nQ 900.6 582.2, 901.9 580.8\\nQ 903.2 579.3, 905.7 579.3\\nQ 908.1 579.3, 909.3 580.9\\nL 908.2 581.8\\nQ 907.3 580.6, 905.7 580.6\\nQ 904.0 580.6, 903.1 581.7\\nQ 902.2 582.9, 902.2 585.0\\nQ 902.2 587.3, 903.1 588.4\\nQ 904.1 589.6, 905.9 589.6\\nQ 907.1 589.6, 908.6 588.8\\nL 909.0 590.0\\nQ 908.5 590.4, 907.6 590.6\\nQ 906.7 590.9, 905.7 590.9\\nQ 903.2 590.9, 901.9 589.4\\nQ 900.6 587.9, 900.6 585.0\\n' fill='#000000'/>\\n<path  d='M 910.8 583.8\\nL 918.1 583.8\\nL 918.1 584.9\\nL 910.8 584.9\\nL 910.8 583.8\\nM 910.8 587.2\\nL 918.1 587.2\\nL 918.1 588.3\\nL 910.8 588.3\\nL 910.8 587.2\\n' fill='#000000'/>\\n<path  d='M 918.9 585.0\\nQ 918.9 582.2, 920.2 580.8\\nQ 921.5 579.3, 924.0 579.3\\nQ 926.4 579.3, 927.6 580.9\\nL 926.6 581.8\\nQ 925.7 580.6, 924.0 580.6\\nQ 922.3 580.6, 921.4 581.7\\nQ 920.5 582.9, 920.5 585.0\\nQ 920.5 587.3, 921.4 588.4\\nQ 922.4 589.6, 924.2 589.6\\nQ 925.5 589.6, 926.9 588.8\\nL 927.4 590.0\\nQ 926.8 590.4, 925.9 590.6\\nQ 925.0 590.9, 924.0 590.9\\nQ 921.5 590.9, 920.2 589.4\\nQ 918.9 587.9, 918.9 585.0\\n' fill='#000000'/>\\n<path  d='M 929.1 589.4\\nL 931.6 589.4\\nL 931.6 581.0\\nL 928.9 581.8\\nL 928.5 580.9\\nL 932.0 579.3\\nL 933.1 579.5\\nL 933.1 589.4\\nL 935.3 589.4\\nL 935.3 590.7\\nL 929.1 590.7\\nL 929.1 589.4\\n' fill='#000000'/>\\n<path  d='M 936.7 578.3\\nL 940.1 578.3\\nL 940.1 579.5\\nL 938.0 579.5\\nL 938.0 592.7\\nL 940.1 592.7\\nL 940.1 593.8\\nL 936.7 593.8\\nL 936.7 578.3\\n' fill='#000000'/>\\n<path  d='M 940.9 581.5\\nQ 941.3 580.5, 942.3 579.9\\nQ 943.3 579.3, 944.7 579.3\\nQ 946.4 579.3, 947.4 580.2\\nQ 948.3 581.1, 948.3 582.8\\nQ 948.3 584.4, 947.1 586.0\\nQ 945.8 587.6, 943.3 589.4\\nL 948.5 589.4\\nL 948.5 590.7\\nL 940.9 590.7\\nL 940.9 589.6\\nQ 943.0 588.1, 944.2 587.0\\nQ 945.5 585.9, 946.1 584.9\\nQ 946.7 583.9, 946.7 582.8\\nQ 946.7 581.8, 946.2 581.2\\nQ 945.6 580.5, 944.7 580.5\\nQ 943.8 580.5, 943.2 580.9\\nQ 942.6 581.3, 942.1 582.1\\nL 940.9 581.5\\n' fill='#000000'/>\\n<path  d='M 949.9 579.4\\nL 951.4 579.4\\nL 951.4 584.2\\nL 957.2 584.2\\nL 957.2 579.4\\nL 958.7 579.4\\nL 958.7 590.7\\nL 957.2 590.7\\nL 957.2 585.5\\nL 951.4 585.5\\nL 951.4 590.7\\nL 949.9 590.7\\nL 949.9 579.4\\n' fill='#000000'/>\\n<path  d='M 962.5 578.3\\nL 962.5 593.8\\nL 959.1 593.8\\nL 959.1 592.7\\nL 961.1 592.7\\nL 961.1 579.5\\nL 959.1 579.5\\nL 959.1 578.3\\nL 962.5 578.3\\n' fill='#000000'/>\\n<path class='bond-0 atom-0 atom-1' d='M 45.2,686.2 L 69.1,672.4' style='fill:none;fill-rule:evenodd;stroke:#000000;stroke-width:2.0px;stroke-linecap:butt;stroke-linejoin:miter;stroke-opacity:1' />\\n<path class='bond-1 atom-1 atom-2' d='M 69.1,672.4 L 93.1,686.2' style='fill:none;fill-rule:evenodd;stroke:#000000;stroke-width:2.0px;stroke-linecap:butt;stroke-linejoin:miter;stroke-opacity:1' />\\n<path class='bond-2 atom-2 atom-3' d='M 93.1,686.2 L 117.0,672.4' style='fill:none;fill-rule:evenodd;stroke:#000000;stroke-width:2.0px;stroke-linecap:butt;stroke-linejoin:miter;stroke-opacity:1' />\\n<path class='bond-3 atom-3 atom-4' d='M 117.0,672.4 L 127.1,678.2' style='fill:none;fill-rule:evenodd;stroke:#000000;stroke-width:2.0px;stroke-linecap:butt;stroke-linejoin:miter;stroke-opacity:1' />\\n<path class='bond-3 atom-3 atom-4' d='M 127.1,678.2 L 137.2,684.0' style='fill:none;fill-rule:evenodd;stroke:#00CC00;stroke-width:2.0px;stroke-linecap:butt;stroke-linejoin:miter;stroke-opacity:1' />\\n<path  class='atom-4' d='M 137.9 686.5\\nQ 137.9 684.5, 138.8 683.5\\nQ 139.8 682.5, 141.5 682.5\\nQ 143.1 682.5, 144.0 683.6\\nL 143.2 684.2\\nQ 142.6 683.4, 141.5 683.4\\nQ 140.3 683.4, 139.7 684.2\\nQ 139.1 685.0, 139.1 686.5\\nQ 139.1 688.0, 139.7 688.8\\nQ 140.4 689.6, 141.6 689.6\\nQ 142.5 689.6, 143.5 689.1\\nL 143.8 689.9\\nQ 143.4 690.2, 142.8 690.3\\nQ 142.1 690.5, 141.5 690.5\\nQ 139.8 690.5, 138.8 689.4\\nQ 137.9 688.4, 137.9 686.5\\n' fill='#00CC00'/>\\n<path  class='atom-4' d='M 144.9 682.0\\nL 145.9 682.0\\nL 145.9 690.4\\nL 144.9 690.4\\nL 144.9 682.0\\n' fill='#00CC00'/>\\n<path  d='M 69.7 788.1\\nQ 69.7 785.3, 71.1 783.8\\nQ 72.4 782.3, 74.9 782.3\\nQ 77.2 782.3, 78.5 784.0\\nL 77.4 784.8\\nQ 76.5 783.6, 74.9 783.6\\nQ 73.2 783.6, 72.3 784.8\\nQ 71.4 785.9, 71.4 788.1\\nQ 71.4 790.3, 72.3 791.5\\nQ 73.3 792.6, 75.1 792.6\\nQ 76.3 792.6, 77.8 791.9\\nL 78.2 793.1\\nQ 77.6 793.5, 76.7 793.7\\nQ 75.8 793.9, 74.9 793.9\\nQ 72.4 793.9, 71.1 792.4\\nQ 69.7 790.9, 69.7 788.1\\n' fill='#000000'/>\\n<path  d='M 79.3 788.1\\nQ 79.3 785.3, 80.6 783.8\\nQ 81.9 782.3, 84.4 782.3\\nQ 86.8 782.3, 88.0 784.0\\nL 87.0 784.8\\nQ 86.1 783.6, 84.4 783.6\\nQ 82.7 783.6, 81.8 784.8\\nQ 80.9 785.9, 80.9 788.1\\nQ 80.9 790.3, 81.8 791.5\\nQ 82.8 792.6, 84.6 792.6\\nQ 85.9 792.6, 87.3 791.9\\nL 87.8 793.1\\nQ 87.2 793.5, 86.3 793.7\\nQ 85.4 793.9, 84.4 793.9\\nQ 81.9 793.9, 80.6 792.4\\nQ 79.3 790.9, 79.3 788.1\\n' fill='#000000'/>\\n<path  d='M 88.8 788.1\\nQ 88.8 785.3, 90.1 783.8\\nQ 91.5 782.3, 94.0 782.3\\nQ 96.3 782.3, 97.6 784.0\\nL 96.5 784.8\\nQ 95.6 783.6, 94.0 783.6\\nQ 92.3 783.6, 91.3 784.8\\nQ 90.5 785.9, 90.5 788.1\\nQ 90.5 790.3, 91.4 791.5\\nQ 92.3 792.6, 94.1 792.6\\nQ 95.4 792.6, 96.9 791.9\\nL 97.3 793.1\\nQ 96.7 793.5, 95.8 793.7\\nQ 94.9 793.9, 93.9 793.9\\nQ 91.5 793.9, 90.1 792.4\\nQ 88.8 790.9, 88.8 788.1\\n' fill='#000000'/>\\n<path  d='M 98.4 788.1\\nQ 98.4 785.3, 99.7 783.8\\nQ 101.0 782.3, 103.5 782.3\\nQ 105.8 782.3, 107.1 784.0\\nL 106.0 784.8\\nQ 105.1 783.6, 103.5 783.6\\nQ 101.8 783.6, 100.9 784.8\\nQ 100.0 785.9, 100.0 788.1\\nQ 100.0 790.3, 100.9 791.5\\nQ 101.9 792.6, 103.7 792.6\\nQ 104.9 792.6, 106.4 791.9\\nL 106.8 793.1\\nQ 106.2 793.5, 105.3 793.7\\nQ 104.5 793.9, 103.5 793.9\\nQ 101.0 793.9, 99.7 792.4\\nQ 98.4 790.9, 98.4 788.1\\n' fill='#000000'/>\\n<path  d='M 107.9 788.1\\nQ 107.9 785.3, 109.2 783.8\\nQ 110.5 782.3, 113.0 782.3\\nQ 115.4 782.3, 116.6 784.0\\nL 115.6 784.8\\nQ 114.7 783.6, 113.0 783.6\\nQ 111.3 783.6, 110.4 784.8\\nQ 109.5 785.9, 109.5 788.1\\nQ 109.5 790.3, 110.5 791.5\\nQ 111.4 792.6, 113.2 792.6\\nQ 114.5 792.6, 115.9 791.9\\nL 116.4 793.1\\nQ 115.8 793.5, 114.9 793.7\\nQ 114.0 793.9, 113.0 793.9\\nQ 110.5 793.9, 109.2 792.4\\nQ 107.9 790.9, 107.9 788.1\\n' fill='#000000'/>\\n<path  d='M 118.0 781.6\\nL 119.5 781.6\\nL 119.5 793.8\\nL 118.0 793.8\\nL 118.0 781.6\\n' fill='#000000'/>\\n<path class='bond-0 atom-0 atom-1' d='M 280.1,692.1 L 270.2,686.4' style='fill:none;fill-rule:evenodd;stroke:#000000;stroke-width:2.0px;stroke-linecap:butt;stroke-linejoin:miter;stroke-opacity:1' />\\n<path class='bond-0 atom-0 atom-1' d='M 270.2,686.4 L 260.4,680.7' style='fill:none;fill-rule:evenodd;stroke:#FF0000;stroke-width:2.0px;stroke-linecap:butt;stroke-linejoin:miter;stroke-opacity:1' />\\n<path class='bond-0 atom-0 atom-1' d='M 277.3,696.9 L 267.5,691.2' style='fill:none;fill-rule:evenodd;stroke:#000000;stroke-width:2.0px;stroke-linecap:butt;stroke-linejoin:miter;stroke-opacity:1' />\\n<path class='bond-0 atom-0 atom-1' d='M 267.5,691.2 L 257.6,685.5' style='fill:none;fill-rule:evenodd;stroke:#FF0000;stroke-width:2.0px;stroke-linecap:butt;stroke-linejoin:miter;stroke-opacity:1' />\\n<path class='bond-1 atom-0 atom-2' d='M 278.7,694.5 L 302.6,680.7' style='fill:none;fill-rule:evenodd;stroke:#000000;stroke-width:2.0px;stroke-linecap:butt;stroke-linejoin:miter;stroke-opacity:1' />\\n<path class='bond-2 atom-2 atom-3' d='M 302.6,680.7 L 312.8,686.5' style='fill:none;fill-rule:evenodd;stroke:#000000;stroke-width:2.0px;stroke-linecap:butt;stroke-linejoin:miter;stroke-opacity:1' />\\n<path class='bond-2 atom-2 atom-3' d='M 312.8,686.5 L 322.9,692.4' style='fill:none;fill-rule:evenodd;stroke:#0000FF;stroke-width:2.0px;stroke-linecap:butt;stroke-linejoin:miter;stroke-opacity:1' />\\n<path class='bond-3 atom-2 atom-4' d='M 302.6,680.7 L 302.6,669.1' style='fill:none;fill-rule:evenodd;stroke:#000000;stroke-width:2.0px;stroke-linecap:butt;stroke-linejoin:miter;stroke-opacity:1' />\\n<path class='bond-3 atom-2 atom-4' d='M 302.6,669.1 L 302.6,657.6' style='fill:none;fill-rule:evenodd;stroke:#7F4C19;stroke-width:2.0px;stroke-linecap:butt;stroke-linejoin:miter;stroke-opacity:1' />\\n<path  class='atom-1' d='M 251.2 680.7\\nQ 251.2 678.8, 252.1 677.7\\nQ 253.0 676.7, 254.7 676.7\\nQ 256.5 676.7, 257.4 677.7\\nQ 258.3 678.8, 258.3 680.7\\nQ 258.3 682.6, 257.4 683.7\\nQ 256.5 684.7, 254.7 684.7\\nQ 253.0 684.7, 252.1 683.7\\nQ 251.2 682.6, 251.2 680.7\\nM 254.7 683.9\\nQ 255.9 683.9, 256.6 683.1\\nQ 257.2 682.2, 257.2 680.7\\nQ 257.2 679.1, 256.6 678.4\\nQ 255.9 677.6, 254.7 677.6\\nQ 253.6 677.6, 252.9 678.4\\nQ 252.3 679.1, 252.3 680.7\\nQ 252.3 682.3, 252.9 683.1\\nQ 253.6 683.9, 254.7 683.9\\n' fill='#FF0000'/>\\n<path  class='atom-3' d='M 324.9 690.6\\nL 327.4 694.7\\nQ 327.7 695.1, 328.1 695.9\\nQ 328.5 696.6, 328.5 696.6\\nL 328.5 690.6\\nL 329.6 690.6\\nL 329.6 698.4\\nL 328.5 698.4\\nL 325.7 693.9\\nQ 325.4 693.3, 325.1 692.7\\nQ 324.7 692.1, 324.6 691.9\\nL 324.6 698.4\\nL 323.6 698.4\\nL 323.6 690.6\\nL 324.9 690.6\\n' fill='#0000FF'/>\\n<path  class='atom-3' d='M 330.5 690.6\\nL 331.6 690.6\\nL 331.6 693.9\\nL 335.6 693.9\\nL 335.6 690.6\\nL 336.6 690.6\\nL 336.6 698.4\\nL 335.6 698.4\\nL 335.6 694.8\\nL 331.6 694.8\\nL 331.6 698.4\\nL 330.5 698.4\\nL 330.5 690.6\\n' fill='#0000FF'/>\\n<path  class='atom-3' d='M 337.0 698.1\\nQ 337.2 697.6, 337.6 697.4\\nQ 338.1 697.1, 338.7 697.1\\nQ 339.5 697.1, 339.9 697.5\\nQ 340.4 697.9, 340.4 698.7\\nQ 340.4 699.4, 339.8 700.2\\nQ 339.2 700.9, 338.1 701.7\\nL 340.5 701.7\\nL 340.5 702.3\\nL 337.0 702.3\\nL 337.0 701.8\\nQ 337.9 701.1, 338.5 700.6\\nQ 339.1 700.1, 339.4 699.7\\nQ 339.6 699.2, 339.6 698.7\\nQ 339.6 698.2, 339.4 697.9\\nQ 339.2 697.7, 338.7 697.7\\nQ 338.3 697.7, 338.0 697.8\\nQ 337.7 698.0, 337.6 698.4\\nL 337.0 698.1\\n' fill='#0000FF'/>\\n<path  class='atom-4' d='M 303.8 652.8\\nQ 304.5 653.0, 304.9 653.5\\nQ 305.3 653.9, 305.3 654.6\\nQ 305.3 655.7, 304.6 656.3\\nQ 303.9 656.9, 302.6 656.9\\nL 300.0 656.9\\nL 300.0 649.1\\nL 302.3 649.1\\nQ 303.6 649.1, 304.3 649.6\\nQ 305.0 650.2, 305.0 651.2\\nQ 305.0 652.4, 303.8 652.8\\nM 301.0 650.0\\nL 301.0 652.4\\nL 302.3 652.4\\nQ 303.1 652.4, 303.5 652.1\\nQ 303.9 651.8, 303.9 651.2\\nQ 303.9 650.0, 302.3 650.0\\nL 301.0 650.0\\nM 302.6 656.0\\nQ 303.4 656.0, 303.8 655.7\\nQ 304.2 655.3, 304.2 654.6\\nQ 304.2 654.0, 303.7 653.6\\nQ 303.3 653.3, 302.4 653.3\\nL 301.0 653.3\\nL 301.0 656.0\\nL 302.6 656.0\\n' fill='#7F4C19'/>\\n<path  class='atom-4' d='M 307.1 651.2\\nL 307.2 652.0\\nQ 307.8 651.1, 308.8 651.1\\nQ 309.1 651.1, 309.5 651.2\\nL 309.3 652.2\\nQ 308.9 652.1, 308.6 652.1\\nQ 308.1 652.1, 307.8 652.3\\nQ 307.5 652.4, 307.3 652.9\\nL 307.3 656.9\\nL 306.2 656.9\\nL 306.2 651.2\\nL 307.1 651.2\\n' fill='#7F4C19'/>\\n<path  d='M 256.0 784.4\\nQ 256.0 781.6, 257.4 780.1\\nQ 258.7 778.7, 261.2 778.7\\nQ 263.5 778.7, 264.8 780.3\\nL 263.7 781.2\\nQ 262.8 780.0, 261.2 780.0\\nQ 259.5 780.0, 258.6 781.1\\nQ 257.7 782.3, 257.7 784.4\\nQ 257.7 786.7, 258.6 787.8\\nQ 259.6 789.0, 261.4 789.0\\nQ 262.6 789.0, 264.1 788.2\\nL 264.5 789.4\\nQ 263.9 789.8, 263.0 790.0\\nQ 262.1 790.3, 261.2 790.3\\nQ 258.7 790.3, 257.4 788.8\\nQ 256.0 787.2, 256.0 784.4\\n' fill='#000000'/>\\n<path  d='M 265.6 785.6\\nQ 265.6 783.2, 266.2 781.4\\nQ 266.9 779.5, 268.2 777.4\\nL 269.1 778.0\\nQ 268.1 779.9, 267.5 781.6\\nQ 267.0 783.4, 267.0 785.6\\nQ 267.0 787.7, 267.5 789.4\\nQ 268.1 791.1, 269.1 793.1\\nL 268.2 793.7\\nQ 266.9 791.6, 266.2 789.8\\nQ 265.6 787.9, 265.6 785.6\\n' fill='#000000'/>\\n<path  d='M 270.6 783.2\\nL 277.9 783.2\\nL 277.9 784.3\\nL 270.6 784.3\\nL 270.6 783.2\\nM 270.6 786.6\\nL 277.9 786.6\\nL 277.9 787.7\\nL 270.6 787.7\\nL 270.6 786.6\\n' fill='#000000'/>\\n<path  d='M 278.7 784.4\\nQ 278.7 781.7, 280.0 780.2\\nQ 281.4 778.7, 283.9 778.7\\nQ 286.4 778.7, 287.7 780.2\\nQ 289.1 781.7, 289.1 784.4\\nQ 289.1 787.2, 287.7 788.7\\nQ 286.4 790.3, 283.9 790.3\\nQ 281.4 790.3, 280.0 788.7\\nQ 278.7 787.2, 278.7 784.4\\nM 283.9 789.0\\nQ 285.6 789.0, 286.5 787.9\\nQ 287.5 786.7, 287.5 784.4\\nQ 287.5 782.2, 286.5 781.1\\nQ 285.6 779.9, 283.9 779.9\\nQ 282.2 779.9, 281.2 781.1\\nQ 280.3 782.2, 280.3 784.4\\nQ 280.3 786.7, 281.2 787.9\\nQ 282.2 789.0, 283.9 789.0\\n' fill='#000000'/>\\n<path  d='M 293.0 785.6\\nQ 293.0 787.9, 292.3 789.8\\nQ 291.7 791.6, 290.4 793.7\\nL 289.5 793.1\\nQ 290.5 791.1, 291.0 789.4\\nQ 291.6 787.7, 291.6 785.6\\nQ 291.6 783.4, 291.0 781.6\\nQ 290.5 779.9, 289.5 778.0\\nL 290.4 777.4\\nQ 291.7 779.5, 292.3 781.4\\nQ 293.0 783.2, 293.0 785.6\\n' fill='#000000'/>\\n<path  d='M 293.8 784.4\\nQ 293.8 781.6, 295.1 780.1\\nQ 296.4 778.7, 299.0 778.7\\nQ 301.3 778.7, 302.5 780.3\\nL 301.5 781.2\\nQ 300.6 780.0, 299.0 780.0\\nQ 297.2 780.0, 296.3 781.1\\nQ 295.4 782.3, 295.4 784.4\\nQ 295.4 786.7, 296.4 787.8\\nQ 297.3 789.0, 299.1 789.0\\nQ 300.4 789.0, 301.8 788.2\\nL 302.3 789.4\\nQ 301.7 789.8, 300.8 790.0\\nQ 299.9 790.3, 298.9 790.3\\nQ 296.4 790.3, 295.1 788.8\\nQ 293.8 787.2, 293.8 784.4\\n' fill='#000000'/>\\n<path  d='M 303.3 785.6\\nQ 303.3 783.2, 304.0 781.4\\nQ 304.7 779.5, 306.0 777.4\\nL 306.9 778.0\\nQ 305.8 779.9, 305.3 781.6\\nQ 304.8 783.4, 304.8 785.6\\nQ 304.8 787.7, 305.3 789.4\\nQ 305.8 791.1, 306.9 793.1\\nL 306.0 793.7\\nQ 304.7 791.6, 304.0 789.8\\nQ 303.3 787.9, 303.3 785.6\\n' fill='#000000'/>\\n<path  d='M 310.0 778.8\\nL 313.7 784.8\\nQ 314.1 785.4, 314.7 786.4\\nQ 315.2 787.5, 315.3 787.6\\nL 315.3 778.8\\nL 316.8 778.8\\nL 316.8 790.1\\nL 315.2 790.1\\nL 311.2 783.6\\nQ 310.8 782.8, 310.3 781.9\\nQ 309.8 781.0, 309.7 780.8\\nL 309.7 790.1\\nL 308.2 790.1\\nL 308.2 778.8\\nL 310.0 778.8\\n' fill='#000000'/>\\n<path  d='M 320.7 785.6\\nQ 320.7 787.9, 320.0 789.8\\nQ 319.4 791.6, 318.1 793.7\\nL 317.2 793.1\\nQ 318.2 791.1, 318.7 789.4\\nQ 319.3 787.7, 319.3 785.6\\nQ 319.3 783.4, 318.7 781.6\\nQ 318.2 779.9, 317.2 778.0\\nL 318.1 777.4\\nQ 319.4 779.5, 320.0 781.4\\nQ 320.7 783.2, 320.7 785.6\\n' fill='#000000'/>\\n<path  d='M 327.6 784.2\\nQ 328.7 784.5, 329.2 785.1\\nQ 329.8 785.8, 329.8 786.8\\nQ 329.8 788.3, 328.8 789.2\\nQ 327.8 790.1, 325.9 790.1\\nL 322.1 790.1\\nL 322.1 778.8\\nL 325.4 778.8\\nQ 327.3 778.8, 328.3 779.6\\nQ 329.3 780.4, 329.3 781.8\\nQ 329.3 783.5, 327.6 784.2\\nM 323.6 780.1\\nL 323.6 783.6\\nL 325.4 783.6\\nQ 326.5 783.6, 327.1 783.2\\nQ 327.7 782.7, 327.7 781.8\\nQ 327.7 780.1, 325.4 780.1\\nL 323.6 780.1\\nM 325.9 788.8\\nQ 327.0 788.8, 327.6 788.3\\nQ 328.2 787.8, 328.2 786.8\\nQ 328.2 785.8, 327.5 785.4\\nQ 326.9 784.9, 325.6 784.9\\nL 323.6 784.9\\nL 323.6 788.8\\nL 325.9 788.8\\n' fill='#000000'/>\\n<path  d='M 332.3 781.9\\nL 332.5 783.0\\nQ 333.4 781.7, 334.8 781.7\\nQ 335.2 781.7, 335.8 781.9\\nL 335.6 783.2\\nQ 334.9 783.1, 334.5 783.1\\nQ 333.9 783.1, 333.4 783.4\\nQ 333.0 783.6, 332.6 784.2\\nL 332.6 790.1\\nL 331.1 790.1\\nL 331.1 781.9\\nL 332.3 781.9\\n' fill='#000000'/>\\n<path class='bond-0 atom-0 atom-1' d='M 490.3,680.7 L 490.3,692.2' style='fill:none;fill-rule:evenodd;stroke:#000000;stroke-width:2.0px;stroke-linecap:butt;stroke-linejoin:miter;stroke-opacity:1' />\\n<path class='bond-0 atom-0 atom-1' d='M 490.3,692.2 L 490.3,703.7' style='fill:none;fill-rule:evenodd;stroke:#CCCC00;stroke-width:2.0px;stroke-linecap:butt;stroke-linejoin:miter;stroke-opacity:1' />\\n<path class='bond-0 atom-0 atom-1' d='M 495.8,680.7 L 495.8,692.2' style='fill:none;fill-rule:evenodd;stroke:#000000;stroke-width:2.0px;stroke-linecap:butt;stroke-linejoin:miter;stroke-opacity:1' />\\n<path class='bond-0 atom-0 atom-1' d='M 495.8,692.2 L 495.8,703.7' style='fill:none;fill-rule:evenodd;stroke:#CCCC00;stroke-width:2.0px;stroke-linecap:butt;stroke-linejoin:miter;stroke-opacity:1' />\\n<path class='bond-1 atom-0 atom-2' d='M 493.1,680.7 L 482.7,674.7' style='fill:none;fill-rule:evenodd;stroke:#000000;stroke-width:2.0px;stroke-linecap:butt;stroke-linejoin:miter;stroke-opacity:1' />\\n<path class='bond-1 atom-0 atom-2' d='M 482.7,674.7 L 472.3,668.7' style='fill:none;fill-rule:evenodd;stroke:#CCCC00;stroke-width:2.0px;stroke-linecap:butt;stroke-linejoin:miter;stroke-opacity:1' />\\n<path class='bond-2 atom-0 atom-3' d='M 493.1,680.7 L 503.4,674.7' style='fill:none;fill-rule:evenodd;stroke:#000000;stroke-width:2.0px;stroke-linecap:butt;stroke-linejoin:miter;stroke-opacity:1' />\\n<path class='bond-2 atom-0 atom-3' d='M 503.4,674.7 L 513.8,668.7' style='fill:none;fill-rule:evenodd;stroke:#CCCC00;stroke-width:2.0px;stroke-linecap:butt;stroke-linejoin:miter;stroke-opacity:1' />\\n<path  class='atom-1' d='M 490.8 711.0\\nQ 490.9 711.0, 491.3 711.2\\nQ 491.7 711.3, 492.1 711.4\\nQ 492.5 711.5, 492.9 711.5\\nQ 493.6 711.5, 494.0 711.2\\nQ 494.5 710.8, 494.5 710.2\\nQ 494.5 709.7, 494.3 709.5\\nQ 494.0 709.2, 493.7 709.1\\nQ 493.4 708.9, 492.8 708.8\\nQ 492.1 708.5, 491.7 708.3\\nQ 491.3 708.1, 491.0 707.7\\nQ 490.7 707.3, 490.7 706.6\\nQ 490.7 705.6, 491.4 705.0\\nQ 492.1 704.4, 493.4 704.4\\nQ 494.3 704.4, 495.3 704.8\\nL 495.1 705.7\\nQ 494.1 705.3, 493.4 705.3\\nQ 492.6 705.3, 492.2 705.6\\nQ 491.8 705.9, 491.8 706.5\\nQ 491.8 706.9, 492.0 707.1\\nQ 492.3 707.4, 492.6 707.5\\nQ 492.9 707.7, 493.4 707.9\\nQ 494.1 708.1, 494.5 708.3\\nQ 495.0 708.5, 495.3 709.0\\nQ 495.6 709.4, 495.6 710.2\\nQ 495.6 711.3, 494.8 711.8\\nQ 494.1 712.4, 492.9 712.4\\nQ 492.2 712.4, 491.7 712.3\\nQ 491.2 712.1, 490.5 711.9\\nL 490.8 711.0\\n' fill='#CCCC00'/>\\n<path  class='atom-2' d='M 460.0 662.9\\nL 461.0 662.9\\nL 461.0 666.2\\nL 465.0 666.2\\nL 465.0 662.9\\nL 466.1 662.9\\nL 466.1 670.7\\nL 465.0 670.7\\nL 465.0 667.1\\nL 461.0 667.1\\nL 461.0 670.7\\nL 460.0 670.7\\nL 460.0 662.9\\n' fill='#CCCC00'/>\\n<path  class='atom-2' d='M 466.9 669.5\\nQ 467.0 669.6, 467.4 669.7\\nQ 467.7 669.9, 468.1 670.0\\nQ 468.5 670.1, 468.9 670.1\\nQ 469.7 670.1, 470.1 669.7\\nQ 470.5 669.3, 470.5 668.7\\nQ 470.5 668.3, 470.3 668.0\\nQ 470.1 667.7, 469.8 667.6\\nQ 469.4 667.5, 468.9 667.3\\nQ 468.2 667.1, 467.8 666.9\\nQ 467.4 666.7, 467.1 666.3\\nQ 466.8 665.8, 466.8 665.1\\nQ 466.8 664.2, 467.4 663.5\\nQ 468.1 662.9, 469.4 662.9\\nQ 470.3 662.9, 471.4 663.4\\nL 471.1 664.2\\nQ 470.2 663.8, 469.5 663.8\\nQ 468.7 663.8, 468.3 664.2\\nQ 467.9 664.5, 467.9 665.0\\nQ 467.9 665.4, 468.1 665.7\\nQ 468.3 665.9, 468.6 666.1\\nQ 468.9 666.2, 469.5 666.4\\nQ 470.2 666.6, 470.6 666.8\\nQ 471.0 667.1, 471.3 667.5\\nQ 471.6 667.9, 471.6 668.7\\nQ 471.6 669.8, 470.9 670.4\\nQ 470.2 671.0, 469.0 671.0\\nQ 468.3 671.0, 467.7 670.8\\nQ 467.2 670.7, 466.6 670.4\\nL 466.9 669.5\\n' fill='#CCCC00'/>\\n<path  class='atom-3' d='M 514.8 669.5\\nQ 514.9 669.6, 515.2 669.7\\nQ 515.6 669.9, 516.0 670.0\\nQ 516.4 670.0, 516.8 670.0\\nQ 517.6 670.0, 518.0 669.7\\nQ 518.4 669.3, 518.4 668.7\\nQ 518.4 668.3, 518.2 668.0\\nQ 518.0 667.7, 517.7 667.6\\nQ 517.3 667.5, 516.8 667.3\\nQ 516.1 667.1, 515.7 666.9\\nQ 515.2 666.7, 514.9 666.3\\nQ 514.7 665.8, 514.7 665.1\\nQ 514.7 664.1, 515.3 663.5\\nQ 516.0 662.9, 517.3 662.9\\nQ 518.2 662.9, 519.3 663.4\\nL 519.0 664.2\\nQ 518.1 663.8, 517.4 663.8\\nQ 516.6 663.8, 516.2 664.1\\nQ 515.8 664.5, 515.8 665.0\\nQ 515.8 665.4, 516.0 665.7\\nQ 516.2 665.9, 516.5 666.1\\nQ 516.8 666.2, 517.4 666.4\\nQ 518.1 666.6, 518.5 666.8\\nQ 518.9 667.0, 519.2 667.5\\nQ 519.5 667.9, 519.5 668.7\\nQ 519.5 669.8, 518.8 670.4\\nQ 518.1 670.9, 516.9 670.9\\nQ 516.2 670.9, 515.6 670.8\\nQ 515.1 670.6, 514.5 670.4\\nL 514.8 669.5\\n' fill='#CCCC00'/>\\n<path  class='atom-3' d='M 519.9 664.1\\nL 522.6 664.1\\nL 522.6 664.7\\nL 519.9 664.7\\nL 519.9 664.1\\n' fill='#CCCC00'/>\\n<path  d='M 459.1 784.4\\nQ 459.1 781.6, 460.5 780.1\\nQ 461.8 778.7, 464.3 778.7\\nQ 466.6 778.7, 467.9 780.3\\nL 466.8 781.2\\nQ 465.9 780.0, 464.3 780.0\\nQ 462.6 780.0, 461.7 781.1\\nQ 460.8 782.3, 460.8 784.4\\nQ 460.8 786.7, 461.7 787.8\\nQ 462.6 789.0, 464.5 789.0\\nQ 465.7 789.0, 467.2 788.2\\nL 467.6 789.4\\nQ 467.0 789.8, 466.1 790.0\\nQ 465.2 790.3, 464.2 790.3\\nQ 461.8 790.3, 460.5 788.8\\nQ 459.1 787.2, 459.1 784.4\\n' fill='#000000'/>\\n<path  d='M 468.7 785.6\\nQ 468.7 783.2, 469.3 781.4\\nQ 470.0 779.5, 471.3 777.4\\nL 472.2 778.0\\nQ 471.2 779.9, 470.6 781.6\\nQ 470.1 783.4, 470.1 785.6\\nQ 470.1 787.7, 470.6 789.4\\nQ 471.2 791.1, 472.2 793.1\\nL 471.3 793.7\\nQ 470.0 791.6, 469.3 789.8\\nQ 468.7 787.9, 468.7 785.6\\n' fill='#000000'/>\\n<path  d='M 473.7 783.2\\nL 481.0 783.2\\nL 481.0 784.3\\nL 473.7 784.3\\nL 473.7 783.2\\nM 473.7 786.6\\nL 481.0 786.6\\nL 481.0 787.7\\nL 473.7 787.7\\nL 473.7 786.6\\n' fill='#000000'/>\\n<path  d='M 482.2 788.4\\nQ 482.3 788.4, 482.8 788.6\\nQ 483.4 788.8, 483.9 789.0\\nQ 484.5 789.1, 485.1 789.1\\nQ 486.2 789.1, 486.8 788.6\\nQ 487.4 788.1, 487.4 787.2\\nQ 487.4 786.5, 487.1 786.2\\nQ 486.8 785.8, 486.3 785.6\\nQ 485.8 785.4, 485.0 785.1\\nQ 484.0 784.8, 483.4 784.5\\nQ 482.8 784.2, 482.4 783.6\\nQ 482.0 783.0, 482.0 782.0\\nQ 482.0 780.6, 482.9 779.7\\nQ 483.9 778.8, 485.8 778.8\\nQ 487.1 778.8, 488.6 779.4\\nL 488.3 780.7\\nQ 486.9 780.1, 485.9 780.1\\nQ 484.8 780.1, 484.2 780.6\\nQ 483.6 781.0, 483.6 781.8\\nQ 483.6 782.4, 483.9 782.8\\nQ 484.2 783.2, 484.6 783.4\\nQ 485.1 783.6, 485.9 783.8\\nQ 486.9 784.1, 487.5 784.4\\nQ 488.1 784.8, 488.6 785.4\\nQ 489.0 786.1, 489.0 787.2\\nQ 489.0 788.7, 487.9 789.6\\nQ 486.9 790.4, 485.2 790.4\\nQ 484.2 790.4, 483.4 790.2\\nQ 482.6 790.0, 481.7 789.6\\nL 482.2 788.4\\n' fill='#000000'/>\\n<path  d='M 492.9 785.6\\nQ 492.9 787.9, 492.2 789.8\\nQ 491.6 791.6, 490.3 793.7\\nL 489.4 793.1\\nQ 490.4 791.1, 491.0 789.4\\nQ 491.5 787.7, 491.5 785.6\\nQ 491.5 783.4, 491.0 781.6\\nQ 490.4 779.9, 489.4 778.0\\nL 490.3 777.4\\nQ 491.6 779.5, 492.2 781.4\\nQ 492.9 783.2, 492.9 785.6\\n' fill='#000000'/>\\n<path  d='M 493.7 785.6\\nQ 493.7 783.2, 494.4 781.4\\nQ 495.0 779.5, 496.3 777.4\\nL 497.2 778.0\\nQ 496.2 779.9, 495.7 781.6\\nQ 495.2 783.4, 495.2 785.6\\nQ 495.2 787.7, 495.7 789.4\\nQ 496.2 791.1, 497.2 793.1\\nL 496.3 793.7\\nQ 495.0 791.6, 494.4 789.8\\nQ 493.7 787.9, 493.7 785.6\\n' fill='#000000'/>\\n<path  d='M 498.4 788.4\\nQ 498.6 788.4, 499.1 788.6\\nQ 499.6 788.8, 500.2 789.0\\nQ 500.8 789.1, 501.4 789.1\\nQ 502.4 789.1, 503.0 788.6\\nQ 503.7 788.1, 503.7 787.2\\nQ 503.7 786.5, 503.4 786.2\\nQ 503.0 785.8, 502.6 785.6\\nQ 502.1 785.4, 501.3 785.1\\nQ 500.3 784.8, 499.7 784.5\\nQ 499.1 784.2, 498.6 783.6\\nQ 498.2 783.0, 498.2 782.0\\nQ 498.2 780.6, 499.2 779.7\\nQ 500.2 778.8, 502.1 778.8\\nQ 503.4 778.8, 504.9 779.4\\nL 504.5 780.7\\nQ 503.2 780.1, 502.1 780.1\\nQ 501.0 780.1, 500.4 780.6\\nQ 499.8 781.0, 499.8 781.8\\nQ 499.8 782.4, 500.1 782.8\\nQ 500.5 783.2, 500.9 783.4\\nQ 501.4 783.6, 502.1 783.8\\nQ 503.2 784.1, 503.8 784.4\\nQ 504.4 784.8, 504.8 785.4\\nQ 505.3 786.1, 505.3 787.2\\nQ 505.3 788.7, 504.2 789.6\\nQ 503.2 790.4, 501.4 790.4\\nQ 500.4 790.4, 499.6 790.2\\nQ 498.9 790.0, 498.0 789.6\\nL 498.4 788.4\\n' fill='#000000'/>\\n<path  d='M 509.2 785.6\\nQ 509.2 787.9, 508.5 789.8\\nQ 507.8 791.6, 506.6 793.7\\nL 505.7 793.1\\nQ 506.7 791.1, 507.2 789.4\\nQ 507.7 787.7, 507.7 785.6\\nQ 507.7 783.4, 507.2 781.6\\nQ 506.7 779.9, 505.7 778.0\\nL 506.6 777.4\\nQ 507.8 779.5, 508.5 781.4\\nQ 509.2 783.2, 509.2 785.6\\n' fill='#000000'/>\\n<path  d='M 510.5 777.7\\nL 513.9 777.7\\nL 513.9 778.9\\nL 511.9 778.9\\nL 511.9 792.0\\nL 513.9 792.0\\nL 513.9 793.2\\nL 510.5 793.2\\nL 510.5 777.7\\n' fill='#000000'/>\\n<path  d='M 515.1 788.4\\nQ 515.3 788.4, 515.8 788.6\\nQ 516.3 788.8, 516.9 789.0\\nQ 517.5 789.1, 518.1 789.1\\nQ 519.1 789.1, 519.8 788.6\\nQ 520.4 788.1, 520.4 787.2\\nQ 520.4 786.5, 520.1 786.2\\nQ 519.8 785.8, 519.3 785.6\\nQ 518.8 785.4, 518.0 785.1\\nQ 517.0 784.8, 516.4 784.5\\nQ 515.8 784.2, 515.4 783.6\\nQ 514.9 783.0, 514.9 782.0\\nQ 514.9 780.6, 515.9 779.7\\nQ 516.9 778.8, 518.8 778.8\\nQ 520.1 778.8, 521.6 779.4\\nL 521.2 780.7\\nQ 519.9 780.1, 518.8 780.1\\nQ 517.7 780.1, 517.1 780.6\\nQ 516.5 781.0, 516.5 781.8\\nQ 516.5 782.4, 516.8 782.8\\nQ 517.2 783.2, 517.6 783.4\\nQ 518.1 783.6, 518.8 783.8\\nQ 519.9 784.1, 520.5 784.4\\nQ 521.1 784.8, 521.5 785.4\\nQ 522.0 786.1, 522.0 787.2\\nQ 522.0 788.7, 520.9 789.6\\nQ 519.9 790.4, 518.1 790.4\\nQ 517.1 790.4, 516.3 790.2\\nQ 515.6 790.0, 514.7 789.6\\nL 515.1 788.4\\n' fill='#000000'/>\\n<path  d='M 522.8 784.4\\nL 528.6 784.4\\nL 528.6 785.6\\nL 522.8 785.6\\nL 522.8 784.4\\n' fill='#000000'/>\\n<path  d='M 532.4 777.7\\nL 532.4 793.2\\nL 529.0 793.2\\nL 529.0 792.0\\nL 531.0 792.0\\nL 531.0 778.9\\nL 529.0 778.9\\nL 529.0 777.7\\nL 532.4 777.7\\n' fill='#000000'/>\\n<path class='bond-0 atom-0 atom-1' d='M 669.1,694.5 L 693.1,680.7' style='fill:none;fill-rule:evenodd;stroke:#000000;stroke-width:2.0px;stroke-linecap:butt;stroke-linejoin:miter;stroke-opacity:1' />\\n<path class='bond-4 atom-0 atom-5' d='M 669.1,694.5 L 658.3,688.2' style='fill:none;fill-rule:evenodd;stroke:#000000;stroke-width:2.0px;stroke-linecap:butt;stroke-linejoin:miter;stroke-opacity:1' />\\n<path class='bond-4 atom-0 atom-5' d='M 658.3,688.2 L 647.5,682.0' style='fill:none;fill-rule:evenodd;stroke:#7F4C19;stroke-width:2.0px;stroke-linecap:butt;stroke-linejoin:miter;stroke-opacity:1' />\\n<path class='bond-1 atom-1 atom-2' d='M 693.1,680.7 L 717.0,694.5' style='fill:none;fill-rule:evenodd;stroke:#000000;stroke-width:2.0px;stroke-linecap:butt;stroke-linejoin:miter;stroke-opacity:1' />\\n<path class='bond-3 atom-1 atom-4' d='M 693.1,680.7 L 693.1,669.2' style='fill:none;fill-rule:evenodd;stroke:#000000;stroke-width:2.0px;stroke-linecap:butt;stroke-linejoin:miter;stroke-opacity:1' />\\n<path class='bond-3 atom-1 atom-4' d='M 693.1,669.2 L 693.1,657.8' style='fill:none;fill-rule:evenodd;stroke:#CCCC00;stroke-width:2.0px;stroke-linecap:butt;stroke-linejoin:miter;stroke-opacity:1' />\\n<path class='bond-2 atom-2 atom-3' d='M 717.0,694.5 L 727.3,688.5' style='fill:none;fill-rule:evenodd;stroke:#000000;stroke-width:2.0px;stroke-linecap:butt;stroke-linejoin:miter;stroke-opacity:1' />\\n<path class='bond-2 atom-2 atom-3' d='M 727.3,688.5 L 737.6,682.6' style='fill:none;fill-rule:evenodd;stroke:#7F4C19;stroke-width:2.0px;stroke-linecap:butt;stroke-linejoin:miter;stroke-opacity:1' />\\n<path  class='atom-3' d='M 742.1 680.5\\nQ 742.8 680.7, 743.2 681.1\\nQ 743.6 681.6, 743.6 682.3\\nQ 743.6 683.3, 742.9 684.0\\nQ 742.2 684.6, 740.9 684.6\\nL 738.3 684.6\\nL 738.3 676.7\\nL 740.6 676.7\\nQ 741.9 676.7, 742.6 677.3\\nQ 743.3 677.8, 743.3 678.8\\nQ 743.3 680.0, 742.1 680.5\\nM 739.3 677.6\\nL 739.3 680.1\\nL 740.6 680.1\\nQ 741.4 680.1, 741.8 679.8\\nQ 742.2 679.5, 742.2 678.8\\nQ 742.2 677.6, 740.6 677.6\\nL 739.3 677.6\\nM 740.9 683.7\\nQ 741.7 683.7, 742.1 683.3\\nQ 742.5 683.0, 742.5 682.3\\nQ 742.5 681.6, 742.0 681.3\\nQ 741.6 681.0, 740.8 681.0\\nL 739.3 681.0\\nL 739.3 683.7\\nL 740.9 683.7\\n' fill='#7F4C19'/>\\n<path  class='atom-3' d='M 745.4 678.9\\nL 745.5 679.7\\nQ 746.1 678.8, 747.1 678.8\\nQ 747.4 678.8, 747.8 678.9\\nL 747.6 679.8\\nQ 747.2 679.7, 746.9 679.7\\nQ 746.4 679.7, 746.1 679.9\\nQ 745.8 680.1, 745.6 680.5\\nL 745.6 684.6\\nL 744.5 684.6\\nL 744.5 678.9\\nL 745.4 678.9\\n' fill='#7F4C19'/>\\n<path  class='atom-4' d='M 690.8 655.7\\nQ 690.9 655.7, 691.3 655.9\\nQ 691.7 656.0, 692.1 656.1\\nQ 692.5 656.2, 692.9 656.2\\nQ 693.6 656.2, 694.0 655.9\\nQ 694.5 655.5, 694.5 654.9\\nQ 694.5 654.5, 694.3 654.2\\nQ 694.0 653.9, 693.7 653.8\\nQ 693.4 653.6, 692.8 653.5\\nQ 692.1 653.3, 691.7 653.1\\nQ 691.3 652.9, 691.0 652.4\\nQ 690.7 652.0, 690.7 651.3\\nQ 690.7 650.3, 691.4 649.7\\nQ 692.1 649.1, 693.4 649.1\\nQ 694.3 649.1, 695.3 649.5\\nL 695.1 650.4\\nQ 694.1 650.0, 693.4 650.0\\nQ 692.6 650.0, 692.2 650.3\\nQ 691.8 650.6, 691.8 651.2\\nQ 691.8 651.6, 692.0 651.9\\nQ 692.3 652.1, 692.6 652.3\\nQ 692.9 652.4, 693.4 652.6\\nQ 694.1 652.8, 694.5 653.0\\nQ 695.0 653.2, 695.3 653.7\\nQ 695.6 654.1, 695.6 654.9\\nQ 695.6 656.0, 694.8 656.6\\nQ 694.1 657.1, 692.9 657.1\\nQ 692.2 657.1, 691.7 657.0\\nQ 691.2 656.8, 690.5 656.6\\nL 690.8 655.7\\n' fill='#CCCC00'/>\\n<path  class='atom-4' d='M 696.5 649.1\\nL 697.6 649.1\\nL 697.6 652.4\\nL 701.6 652.4\\nL 701.6 649.1\\nL 702.6 649.1\\nL 702.6 656.9\\nL 701.6 656.9\\nL 701.6 653.3\\nL 697.6 653.3\\nL 697.6 656.9\\nL 696.5 656.9\\nL 696.5 649.1\\n' fill='#CCCC00'/>\\n<path  class='atom-5' d='M 641.1 680.5\\nQ 641.8 680.7, 642.2 681.1\\nQ 642.6 681.6, 642.6 682.3\\nQ 642.6 683.3, 641.9 684.0\\nQ 641.2 684.6, 639.9 684.6\\nL 637.3 684.6\\nL 637.3 676.7\\nL 639.6 676.7\\nQ 640.9 676.7, 641.6 677.3\\nQ 642.3 677.8, 642.3 678.8\\nQ 642.3 680.0, 641.1 680.5\\nM 638.3 677.6\\nL 638.3 680.1\\nL 639.6 680.1\\nQ 640.4 680.1, 640.8 679.8\\nQ 641.2 679.5, 641.2 678.8\\nQ 641.2 677.6, 639.6 677.6\\nL 638.3 677.6\\nM 639.9 683.7\\nQ 640.7 683.7, 641.1 683.3\\nQ 641.5 683.0, 641.5 682.3\\nQ 641.5 681.6, 641.0 681.3\\nQ 640.6 681.0, 639.7 681.0\\nL 638.3 681.0\\nL 638.3 683.7\\nL 639.9 683.7\\n' fill='#7F4C19'/>\\n<path  class='atom-5' d='M 644.4 678.9\\nL 644.5 679.7\\nQ 645.1 678.8, 646.1 678.8\\nQ 646.4 678.8, 646.8 678.9\\nL 646.6 679.8\\nQ 646.2 679.7, 645.9 679.7\\nQ 645.4 679.7, 645.1 679.9\\nQ 644.8 680.1, 644.6 680.5\\nL 644.6 684.6\\nL 643.5 684.6\\nL 643.5 678.9\\nL 644.4 678.9\\n' fill='#7F4C19'/>\\n<path  d='M 654.9 784.4\\nQ 654.9 781.6, 656.2 780.1\\nQ 657.5 778.7, 660.0 778.7\\nQ 662.3 778.7, 663.6 780.3\\nL 662.5 781.2\\nQ 661.6 780.0, 660.0 780.0\\nQ 658.3 780.0, 657.4 781.1\\nQ 656.5 782.3, 656.5 784.4\\nQ 656.5 786.7, 657.4 787.8\\nQ 658.4 789.0, 660.2 789.0\\nQ 661.4 789.0, 662.9 788.2\\nL 663.3 789.4\\nQ 662.7 789.8, 661.8 790.0\\nQ 661.0 790.3, 660.0 790.3\\nQ 657.5 790.3, 656.2 788.8\\nQ 654.9 787.2, 654.9 784.4\\n' fill='#000000'/>\\n<path  d='M 664.4 785.6\\nQ 664.4 783.2, 665.0 781.4\\nQ 665.7 779.5, 667.0 777.4\\nL 667.9 778.0\\nQ 666.9 779.9, 666.3 781.6\\nQ 665.8 783.4, 665.8 785.6\\nQ 665.8 787.7, 666.3 789.4\\nQ 666.9 791.1, 667.9 793.1\\nL 667.0 793.7\\nQ 665.7 791.6, 665.0 789.8\\nQ 664.4 787.9, 664.4 785.6\\n' fill='#000000'/>\\n<path  d='M 668.7 784.4\\nQ 668.7 781.6, 670.0 780.1\\nQ 671.4 778.7, 673.9 778.7\\nQ 676.2 778.7, 677.4 780.3\\nL 676.4 781.2\\nQ 675.5 780.0, 673.9 780.0\\nQ 672.2 780.0, 671.2 781.1\\nQ 670.3 782.3, 670.3 784.4\\nQ 670.3 786.7, 671.3 787.8\\nQ 672.2 789.0, 674.0 789.0\\nQ 675.3 789.0, 676.7 788.2\\nL 677.2 789.4\\nQ 676.6 789.8, 675.7 790.0\\nQ 674.8 790.3, 673.8 790.3\\nQ 671.4 790.3, 670.0 788.8\\nQ 668.7 787.2, 668.7 784.4\\n' fill='#000000'/>\\n<path  d='M 678.2 785.6\\nQ 678.2 783.2, 678.9 781.4\\nQ 679.6 779.5, 680.9 777.4\\nL 681.8 778.0\\nQ 680.7 779.9, 680.2 781.6\\nQ 679.7 783.4, 679.7 785.6\\nQ 679.7 787.7, 680.2 789.4\\nQ 680.7 791.1, 681.8 793.1\\nL 680.9 793.7\\nQ 679.6 791.6, 678.9 789.8\\nQ 678.2 787.9, 678.2 785.6\\n' fill='#000000'/>\\n<path  d='M 682.6 784.4\\nQ 682.6 781.6, 683.9 780.1\\nQ 685.2 778.7, 687.7 778.7\\nQ 690.1 778.7, 691.3 780.3\\nL 690.2 781.2\\nQ 689.3 780.0, 687.7 780.0\\nQ 686.0 780.0, 685.1 781.1\\nQ 684.2 782.3, 684.2 784.4\\nQ 684.2 786.7, 685.1 787.8\\nQ 686.1 789.0, 687.9 789.0\\nQ 689.1 789.0, 690.6 788.2\\nL 691.0 789.4\\nQ 690.5 789.8, 689.6 790.0\\nQ 688.7 790.3, 687.7 790.3\\nQ 685.2 790.3, 683.9 788.8\\nQ 682.6 787.2, 682.6 784.4\\n' fill='#000000'/>\\n<path  d='M 698.2 784.2\\nQ 699.3 784.5, 699.8 785.1\\nQ 700.4 785.8, 700.4 786.8\\nQ 700.4 788.3, 699.4 789.2\\nQ 698.4 790.1, 696.5 790.1\\nL 692.7 790.1\\nL 692.7 778.8\\nL 696.0 778.8\\nQ 697.9 778.8, 698.9 779.6\\nQ 699.9 780.4, 699.9 781.8\\nQ 699.9 783.5, 698.2 784.2\\nM 694.2 780.1\\nL 694.2 783.6\\nL 696.0 783.6\\nQ 697.1 783.6, 697.7 783.2\\nQ 698.3 782.7, 698.3 781.8\\nQ 698.3 780.1, 696.0 780.1\\nL 694.2 780.1\\nM 696.5 788.8\\nQ 697.6 788.8, 698.2 788.3\\nQ 698.8 787.8, 698.8 786.8\\nQ 698.8 785.8, 698.1 785.4\\nQ 697.5 784.9, 696.2 784.9\\nL 694.2 784.9\\nL 694.2 788.8\\nL 696.5 788.8\\n' fill='#000000'/>\\n<path  d='M 702.9 781.9\\nL 703.1 783.0\\nQ 704.0 781.7, 705.4 781.7\\nQ 705.8 781.7, 706.4 781.9\\nL 706.2 783.2\\nQ 705.5 783.1, 705.1 783.1\\nQ 704.5 783.1, 704.0 783.4\\nQ 703.6 783.6, 703.2 784.2\\nL 703.2 790.1\\nL 701.7 790.1\\nL 701.7 781.9\\nL 702.9 781.9\\n' fill='#000000'/>\\n<path  d='M 710.4 785.6\\nQ 710.4 787.9, 709.7 789.8\\nQ 709.0 791.6, 707.7 793.7\\nL 706.8 793.1\\nQ 707.9 791.1, 708.4 789.4\\nQ 708.9 787.7, 708.9 785.6\\nQ 708.9 783.4, 708.4 781.6\\nQ 707.9 779.9, 706.8 778.0\\nL 707.7 777.4\\nQ 709.0 779.5, 709.7 781.4\\nQ 710.4 783.2, 710.4 785.6\\n' fill='#000000'/>\\n<path  d='M 711.5 788.4\\nQ 711.7 788.4, 712.2 788.6\\nQ 712.7 788.8, 713.3 789.0\\nQ 713.9 789.1, 714.5 789.1\\nQ 715.5 789.1, 716.2 788.6\\nQ 716.8 788.1, 716.8 787.2\\nQ 716.8 786.5, 716.5 786.2\\nQ 716.2 785.8, 715.7 785.6\\nQ 715.2 785.4, 714.4 785.1\\nQ 713.4 784.8, 712.8 784.5\\nQ 712.2 784.2, 711.8 783.6\\nQ 711.4 783.0, 711.4 782.0\\nQ 711.4 780.6, 712.3 779.7\\nQ 713.3 778.8, 715.2 778.8\\nQ 716.5 778.8, 718.0 779.4\\nL 717.6 780.7\\nQ 716.3 780.1, 715.3 780.1\\nQ 714.2 780.1, 713.5 780.6\\nQ 712.9 781.0, 713.0 781.8\\nQ 713.0 782.4, 713.3 782.8\\nQ 713.6 783.2, 714.0 783.4\\nQ 714.5 783.6, 715.3 783.8\\nQ 716.3 784.1, 716.9 784.4\\nQ 717.5 784.8, 717.9 785.4\\nQ 718.4 786.1, 718.4 787.2\\nQ 718.4 788.7, 717.3 789.6\\nQ 716.3 790.4, 714.5 790.4\\nQ 713.5 790.4, 712.8 790.2\\nQ 712.0 790.0, 711.1 789.6\\nL 711.5 788.4\\n' fill='#000000'/>\\n<path  d='M 722.3 785.6\\nQ 722.3 787.9, 721.6 789.8\\nQ 721.0 791.6, 719.7 793.7\\nL 718.8 793.1\\nQ 719.8 791.1, 720.3 789.4\\nQ 720.9 787.7, 720.9 785.6\\nQ 720.9 783.4, 720.3 781.6\\nQ 719.8 779.9, 718.8 778.0\\nL 719.7 777.4\\nQ 721.0 779.5, 721.6 781.4\\nQ 722.3 783.2, 722.3 785.6\\n' fill='#000000'/>\\n<path  d='M 729.2 784.2\\nQ 730.2 784.5, 730.8 785.1\\nQ 731.4 785.8, 731.4 786.8\\nQ 731.4 788.3, 730.3 789.2\\nQ 729.4 790.1, 727.5 790.1\\nL 723.7 790.1\\nL 723.7 778.8\\nL 727.0 778.8\\nQ 728.9 778.8, 729.9 779.6\\nQ 730.9 780.4, 730.9 781.8\\nQ 730.9 783.5, 729.2 784.2\\nM 725.2 780.1\\nL 725.2 783.6\\nL 727.0 783.6\\nQ 728.1 783.6, 728.7 783.2\\nQ 729.3 782.7, 729.3 781.8\\nQ 729.3 780.1, 727.0 780.1\\nL 725.2 780.1\\nM 727.5 788.8\\nQ 728.6 788.8, 729.2 788.3\\nQ 729.8 787.8, 729.8 786.8\\nQ 729.8 785.8, 729.1 785.4\\nQ 728.5 784.9, 727.2 784.9\\nL 725.2 784.9\\nL 725.2 788.8\\nL 727.5 788.8\\n' fill='#000000'/>\\n<path  d='M 733.9 781.9\\nL 734.1 783.0\\nQ 735.0 781.7, 736.4 781.7\\nQ 736.8 781.7, 737.4 781.9\\nL 737.2 783.2\\nQ 736.5 783.1, 736.1 783.1\\nQ 735.4 783.1, 735.0 783.4\\nQ 734.6 783.6, 734.2 784.2\\nL 734.2 790.1\\nL 732.7 790.1\\nL 732.7 781.9\\nL 733.9 781.9\\n' fill='#000000'/>\\n<path class='bond-0 atom-0 atom-1' d='M 809.1,685.2 L 833.4,672.1' style='fill:none;fill-rule:evenodd;stroke:#000000;stroke-width:2.0px;stroke-linecap:butt;stroke-linejoin:miter;stroke-opacity:1' />\\n<path class='bond-1 atom-1 atom-2' d='M 833.4,672.1 L 843.6,678.3' style='fill:none;fill-rule:evenodd;stroke:#000000;stroke-width:2.0px;stroke-linecap:butt;stroke-linejoin:miter;stroke-opacity:1' />\\n<path class='bond-1 atom-1 atom-2' d='M 843.6,678.3 L 853.8,684.6' style='fill:none;fill-rule:evenodd;stroke:#CCCC00;stroke-width:2.0px;stroke-linecap:butt;stroke-linejoin:miter;stroke-opacity:1' />\\n<path class='bond-2 atom-2 atom-3' d='M 860.2,684.8 L 870.7,679.1' style='fill:none;fill-rule:evenodd;stroke:#CCCC00;stroke-width:2.0px;stroke-linecap:butt;stroke-linejoin:miter;stroke-opacity:1' />\\n<path class='bond-2 atom-2 atom-3' d='M 870.7,679.1 L 881.3,673.4' style='fill:none;fill-rule:evenodd;stroke:#000000;stroke-width:2.0px;stroke-linecap:butt;stroke-linejoin:miter;stroke-opacity:1' />\\n<path class='bond-3 atom-3 atom-4' d='M 881.3,673.4 L 904.8,687.9' style='fill:none;fill-rule:evenodd;stroke:#000000;stroke-width:2.0px;stroke-linecap:butt;stroke-linejoin:miter;stroke-opacity:1' />\\n<path class='bond-4 atom-4 atom-5' d='M 904.8,687.9 L 929.2,674.7' style='fill:none;fill-rule:evenodd;stroke:#000000;stroke-width:2.0px;stroke-linecap:butt;stroke-linejoin:miter;stroke-opacity:1' />\\n<path class='bond-5 atom-5 atom-6' d='M 929.2,674.7 L 952.7,689.2' style='fill:none;fill-rule:evenodd;stroke:#000000;stroke-width:2.0px;stroke-linecap:butt;stroke-linejoin:miter;stroke-opacity:1' />\\n<path class='bond-6 atom-6 atom-7' d='M 952.7,689.2 L 963.0,683.6' style='fill:none;fill-rule:evenodd;stroke:#000000;stroke-width:2.0px;stroke-linecap:butt;stroke-linejoin:miter;stroke-opacity:1' />\\n<path class='bond-6 atom-6 atom-7' d='M 963.0,683.6 L 973.4,678.1' style='fill:none;fill-rule:evenodd;stroke:#0000FF;stroke-width:2.0px;stroke-linecap:butt;stroke-linejoin:miter;stroke-opacity:1' />\\n<path  class='atom-2' d='M 854.8 689.3\\nQ 854.8 689.3, 855.2 689.4\\nQ 855.6 689.6, 856.0 689.7\\nQ 856.4 689.8, 856.8 689.8\\nQ 857.5 689.8, 857.9 689.4\\nQ 858.4 689.1, 858.4 688.4\\nQ 858.4 688.0, 858.2 687.7\\nQ 857.9 687.5, 857.6 687.3\\nQ 857.3 687.2, 856.7 687.0\\nQ 856.0 686.8, 855.6 686.6\\nQ 855.2 686.4, 854.9 686.0\\nQ 854.6 685.6, 854.6 684.9\\nQ 854.6 683.9, 855.3 683.3\\nQ 856.0 682.7, 857.3 682.7\\nQ 858.2 682.7, 859.2 683.1\\nL 859.0 683.9\\nQ 858.0 683.6, 857.3 683.6\\nQ 856.6 683.6, 856.1 683.9\\nQ 855.7 684.2, 855.7 684.7\\nQ 855.7 685.1, 855.9 685.4\\nQ 856.2 685.7, 856.5 685.8\\nQ 856.8 685.9, 857.3 686.1\\nQ 858.0 686.3, 858.4 686.6\\nQ 858.9 686.8, 859.2 687.2\\nQ 859.5 687.7, 859.5 688.4\\nQ 859.5 689.5, 858.7 690.1\\nQ 858.0 690.7, 856.8 690.7\\nQ 856.1 690.7, 855.6 690.5\\nQ 855.1 690.4, 854.5 690.1\\nL 854.8 689.3\\n' fill='#CCCC00'/>\\n<path  class='atom-7' d='M 975.3 672.2\\nL 977.9 676.3\\nQ 978.1 676.7, 978.5 677.5\\nQ 978.9 678.2, 979.0 678.3\\nL 979.0 672.2\\nL 980.0 672.2\\nL 980.0 680.0\\nL 978.9 680.0\\nL 976.2 675.5\\nQ 975.8 674.9, 975.5 674.3\\nQ 975.2 673.7, 975.1 673.5\\nL 975.1 680.0\\nL 974.1 680.0\\nL 974.1 672.2\\nL 975.3 672.2\\n' fill='#0000FF'/>\\n<path  class='atom-7' d='M 980.9 672.2\\nL 982.0 672.2\\nL 982.0 675.5\\nL 986.0 675.5\\nL 986.0 672.2\\nL 987.1 672.2\\nL 987.1 680.0\\nL 986.0 680.0\\nL 986.0 676.4\\nL 982.0 676.4\\nL 982.0 680.0\\nL 980.9 680.0\\nL 980.9 672.2\\n' fill='#0000FF'/>\\n<path  class='atom-7' d='M 987.4 679.7\\nQ 987.6 679.2, 988.1 679.0\\nQ 988.5 678.7, 989.2 678.7\\nQ 989.9 678.7, 990.4 679.1\\nQ 990.8 679.5, 990.8 680.3\\nQ 990.8 681.1, 990.3 681.8\\nQ 989.7 682.5, 988.5 683.3\\nL 990.9 683.3\\nL 990.9 683.9\\nL 987.4 683.9\\nL 987.4 683.4\\nQ 988.4 682.7, 989.0 682.2\\nQ 989.5 681.7, 989.8 681.3\\nQ 990.1 680.8, 990.1 680.3\\nQ 990.1 679.8, 989.8 679.5\\nQ 989.6 679.3, 989.2 679.3\\nQ 988.7 679.3, 988.5 679.4\\nQ 988.2 679.6, 988.0 680.0\\nL 987.4 679.7\\n' fill='#0000FF'/>\\n<path  d='M 858.7 788.3\\nQ 858.7 785.5, 860.0 784.0\\nQ 861.4 782.5, 863.9 782.5\\nQ 866.2 782.5, 867.5 784.2\\nL 866.4 785.0\\nQ 865.5 783.8, 863.9 783.8\\nQ 862.2 783.8, 861.3 785.0\\nQ 860.4 786.1, 860.4 788.3\\nQ 860.4 790.5, 861.3 791.7\\nQ 862.2 792.8, 864.1 792.8\\nQ 865.3 792.8, 866.8 792.1\\nL 867.2 793.3\\nQ 866.6 793.7, 865.7 793.9\\nQ 864.8 794.1, 863.8 794.1\\nQ 861.4 794.1, 860.0 792.6\\nQ 858.7 791.1, 858.7 788.3\\n' fill='#000000'/>\\n<path  d='M 868.3 788.3\\nQ 868.3 785.5, 869.6 784.0\\nQ 870.9 782.5, 873.4 782.5\\nQ 875.7 782.5, 877.0 784.2\\nL 875.9 785.0\\nQ 875.0 783.8, 873.4 783.8\\nQ 871.7 783.8, 870.8 785.0\\nQ 869.9 786.1, 869.9 788.3\\nQ 869.9 790.5, 870.8 791.7\\nQ 871.8 792.8, 873.6 792.8\\nQ 874.8 792.8, 876.3 792.1\\nL 876.7 793.3\\nQ 876.1 793.7, 875.3 793.9\\nQ 874.4 794.1, 873.4 794.1\\nQ 870.9 794.1, 869.6 792.6\\nQ 868.3 791.1, 868.3 788.3\\n' fill='#000000'/>\\n<path  d='M 878.2 792.2\\nQ 878.3 792.3, 878.8 792.5\\nQ 879.4 792.7, 879.9 792.8\\nQ 880.5 793.0, 881.1 793.0\\nQ 882.2 793.0, 882.8 792.5\\nQ 883.4 791.9, 883.4 791.0\\nQ 883.4 790.4, 883.1 790.0\\nQ 882.8 789.6, 882.3 789.4\\nQ 881.8 789.2, 881.0 789.0\\nQ 880.0 788.7, 879.4 788.4\\nQ 878.8 788.1, 878.4 787.5\\nQ 878.0 786.9, 878.0 785.9\\nQ 878.0 784.4, 878.9 783.6\\nQ 879.9 782.7, 881.8 782.7\\nQ 883.2 782.7, 884.6 783.3\\nL 884.3 784.5\\nQ 882.9 784.0, 881.9 784.0\\nQ 880.8 784.0, 880.2 784.4\\nQ 879.6 784.9, 879.6 785.7\\nQ 879.6 786.3, 879.9 786.6\\nQ 880.2 787.0, 880.7 787.2\\nQ 881.1 787.4, 881.9 787.7\\nQ 882.9 788.0, 883.5 788.3\\nQ 884.1 788.6, 884.6 789.3\\nQ 885.0 789.9, 885.0 791.0\\nQ 885.0 792.6, 884.0 793.4\\nQ 882.9 794.3, 881.2 794.3\\nQ 880.2 794.3, 879.4 794.0\\nQ 878.6 793.8, 877.7 793.5\\nL 878.2 792.2\\n' fill='#000000'/>\\n<path  d='M 885.8 788.3\\nQ 885.8 785.5, 887.1 784.0\\nQ 888.5 782.5, 891.0 782.5\\nQ 893.3 782.5, 894.5 784.2\\nL 893.5 785.0\\nQ 892.6 783.8, 891.0 783.8\\nQ 889.3 783.8, 888.3 785.0\\nQ 887.4 786.1, 887.4 788.3\\nQ 887.4 790.5, 888.4 791.7\\nQ 889.3 792.8, 891.1 792.8\\nQ 892.4 792.8, 893.8 792.1\\nL 894.3 793.3\\nQ 893.7 793.7, 892.8 793.9\\nQ 891.9 794.1, 890.9 794.1\\nQ 888.5 794.1, 887.1 792.6\\nQ 885.8 791.1, 885.8 788.3\\n' fill='#000000'/>\\n<path  d='M 895.3 788.3\\nQ 895.3 785.5, 896.7 784.0\\nQ 898.0 782.5, 900.5 782.5\\nQ 902.8 782.5, 904.1 784.2\\nL 903.0 785.0\\nQ 902.1 783.8, 900.5 783.8\\nQ 898.8 783.8, 897.9 785.0\\nQ 897.0 786.1, 897.0 788.3\\nQ 897.0 790.5, 897.9 791.7\\nQ 898.9 792.8, 900.7 792.8\\nQ 901.9 792.8, 903.4 792.1\\nL 903.8 793.3\\nQ 903.2 793.7, 902.3 793.9\\nQ 901.4 794.1, 900.5 794.1\\nQ 898.0 794.1, 896.7 792.6\\nQ 895.3 791.1, 895.3 788.3\\n' fill='#000000'/>\\n<path  d='M 904.9 788.3\\nQ 904.9 785.5, 906.2 784.0\\nQ 907.5 782.5, 910.0 782.5\\nQ 912.4 782.5, 913.6 784.2\\nL 912.6 785.0\\nQ 911.7 783.8, 910.0 783.8\\nQ 908.3 783.8, 907.4 785.0\\nQ 906.5 786.1, 906.5 788.3\\nQ 906.5 790.5, 907.4 791.7\\nQ 908.4 792.8, 910.2 792.8\\nQ 911.5 792.8, 912.9 792.1\\nL 913.4 793.3\\nQ 912.8 793.7, 911.9 793.9\\nQ 911.0 794.1, 910.0 794.1\\nQ 907.5 794.1, 906.2 792.6\\nQ 904.9 791.1, 904.9 788.3\\n' fill='#000000'/>\\n<path  d='M 914.4 788.3\\nQ 914.4 785.5, 915.7 784.0\\nQ 917.1 782.5, 919.6 782.5\\nQ 921.9 782.5, 923.2 784.2\\nL 922.1 785.0\\nQ 921.2 783.8, 919.6 783.8\\nQ 917.9 783.8, 916.9 785.0\\nQ 916.1 786.1, 916.1 788.3\\nQ 916.1 790.5, 917.0 791.7\\nQ 917.9 792.8, 919.7 792.8\\nQ 921.0 792.8, 922.5 792.1\\nL 922.9 793.3\\nQ 922.3 793.7, 921.4 793.9\\nQ 920.5 794.1, 919.5 794.1\\nQ 917.1 794.1, 915.7 792.6\\nQ 914.4 791.1, 914.4 788.3\\n' fill='#000000'/>\\n<path  d='M 926.3 782.6\\nL 930.0 788.6\\nQ 930.4 789.2, 930.9 790.3\\nQ 931.5 791.4, 931.6 791.4\\nL 931.6 782.6\\nL 933.1 782.6\\nL 933.1 794.0\\nL 931.5 794.0\\nL 927.5 787.4\\nQ 927.1 786.6, 926.6 785.8\\nQ 926.1 784.9, 926.0 784.6\\nL 926.0 794.0\\nL 924.5 794.0\\nL 924.5 782.6\\nL 926.3 782.6\\n' fill='#000000'/>\\n</svg>\\n\""
            ]
          },
          "metadata": {},
          "execution_count": 8
        }
      ],
      "source": [
        "from rdkit.Chem import Draw\n",
        "\n",
        "number_to_print = 20\n",
        "mols = df['mol'][:number_to_print]\n",
        "\n",
        "#MolsToGridImage allows to show several molecules in a grid\n",
        "Draw.MolsToGridImage(mols, molsPerRow=5, useSVG=True, legends=list(df['smiles'][:number_to_print].values))"
      ]
    },
    {
      "cell_type": "markdown",
      "id": "f1c768e6",
      "metadata": {
        "id": "f1c768e6"
      },
      "source": [
        "## View it in 3D\n",
        "There's a nice Python package called [py3Dmol](https://3dmol.csb.pitt.edu/) which creates 3D images from the *Mol* object. This is not necessary, but it does create pretty pictures of our molecules that can be rotated and zoomed."
      ]
    },
    {
      "cell_type": "code",
      "execution_count": 9,
      "id": "1ac479bb",
      "metadata": {
        "scrolled": false,
        "id": "1ac479bb",
        "outputId": "e3812953-bafb-4bcf-bd60-e5d02899477b",
        "colab": {
          "base_uri": "https://localhost:8080/",
          "height": 416,
          "referenced_widgets": [
            "3bd9b4be930d43dd9d59a3a96e941acb",
            "b64ba73a7ebf42ffaf781bcc6e5b7dfc",
            "be228d4887ba49e4a25c82172bf52f79",
            "a60934122aaf4d6491844d10577d9d39",
            "b31a0c550040477b968ead2081b1b81a",
            "7d5162eb28064464a906cfeac2cd11f2",
            "f0ca04f1f8fe4d1aa7a01004b19371e7",
            "c152fb68ca0f4eb290929e335e89cf67",
            "396b4bff2e3940b5a7f8b9fa565d5cec",
            "9358514668274dfc9319949bf2c8f7d8"
          ]
        }
      },
      "outputs": [
        {
          "output_type": "display_data",
          "data": {
            "application/vnd.jupyter.widget-view+json": {
              "model_id": "3bd9b4be930d43dd9d59a3a96e941acb",
              "version_minor": 0,
              "version_major": 2
            },
            "text/plain": [
              "interactive(children=(IntSlider(value=3064, description='Molecule', max=14609), Dropdown(description='Style:',…"
            ]
          },
          "metadata": {}
        }
      ],
      "source": [
        "import py3Dmol  # pip install py3Dmol\n",
        "from ipywidgets import interact,fixed,IntSlider\n",
        "import ipywidgets\n",
        "\n",
        "def show3D_molecule(idx, style):\n",
        "    \"\"\"\n",
        "    Show molecule in 3D\n",
        "    \"\"\"\n",
        "    mblock = Chem.MolToMolBlock(df['mol'].iloc[idx])\n",
        "    viewer = py3Dmol.view(width=300, height=300)\n",
        "    viewer.addModel(mblock, 'mol')\n",
        "    viewer.setStyle({style:{}})\n",
        "    viewer.rotate(45, \"y\", animationDuration=1)\n",
        "   \n",
        "    viewer.zoomTo()\n",
        "    \n",
        "    print(f\"SMILES notation: {df['smiles'].iloc[idx]}\\nRotate me!\");\n",
        "    \n",
        "    return viewer.show()\n",
        "  \n",
        "interact(show3D_molecule, \n",
        "         idx=ipywidgets.IntSlider(min=0,max=len(df[\"mol\"])-1, \n",
        "                                  step=1, value=3064, \n",
        "                                  description=\"Molecule\"),\n",
        "         style=ipywidgets.Dropdown(options=['line', 'stick', 'sphere'],\n",
        "                                   value='stick',\n",
        "                                   description='Style:'));"
      ]
    },
    {
      "cell_type": "markdown",
      "id": "b56d0f9e",
      "metadata": {
        "id": "b56d0f9e"
      },
      "source": [
        "## Use RD-Kit to create features for the model\n",
        "\n",
        "Now that we have the molecule in *Mol* format, we can use RD-Kit's built in functions to create new features for our model. For example, we can add columns for the number of total atoms in the molecule and the number **Chloride (Cl)** atoms in the molecule. These features might be important in predicting **logP**. "
      ]
    },
    {
      "cell_type": "markdown",
      "id": "9b063040",
      "metadata": {
        "id": "9b063040"
      },
      "source": [
        "Note: The first function we use is `Chem.AddHs`. Typically, the SMILES format does not explicitly show the **Hydrogen atoms (H)**. They are implied. It actually helps us a bit in our model accuracy to specifically add these back. (Try commenting out the next line to see its effect on model performance.) "
      ]
    },
    {
      "cell_type": "code",
      "execution_count": 10,
      "id": "37187a8e",
      "metadata": {
        "id": "37187a8e"
      },
      "outputs": [],
      "source": [
        "# AddHs function adds H atoms to a MOL (as Hs in SMILES are usualy ignored)\n",
        "df['mol'] = df['mol'].apply(lambda x: Chem.AddHs(x))"
      ]
    },
    {
      "cell_type": "markdown",
      "id": "6fd351df",
      "metadata": {
        "id": "6fd351df"
      },
      "source": [
        "## Additional features\n",
        "\n",
        "Let's add some other features such as the number of atoms in the molecule and the number of \"heavy\" atoms in the molecule. These might be important in determining the logP value. Look through the [RD-Kit documentation](https://www.rdkit.org/docs/source/rdkit.Chem.Lipinski.html) to add more features if you'd like to get a better model. "
      ]
    },
    {
      "cell_type": "code",
      "execution_count": 11,
      "id": "4fa3fc00",
      "metadata": {
        "id": "4fa3fc00"
      },
      "outputs": [],
      "source": [
        "# GetNumAtoms() method returns a general nubmer of all atoms in a molecule\n",
        "df['num_of_atoms'] = df['mol'].apply(lambda x: x.GetNumAtoms())\n",
        "\n",
        "# GetNumHeavyAtoms() method returns a nubmer of all atoms in a molecule with molecular weight > 1\n",
        "df['num_of_heavy_atoms'] = df['mol'].apply(lambda x: x.GetNumHeavyAtoms())"
      ]
    },
    {
      "cell_type": "code",
      "execution_count": 12,
      "id": "e8712883",
      "metadata": {
        "id": "e8712883"
      },
      "outputs": [],
      "source": [
        "#We're going to searches patterns and use it for a list of most common atoms only\n",
        "def number_of_atoms(atom_list, df):\n",
        "    for i in atom_list:\n",
        "        df['num_of_{}_atoms'.format(i)] = df['mol'].apply(lambda x: len(x.GetSubstructMatches(Chem.MolFromSmiles(i))))\n",
        "\n",
        "number_of_atoms(['C', 'O', 'N', 'Cl', 'P', 'Br', 'F'], df)"
      ]
    },
    {
      "cell_type": "code",
      "execution_count": 13,
      "id": "1a5393aa",
      "metadata": {
        "id": "1a5393aa"
      },
      "outputs": [],
      "source": [
        "from rdkit.Chem import Descriptors\n",
        "df['tpsa'] = df['mol'].apply(lambda x: Descriptors.TPSA(x)) #https://en.wikipedia.org/wiki/Polar_surface_area\n",
        "df['mol_w'] = df['mol'].apply(lambda x: Descriptors.ExactMolWt(x)) # https://en.wikipedia.org/wiki/Molecular_mass\n",
        "df['num_valence_electrons'] = df['mol'].apply(lambda x: Descriptors.NumValenceElectrons(x)) # https://en.wikipedia.org/wiki/Valence_electron\n",
        "df['num_heteroatoms'] = df['mol'].apply(lambda x: Descriptors.NumHeteroatoms(x))"
      ]
    },
    {
      "cell_type": "code",
      "execution_count": 14,
      "id": "31190607",
      "metadata": {
        "id": "31190607",
        "outputId": "ad5d082d-d710-44d8-fa3e-07f20695494a",
        "colab": {
          "base_uri": "https://localhost:8080/",
          "height": 337
        }
      },
      "outputs": [
        {
          "output_type": "execute_result",
          "data": {
            "text/html": [
              "\n",
              "  <div id=\"df-2f97f916-70f9-45d4-a6a6-7d33a2af2a91\">\n",
              "    <div class=\"colab-df-container\">\n",
              "      <div>\n",
              "<style scoped>\n",
              "    .dataframe tbody tr th:only-of-type {\n",
              "        vertical-align: middle;\n",
              "    }\n",
              "\n",
              "    .dataframe tbody tr th {\n",
              "        vertical-align: top;\n",
              "    }\n",
              "\n",
              "    .dataframe thead th {\n",
              "        text-align: right;\n",
              "    }\n",
              "</style>\n",
              "<table border=\"1\" class=\"dataframe\">\n",
              "  <thead>\n",
              "    <tr style=\"text-align: right;\">\n",
              "      <th></th>\n",
              "      <th>smiles</th>\n",
              "      <th>logP</th>\n",
              "      <th>mol</th>\n",
              "      <th>num_of_atoms</th>\n",
              "      <th>num_of_heavy_atoms</th>\n",
              "      <th>num_of_C_atoms</th>\n",
              "      <th>num_of_O_atoms</th>\n",
              "      <th>num_of_N_atoms</th>\n",
              "      <th>num_of_Cl_atoms</th>\n",
              "      <th>num_of_P_atoms</th>\n",
              "      <th>num_of_Br_atoms</th>\n",
              "      <th>num_of_F_atoms</th>\n",
              "      <th>tpsa</th>\n",
              "      <th>mol_w</th>\n",
              "      <th>num_valence_electrons</th>\n",
              "      <th>num_heteroatoms</th>\n",
              "    </tr>\n",
              "  </thead>\n",
              "  <tbody>\n",
              "    <tr>\n",
              "      <th>0</th>\n",
              "      <td>C[C@H]([C@@H](C)Cl)Cl</td>\n",
              "      <td>2.3</td>\n",
              "      <td>&lt;rdkit.Chem.rdchem.Mol object at 0x7f0449f1c670&gt;</td>\n",
              "      <td>14</td>\n",
              "      <td>6</td>\n",
              "      <td>4</td>\n",
              "      <td>0</td>\n",
              "      <td>0</td>\n",
              "      <td>2</td>\n",
              "      <td>0</td>\n",
              "      <td>0</td>\n",
              "      <td>0</td>\n",
              "      <td>0.00</td>\n",
              "      <td>126.000306</td>\n",
              "      <td>38</td>\n",
              "      <td>2</td>\n",
              "    </tr>\n",
              "    <tr>\n",
              "      <th>1</th>\n",
              "      <td>C(C=CBr)N</td>\n",
              "      <td>0.3</td>\n",
              "      <td>&lt;rdkit.Chem.rdchem.Mol object at 0x7f0449f1ce40&gt;</td>\n",
              "      <td>11</td>\n",
              "      <td>5</td>\n",
              "      <td>3</td>\n",
              "      <td>0</td>\n",
              "      <td>1</td>\n",
              "      <td>0</td>\n",
              "      <td>0</td>\n",
              "      <td>1</td>\n",
              "      <td>0</td>\n",
              "      <td>26.02</td>\n",
              "      <td>134.968361</td>\n",
              "      <td>30</td>\n",
              "      <td>2</td>\n",
              "    </tr>\n",
              "    <tr>\n",
              "      <th>2</th>\n",
              "      <td>CCC(CO)Br</td>\n",
              "      <td>1.3</td>\n",
              "      <td>&lt;rdkit.Chem.rdchem.Mol object at 0x7f0449f1c760&gt;</td>\n",
              "      <td>15</td>\n",
              "      <td>6</td>\n",
              "      <td>4</td>\n",
              "      <td>1</td>\n",
              "      <td>0</td>\n",
              "      <td>0</td>\n",
              "      <td>0</td>\n",
              "      <td>1</td>\n",
              "      <td>0</td>\n",
              "      <td>20.23</td>\n",
              "      <td>151.983677</td>\n",
              "      <td>38</td>\n",
              "      <td>2</td>\n",
              "    </tr>\n",
              "    <tr>\n",
              "      <th>3</th>\n",
              "      <td>[13CH3][13CH2][13CH2][13CH2][13CH2][13CH2]O</td>\n",
              "      <td>2.0</td>\n",
              "      <td>&lt;rdkit.Chem.rdchem.Mol object at 0x7f0449f1cc10&gt;</td>\n",
              "      <td>21</td>\n",
              "      <td>7</td>\n",
              "      <td>6</td>\n",
              "      <td>1</td>\n",
              "      <td>0</td>\n",
              "      <td>0</td>\n",
              "      <td>0</td>\n",
              "      <td>0</td>\n",
              "      <td>0</td>\n",
              "      <td>20.23</td>\n",
              "      <td>108.124594</td>\n",
              "      <td>44</td>\n",
              "      <td>1</td>\n",
              "    </tr>\n",
              "    <tr>\n",
              "      <th>4</th>\n",
              "      <td>CCCOCCP</td>\n",
              "      <td>0.6</td>\n",
              "      <td>&lt;rdkit.Chem.rdchem.Mol object at 0x7f0449f1cda0&gt;</td>\n",
              "      <td>20</td>\n",
              "      <td>7</td>\n",
              "      <td>5</td>\n",
              "      <td>1</td>\n",
              "      <td>0</td>\n",
              "      <td>0</td>\n",
              "      <td>1</td>\n",
              "      <td>0</td>\n",
              "      <td>0</td>\n",
              "      <td>9.23</td>\n",
              "      <td>120.070402</td>\n",
              "      <td>44</td>\n",
              "      <td>2</td>\n",
              "    </tr>\n",
              "  </tbody>\n",
              "</table>\n",
              "</div>\n",
              "      <button class=\"colab-df-convert\" onclick=\"convertToInteractive('df-2f97f916-70f9-45d4-a6a6-7d33a2af2a91')\"\n",
              "              title=\"Convert this dataframe to an interactive table.\"\n",
              "              style=\"display:none;\">\n",
              "        \n",
              "  <svg xmlns=\"http://www.w3.org/2000/svg\" height=\"24px\"viewBox=\"0 0 24 24\"\n",
              "       width=\"24px\">\n",
              "    <path d=\"M0 0h24v24H0V0z\" fill=\"none\"/>\n",
              "    <path d=\"M18.56 5.44l.94 2.06.94-2.06 2.06-.94-2.06-.94-.94-2.06-.94 2.06-2.06.94zm-11 1L8.5 8.5l.94-2.06 2.06-.94-2.06-.94L8.5 2.5l-.94 2.06-2.06.94zm10 10l.94 2.06.94-2.06 2.06-.94-2.06-.94-.94-2.06-.94 2.06-2.06.94z\"/><path d=\"M17.41 7.96l-1.37-1.37c-.4-.4-.92-.59-1.43-.59-.52 0-1.04.2-1.43.59L10.3 9.45l-7.72 7.72c-.78.78-.78 2.05 0 2.83L4 21.41c.39.39.9.59 1.41.59.51 0 1.02-.2 1.41-.59l7.78-7.78 2.81-2.81c.8-.78.8-2.07 0-2.86zM5.41 20L4 18.59l7.72-7.72 1.47 1.35L5.41 20z\"/>\n",
              "  </svg>\n",
              "      </button>\n",
              "      \n",
              "  <style>\n",
              "    .colab-df-container {\n",
              "      display:flex;\n",
              "      flex-wrap:wrap;\n",
              "      gap: 12px;\n",
              "    }\n",
              "\n",
              "    .colab-df-convert {\n",
              "      background-color: #E8F0FE;\n",
              "      border: none;\n",
              "      border-radius: 50%;\n",
              "      cursor: pointer;\n",
              "      display: none;\n",
              "      fill: #1967D2;\n",
              "      height: 32px;\n",
              "      padding: 0 0 0 0;\n",
              "      width: 32px;\n",
              "    }\n",
              "\n",
              "    .colab-df-convert:hover {\n",
              "      background-color: #E2EBFA;\n",
              "      box-shadow: 0px 1px 2px rgba(60, 64, 67, 0.3), 0px 1px 3px 1px rgba(60, 64, 67, 0.15);\n",
              "      fill: #174EA6;\n",
              "    }\n",
              "\n",
              "    [theme=dark] .colab-df-convert {\n",
              "      background-color: #3B4455;\n",
              "      fill: #D2E3FC;\n",
              "    }\n",
              "\n",
              "    [theme=dark] .colab-df-convert:hover {\n",
              "      background-color: #434B5C;\n",
              "      box-shadow: 0px 1px 3px 1px rgba(0, 0, 0, 0.15);\n",
              "      filter: drop-shadow(0px 1px 2px rgba(0, 0, 0, 0.3));\n",
              "      fill: #FFFFFF;\n",
              "    }\n",
              "  </style>\n",
              "\n",
              "      <script>\n",
              "        const buttonEl =\n",
              "          document.querySelector('#df-2f97f916-70f9-45d4-a6a6-7d33a2af2a91 button.colab-df-convert');\n",
              "        buttonEl.style.display =\n",
              "          google.colab.kernel.accessAllowed ? 'block' : 'none';\n",
              "\n",
              "        async function convertToInteractive(key) {\n",
              "          const element = document.querySelector('#df-2f97f916-70f9-45d4-a6a6-7d33a2af2a91');\n",
              "          const dataTable =\n",
              "            await google.colab.kernel.invokeFunction('convertToInteractive',\n",
              "                                                     [key], {});\n",
              "          if (!dataTable) return;\n",
              "\n",
              "          const docLinkHtml = 'Like what you see? Visit the ' +\n",
              "            '<a target=\"_blank\" href=https://colab.research.google.com/notebooks/data_table.ipynb>data table notebook</a>'\n",
              "            + ' to learn more about interactive tables.';\n",
              "          element.innerHTML = '';\n",
              "          dataTable['output_type'] = 'display_data';\n",
              "          await google.colab.output.renderOutput(dataTable, element);\n",
              "          const docLink = document.createElement('div');\n",
              "          docLink.innerHTML = docLinkHtml;\n",
              "          element.appendChild(docLink);\n",
              "        }\n",
              "      </script>\n",
              "    </div>\n",
              "  </div>\n",
              "  "
            ],
            "text/plain": [
              "                                        smiles  ...  num_heteroatoms\n",
              "0                        C[C@H]([C@@H](C)Cl)Cl  ...                2\n",
              "1                                    C(C=CBr)N  ...                2\n",
              "2                                    CCC(CO)Br  ...                2\n",
              "3  [13CH3][13CH2][13CH2][13CH2][13CH2][13CH2]O  ...                1\n",
              "4                                      CCCOCCP  ...                2\n",
              "\n",
              "[5 rows x 16 columns]"
            ]
          },
          "metadata": {},
          "execution_count": 14
        }
      ],
      "source": [
        "df.head()"
      ]
    },
    {
      "cell_type": "markdown",
      "id": "5ef29b9d",
      "metadata": {
        "id": "5ef29b9d"
      },
      "source": [
        "## Use the GenSim word2vec model\n",
        "\n",
        "[GenSim](https://radimrehurek.com/gensim/index.html#) is a natural language processing ([NLP](https://en.wikipedia.org/wiki/Natural_language_processing)) Python library for creating topic modeling and word embedding ([word vectors](https://en.wikipedia.org/wiki/Word2vec)). A word vector contains a list of floating point numbers that uniquely identify the word (see figure below). Remember that computers only really understand numbers (not language) so we need to convert the SMILES notation to a vector of numbers in order to use it in machine learning. If we do it correctly, then vectors that are \"close\" together in this word space are typically similar in meaning. More information on word embeddings can be found [here](https://en.wikipedia.org/wiki/Word_embedding).\n",
        "\n",
        "For our model, we'll consider each molecule to be a \"word\" in the language of chemistry. So **C\\[C@H\\](\\[C@@H\\](C)Cl)Cl** could replace **Houses** in the figure below and **C(C=CBr)N** could replace **puppy**. We can then create a word vector embedding for our molecule (the numbers in **d1-d7**). In this case, we'll use vectors of length 300 and vectors that are close together represent molecules which should have similar chemical properties (including logP if we are lucky).\n",
        "\n",
        "<br>\n",
        "<br>\n",
        "\n",
        "![word embeddings](https://journals.plos.org/plosone/article/figure/image?size=large&download=&id=10.1371/journal.pone.0231189.g008)\n",
        "\n",
        "Figure citation: Rozado D (2020) Wide range screening of algorithmic bias in word embedding models using large sentiment lexicons reveals underreported bias types. PLoS ONE 15(4): e0231189. https://doi.org/10.1371/journal.pone.0231189, Creative commons license"
      ]
    },
    {
      "cell_type": "markdown",
      "id": "5916093a",
      "metadata": {
        "id": "5916093a"
      },
      "source": [
        "## mol2vec\n",
        "\n",
        "[Mol2Vec](https://pubs.acs.org/doi/10.1021/acs.jcim.7b00616) is an unsupervised machine learning approach to learn vector representations (word embeddings) of molecular substructures. We've already converted the SMILES notation of the chemical into a Mol Python object. Mol2Vec converts that object into a word2vec vector (a sentence) that we will use as an additional feature of the model."
      ]
    },
    {
      "cell_type": "markdown",
      "id": "3db2c9d1",
      "metadata": {
        "id": "3db2c9d1"
      },
      "source": [
        "## Installing GenSim and Mol2Vec \n",
        "\n",
        "`pip install git+https://github.com/samoturk/mol2vec` which will get [GenSim](https://radimrehurek.com/gensim/index.html) and [mol2vec](https://github.com/samoturk/mol2vec).\n",
        "\n",
        "Note: mol2vec currently has an error with GenSim 4. \n",
        "\n",
        ">AttributeError: The vocab attribute was removed from KeyedVector in Gensim 4.0.0.\n",
        "Use KeyedVector's .key_to_index dict, .index_to_key list, and methods .get_vecattr(key, attr) and .set_vecattr(key, attr, new_val) instead.\n",
        "See https://github.com/RaRe-Technologies/gensim/wiki/Migrating-from-Gensim-3.x-to-4\n",
        "\n",
        "I have created a [patch](https://github.com/samoturk/mol2vec/pull/16) here which you can just use to overwrite the file on your system. (Hopefully, the PR will be merged and this step won't be needed.) On my system, the `features.py` file is `~/anaconda3/envs/chem/lib/python3.8/site-packages/mol2vec/features.py` so I did.\n",
        "\n",
        "`wget https://raw.githubusercontent.com/tonyreina/mol2vec/master/mol2vec/features.py -O ~/anaconda3/envs/chem/lib/python3.8/site-packages/mol2vec/features.py`\n",
        "\n",
        "You may need to restart the Jupyter Notebook server for the change to take effect.\n",
        "\n",
        "You should also download the pre-trained [model_300dim.pkl](https://github.com/samoturk/mol2vec_notebooks/blob/master/Notebooks/model_300dim.pkl)"
      ]
    },
    {
      "cell_type": "code",
      "execution_count": 15,
      "id": "309b1167",
      "metadata": {
        "id": "309b1167",
        "outputId": "2212cbca-c1f3-45b0-a788-b83992ab78bb",
        "colab": {
          "base_uri": "https://localhost:8080/"
        }
      },
      "outputs": [
        {
          "output_type": "execute_result",
          "data": {
            "text/plain": [
              "26567327"
            ]
          },
          "metadata": {},
          "execution_count": 15
        }
      ],
      "source": [
        "import requests\n",
        "\n",
        "url = 'https://github.com/samoturk/mol2vec_notebooks/raw/master/Notebooks/model_300dim.pkl'\n",
        "file_to_download = requests.get(url, allow_redirects=True)\n",
        "\n",
        "open('model_300dim.pkl', 'wb').write(file_to_download.content)"
      ]
    },
    {
      "cell_type": "code",
      "execution_count": 20,
      "id": "c821376a",
      "metadata": {
        "scrolled": true,
        "id": "c821376a"
      },
      "outputs": [],
      "source": [
        "from mol2vec.features import mol2alt_sentence, mol2sentence, MolSentence, DfVec, sentences2vec"
      ]
    },
    {
      "cell_type": "code",
      "execution_count": 21,
      "id": "65b42caf",
      "metadata": {
        "id": "65b42caf"
      },
      "outputs": [],
      "source": [
        "#Loading pre-trained model via word2vec\n",
        "from gensim.models import word2vec  # https://radimrehurek.com/gensim/index.html#install\n",
        "w2vec_model = word2vec.Word2Vec.load('model_300dim.pkl') # Download from https://github.com/samoturk/mol2vec_notebooks/blob/master/Notebooks/model_300dim.pkl"
      ]
    },
    {
      "cell_type": "markdown",
      "id": "f888980b",
      "metadata": {
        "id": "f888980b"
      },
      "source": [
        "## Mol2Vec Sentences"
      ]
    },
    {
      "cell_type": "code",
      "execution_count": 22,
      "id": "eabfda09",
      "metadata": {
        "id": "eabfda09"
      },
      "outputs": [],
      "source": [
        "#Constructing sentences\n",
        "df['sentence'] = df.apply(lambda x: MolSentence(mol2alt_sentence(x['mol'], 1)), axis=1)\n",
        "\n",
        "#Extracting embeddings to a numpy.array\n",
        "#Note that we always should mark unseen='UNK' in sentence2vec() so that model is taught how to handle unknown substructures\n",
        "df['mol2vec'] = [DfVec(x) for x in sentences2vec(df['sentence'], w2vec_model, unseen='UNK')]\n",
        "\n",
        "y = df['logP'].values\n",
        "X = np.array([x.vec for x in df['mol2vec']])"
      ]
    },
    {
      "cell_type": "markdown",
      "id": "30d391b1",
      "metadata": {
        "id": "30d391b1"
      },
      "source": [
        "## Combine features\n",
        "\n",
        "Here we'll combine the Mol2Vec Sentences (a chemical word2vec vector) with the RD-Kit calculated features (such as, number of Oxygen atoms in the molecule). We'll use these to predict the logP value."
      ]
    },
    {
      "cell_type": "code",
      "execution_count": 23,
      "id": "acf70010",
      "metadata": {
        "id": "acf70010"
      },
      "outputs": [],
      "source": [
        "X = pd.concat((pd.DataFrame(X), df.drop([\"mol2vec\", \"sentence\", \"smiles\", \"mol\", \"logP\"], axis=1)), axis=1)"
      ]
    },
    {
      "cell_type": "markdown",
      "id": "0cf0607c",
      "metadata": {
        "id": "0cf0607c"
      },
      "source": [
        "## Train/Validation/Test Splits\n",
        "\n",
        "Finally, we split the data into random training, validation, and testing splits as we would for any machine learning project.\n",
        "\n",
        "`!pip install scikit-learn`"
      ]
    },
    {
      "cell_type": "code",
      "execution_count": 24,
      "id": "f8ca22ba",
      "metadata": {
        "id": "f8ca22ba"
      },
      "outputs": [],
      "source": [
        "from sklearn.linear_model import RidgeCV   #!pip install scikit-learn\n",
        "from sklearn.model_selection import train_test_split\n",
        "from sklearn.metrics import mean_absolute_error, mean_squared_error\n",
        "\n",
        "X_train, X_remain, y_train, y_remain = train_test_split(X, y, test_size=.2, random_state=816)\n",
        "X_val, X_test, y_val, y_test = train_test_split(X_remain, y_remain, test_size=.5, random_state=817)"
      ]
    },
    {
      "cell_type": "markdown",
      "id": "a13fc118",
      "metadata": {
        "id": "a13fc118"
      },
      "source": [
        "## Ridge regression\n",
        "\n",
        "Let's first try a [ridge regression](https://scikit-learn.org/stable/modules/generated/sklearn.linear_model.ridge_regression.html?highlight=regression#sklearn.linear_model.ridge_regression) model using Scikit Learn to predict the [logP](https://en.wikipedia.org/wiki/Partition_coefficient_) from the [Mol2Vec](https://github.com/samoturk/mol2vec).\n",
        "\n",
        "Feel free to try other classical machine learning regression models if you'd like."
      ]
    },
    {
      "cell_type": "code",
      "execution_count": 25,
      "id": "f961acd0",
      "metadata": {
        "id": "f961acd0",
        "outputId": "02b8dbf9-53bb-43db-aaf0-a7866e3342e2",
        "colab": {
          "base_uri": "https://localhost:8080/"
        }
      },
      "outputs": [
        {
          "output_type": "stream",
          "name": "stderr",
          "text": [
            "/usr/local/lib/python3.7/dist-packages/sklearn/utils/validation.py:1692: FutureWarning: Feature names only support names that are all strings. Got feature names with dtypes: ['int', 'str']. An error will be raised in 1.2.\n",
            "  FutureWarning,\n"
          ]
        },
        {
          "output_type": "execute_result",
          "data": {
            "text/plain": [
              "RidgeCV(alphas=array([ 0.1,  1. , 10. ]))"
            ]
          },
          "metadata": {},
          "execution_count": 25
        }
      ],
      "source": [
        "ridge_model = RidgeCV()\n",
        "ridge_model.fit(X_train, y_train)"
      ]
    },
    {
      "cell_type": "markdown",
      "id": "449e2d22",
      "metadata": {
        "id": "449e2d22"
      },
      "source": [
        "## Plot the performance of the model\n",
        "\n",
        "We'll plot the accuracy of the model predictions using the function below."
      ]
    },
    {
      "cell_type": "code",
      "execution_count": 26,
      "id": "2de22a2a",
      "metadata": {
        "id": "2de22a2a"
      },
      "outputs": [],
      "source": [
        "def plot_evaluation(model, X_test, y_test, title=\"Test\"):\n",
        "    \"\"\"\n",
        "    Scatter plot between target and prediction logP values\n",
        "    \"\"\"\n",
        "    \n",
        "    prediction = np.squeeze(model.predict(X_test))\n",
        "    mae = mean_absolute_error(y_test, prediction)\n",
        "    mse = mean_squared_error(y_test, prediction)\n",
        "\n",
        "    plt.figure(figsize=(10,10))\n",
        "    sns.regplot(x=prediction, y=y_test, scatter_kws={\"color\": \"blue\"}, line_kws={\"color\": \"red\"});\n",
        "    plt.xlabel('Model Prediction', fontsize=24);\n",
        "    plt.ylabel('Measured logP', fontsize=24);\n",
        "    plt.xticks(fontsize=24);\n",
        "    plt.yticks(fontsize=24);\n",
        "    plt.suptitle('Predicting logP from SMILES', fontsize=32);\n",
        "    plt.title(f'{title}: MAE = {mae:.3f}, MSE = {mse:.3f}', fontsize=24);\n",
        "    plt.grid(True);\n",
        "         \n",
        "    cc = np.corrcoef(y_test, prediction)\n",
        "    plt.text(-1.5, 2, f\"Correlation\\ncoefficient\\n{cc[0][1]:.4f}\", fontsize=24, \n",
        "             horizontalalignment=\"center\", backgroundcolor=\"black\", color=\"white\")\n",
        "#     print('MAE score:', round(mae, 4))\n",
        "#     print('MSE score:', round(mse,4))"
      ]
    },
    {
      "cell_type": "code",
      "execution_count": 27,
      "id": "22b75c1a",
      "metadata": {
        "id": "22b75c1a",
        "outputId": "17677ef0-45c6-4fab-afc6-72ad11a27eff",
        "colab": {
          "base_uri": "https://localhost:8080/",
          "height": 740
        }
      },
      "outputs": [
        {
          "output_type": "stream",
          "name": "stderr",
          "text": [
            "/usr/local/lib/python3.7/dist-packages/sklearn/utils/validation.py:1692: FutureWarning: Feature names only support names that are all strings. Got feature names with dtypes: ['int', 'str']. An error will be raised in 1.2.\n",
            "  FutureWarning,\n"
          ]
        },
        {
          "output_type": "display_data",
          "data": {
            "image/png": "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\n",
            "text/plain": [
              "<Figure size 720x720 with 1 Axes>"
            ]
          },
          "metadata": {
            "needs_background": "light"
          }
        }
      ],
      "source": [
        "plot_evaluation(ridge_model, X_test, y_test, \"Ridge model\")"
      ]
    },
    {
      "cell_type": "markdown",
      "id": "20fe88f4",
      "metadata": {
        "id": "20fe88f4"
      },
      "source": [
        "## Plot some example predictions\n",
        "\n",
        "Let's plot the molecular structure and measured/predicted logP values."
      ]
    },
    {
      "cell_type": "code",
      "execution_count": 28,
      "id": "a371bb86",
      "metadata": {
        "id": "a371bb86"
      },
      "outputs": [],
      "source": [
        "def plot_example(model, X_test, y_test, df, idx=0, show_3d = True):\n",
        "    \"\"\"\n",
        "    Plot the chemical, the measured logP, and the predicted logP\n",
        "    \"\"\"\n",
        "\n",
        "    prediction = np.squeeze(model.predict(np.expand_dims(X_test.iloc[idx], 0))[0])\n",
        "    \n",
        "    target = df[df.index==X_test.index[idx]][\"logP\"].values[0]\n",
        "    \n",
        "    if show_3d:\n",
        "        show3D_molecule(idx, \"stick\")\n",
        "    else:\n",
        "        display(df[df.index==X_test.index[idx]][\"mol\"].values[0])\n",
        "    \n",
        "    smiles = df[df.index==X_test.index[idx]][\"smiles\"].values[0]\n",
        "    \n",
        "    print(f\"SMILES notation: {smiles}\")\n",
        "    print(f\"Target logP = {target:.3f}, Prediction logP = {prediction:.3f}\")\n",
        "    print(\"=\"*50)\n",
        "    "
      ]
    },
    {
      "cell_type": "code",
      "execution_count": 29,
      "id": "2670c1e5",
      "metadata": {
        "id": "2670c1e5",
        "outputId": "f76e4dde-4ba3-44e5-ff0b-4d6e334a0b3d",
        "colab": {
          "base_uri": "https://localhost:8080/",
          "height": 1000
        }
      },
      "outputs": [
        {
          "output_type": "stream",
          "name": "stdout",
          "text": [
            "SMILES notation: CC(F)SS\n",
            "Rotate me!\n"
          ]
        },
        {
          "output_type": "display_data",
          "data": {
            "application/3dmoljs_load.v0": "<div id=\"3dmolviewer_16444366422770207\"  style=\"position: relative; width: 300px; height: 300px\">\n        <p id=\"3dmolwarning_16444366422770207\" style=\"background-color:#ffcccc;color:black\">You appear to be running in JupyterLab (or JavaScript failed to load for some other reason).  You need to install the 3dmol extension: <br>\n        <tt>jupyter labextension install jupyterlab_3dmol</tt></p>\n        </div>\n<script>\n\nvar loadScriptAsync = function(uri){\n  return new Promise((resolve, reject) => {\n    var tag = document.createElement('script');\n    tag.src = uri;\n    tag.async = true;\n    tag.onload = () => {\n      resolve();\n    };\n  var firstScriptTag = document.getElementsByTagName('script')[0];\n  firstScriptTag.parentNode.insertBefore(tag, firstScriptTag);\n});\n};\n\nif(typeof $3Dmolpromise === 'undefined') {\n$3Dmolpromise = null;\n  $3Dmolpromise = loadScriptAsync('https://3dmol.org/build/3Dmol.js');\n}\n\nvar viewer_16444366422770207 = null;\nvar warn = document.getElementById(\"3dmolwarning_16444366422770207\");\nif(warn) {\n    warn.parentNode.removeChild(warn);\n}\n$3Dmolpromise.then(function() {\nviewer_16444366422770207 = $3Dmol.createViewer($(\"#3dmolviewer_16444366422770207\"),{backgroundColor:\"white\"});\nviewer_16444366422770207.zoomTo();\n\tviewer_16444366422770207.addModel(\"\\n     RDKit          2D\\n\\n 10  9  0  0  0  0  0  0  0  0999 V2000\\n    0.0000    0.0000    0.0000 C   0  0  0  0  0  0  0  0  0  0  0  0\\n    1.5000    0.0000    0.0000 C   0  0  0  0  0  0  0  0  0  0  0  0\\n    3.0000    0.0000    0.0000 F   0  0  0  0  0  0  0  0  0  0  0  0\\n    1.5000   -1.5000    0.0000 S   0  0  0  0  0  0  0  0  0  0  0  0\\n    2.7990   -2.2500    0.0000 S   0  0  0  0  0  0  0  0  0  0  0  0\\n   -1.5000    0.0000    0.0000 H   0  0  0  0  0  0  0  0  0  0  0  0\\n    0.0000    1.5000    0.0000 H   0  0  0  0  0  0  0  0  0  0  0  0\\n   -0.0000   -1.5000    0.0000 H   0  0  0  0  0  0  0  0  0  0  0  0\\n    1.5000    1.5000    0.0000 H   0  0  0  0  0  0  0  0  0  0  0  0\\n    2.7990   -3.7500    0.0000 H   0  0  0  0  0  0  0  0  0  0  0  0\\n  1  2  1  0\\n  2  3  1  0\\n  2  4  1  0\\n  4  5  1  0\\n  1  6  1  0\\n  1  7  1  0\\n  1  8  1  0\\n  2  9  1  0\\n  5 10  1  0\\nM  END\\n\",\"mol\");\n\tviewer_16444366422770207.setStyle({\"stick\": {}});\n\tviewer_16444366422770207.rotate(45,\"y\");\n\tviewer_16444366422770207.zoomTo();\nviewer_16444366422770207.render();\n});\n</script>",
            "text/html": [
              "<div id=\"3dmolviewer_16444366422770207\"  style=\"position: relative; width: 300px; height: 300px\">\n",
              "        <p id=\"3dmolwarning_16444366422770207\" style=\"background-color:#ffcccc;color:black\">You appear to be running in JupyterLab (or JavaScript failed to load for some other reason).  You need to install the 3dmol extension: <br>\n",
              "        <tt>jupyter labextension install jupyterlab_3dmol</tt></p>\n",
              "        </div>\n",
              "<script>\n",
              "\n",
              "var loadScriptAsync = function(uri){\n",
              "  return new Promise((resolve, reject) => {\n",
              "    var tag = document.createElement('script');\n",
              "    tag.src = uri;\n",
              "    tag.async = true;\n",
              "    tag.onload = () => {\n",
              "      resolve();\n",
              "    };\n",
              "  var firstScriptTag = document.getElementsByTagName('script')[0];\n",
              "  firstScriptTag.parentNode.insertBefore(tag, firstScriptTag);\n",
              "});\n",
              "};\n",
              "\n",
              "if(typeof $3Dmolpromise === 'undefined') {\n",
              "$3Dmolpromise = null;\n",
              "  $3Dmolpromise = loadScriptAsync('https://3dmol.org/build/3Dmol.js');\n",
              "}\n",
              "\n",
              "var viewer_16444366422770207 = null;\n",
              "var warn = document.getElementById(\"3dmolwarning_16444366422770207\");\n",
              "if(warn) {\n",
              "    warn.parentNode.removeChild(warn);\n",
              "}\n",
              "$3Dmolpromise.then(function() {\n",
              "viewer_16444366422770207 = $3Dmol.createViewer($(\"#3dmolviewer_16444366422770207\"),{backgroundColor:\"white\"});\n",
              "viewer_16444366422770207.zoomTo();\n",
              "\tviewer_16444366422770207.addModel(\"\\n     RDKit          2D\\n\\n 10  9  0  0  0  0  0  0  0  0999 V2000\\n    0.0000    0.0000    0.0000 C   0  0  0  0  0  0  0  0  0  0  0  0\\n    1.5000    0.0000    0.0000 C   0  0  0  0  0  0  0  0  0  0  0  0\\n    3.0000    0.0000    0.0000 F   0  0  0  0  0  0  0  0  0  0  0  0\\n    1.5000   -1.5000    0.0000 S   0  0  0  0  0  0  0  0  0  0  0  0\\n    2.7990   -2.2500    0.0000 S   0  0  0  0  0  0  0  0  0  0  0  0\\n   -1.5000    0.0000    0.0000 H   0  0  0  0  0  0  0  0  0  0  0  0\\n    0.0000    1.5000    0.0000 H   0  0  0  0  0  0  0  0  0  0  0  0\\n   -0.0000   -1.5000    0.0000 H   0  0  0  0  0  0  0  0  0  0  0  0\\n    1.5000    1.5000    0.0000 H   0  0  0  0  0  0  0  0  0  0  0  0\\n    2.7990   -3.7500    0.0000 H   0  0  0  0  0  0  0  0  0  0  0  0\\n  1  2  1  0\\n  2  3  1  0\\n  2  4  1  0\\n  4  5  1  0\\n  1  6  1  0\\n  1  7  1  0\\n  1  8  1  0\\n  2  9  1  0\\n  5 10  1  0\\nM  END\\n\",\"mol\");\n",
              "\tviewer_16444366422770207.setStyle({\"stick\": {}});\n",
              "\tviewer_16444366422770207.rotate(45,\"y\");\n",
              "\tviewer_16444366422770207.zoomTo();\n",
              "viewer_16444366422770207.render();\n",
              "});\n",
              "</script>"
            ]
          },
          "metadata": {}
        },
        {
          "output_type": "stream",
          "name": "stdout",
          "text": [
            "SMILES notation: CC(C)OSI\n",
            "Target logP = 2.200, Prediction logP = 1.845\n",
            "==================================================\n",
            "SMILES notation: C(C(CP)P)O\n",
            "Rotate me!\n"
          ]
        },
        {
          "output_type": "display_data",
          "data": {
            "application/3dmoljs_load.v0": "<div id=\"3dmolviewer_16444366422827864\"  style=\"position: relative; width: 300px; height: 300px\">\n        <p id=\"3dmolwarning_16444366422827864\" style=\"background-color:#ffcccc;color:black\">You appear to be running in JupyterLab (or JavaScript failed to load for some other reason).  You need to install the 3dmol extension: <br>\n        <tt>jupyter labextension install jupyterlab_3dmol</tt></p>\n        </div>\n<script>\n\nvar loadScriptAsync = function(uri){\n  return new Promise((resolve, reject) => {\n    var tag = document.createElement('script');\n    tag.src = uri;\n    tag.async = true;\n    tag.onload = () => {\n      resolve();\n    };\n  var firstScriptTag = document.getElementsByTagName('script')[0];\n  firstScriptTag.parentNode.insertBefore(tag, firstScriptTag);\n});\n};\n\nif(typeof $3Dmolpromise === 'undefined') {\n$3Dmolpromise = null;\n  $3Dmolpromise = loadScriptAsync('https://3dmol.org/build/3Dmol.js');\n}\n\nvar viewer_16444366422827864 = null;\nvar warn = document.getElementById(\"3dmolwarning_16444366422827864\");\nif(warn) {\n    warn.parentNode.removeChild(warn);\n}\n$3Dmolpromise.then(function() {\nviewer_16444366422827864 = $3Dmol.createViewer($(\"#3dmolviewer_16444366422827864\"),{backgroundColor:\"white\"});\nviewer_16444366422827864.zoomTo();\n\tviewer_16444366422827864.addModel(\"\\n     RDKit          2D\\n\\n 16 15  0  0  0  0  0  0  0  0999 V2000\\n    0.0000    0.0000    0.0000 C   0  0  0  0  0  0  0  0  0  0  0  0\\n    1.5000    0.0000    0.0000 C   0  0  0  0  0  0  0  0  0  0  0  0\\n    3.0000    0.0000    0.0000 C   0  0  0  0  0  0  0  0  0  0  0  0\\n    4.5000   -0.0000    0.0000 P   0  0  0  0  0  0  0  0  0  0  0  0\\n    1.5000   -1.5000    0.0000 P   0  0  0  0  0  0  0  0  0  0  0  0\\n   -1.5000    0.0000    0.0000 O   0  0  0  0  0  0  0  0  0  0  0  0\\n    0.0000    1.5000    0.0000 H   0  0  0  0  0  0  0  0  0  0  0  0\\n   -0.1828   -1.4888    0.0000 H   0  0  0  0  0  0  0  0  0  0  0  0\\n    1.5000    1.5000    0.0000 H   0  0  0  0  0  0  0  0  0  0  0  0\\n    3.0000    1.5000    0.0000 H   0  0  0  0  0  0  0  0  0  0  0  0\\n    3.1828   -1.4888    0.0000 H   0  0  0  0  0  0  0  0  0  0  0  0\\n    5.2500   -1.2990    0.0000 H   0  0  0  0  0  0  0  0  0  0  0  0\\n    5.2500    1.2990    0.0000 H   0  0  0  0  0  0  0  0  0  0  0  0\\n    2.6979   -2.4028    0.0000 H   0  0  0  0  0  0  0  0  0  0  0  0\\n    0.3021   -2.4028    0.0000 H   0  0  0  0  0  0  0  0  0  0  0  0\\n   -2.2500   -1.2990    0.0000 H   0  0  0  0  0  0  0  0  0  0  0  0\\n  1  2  1  0\\n  2  3  1  0\\n  3  4  1  0\\n  2  5  1  0\\n  1  6  1  0\\n  1  7  1  0\\n  1  8  1  0\\n  2  9  1  0\\n  3 10  1  0\\n  3 11  1  0\\n  4 12  1  0\\n  4 13  1  0\\n  5 14  1  0\\n  5 15  1  0\\n  6 16  1  0\\nM  END\\n\",\"mol\");\n\tviewer_16444366422827864.setStyle({\"stick\": {}});\n\tviewer_16444366422827864.rotate(45,\"y\");\n\tviewer_16444366422827864.zoomTo();\nviewer_16444366422827864.render();\n});\n</script>",
            "text/html": [
              "<div id=\"3dmolviewer_16444366422827864\"  style=\"position: relative; width: 300px; height: 300px\">\n",
              "        <p id=\"3dmolwarning_16444366422827864\" style=\"background-color:#ffcccc;color:black\">You appear to be running in JupyterLab (or JavaScript failed to load for some other reason).  You need to install the 3dmol extension: <br>\n",
              "        <tt>jupyter labextension install jupyterlab_3dmol</tt></p>\n",
              "        </div>\n",
              "<script>\n",
              "\n",
              "var loadScriptAsync = function(uri){\n",
              "  return new Promise((resolve, reject) => {\n",
              "    var tag = document.createElement('script');\n",
              "    tag.src = uri;\n",
              "    tag.async = true;\n",
              "    tag.onload = () => {\n",
              "      resolve();\n",
              "    };\n",
              "  var firstScriptTag = document.getElementsByTagName('script')[0];\n",
              "  firstScriptTag.parentNode.insertBefore(tag, firstScriptTag);\n",
              "});\n",
              "};\n",
              "\n",
              "if(typeof $3Dmolpromise === 'undefined') {\n",
              "$3Dmolpromise = null;\n",
              "  $3Dmolpromise = loadScriptAsync('https://3dmol.org/build/3Dmol.js');\n",
              "}\n",
              "\n",
              "var viewer_16444366422827864 = null;\n",
              "var warn = document.getElementById(\"3dmolwarning_16444366422827864\");\n",
              "if(warn) {\n",
              "    warn.parentNode.removeChild(warn);\n",
              "}\n",
              "$3Dmolpromise.then(function() {\n",
              "viewer_16444366422827864 = $3Dmol.createViewer($(\"#3dmolviewer_16444366422827864\"),{backgroundColor:\"white\"});\n",
              "viewer_16444366422827864.zoomTo();\n",
              "\tviewer_16444366422827864.addModel(\"\\n     RDKit          2D\\n\\n 16 15  0  0  0  0  0  0  0  0999 V2000\\n    0.0000    0.0000    0.0000 C   0  0  0  0  0  0  0  0  0  0  0  0\\n    1.5000    0.0000    0.0000 C   0  0  0  0  0  0  0  0  0  0  0  0\\n    3.0000    0.0000    0.0000 C   0  0  0  0  0  0  0  0  0  0  0  0\\n    4.5000   -0.0000    0.0000 P   0  0  0  0  0  0  0  0  0  0  0  0\\n    1.5000   -1.5000    0.0000 P   0  0  0  0  0  0  0  0  0  0  0  0\\n   -1.5000    0.0000    0.0000 O   0  0  0  0  0  0  0  0  0  0  0  0\\n    0.0000    1.5000    0.0000 H   0  0  0  0  0  0  0  0  0  0  0  0\\n   -0.1828   -1.4888    0.0000 H   0  0  0  0  0  0  0  0  0  0  0  0\\n    1.5000    1.5000    0.0000 H   0  0  0  0  0  0  0  0  0  0  0  0\\n    3.0000    1.5000    0.0000 H   0  0  0  0  0  0  0  0  0  0  0  0\\n    3.1828   -1.4888    0.0000 H   0  0  0  0  0  0  0  0  0  0  0  0\\n    5.2500   -1.2990    0.0000 H   0  0  0  0  0  0  0  0  0  0  0  0\\n    5.2500    1.2990    0.0000 H   0  0  0  0  0  0  0  0  0  0  0  0\\n    2.6979   -2.4028    0.0000 H   0  0  0  0  0  0  0  0  0  0  0  0\\n    0.3021   -2.4028    0.0000 H   0  0  0  0  0  0  0  0  0  0  0  0\\n   -2.2500   -1.2990    0.0000 H   0  0  0  0  0  0  0  0  0  0  0  0\\n  1  2  1  0\\n  2  3  1  0\\n  3  4  1  0\\n  2  5  1  0\\n  1  6  1  0\\n  1  7  1  0\\n  1  8  1  0\\n  2  9  1  0\\n  3 10  1  0\\n  3 11  1  0\\n  4 12  1  0\\n  4 13  1  0\\n  5 14  1  0\\n  5 15  1  0\\n  6 16  1  0\\nM  END\\n\",\"mol\");\n",
              "\tviewer_16444366422827864.setStyle({\"stick\": {}});\n",
              "\tviewer_16444366422827864.rotate(45,\"y\");\n",
              "\tviewer_16444366422827864.zoomTo();\n",
              "viewer_16444366422827864.render();\n",
              "});\n",
              "</script>"
            ]
          },
          "metadata": {}
        },
        {
          "output_type": "stream",
          "name": "stdout",
          "text": [
            "SMILES notation: [2H]C([2H])(C([2H])([2H])Br)C([2H])([2H])Br\n",
            "Target logP = 2.400, Prediction logP = 2.403\n",
            "==================================================\n",
            "SMILES notation: CC(NC)NN\n",
            "Rotate me!\n"
          ]
        },
        {
          "output_type": "display_data",
          "data": {
            "application/3dmoljs_load.v0": "<div id=\"3dmolviewer_16444366422955325\"  style=\"position: relative; width: 300px; height: 300px\">\n        <p id=\"3dmolwarning_16444366422955325\" style=\"background-color:#ffcccc;color:black\">You appear to be running in JupyterLab (or JavaScript failed to load for some other reason).  You need to install the 3dmol extension: <br>\n        <tt>jupyter labextension install jupyterlab_3dmol</tt></p>\n        </div>\n<script>\n\nvar loadScriptAsync = function(uri){\n  return new Promise((resolve, reject) => {\n    var tag = document.createElement('script');\n    tag.src = uri;\n    tag.async = true;\n    tag.onload = () => {\n      resolve();\n    };\n  var firstScriptTag = document.getElementsByTagName('script')[0];\n  firstScriptTag.parentNode.insertBefore(tag, firstScriptTag);\n});\n};\n\nif(typeof $3Dmolpromise === 'undefined') {\n$3Dmolpromise = null;\n  $3Dmolpromise = loadScriptAsync('https://3dmol.org/build/3Dmol.js');\n}\n\nvar viewer_16444366422955325 = null;\nvar warn = document.getElementById(\"3dmolwarning_16444366422955325\");\nif(warn) {\n    warn.parentNode.removeChild(warn);\n}\n$3Dmolpromise.then(function() {\nviewer_16444366422955325 = $3Dmol.createViewer($(\"#3dmolviewer_16444366422955325\"),{backgroundColor:\"white\"});\nviewer_16444366422955325.zoomTo();\n\tviewer_16444366422955325.addModel(\"\\n     RDKit          2D\\n\\n 17 16  0  0  0  0  0  0  0  0999 V2000\\n    0.0000    0.0000    0.0000 C   0  0  0  0  0  0  0  0  0  0  0  0\\n    1.5000    0.0000    0.0000 C   0  0  0  0  0  0  0  0  0  0  0  0\\n    3.0000    0.0000    0.0000 N   0  0  0  0  0  0  0  0  0  0  0  0\\n    3.7500    1.2990    0.0000 C   0  0  0  0  0  0  0  0  0  0  0  0\\n    1.5000   -1.5000    0.0000 N   0  0  0  0  0  0  0  0  0  0  0  0\\n    0.2010   -2.2500    0.0000 N   0  0  0  0  0  0  0  0  0  0  0  0\\n   -1.5000    0.0000    0.0000 H   0  0  0  0  0  0  0  0  0  0  0  0\\n    0.0000    1.5000    0.0000 H   0  0  0  0  0  0  0  0  0  0  0  0\\n   -0.2143   -0.8594    0.0000 H   0  0  0  0  0  0  0  0  0  0  0  0\\n    1.5000    1.5000    0.0000 H   0  0  0  0  0  0  0  0  0  0  0  0\\n    3.7500   -1.2990    0.0000 H   0  0  0  0  0  0  0  0  0  0  0  0\\n    4.5000    2.5981    0.0000 H   0  0  0  0  0  0  0  0  0  0  0  0\\n    5.0490    0.5490    0.0000 H   0  0  0  0  0  0  0  0  0  0  0  0\\n    2.4510    2.0490    0.0000 H   0  0  0  0  0  0  0  0  0  0  0  0\\n    2.7990   -2.2500    0.0000 H   0  0  0  0  0  0  0  0  0  0  0  0\\n    0.2010   -3.7500    0.0000 H   0  0  0  0  0  0  0  0  0  0  0  0\\n   -0.4894   -1.8514    0.0000 H   0  0  0  0  0  0  0  0  0  0  0  0\\n  1  2  1  0\\n  2  3  1  0\\n  3  4  1  0\\n  2  5  1  0\\n  5  6  1  0\\n  1  7  1  0\\n  1  8  1  0\\n  1  9  1  0\\n  2 10  1  0\\n  3 11  1  0\\n  4 12  1  0\\n  4 13  1  0\\n  4 14  1  0\\n  5 15  1  0\\n  6 16  1  0\\n  6 17  1  0\\nM  END\\n\",\"mol\");\n\tviewer_16444366422955325.setStyle({\"stick\": {}});\n\tviewer_16444366422955325.rotate(45,\"y\");\n\tviewer_16444366422955325.zoomTo();\nviewer_16444366422955325.render();\n});\n</script>",
            "text/html": [
              "<div id=\"3dmolviewer_16444366422955325\"  style=\"position: relative; width: 300px; height: 300px\">\n",
              "        <p id=\"3dmolwarning_16444366422955325\" style=\"background-color:#ffcccc;color:black\">You appear to be running in JupyterLab (or JavaScript failed to load for some other reason).  You need to install the 3dmol extension: <br>\n",
              "        <tt>jupyter labextension install jupyterlab_3dmol</tt></p>\n",
              "        </div>\n",
              "<script>\n",
              "\n",
              "var loadScriptAsync = function(uri){\n",
              "  return new Promise((resolve, reject) => {\n",
              "    var tag = document.createElement('script');\n",
              "    tag.src = uri;\n",
              "    tag.async = true;\n",
              "    tag.onload = () => {\n",
              "      resolve();\n",
              "    };\n",
              "  var firstScriptTag = document.getElementsByTagName('script')[0];\n",
              "  firstScriptTag.parentNode.insertBefore(tag, firstScriptTag);\n",
              "});\n",
              "};\n",
              "\n",
              "if(typeof $3Dmolpromise === 'undefined') {\n",
              "$3Dmolpromise = null;\n",
              "  $3Dmolpromise = loadScriptAsync('https://3dmol.org/build/3Dmol.js');\n",
              "}\n",
              "\n",
              "var viewer_16444366422955325 = null;\n",
              "var warn = document.getElementById(\"3dmolwarning_16444366422955325\");\n",
              "if(warn) {\n",
              "    warn.parentNode.removeChild(warn);\n",
              "}\n",
              "$3Dmolpromise.then(function() {\n",
              "viewer_16444366422955325 = $3Dmol.createViewer($(\"#3dmolviewer_16444366422955325\"),{backgroundColor:\"white\"});\n",
              "viewer_16444366422955325.zoomTo();\n",
              "\tviewer_16444366422955325.addModel(\"\\n     RDKit          2D\\n\\n 17 16  0  0  0  0  0  0  0  0999 V2000\\n    0.0000    0.0000    0.0000 C   0  0  0  0  0  0  0  0  0  0  0  0\\n    1.5000    0.0000    0.0000 C   0  0  0  0  0  0  0  0  0  0  0  0\\n    3.0000    0.0000    0.0000 N   0  0  0  0  0  0  0  0  0  0  0  0\\n    3.7500    1.2990    0.0000 C   0  0  0  0  0  0  0  0  0  0  0  0\\n    1.5000   -1.5000    0.0000 N   0  0  0  0  0  0  0  0  0  0  0  0\\n    0.2010   -2.2500    0.0000 N   0  0  0  0  0  0  0  0  0  0  0  0\\n   -1.5000    0.0000    0.0000 H   0  0  0  0  0  0  0  0  0  0  0  0\\n    0.0000    1.5000    0.0000 H   0  0  0  0  0  0  0  0  0  0  0  0\\n   -0.2143   -0.8594    0.0000 H   0  0  0  0  0  0  0  0  0  0  0  0\\n    1.5000    1.5000    0.0000 H   0  0  0  0  0  0  0  0  0  0  0  0\\n    3.7500   -1.2990    0.0000 H   0  0  0  0  0  0  0  0  0  0  0  0\\n    4.5000    2.5981    0.0000 H   0  0  0  0  0  0  0  0  0  0  0  0\\n    5.0490    0.5490    0.0000 H   0  0  0  0  0  0  0  0  0  0  0  0\\n    2.4510    2.0490    0.0000 H   0  0  0  0  0  0  0  0  0  0  0  0\\n    2.7990   -2.2500    0.0000 H   0  0  0  0  0  0  0  0  0  0  0  0\\n    0.2010   -3.7500    0.0000 H   0  0  0  0  0  0  0  0  0  0  0  0\\n   -0.4894   -1.8514    0.0000 H   0  0  0  0  0  0  0  0  0  0  0  0\\n  1  2  1  0\\n  2  3  1  0\\n  3  4  1  0\\n  2  5  1  0\\n  5  6  1  0\\n  1  7  1  0\\n  1  8  1  0\\n  1  9  1  0\\n  2 10  1  0\\n  3 11  1  0\\n  4 12  1  0\\n  4 13  1  0\\n  4 14  1  0\\n  5 15  1  0\\n  6 16  1  0\\n  6 17  1  0\\nM  END\\n\",\"mol\");\n",
              "\tviewer_16444366422955325.setStyle({\"stick\": {}});\n",
              "\tviewer_16444366422955325.rotate(45,\"y\");\n",
              "\tviewer_16444366422955325.zoomTo();\n",
              "viewer_16444366422955325.render();\n",
              "});\n",
              "</script>"
            ]
          },
          "metadata": {}
        },
        {
          "output_type": "stream",
          "name": "stdout",
          "text": [
            "SMILES notation: CCNCN(C)C\n",
            "Target logP = 0.300, Prediction logP = 0.993\n",
            "==================================================\n",
            "SMILES notation: CC(C)CSCO\n",
            "Rotate me!\n"
          ]
        },
        {
          "output_type": "display_data",
          "data": {
            "application/3dmoljs_load.v0": "<div id=\"3dmolviewer_16444366423076653\"  style=\"position: relative; width: 300px; height: 300px\">\n        <p id=\"3dmolwarning_16444366423076653\" style=\"background-color:#ffcccc;color:black\">You appear to be running in JupyterLab (or JavaScript failed to load for some other reason).  You need to install the 3dmol extension: <br>\n        <tt>jupyter labextension install jupyterlab_3dmol</tt></p>\n        </div>\n<script>\n\nvar loadScriptAsync = function(uri){\n  return new Promise((resolve, reject) => {\n    var tag = document.createElement('script');\n    tag.src = uri;\n    tag.async = true;\n    tag.onload = () => {\n      resolve();\n    };\n  var firstScriptTag = document.getElementsByTagName('script')[0];\n  firstScriptTag.parentNode.insertBefore(tag, firstScriptTag);\n});\n};\n\nif(typeof $3Dmolpromise === 'undefined') {\n$3Dmolpromise = null;\n  $3Dmolpromise = loadScriptAsync('https://3dmol.org/build/3Dmol.js');\n}\n\nvar viewer_16444366423076653 = null;\nvar warn = document.getElementById(\"3dmolwarning_16444366423076653\");\nif(warn) {\n    warn.parentNode.removeChild(warn);\n}\n$3Dmolpromise.then(function() {\nviewer_16444366423076653 = $3Dmol.createViewer($(\"#3dmolviewer_16444366423076653\"),{backgroundColor:\"white\"});\nviewer_16444366423076653.zoomTo();\n\tviewer_16444366423076653.addModel(\"\\n     RDKit          2D\\n\\n 19 18  0  0  0  0  0  0  0  0999 V2000\\n    0.0000    0.0000    0.0000 C   0  0  0  0  0  0  0  0  0  0  0  0\\n    1.5000    0.0000    0.0000 C   0  0  0  0  0  0  0  0  0  0  0  0\\n    3.0000    0.0000    0.0000 C   0  0  0  0  0  0  0  0  0  0  0  0\\n    1.5000   -1.5000    0.0000 C   0  0  0  0  0  0  0  0  0  0  0  0\\n    1.5000   -3.0000    0.0000 S   0  0  0  0  0  0  0  0  0  0  0  0\\n    0.2010   -3.7500    0.0000 C   0  0  0  0  0  0  0  0  0  0  0  0\\n   -1.0981   -4.5000    0.0000 O   0  0  0  0  0  0  0  0  0  0  0  0\\n   -1.5000    0.0000    0.0000 H   0  0  0  0  0  0  0  0  0  0  0  0\\n    0.0000    1.5000    0.0000 H   0  0  0  0  0  0  0  0  0  0  0  0\\n   -0.1080   -0.8791    0.0000 H   0  0  0  0  0  0  0  0  0  0  0  0\\n    1.5000    1.5000    0.0000 H   0  0  0  0  0  0  0  0  0  0  0  0\\n    4.5000   -0.0000    0.0000 H   0  0  0  0  0  0  0  0  0  0  0  0\\n    3.0000    1.5000    0.0000 H   0  0  0  0  0  0  0  0  0  0  0  0\\n    3.1080   -0.8791    0.0000 H   0  0  0  0  0  0  0  0  0  0  0  0\\n    2.3791   -1.6080    0.0000 H   0  0  0  0  0  0  0  0  0  0  0  0\\n    0.6209   -1.6080    0.0000 H   0  0  0  0  0  0  0  0  0  0  0  0\\n   -0.5490   -2.4510    0.0000 H   0  0  0  0  0  0  0  0  0  0  0  0\\n    0.9510   -5.0490    0.0000 H   0  0  0  0  0  0  0  0  0  0  0  0\\n   -2.3971   -3.7500    0.0000 H   0  0  0  0  0  0  0  0  0  0  0  0\\n  1  2  1  0\\n  2  3  1  0\\n  2  4  1  0\\n  4  5  1  0\\n  5  6  1  0\\n  6  7  1  0\\n  1  8  1  0\\n  1  9  1  0\\n  1 10  1  0\\n  2 11  1  0\\n  3 12  1  0\\n  3 13  1  0\\n  3 14  1  0\\n  4 15  1  0\\n  4 16  1  0\\n  6 17  1  0\\n  6 18  1  0\\n  7 19  1  0\\nM  END\\n\",\"mol\");\n\tviewer_16444366423076653.setStyle({\"stick\": {}});\n\tviewer_16444366423076653.rotate(45,\"y\");\n\tviewer_16444366423076653.zoomTo();\nviewer_16444366423076653.render();\n});\n</script>",
            "text/html": [
              "<div id=\"3dmolviewer_16444366423076653\"  style=\"position: relative; width: 300px; height: 300px\">\n",
              "        <p id=\"3dmolwarning_16444366423076653\" style=\"background-color:#ffcccc;color:black\">You appear to be running in JupyterLab (or JavaScript failed to load for some other reason).  You need to install the 3dmol extension: <br>\n",
              "        <tt>jupyter labextension install jupyterlab_3dmol</tt></p>\n",
              "        </div>\n",
              "<script>\n",
              "\n",
              "var loadScriptAsync = function(uri){\n",
              "  return new Promise((resolve, reject) => {\n",
              "    var tag = document.createElement('script');\n",
              "    tag.src = uri;\n",
              "    tag.async = true;\n",
              "    tag.onload = () => {\n",
              "      resolve();\n",
              "    };\n",
              "  var firstScriptTag = document.getElementsByTagName('script')[0];\n",
              "  firstScriptTag.parentNode.insertBefore(tag, firstScriptTag);\n",
              "});\n",
              "};\n",
              "\n",
              "if(typeof $3Dmolpromise === 'undefined') {\n",
              "$3Dmolpromise = null;\n",
              "  $3Dmolpromise = loadScriptAsync('https://3dmol.org/build/3Dmol.js');\n",
              "}\n",
              "\n",
              "var viewer_16444366423076653 = null;\n",
              "var warn = document.getElementById(\"3dmolwarning_16444366423076653\");\n",
              "if(warn) {\n",
              "    warn.parentNode.removeChild(warn);\n",
              "}\n",
              "$3Dmolpromise.then(function() {\n",
              "viewer_16444366423076653 = $3Dmol.createViewer($(\"#3dmolviewer_16444366423076653\"),{backgroundColor:\"white\"});\n",
              "viewer_16444366423076653.zoomTo();\n",
              "\tviewer_16444366423076653.addModel(\"\\n     RDKit          2D\\n\\n 19 18  0  0  0  0  0  0  0  0999 V2000\\n    0.0000    0.0000    0.0000 C   0  0  0  0  0  0  0  0  0  0  0  0\\n    1.5000    0.0000    0.0000 C   0  0  0  0  0  0  0  0  0  0  0  0\\n    3.0000    0.0000    0.0000 C   0  0  0  0  0  0  0  0  0  0  0  0\\n    1.5000   -1.5000    0.0000 C   0  0  0  0  0  0  0  0  0  0  0  0\\n    1.5000   -3.0000    0.0000 S   0  0  0  0  0  0  0  0  0  0  0  0\\n    0.2010   -3.7500    0.0000 C   0  0  0  0  0  0  0  0  0  0  0  0\\n   -1.0981   -4.5000    0.0000 O   0  0  0  0  0  0  0  0  0  0  0  0\\n   -1.5000    0.0000    0.0000 H   0  0  0  0  0  0  0  0  0  0  0  0\\n    0.0000    1.5000    0.0000 H   0  0  0  0  0  0  0  0  0  0  0  0\\n   -0.1080   -0.8791    0.0000 H   0  0  0  0  0  0  0  0  0  0  0  0\\n    1.5000    1.5000    0.0000 H   0  0  0  0  0  0  0  0  0  0  0  0\\n    4.5000   -0.0000    0.0000 H   0  0  0  0  0  0  0  0  0  0  0  0\\n    3.0000    1.5000    0.0000 H   0  0  0  0  0  0  0  0  0  0  0  0\\n    3.1080   -0.8791    0.0000 H   0  0  0  0  0  0  0  0  0  0  0  0\\n    2.3791   -1.6080    0.0000 H   0  0  0  0  0  0  0  0  0  0  0  0\\n    0.6209   -1.6080    0.0000 H   0  0  0  0  0  0  0  0  0  0  0  0\\n   -0.5490   -2.4510    0.0000 H   0  0  0  0  0  0  0  0  0  0  0  0\\n    0.9510   -5.0490    0.0000 H   0  0  0  0  0  0  0  0  0  0  0  0\\n   -2.3971   -3.7500    0.0000 H   0  0  0  0  0  0  0  0  0  0  0  0\\n  1  2  1  0\\n  2  3  1  0\\n  2  4  1  0\\n  4  5  1  0\\n  5  6  1  0\\n  6  7  1  0\\n  1  8  1  0\\n  1  9  1  0\\n  1 10  1  0\\n  2 11  1  0\\n  3 12  1  0\\n  3 13  1  0\\n  3 14  1  0\\n  4 15  1  0\\n  4 16  1  0\\n  6 17  1  0\\n  6 18  1  0\\n  7 19  1  0\\nM  END\\n\",\"mol\");\n",
              "\tviewer_16444366423076653.setStyle({\"stick\": {}});\n",
              "\tviewer_16444366423076653.rotate(45,\"y\");\n",
              "\tviewer_16444366423076653.zoomTo();\n",
              "viewer_16444366423076653.render();\n",
              "});\n",
              "</script>"
            ]
          },
          "metadata": {}
        },
        {
          "output_type": "stream",
          "name": "stdout",
          "text": [
            "SMILES notation: C(CCF)CO\n",
            "Target logP = 0.200, Prediction logP = 1.020\n",
            "==================================================\n",
            "SMILES notation: CCOC[C@@H](C)Br\n",
            "Rotate me!\n"
          ]
        },
        {
          "output_type": "display_data",
          "data": {
            "application/3dmoljs_load.v0": "<div id=\"3dmolviewer_1644436642320008\"  style=\"position: relative; width: 300px; height: 300px\">\n        <p id=\"3dmolwarning_1644436642320008\" style=\"background-color:#ffcccc;color:black\">You appear to be running in JupyterLab (or JavaScript failed to load for some other reason).  You need to install the 3dmol extension: <br>\n        <tt>jupyter labextension install jupyterlab_3dmol</tt></p>\n        </div>\n<script>\n\nvar loadScriptAsync = function(uri){\n  return new Promise((resolve, reject) => {\n    var tag = document.createElement('script');\n    tag.src = uri;\n    tag.async = true;\n    tag.onload = () => {\n      resolve();\n    };\n  var firstScriptTag = document.getElementsByTagName('script')[0];\n  firstScriptTag.parentNode.insertBefore(tag, firstScriptTag);\n});\n};\n\nif(typeof $3Dmolpromise === 'undefined') {\n$3Dmolpromise = null;\n  $3Dmolpromise = loadScriptAsync('https://3dmol.org/build/3Dmol.js');\n}\n\nvar viewer_1644436642320008 = null;\nvar warn = document.getElementById(\"3dmolwarning_1644436642320008\");\nif(warn) {\n    warn.parentNode.removeChild(warn);\n}\n$3Dmolpromise.then(function() {\nviewer_1644436642320008 = $3Dmol.createViewer($(\"#3dmolviewer_1644436642320008\"),{backgroundColor:\"white\"});\nviewer_1644436642320008.zoomTo();\n\tviewer_1644436642320008.addModel(\"\\n     RDKit          2D\\n\\n 18 17  0  0  0  0  0  0  0  0999 V2000\\n    0.0000    0.0000    0.0000 C   0  0  0  0  0  0  0  0  0  0  0  0\\n    1.5000    0.0000    0.0000 C   0  0  0  0  0  0  0  0  0  0  0  0\\n    3.0000    0.0000    0.0000 O   0  0  0  0  0  0  0  0  0  0  0  0\\n    3.7500    1.2990    0.0000 C   0  0  0  0  0  0  0  0  0  0  0  0\\n    4.5000    2.5981    0.0000 C   0  0  0  0  0  0  0  0  0  0  0  0\\n    5.2500    3.8971    0.0000 C   0  0  0  0  0  0  0  0  0  0  0  0\\n    3.2010    3.3481    0.0000 Br  0  0  0  0  0  0  0  0  0  0  0  0\\n   -1.5000    0.0000    0.0000 H   0  0  0  0  0  0  0  0  0  0  0  0\\n    0.0000    1.5000    0.0000 H   0  0  0  0  0  0  0  0  0  0  0  0\\n   -0.0000   -1.5000    0.0000 H   0  0  0  0  0  0  0  0  0  0  0  0\\n    1.5000   -1.5000    0.0000 H   0  0  0  0  0  0  0  0  0  0  0  0\\n    1.5000    1.5000    0.0000 H   0  0  0  0  0  0  0  0  0  0  0  0\\n    2.4510    2.0490    0.0000 H   0  0  0  0  0  0  0  0  0  0  0  0\\n    5.0490    0.5490    0.0000 H   0  0  0  0  0  0  0  0  0  0  0  0\\n    5.7990    1.8481    0.0000 H   0  0  0  0  0  0  0  0  0  0  0  0\\n    6.0000    5.1962    0.0000 H   0  0  0  0  0  0  0  0  0  0  0  0\\n    6.5490    3.1471    0.0000 H   0  0  0  0  0  0  0  0  0  0  0  0\\n    3.9510    4.6471    0.0000 H   0  0  0  0  0  0  0  0  0  0  0  0\\n  1  2  1  0\\n  2  3  1  0\\n  3  4  1  0\\n  4  5  1  0\\n  5  6  1  0\\n  5  7  1  0\\n  1  8  1  0\\n  1  9  1  0\\n  1 10  1  0\\n  2 11  1  0\\n  2 12  1  0\\n  4 13  1  0\\n  4 14  1  0\\n  5 15  1  1\\n  6 16  1  0\\n  6 17  1  0\\n  6 18  1  0\\nM  END\\n\",\"mol\");\n\tviewer_1644436642320008.setStyle({\"stick\": {}});\n\tviewer_1644436642320008.rotate(45,\"y\");\n\tviewer_1644436642320008.zoomTo();\nviewer_1644436642320008.render();\n});\n</script>",
            "text/html": [
              "<div id=\"3dmolviewer_1644436642320008\"  style=\"position: relative; width: 300px; height: 300px\">\n",
              "        <p id=\"3dmolwarning_1644436642320008\" style=\"background-color:#ffcccc;color:black\">You appear to be running in JupyterLab (or JavaScript failed to load for some other reason).  You need to install the 3dmol extension: <br>\n",
              "        <tt>jupyter labextension install jupyterlab_3dmol</tt></p>\n",
              "        </div>\n",
              "<script>\n",
              "\n",
              "var loadScriptAsync = function(uri){\n",
              "  return new Promise((resolve, reject) => {\n",
              "    var tag = document.createElement('script');\n",
              "    tag.src = uri;\n",
              "    tag.async = true;\n",
              "    tag.onload = () => {\n",
              "      resolve();\n",
              "    };\n",
              "  var firstScriptTag = document.getElementsByTagName('script')[0];\n",
              "  firstScriptTag.parentNode.insertBefore(tag, firstScriptTag);\n",
              "});\n",
              "};\n",
              "\n",
              "if(typeof $3Dmolpromise === 'undefined') {\n",
              "$3Dmolpromise = null;\n",
              "  $3Dmolpromise = loadScriptAsync('https://3dmol.org/build/3Dmol.js');\n",
              "}\n",
              "\n",
              "var viewer_1644436642320008 = null;\n",
              "var warn = document.getElementById(\"3dmolwarning_1644436642320008\");\n",
              "if(warn) {\n",
              "    warn.parentNode.removeChild(warn);\n",
              "}\n",
              "$3Dmolpromise.then(function() {\n",
              "viewer_1644436642320008 = $3Dmol.createViewer($(\"#3dmolviewer_1644436642320008\"),{backgroundColor:\"white\"});\n",
              "viewer_1644436642320008.zoomTo();\n",
              "\tviewer_1644436642320008.addModel(\"\\n     RDKit          2D\\n\\n 18 17  0  0  0  0  0  0  0  0999 V2000\\n    0.0000    0.0000    0.0000 C   0  0  0  0  0  0  0  0  0  0  0  0\\n    1.5000    0.0000    0.0000 C   0  0  0  0  0  0  0  0  0  0  0  0\\n    3.0000    0.0000    0.0000 O   0  0  0  0  0  0  0  0  0  0  0  0\\n    3.7500    1.2990    0.0000 C   0  0  0  0  0  0  0  0  0  0  0  0\\n    4.5000    2.5981    0.0000 C   0  0  0  0  0  0  0  0  0  0  0  0\\n    5.2500    3.8971    0.0000 C   0  0  0  0  0  0  0  0  0  0  0  0\\n    3.2010    3.3481    0.0000 Br  0  0  0  0  0  0  0  0  0  0  0  0\\n   -1.5000    0.0000    0.0000 H   0  0  0  0  0  0  0  0  0  0  0  0\\n    0.0000    1.5000    0.0000 H   0  0  0  0  0  0  0  0  0  0  0  0\\n   -0.0000   -1.5000    0.0000 H   0  0  0  0  0  0  0  0  0  0  0  0\\n    1.5000   -1.5000    0.0000 H   0  0  0  0  0  0  0  0  0  0  0  0\\n    1.5000    1.5000    0.0000 H   0  0  0  0  0  0  0  0  0  0  0  0\\n    2.4510    2.0490    0.0000 H   0  0  0  0  0  0  0  0  0  0  0  0\\n    5.0490    0.5490    0.0000 H   0  0  0  0  0  0  0  0  0  0  0  0\\n    5.7990    1.8481    0.0000 H   0  0  0  0  0  0  0  0  0  0  0  0\\n    6.0000    5.1962    0.0000 H   0  0  0  0  0  0  0  0  0  0  0  0\\n    6.5490    3.1471    0.0000 H   0  0  0  0  0  0  0  0  0  0  0  0\\n    3.9510    4.6471    0.0000 H   0  0  0  0  0  0  0  0  0  0  0  0\\n  1  2  1  0\\n  2  3  1  0\\n  3  4  1  0\\n  4  5  1  0\\n  5  6  1  0\\n  5  7  1  0\\n  1  8  1  0\\n  1  9  1  0\\n  1 10  1  0\\n  2 11  1  0\\n  2 12  1  0\\n  4 13  1  0\\n  4 14  1  0\\n  5 15  1  1\\n  6 16  1  0\\n  6 17  1  0\\n  6 18  1  0\\nM  END\\n\",\"mol\");\n",
              "\tviewer_1644436642320008.setStyle({\"stick\": {}});\n",
              "\tviewer_1644436642320008.rotate(45,\"y\");\n",
              "\tviewer_1644436642320008.zoomTo();\n",
              "viewer_1644436642320008.render();\n",
              "});\n",
              "</script>"
            ]
          },
          "metadata": {}
        },
        {
          "output_type": "stream",
          "name": "stdout",
          "text": [
            "SMILES notation: CCC(C)C[CH+]C\n",
            "Target logP = 3.700, Prediction logP = 2.948\n",
            "==================================================\n",
            "SMILES notation: C(CCl)C(O)F\n",
            "Rotate me!\n"
          ]
        },
        {
          "output_type": "display_data",
          "data": {
            "application/3dmoljs_load.v0": "<div id=\"3dmolviewer_16444366423312829\"  style=\"position: relative; width: 300px; height: 300px\">\n        <p id=\"3dmolwarning_16444366423312829\" style=\"background-color:#ffcccc;color:black\">You appear to be running in JupyterLab (or JavaScript failed to load for some other reason).  You need to install the 3dmol extension: <br>\n        <tt>jupyter labextension install jupyterlab_3dmol</tt></p>\n        </div>\n<script>\n\nvar loadScriptAsync = function(uri){\n  return new Promise((resolve, reject) => {\n    var tag = document.createElement('script');\n    tag.src = uri;\n    tag.async = true;\n    tag.onload = () => {\n      resolve();\n    };\n  var firstScriptTag = document.getElementsByTagName('script')[0];\n  firstScriptTag.parentNode.insertBefore(tag, firstScriptTag);\n});\n};\n\nif(typeof $3Dmolpromise === 'undefined') {\n$3Dmolpromise = null;\n  $3Dmolpromise = loadScriptAsync('https://3dmol.org/build/3Dmol.js');\n}\n\nvar viewer_16444366423312829 = null;\nvar warn = document.getElementById(\"3dmolwarning_16444366423312829\");\nif(warn) {\n    warn.parentNode.removeChild(warn);\n}\n$3Dmolpromise.then(function() {\nviewer_16444366423312829 = $3Dmol.createViewer($(\"#3dmolviewer_16444366423312829\"),{backgroundColor:\"white\"});\nviewer_16444366423312829.zoomTo();\n\tviewer_16444366423312829.addModel(\"\\n     RDKit          2D\\n\\n 12 11  0  0  0  0  0  0  0  0999 V2000\\n    0.0000    0.0000    0.0000 C   0  0  0  0  0  0  0  0  0  0  0  0\\n    1.5000    0.0000    0.0000 C   0  0  0  0  0  0  0  0  0  0  0  0\\n    3.0000    0.0000    0.0000 Cl  0  0  0  0  0  0  0  0  0  0  0  0\\n   -1.5000    0.0000    0.0000 C   0  0  0  0  0  0  0  0  0  0  0  0\\n   -3.0000    0.0000    0.0000 O   0  0  0  0  0  0  0  0  0  0  0  0\\n   -1.5000   -1.5000    0.0000 F   0  0  0  0  0  0  0  0  0  0  0  0\\n    0.0000    1.5000    0.0000 H   0  0  0  0  0  0  0  0  0  0  0  0\\n   -0.0000   -1.5000    0.0000 H   0  0  0  0  0  0  0  0  0  0  0  0\\n    1.5000   -1.5000    0.0000 H   0  0  0  0  0  0  0  0  0  0  0  0\\n    1.5000    1.5000    0.0000 H   0  0  0  0  0  0  0  0  0  0  0  0\\n   -1.5000    1.5000    0.0000 H   0  0  0  0  0  0  0  0  0  0  0  0\\n   -3.7500    1.2990    0.0000 H   0  0  0  0  0  0  0  0  0  0  0  0\\n  1  2  1  0\\n  2  3  1  0\\n  1  4  1  0\\n  4  5  1  0\\n  4  6  1  0\\n  1  7  1  0\\n  1  8  1  0\\n  2  9  1  0\\n  2 10  1  0\\n  4 11  1  0\\n  5 12  1  0\\nM  END\\n\",\"mol\");\n\tviewer_16444366423312829.setStyle({\"stick\": {}});\n\tviewer_16444366423312829.rotate(45,\"y\");\n\tviewer_16444366423312829.zoomTo();\nviewer_16444366423312829.render();\n});\n</script>",
            "text/html": [
              "<div id=\"3dmolviewer_16444366423312829\"  style=\"position: relative; width: 300px; height: 300px\">\n",
              "        <p id=\"3dmolwarning_16444366423312829\" style=\"background-color:#ffcccc;color:black\">You appear to be running in JupyterLab (or JavaScript failed to load for some other reason).  You need to install the 3dmol extension: <br>\n",
              "        <tt>jupyter labextension install jupyterlab_3dmol</tt></p>\n",
              "        </div>\n",
              "<script>\n",
              "\n",
              "var loadScriptAsync = function(uri){\n",
              "  return new Promise((resolve, reject) => {\n",
              "    var tag = document.createElement('script');\n",
              "    tag.src = uri;\n",
              "    tag.async = true;\n",
              "    tag.onload = () => {\n",
              "      resolve();\n",
              "    };\n",
              "  var firstScriptTag = document.getElementsByTagName('script')[0];\n",
              "  firstScriptTag.parentNode.insertBefore(tag, firstScriptTag);\n",
              "});\n",
              "};\n",
              "\n",
              "if(typeof $3Dmolpromise === 'undefined') {\n",
              "$3Dmolpromise = null;\n",
              "  $3Dmolpromise = loadScriptAsync('https://3dmol.org/build/3Dmol.js');\n",
              "}\n",
              "\n",
              "var viewer_16444366423312829 = null;\n",
              "var warn = document.getElementById(\"3dmolwarning_16444366423312829\");\n",
              "if(warn) {\n",
              "    warn.parentNode.removeChild(warn);\n",
              "}\n",
              "$3Dmolpromise.then(function() {\n",
              "viewer_16444366423312829 = $3Dmol.createViewer($(\"#3dmolviewer_16444366423312829\"),{backgroundColor:\"white\"});\n",
              "viewer_16444366423312829.zoomTo();\n",
              "\tviewer_16444366423312829.addModel(\"\\n     RDKit          2D\\n\\n 12 11  0  0  0  0  0  0  0  0999 V2000\\n    0.0000    0.0000    0.0000 C   0  0  0  0  0  0  0  0  0  0  0  0\\n    1.5000    0.0000    0.0000 C   0  0  0  0  0  0  0  0  0  0  0  0\\n    3.0000    0.0000    0.0000 Cl  0  0  0  0  0  0  0  0  0  0  0  0\\n   -1.5000    0.0000    0.0000 C   0  0  0  0  0  0  0  0  0  0  0  0\\n   -3.0000    0.0000    0.0000 O   0  0  0  0  0  0  0  0  0  0  0  0\\n   -1.5000   -1.5000    0.0000 F   0  0  0  0  0  0  0  0  0  0  0  0\\n    0.0000    1.5000    0.0000 H   0  0  0  0  0  0  0  0  0  0  0  0\\n   -0.0000   -1.5000    0.0000 H   0  0  0  0  0  0  0  0  0  0  0  0\\n    1.5000   -1.5000    0.0000 H   0  0  0  0  0  0  0  0  0  0  0  0\\n    1.5000    1.5000    0.0000 H   0  0  0  0  0  0  0  0  0  0  0  0\\n   -1.5000    1.5000    0.0000 H   0  0  0  0  0  0  0  0  0  0  0  0\\n   -3.7500    1.2990    0.0000 H   0  0  0  0  0  0  0  0  0  0  0  0\\n  1  2  1  0\\n  2  3  1  0\\n  1  4  1  0\\n  4  5  1  0\\n  4  6  1  0\\n  1  7  1  0\\n  1  8  1  0\\n  2  9  1  0\\n  2 10  1  0\\n  4 11  1  0\\n  5 12  1  0\\nM  END\\n\",\"mol\");\n",
              "\tviewer_16444366423312829.setStyle({\"stick\": {}});\n",
              "\tviewer_16444366423312829.rotate(45,\"y\");\n",
              "\tviewer_16444366423312829.zoomTo();\n",
              "viewer_16444366423312829.render();\n",
              "});\n",
              "</script>"
            ]
          },
          "metadata": {}
        },
        {
          "output_type": "stream",
          "name": "stdout",
          "text": [
            "SMILES notation: CCPSC=C\n",
            "Target logP = 1.200, Prediction logP = 1.403\n",
            "==================================================\n",
            "SMILES notation: [C@@H](Cl)(Br)I\n",
            "Rotate me!\n"
          ]
        },
        {
          "output_type": "display_data",
          "data": {
            "application/3dmoljs_load.v0": "<div id=\"3dmolviewer_16444366423428354\"  style=\"position: relative; width: 300px; height: 300px\">\n        <p id=\"3dmolwarning_16444366423428354\" style=\"background-color:#ffcccc;color:black\">You appear to be running in JupyterLab (or JavaScript failed to load for some other reason).  You need to install the 3dmol extension: <br>\n        <tt>jupyter labextension install jupyterlab_3dmol</tt></p>\n        </div>\n<script>\n\nvar loadScriptAsync = function(uri){\n  return new Promise((resolve, reject) => {\n    var tag = document.createElement('script');\n    tag.src = uri;\n    tag.async = true;\n    tag.onload = () => {\n      resolve();\n    };\n  var firstScriptTag = document.getElementsByTagName('script')[0];\n  firstScriptTag.parentNode.insertBefore(tag, firstScriptTag);\n});\n};\n\nif(typeof $3Dmolpromise === 'undefined') {\n$3Dmolpromise = null;\n  $3Dmolpromise = loadScriptAsync('https://3dmol.org/build/3Dmol.js');\n}\n\nvar viewer_16444366423428354 = null;\nvar warn = document.getElementById(\"3dmolwarning_16444366423428354\");\nif(warn) {\n    warn.parentNode.removeChild(warn);\n}\n$3Dmolpromise.then(function() {\nviewer_16444366423428354 = $3Dmol.createViewer($(\"#3dmolviewer_16444366423428354\"),{backgroundColor:\"white\"});\nviewer_16444366423428354.zoomTo();\n\tviewer_16444366423428354.addModel(\"\\n     RDKit          2D\\n\\n  5  4  0  0  0  0  0  0  0  0999 V2000\\n    0.0000    0.0000    0.0000 C   0  0  0  0  0  0  0  0  0  0  0  0\\n    1.5000    0.0000    0.0000 Cl  0  0  0  0  0  0  0  0  0  0  0  0\\n   -1.5000    0.0000    0.0000 Br  0  0  0  0  0  0  0  0  0  0  0  0\\n    0.0000    1.5000    0.0000 I   0  0  0  0  0  0  0  0  0  0  0  0\\n   -0.0000   -1.5000    0.0000 H   0  0  0  0  0  0  0  0  0  0  0  0\\n  1  2  1  0\\n  1  3  1  0\\n  1  4  1  0\\n  1  5  1  1\\nM  END\\n\",\"mol\");\n\tviewer_16444366423428354.setStyle({\"stick\": {}});\n\tviewer_16444366423428354.rotate(45,\"y\");\n\tviewer_16444366423428354.zoomTo();\nviewer_16444366423428354.render();\n});\n</script>",
            "text/html": [
              "<div id=\"3dmolviewer_16444366423428354\"  style=\"position: relative; width: 300px; height: 300px\">\n",
              "        <p id=\"3dmolwarning_16444366423428354\" style=\"background-color:#ffcccc;color:black\">You appear to be running in JupyterLab (or JavaScript failed to load for some other reason).  You need to install the 3dmol extension: <br>\n",
              "        <tt>jupyter labextension install jupyterlab_3dmol</tt></p>\n",
              "        </div>\n",
              "<script>\n",
              "\n",
              "var loadScriptAsync = function(uri){\n",
              "  return new Promise((resolve, reject) => {\n",
              "    var tag = document.createElement('script');\n",
              "    tag.src = uri;\n",
              "    tag.async = true;\n",
              "    tag.onload = () => {\n",
              "      resolve();\n",
              "    };\n",
              "  var firstScriptTag = document.getElementsByTagName('script')[0];\n",
              "  firstScriptTag.parentNode.insertBefore(tag, firstScriptTag);\n",
              "});\n",
              "};\n",
              "\n",
              "if(typeof $3Dmolpromise === 'undefined') {\n",
              "$3Dmolpromise = null;\n",
              "  $3Dmolpromise = loadScriptAsync('https://3dmol.org/build/3Dmol.js');\n",
              "}\n",
              "\n",
              "var viewer_16444366423428354 = null;\n",
              "var warn = document.getElementById(\"3dmolwarning_16444366423428354\");\n",
              "if(warn) {\n",
              "    warn.parentNode.removeChild(warn);\n",
              "}\n",
              "$3Dmolpromise.then(function() {\n",
              "viewer_16444366423428354 = $3Dmol.createViewer($(\"#3dmolviewer_16444366423428354\"),{backgroundColor:\"white\"});\n",
              "viewer_16444366423428354.zoomTo();\n",
              "\tviewer_16444366423428354.addModel(\"\\n     RDKit          2D\\n\\n  5  4  0  0  0  0  0  0  0  0999 V2000\\n    0.0000    0.0000    0.0000 C   0  0  0  0  0  0  0  0  0  0  0  0\\n    1.5000    0.0000    0.0000 Cl  0  0  0  0  0  0  0  0  0  0  0  0\\n   -1.5000    0.0000    0.0000 Br  0  0  0  0  0  0  0  0  0  0  0  0\\n    0.0000    1.5000    0.0000 I   0  0  0  0  0  0  0  0  0  0  0  0\\n   -0.0000   -1.5000    0.0000 H   0  0  0  0  0  0  0  0  0  0  0  0\\n  1  2  1  0\\n  1  3  1  0\\n  1  4  1  0\\n  1  5  1  1\\nM  END\\n\",\"mol\");\n",
              "\tviewer_16444366423428354.setStyle({\"stick\": {}});\n",
              "\tviewer_16444366423428354.rotate(45,\"y\");\n",
              "\tviewer_16444366423428354.zoomTo();\n",
              "viewer_16444366423428354.render();\n",
              "});\n",
              "</script>"
            ]
          },
          "metadata": {}
        },
        {
          "output_type": "stream",
          "name": "stdout",
          "text": [
            "SMILES notation: CCOOCCN\n",
            "Target logP = -0.400, Prediction logP = 0.215\n",
            "==================================================\n",
            "SMILES notation: C[C@H]([C@H](Cl)Br)Br\n",
            "Rotate me!\n"
          ]
        },
        {
          "output_type": "display_data",
          "data": {
            "application/3dmoljs_load.v0": "<div id=\"3dmolviewer_16444366423521366\"  style=\"position: relative; width: 300px; height: 300px\">\n        <p id=\"3dmolwarning_16444366423521366\" style=\"background-color:#ffcccc;color:black\">You appear to be running in JupyterLab (or JavaScript failed to load for some other reason).  You need to install the 3dmol extension: <br>\n        <tt>jupyter labextension install jupyterlab_3dmol</tt></p>\n        </div>\n<script>\n\nvar loadScriptAsync = function(uri){\n  return new Promise((resolve, reject) => {\n    var tag = document.createElement('script');\n    tag.src = uri;\n    tag.async = true;\n    tag.onload = () => {\n      resolve();\n    };\n  var firstScriptTag = document.getElementsByTagName('script')[0];\n  firstScriptTag.parentNode.insertBefore(tag, firstScriptTag);\n});\n};\n\nif(typeof $3Dmolpromise === 'undefined') {\n$3Dmolpromise = null;\n  $3Dmolpromise = loadScriptAsync('https://3dmol.org/build/3Dmol.js');\n}\n\nvar viewer_16444366423521366 = null;\nvar warn = document.getElementById(\"3dmolwarning_16444366423521366\");\nif(warn) {\n    warn.parentNode.removeChild(warn);\n}\n$3Dmolpromise.then(function() {\nviewer_16444366423521366 = $3Dmol.createViewer($(\"#3dmolviewer_16444366423521366\"),{backgroundColor:\"white\"});\nviewer_16444366423521366.zoomTo();\n\tviewer_16444366423521366.addModel(\"\\n     RDKit          2D\\n\\n 11 10  0  0  0  0  0  0  0  0999 V2000\\n    0.0000    0.0000    0.0000 C   0  0  0  0  0  0  0  0  0  0  0  0\\n    1.5000    0.0000    0.0000 C   0  0  0  0  0  0  0  0  0  0  0  0\\n    3.0000    0.0000    0.0000 C   0  0  0  0  0  0  0  0  0  0  0  0\\n    4.5000    0.0000    0.0000 Cl  0  0  0  0  0  0  0  0  0  0  0  0\\n    3.0000    1.5000    0.0000 Br  0  0  0  0  0  0  0  0  0  0  0  0\\n    1.5000   -1.5000    0.0000 Br  0  0  0  0  0  0  0  0  0  0  0  0\\n   -1.5000    0.0000    0.0000 H   0  0  0  0  0  0  0  0  0  0  0  0\\n    0.0000    1.5000    0.0000 H   0  0  0  0  0  0  0  0  0  0  0  0\\n   -0.0000   -1.5000    0.0000 H   0  0  0  0  0  0  0  0  0  0  0  0\\n    1.5000    1.5000    0.0000 H   0  0  0  0  0  0  0  0  0  0  0  0\\n    3.0000   -1.5000    0.0000 H   0  0  0  0  0  0  0  0  0  0  0  0\\n  1  2  1  0\\n  2  3  1  0\\n  3  4  1  0\\n  3  5  1  0\\n  2  6  1  0\\n  1  7  1  0\\n  1  8  1  0\\n  1  9  1  0\\n  2 10  1  1\\n  3 11  1  6\\nM  END\\n\",\"mol\");\n\tviewer_16444366423521366.setStyle({\"stick\": {}});\n\tviewer_16444366423521366.rotate(45,\"y\");\n\tviewer_16444366423521366.zoomTo();\nviewer_16444366423521366.render();\n});\n</script>",
            "text/html": [
              "<div id=\"3dmolviewer_16444366423521366\"  style=\"position: relative; width: 300px; height: 300px\">\n",
              "        <p id=\"3dmolwarning_16444366423521366\" style=\"background-color:#ffcccc;color:black\">You appear to be running in JupyterLab (or JavaScript failed to load for some other reason).  You need to install the 3dmol extension: <br>\n",
              "        <tt>jupyter labextension install jupyterlab_3dmol</tt></p>\n",
              "        </div>\n",
              "<script>\n",
              "\n",
              "var loadScriptAsync = function(uri){\n",
              "  return new Promise((resolve, reject) => {\n",
              "    var tag = document.createElement('script');\n",
              "    tag.src = uri;\n",
              "    tag.async = true;\n",
              "    tag.onload = () => {\n",
              "      resolve();\n",
              "    };\n",
              "  var firstScriptTag = document.getElementsByTagName('script')[0];\n",
              "  firstScriptTag.parentNode.insertBefore(tag, firstScriptTag);\n",
              "});\n",
              "};\n",
              "\n",
              "if(typeof $3Dmolpromise === 'undefined') {\n",
              "$3Dmolpromise = null;\n",
              "  $3Dmolpromise = loadScriptAsync('https://3dmol.org/build/3Dmol.js');\n",
              "}\n",
              "\n",
              "var viewer_16444366423521366 = null;\n",
              "var warn = document.getElementById(\"3dmolwarning_16444366423521366\");\n",
              "if(warn) {\n",
              "    warn.parentNode.removeChild(warn);\n",
              "}\n",
              "$3Dmolpromise.then(function() {\n",
              "viewer_16444366423521366 = $3Dmol.createViewer($(\"#3dmolviewer_16444366423521366\"),{backgroundColor:\"white\"});\n",
              "viewer_16444366423521366.zoomTo();\n",
              "\tviewer_16444366423521366.addModel(\"\\n     RDKit          2D\\n\\n 11 10  0  0  0  0  0  0  0  0999 V2000\\n    0.0000    0.0000    0.0000 C   0  0  0  0  0  0  0  0  0  0  0  0\\n    1.5000    0.0000    0.0000 C   0  0  0  0  0  0  0  0  0  0  0  0\\n    3.0000    0.0000    0.0000 C   0  0  0  0  0  0  0  0  0  0  0  0\\n    4.5000    0.0000    0.0000 Cl  0  0  0  0  0  0  0  0  0  0  0  0\\n    3.0000    1.5000    0.0000 Br  0  0  0  0  0  0  0  0  0  0  0  0\\n    1.5000   -1.5000    0.0000 Br  0  0  0  0  0  0  0  0  0  0  0  0\\n   -1.5000    0.0000    0.0000 H   0  0  0  0  0  0  0  0  0  0  0  0\\n    0.0000    1.5000    0.0000 H   0  0  0  0  0  0  0  0  0  0  0  0\\n   -0.0000   -1.5000    0.0000 H   0  0  0  0  0  0  0  0  0  0  0  0\\n    1.5000    1.5000    0.0000 H   0  0  0  0  0  0  0  0  0  0  0  0\\n    3.0000   -1.5000    0.0000 H   0  0  0  0  0  0  0  0  0  0  0  0\\n  1  2  1  0\\n  2  3  1  0\\n  3  4  1  0\\n  3  5  1  0\\n  2  6  1  0\\n  1  7  1  0\\n  1  8  1  0\\n  1  9  1  0\\n  2 10  1  1\\n  3 11  1  6\\nM  END\\n\",\"mol\");\n",
              "\tviewer_16444366423521366.setStyle({\"stick\": {}});\n",
              "\tviewer_16444366423521366.rotate(45,\"y\");\n",
              "\tviewer_16444366423521366.zoomTo();\n",
              "viewer_16444366423521366.render();\n",
              "});\n",
              "</script>"
            ]
          },
          "metadata": {}
        },
        {
          "output_type": "stream",
          "name": "stdout",
          "text": [
            "SMILES notation: CC[C@@H](CCl)Cl\n",
            "Target logP = 2.400, Prediction logP = 2.403\n",
            "==================================================\n",
            "SMILES notation: CCC(CBr)NC\n",
            "Rotate me!\n"
          ]
        },
        {
          "output_type": "display_data",
          "data": {
            "application/3dmoljs_load.v0": "<div id=\"3dmolviewer_16444366423628328\"  style=\"position: relative; width: 300px; height: 300px\">\n        <p id=\"3dmolwarning_16444366423628328\" style=\"background-color:#ffcccc;color:black\">You appear to be running in JupyterLab (or JavaScript failed to load for some other reason).  You need to install the 3dmol extension: <br>\n        <tt>jupyter labextension install jupyterlab_3dmol</tt></p>\n        </div>\n<script>\n\nvar loadScriptAsync = function(uri){\n  return new Promise((resolve, reject) => {\n    var tag = document.createElement('script');\n    tag.src = uri;\n    tag.async = true;\n    tag.onload = () => {\n      resolve();\n    };\n  var firstScriptTag = document.getElementsByTagName('script')[0];\n  firstScriptTag.parentNode.insertBefore(tag, firstScriptTag);\n});\n};\n\nif(typeof $3Dmolpromise === 'undefined') {\n$3Dmolpromise = null;\n  $3Dmolpromise = loadScriptAsync('https://3dmol.org/build/3Dmol.js');\n}\n\nvar viewer_16444366423628328 = null;\nvar warn = document.getElementById(\"3dmolwarning_16444366423628328\");\nif(warn) {\n    warn.parentNode.removeChild(warn);\n}\n$3Dmolpromise.then(function() {\nviewer_16444366423628328 = $3Dmol.createViewer($(\"#3dmolviewer_16444366423628328\"),{backgroundColor:\"white\"});\nviewer_16444366423628328.zoomTo();\n\tviewer_16444366423628328.addModel(\"\\n     RDKit          2D\\n\\n 19 18  0  0  0  0  0  0  0  0999 V2000\\n    0.0000    0.0000    0.0000 C   0  0  0  0  0  0  0  0  0  0  0  0\\n    1.5000    0.0000    0.0000 C   0  0  0  0  0  0  0  0  0  0  0  0\\n    3.0000    0.0000    0.0000 C   0  0  0  0  0  0  0  0  0  0  0  0\\n    4.5000    0.0000    0.0000 C   0  0  0  0  0  0  0  0  0  0  0  0\\n    6.0000   -0.0000    0.0000 Br  0  0  0  0  0  0  0  0  0  0  0  0\\n    3.0000    1.5000    0.0000 N   0  0  0  0  0  0  0  0  0  0  0  0\\n    4.2990    2.2500    0.0000 C   0  0  0  0  0  0  0  0  0  0  0  0\\n   -1.5000    0.0000    0.0000 H   0  0  0  0  0  0  0  0  0  0  0  0\\n    0.0000    1.5000    0.0000 H   0  0  0  0  0  0  0  0  0  0  0  0\\n   -0.0000   -1.5000    0.0000 H   0  0  0  0  0  0  0  0  0  0  0  0\\n    1.5000   -1.5000    0.0000 H   0  0  0  0  0  0  0  0  0  0  0  0\\n    1.3172    1.4888    0.0000 H   0  0  0  0  0  0  0  0  0  0  0  0\\n    3.0000   -1.5000    0.0000 H   0  0  0  0  0  0  0  0  0  0  0  0\\n    4.7857    0.7442    0.0000 H   0  0  0  0  0  0  0  0  0  0  0  0\\n    4.5000   -1.5000    0.0000 H   0  0  0  0  0  0  0  0  0  0  0  0\\n    1.8021    2.4028    0.0000 H   0  0  0  0  0  0  0  0  0  0  0  0\\n    5.5981    3.0000    0.0000 H   0  0  0  0  0  0  0  0  0  0  0  0\\n    3.5490    3.5490    0.0000 H   0  0  0  0  0  0  0  0  0  0  0  0\\n    4.7788    1.6134    0.0000 H   0  0  0  0  0  0  0  0  0  0  0  0\\n  1  2  1  0\\n  2  3  1  0\\n  3  4  1  0\\n  4  5  1  0\\n  3  6  1  0\\n  6  7  1  0\\n  1  8  1  0\\n  1  9  1  0\\n  1 10  1  0\\n  2 11  1  0\\n  2 12  1  0\\n  3 13  1  0\\n  4 14  1  0\\n  4 15  1  0\\n  6 16  1  0\\n  7 17  1  0\\n  7 18  1  0\\n  7 19  1  0\\nM  END\\n\",\"mol\");\n\tviewer_16444366423628328.setStyle({\"stick\": {}});\n\tviewer_16444366423628328.rotate(45,\"y\");\n\tviewer_16444366423628328.zoomTo();\nviewer_16444366423628328.render();\n});\n</script>",
            "text/html": [
              "<div id=\"3dmolviewer_16444366423628328\"  style=\"position: relative; width: 300px; height: 300px\">\n",
              "        <p id=\"3dmolwarning_16444366423628328\" style=\"background-color:#ffcccc;color:black\">You appear to be running in JupyterLab (or JavaScript failed to load for some other reason).  You need to install the 3dmol extension: <br>\n",
              "        <tt>jupyter labextension install jupyterlab_3dmol</tt></p>\n",
              "        </div>\n",
              "<script>\n",
              "\n",
              "var loadScriptAsync = function(uri){\n",
              "  return new Promise((resolve, reject) => {\n",
              "    var tag = document.createElement('script');\n",
              "    tag.src = uri;\n",
              "    tag.async = true;\n",
              "    tag.onload = () => {\n",
              "      resolve();\n",
              "    };\n",
              "  var firstScriptTag = document.getElementsByTagName('script')[0];\n",
              "  firstScriptTag.parentNode.insertBefore(tag, firstScriptTag);\n",
              "});\n",
              "};\n",
              "\n",
              "if(typeof $3Dmolpromise === 'undefined') {\n",
              "$3Dmolpromise = null;\n",
              "  $3Dmolpromise = loadScriptAsync('https://3dmol.org/build/3Dmol.js');\n",
              "}\n",
              "\n",
              "var viewer_16444366423628328 = null;\n",
              "var warn = document.getElementById(\"3dmolwarning_16444366423628328\");\n",
              "if(warn) {\n",
              "    warn.parentNode.removeChild(warn);\n",
              "}\n",
              "$3Dmolpromise.then(function() {\n",
              "viewer_16444366423628328 = $3Dmol.createViewer($(\"#3dmolviewer_16444366423628328\"),{backgroundColor:\"white\"});\n",
              "viewer_16444366423628328.zoomTo();\n",
              "\tviewer_16444366423628328.addModel(\"\\n     RDKit          2D\\n\\n 19 18  0  0  0  0  0  0  0  0999 V2000\\n    0.0000    0.0000    0.0000 C   0  0  0  0  0  0  0  0  0  0  0  0\\n    1.5000    0.0000    0.0000 C   0  0  0  0  0  0  0  0  0  0  0  0\\n    3.0000    0.0000    0.0000 C   0  0  0  0  0  0  0  0  0  0  0  0\\n    4.5000    0.0000    0.0000 C   0  0  0  0  0  0  0  0  0  0  0  0\\n    6.0000   -0.0000    0.0000 Br  0  0  0  0  0  0  0  0  0  0  0  0\\n    3.0000    1.5000    0.0000 N   0  0  0  0  0  0  0  0  0  0  0  0\\n    4.2990    2.2500    0.0000 C   0  0  0  0  0  0  0  0  0  0  0  0\\n   -1.5000    0.0000    0.0000 H   0  0  0  0  0  0  0  0  0  0  0  0\\n    0.0000    1.5000    0.0000 H   0  0  0  0  0  0  0  0  0  0  0  0\\n   -0.0000   -1.5000    0.0000 H   0  0  0  0  0  0  0  0  0  0  0  0\\n    1.5000   -1.5000    0.0000 H   0  0  0  0  0  0  0  0  0  0  0  0\\n    1.3172    1.4888    0.0000 H   0  0  0  0  0  0  0  0  0  0  0  0\\n    3.0000   -1.5000    0.0000 H   0  0  0  0  0  0  0  0  0  0  0  0\\n    4.7857    0.7442    0.0000 H   0  0  0  0  0  0  0  0  0  0  0  0\\n    4.5000   -1.5000    0.0000 H   0  0  0  0  0  0  0  0  0  0  0  0\\n    1.8021    2.4028    0.0000 H   0  0  0  0  0  0  0  0  0  0  0  0\\n    5.5981    3.0000    0.0000 H   0  0  0  0  0  0  0  0  0  0  0  0\\n    3.5490    3.5490    0.0000 H   0  0  0  0  0  0  0  0  0  0  0  0\\n    4.7788    1.6134    0.0000 H   0  0  0  0  0  0  0  0  0  0  0  0\\n  1  2  1  0\\n  2  3  1  0\\n  3  4  1  0\\n  4  5  1  0\\n  3  6  1  0\\n  6  7  1  0\\n  1  8  1  0\\n  1  9  1  0\\n  1 10  1  0\\n  2 11  1  0\\n  2 12  1  0\\n  3 13  1  0\\n  4 14  1  0\\n  4 15  1  0\\n  6 16  1  0\\n  7 17  1  0\\n  7 18  1  0\\n  7 19  1  0\\nM  END\\n\",\"mol\");\n",
              "\tviewer_16444366423628328.setStyle({\"stick\": {}});\n",
              "\tviewer_16444366423628328.rotate(45,\"y\");\n",
              "\tviewer_16444366423628328.zoomTo();\n",
              "viewer_16444366423628328.render();\n",
              "});\n",
              "</script>"
            ]
          },
          "metadata": {}
        },
        {
          "output_type": "stream",
          "name": "stdout",
          "text": [
            "SMILES notation: C(COCl)OCCl\n",
            "Target logP = 1.400, Prediction logP = 1.453\n",
            "==================================================\n",
            "SMILES notation: C1CCN[NH2+]C1\n",
            "Rotate me!\n"
          ]
        },
        {
          "output_type": "display_data",
          "data": {
            "application/3dmoljs_load.v0": "<div id=\"3dmolviewer_1644436642375069\"  style=\"position: relative; width: 300px; height: 300px\">\n        <p id=\"3dmolwarning_1644436642375069\" style=\"background-color:#ffcccc;color:black\">You appear to be running in JupyterLab (or JavaScript failed to load for some other reason).  You need to install the 3dmol extension: <br>\n        <tt>jupyter labextension install jupyterlab_3dmol</tt></p>\n        </div>\n<script>\n\nvar loadScriptAsync = function(uri){\n  return new Promise((resolve, reject) => {\n    var tag = document.createElement('script');\n    tag.src = uri;\n    tag.async = true;\n    tag.onload = () => {\n      resolve();\n    };\n  var firstScriptTag = document.getElementsByTagName('script')[0];\n  firstScriptTag.parentNode.insertBefore(tag, firstScriptTag);\n});\n};\n\nif(typeof $3Dmolpromise === 'undefined') {\n$3Dmolpromise = null;\n  $3Dmolpromise = loadScriptAsync('https://3dmol.org/build/3Dmol.js');\n}\n\nvar viewer_1644436642375069 = null;\nvar warn = document.getElementById(\"3dmolwarning_1644436642375069\");\nif(warn) {\n    warn.parentNode.removeChild(warn);\n}\n$3Dmolpromise.then(function() {\nviewer_1644436642375069 = $3Dmol.createViewer($(\"#3dmolviewer_1644436642375069\"),{backgroundColor:\"white\"});\nviewer_1644436642375069.zoomTo();\n\tviewer_1644436642375069.addModel(\"\\n     RDKit          2D\\n\\n 17 17  0  0  0  0  0  0  0  0999 V2000\\n    1.5000    0.0000    0.0000 C   0  0  0  0  0  0  0  0  0  0  0  0\\n    0.7500   -1.2990    0.0000 C   0  0  0  0  0  0  0  0  0  0  0  0\\n   -0.7500   -1.2990    0.0000 C   0  0  0  0  0  0  0  0  0  0  0  0\\n   -1.5000    0.0000    0.0000 N   0  0  0  0  0  0  0  0  0  0  0  0\\n   -0.7500    1.2990    0.0000 N   0  0  0  0  0  4  0  0  0  0  0  0\\n    0.7500    1.2990    0.0000 C   0  0  0  0  0  0  0  0  0  0  0  0\\n    2.6491    0.9642    0.0000 H   0  0  0  0  0  0  0  0  0  0  0  0\\n    2.6491   -0.9642    0.0000 H   0  0  0  0  0  0  0  0  0  0  0  0\\n    2.1595   -1.8121    0.0000 H   0  0  0  0  0  0  0  0  0  0  0  0\\n    0.4895   -2.7762    0.0000 H   0  0  0  0  0  0  0  0  0  0  0  0\\n   -0.4895   -2.7762    0.0000 H   0  0  0  0  0  0  0  0  0  0  0  0\\n   -2.1595   -1.8121    0.0000 H   0  0  0  0  0  0  0  0  0  0  0  0\\n   -3.0000    0.0000    0.0000 H   0  0  0  0  0  0  0  0  0  0  0  0\\n   -2.1595    1.8121    0.0000 H   0  0  0  0  0  0  0  0  0  0  0  0\\n   -0.4895    2.7762    0.0000 H   0  0  0  0  0  0  0  0  0  0  0  0\\n    0.4895    2.7762    0.0000 H   0  0  0  0  0  0  0  0  0  0  0  0\\n    2.1595    1.8121    0.0000 H   0  0  0  0  0  0  0  0  0  0  0  0\\n  1  2  1  0\\n  2  3  1  0\\n  3  4  1  0\\n  4  5  1  0\\n  5  6  1  0\\n  6  1  1  0\\n  1  7  1  0\\n  1  8  1  0\\n  2  9  1  0\\n  2 10  1  0\\n  3 11  1  0\\n  3 12  1  0\\n  4 13  1  0\\n  5 14  1  0\\n  5 15  1  0\\n  6 16  1  0\\n  6 17  1  0\\nM  CHG  1   5   1\\nM  END\\n\",\"mol\");\n\tviewer_1644436642375069.setStyle({\"stick\": {}});\n\tviewer_1644436642375069.rotate(45,\"y\");\n\tviewer_1644436642375069.zoomTo();\nviewer_1644436642375069.render();\n});\n</script>",
            "text/html": [
              "<div id=\"3dmolviewer_1644436642375069\"  style=\"position: relative; width: 300px; height: 300px\">\n",
              "        <p id=\"3dmolwarning_1644436642375069\" style=\"background-color:#ffcccc;color:black\">You appear to be running in JupyterLab (or JavaScript failed to load for some other reason).  You need to install the 3dmol extension: <br>\n",
              "        <tt>jupyter labextension install jupyterlab_3dmol</tt></p>\n",
              "        </div>\n",
              "<script>\n",
              "\n",
              "var loadScriptAsync = function(uri){\n",
              "  return new Promise((resolve, reject) => {\n",
              "    var tag = document.createElement('script');\n",
              "    tag.src = uri;\n",
              "    tag.async = true;\n",
              "    tag.onload = () => {\n",
              "      resolve();\n",
              "    };\n",
              "  var firstScriptTag = document.getElementsByTagName('script')[0];\n",
              "  firstScriptTag.parentNode.insertBefore(tag, firstScriptTag);\n",
              "});\n",
              "};\n",
              "\n",
              "if(typeof $3Dmolpromise === 'undefined') {\n",
              "$3Dmolpromise = null;\n",
              "  $3Dmolpromise = loadScriptAsync('https://3dmol.org/build/3Dmol.js');\n",
              "}\n",
              "\n",
              "var viewer_1644436642375069 = null;\n",
              "var warn = document.getElementById(\"3dmolwarning_1644436642375069\");\n",
              "if(warn) {\n",
              "    warn.parentNode.removeChild(warn);\n",
              "}\n",
              "$3Dmolpromise.then(function() {\n",
              "viewer_1644436642375069 = $3Dmol.createViewer($(\"#3dmolviewer_1644436642375069\"),{backgroundColor:\"white\"});\n",
              "viewer_1644436642375069.zoomTo();\n",
              "\tviewer_1644436642375069.addModel(\"\\n     RDKit          2D\\n\\n 17 17  0  0  0  0  0  0  0  0999 V2000\\n    1.5000    0.0000    0.0000 C   0  0  0  0  0  0  0  0  0  0  0  0\\n    0.7500   -1.2990    0.0000 C   0  0  0  0  0  0  0  0  0  0  0  0\\n   -0.7500   -1.2990    0.0000 C   0  0  0  0  0  0  0  0  0  0  0  0\\n   -1.5000    0.0000    0.0000 N   0  0  0  0  0  0  0  0  0  0  0  0\\n   -0.7500    1.2990    0.0000 N   0  0  0  0  0  4  0  0  0  0  0  0\\n    0.7500    1.2990    0.0000 C   0  0  0  0  0  0  0  0  0  0  0  0\\n    2.6491    0.9642    0.0000 H   0  0  0  0  0  0  0  0  0  0  0  0\\n    2.6491   -0.9642    0.0000 H   0  0  0  0  0  0  0  0  0  0  0  0\\n    2.1595   -1.8121    0.0000 H   0  0  0  0  0  0  0  0  0  0  0  0\\n    0.4895   -2.7762    0.0000 H   0  0  0  0  0  0  0  0  0  0  0  0\\n   -0.4895   -2.7762    0.0000 H   0  0  0  0  0  0  0  0  0  0  0  0\\n   -2.1595   -1.8121    0.0000 H   0  0  0  0  0  0  0  0  0  0  0  0\\n   -3.0000    0.0000    0.0000 H   0  0  0  0  0  0  0  0  0  0  0  0\\n   -2.1595    1.8121    0.0000 H   0  0  0  0  0  0  0  0  0  0  0  0\\n   -0.4895    2.7762    0.0000 H   0  0  0  0  0  0  0  0  0  0  0  0\\n    0.4895    2.7762    0.0000 H   0  0  0  0  0  0  0  0  0  0  0  0\\n    2.1595    1.8121    0.0000 H   0  0  0  0  0  0  0  0  0  0  0  0\\n  1  2  1  0\\n  2  3  1  0\\n  3  4  1  0\\n  4  5  1  0\\n  5  6  1  0\\n  6  1  1  0\\n  1  7  1  0\\n  1  8  1  0\\n  2  9  1  0\\n  2 10  1  0\\n  3 11  1  0\\n  3 12  1  0\\n  4 13  1  0\\n  5 14  1  0\\n  5 15  1  0\\n  6 16  1  0\\n  6 17  1  0\\nM  CHG  1   5   1\\nM  END\\n\",\"mol\");\n",
              "\tviewer_1644436642375069.setStyle({\"stick\": {}});\n",
              "\tviewer_1644436642375069.rotate(45,\"y\");\n",
              "\tviewer_1644436642375069.zoomTo();\n",
              "viewer_1644436642375069.render();\n",
              "});\n",
              "</script>"
            ]
          },
          "metadata": {}
        },
        {
          "output_type": "stream",
          "name": "stdout",
          "text": [
            "SMILES notation: CNCOPO\n",
            "Target logP = -0.900, Prediction logP = -1.054\n",
            "==================================================\n"
          ]
        }
      ],
      "source": [
        "indicies = np.random.choice(range(len(X_test)), 10) # Try a few examples\n",
        "\n",
        "for idx in indicies:\n",
        "    plot_example(ridge_model, X_test, y_test, df, idx, show_3d=True)"
      ]
    },
    {
      "cell_type": "markdown",
      "id": "52225326",
      "metadata": {
        "id": "52225326"
      },
      "source": [
        "## TensorFlow Model\n",
        "\n",
        "Let's create a simple multi-layer neural network using TensorFlow. We can compare our TensorFlow neural network with the Ridge Regression model."
      ]
    },
    {
      "cell_type": "code",
      "execution_count": 30,
      "id": "01eb25c4",
      "metadata": {
        "id": "01eb25c4"
      },
      "outputs": [],
      "source": [
        "import tensorflow as tf"
      ]
    },
    {
      "cell_type": "markdown",
      "id": "8b73084a",
      "metadata": {
        "id": "8b73084a"
      },
      "source": [
        "## A very simple multi-layered perceptron with dropout\n",
        "\n",
        "This is about as simple a neural network topology as you can get."
      ]
    },
    {
      "cell_type": "code",
      "execution_count": 31,
      "id": "54180251",
      "metadata": {
        "id": "54180251"
      },
      "outputs": [],
      "source": [
        "inputs = tf.keras.layers.Input(shape=(X_train.shape[1]), name=\"mol2vec\")\n",
        "\n",
        "dense1 = tf.keras.layers.Dense(128, activation=\"relu\")(inputs)\n",
        "drop1  = tf.keras.layers.Dropout(0.3)(dense1)\n",
        "prediction = tf.keras.layers.Dense(1, activation=\"linear\", name=\"logP_value\")(drop1)"
      ]
    },
    {
      "cell_type": "code",
      "execution_count": 32,
      "id": "36cb3fa3",
      "metadata": {
        "id": "36cb3fa3"
      },
      "outputs": [],
      "source": [
        "tf_model = tf.keras.models.Model(inputs=[inputs], outputs=[prediction], name=\"logP_Model\")"
      ]
    },
    {
      "cell_type": "markdown",
      "id": "8c8e4d87",
      "metadata": {
        "id": "8c8e4d87"
      },
      "source": [
        "## Print TensorFlow model"
      ]
    },
    {
      "cell_type": "code",
      "execution_count": 33,
      "id": "c4f992c1",
      "metadata": {
        "scrolled": true,
        "id": "c4f992c1",
        "outputId": "a8f01482-6ab9-4d2d-b1d7-e197977869d8",
        "colab": {
          "base_uri": "https://localhost:8080/"
        }
      },
      "outputs": [
        {
          "output_type": "stream",
          "name": "stdout",
          "text": [
            "Model: \"logP_Model\"\n",
            "_________________________________________________________________\n",
            " Layer (type)                Output Shape              Param #   \n",
            "=================================================================\n",
            " mol2vec (InputLayer)        [(None, 113)]             0         \n",
            "                                                                 \n",
            " dense (Dense)               (None, 128)               14592     \n",
            "                                                                 \n",
            " dropout (Dropout)           (None, 128)               0         \n",
            "                                                                 \n",
            " logP_value (Dense)          (None, 1)                 129       \n",
            "                                                                 \n",
            "=================================================================\n",
            "Total params: 14,721\n",
            "Trainable params: 14,721\n",
            "Non-trainable params: 0\n",
            "_________________________________________________________________\n"
          ]
        }
      ],
      "source": [
        "tf_model.summary()"
      ]
    },
    {
      "cell_type": "markdown",
      "id": "8571069f",
      "metadata": {
        "id": "8571069f"
      },
      "source": [
        "## Loss and metrics\n",
        "\n",
        "We'll use the mean average error ([MAE](https://en.wikipedia.org/wiki/Mean_absolute_error) or L1-norm) and mean squared error ([MSE](https://en.wikipedia.org/wiki/Mean_squared_error) or L2-norm) for the loss and goodness of fit."
      ]
    },
    {
      "cell_type": "code",
      "execution_count": 34,
      "id": "ee57fed7",
      "metadata": {
        "id": "ee57fed7",
        "outputId": "51968997-f880-411e-f66a-13442c1b30c3",
        "colab": {
          "base_uri": "https://localhost:8080/"
        }
      },
      "outputs": [
        {
          "output_type": "stream",
          "name": "stderr",
          "text": [
            "/usr/local/lib/python3.7/dist-packages/keras/optimizer_v2/adam.py:105: UserWarning: The `lr` argument is deprecated, use `learning_rate` instead.\n",
            "  super(Adam, self).__init__(name, **kwargs)\n"
          ]
        }
      ],
      "source": [
        "tf_model.compile(loss=\"mse\",\n",
        "              metrics=[\"mse\", \"mae\"],\n",
        "              optimizer=tf.keras.optimizers.Adam(lr=3e-4)) # Learning rate must be low"
      ]
    },
    {
      "cell_type": "markdown",
      "id": "cc38da89",
      "metadata": {
        "id": "cc38da89"
      },
      "source": [
        "## Add callbacks\n",
        "\n",
        "We'll add early stopping, TensorBoard, and model checkpoints.\n",
        "\n",
        "You can view the TensorBoard by running:\n",
        "\n",
        "`tensorboard --logdir logP_model`"
      ]
    },
    {
      "cell_type": "code",
      "execution_count": 35,
      "id": "bdae37ae",
      "metadata": {
        "id": "bdae37ae"
      },
      "outputs": [],
      "source": [
        "%load_ext tensorboard\n",
        "\n",
        "stopping = tf.keras.callbacks.EarlyStopping(patience=30, verbose=1, restore_best_weights=True)\n",
        "\n",
        "tensorboard = tf.keras.callbacks.TensorBoard(log_dir='logs')\n",
        "\n",
        "checkpoint_dir = \"logP_model\"\n",
        "checkpoint = tf.keras.callbacks.ModelCheckpoint(checkpoint_dir, monitor='val_loss', verbose=1, save_best_only=True)"
      ]
    },
    {
      "cell_type": "code",
      "execution_count": 36,
      "id": "958f35f6",
      "metadata": {
        "id": "958f35f6",
        "outputId": "411bce0d-349c-46c0-8923-428e9ec85435",
        "colab": {
          "base_uri": "https://localhost:8080/",
          "height": 121
        }
      },
      "outputs": [
        {
          "output_type": "display_data",
          "data": {
            "text/plain": [
              "ERROR: Failed to launch TensorBoard (exited with 1).\n",
              "Contents of stderr:\n",
              "Traceback (most recent call last):\n",
              "  File \"/usr/local/bin/tensorboard\", line 5, in <module>\n",
              "    from tensorboard.main import run_main\n",
              "ModuleNotFoundError: No module named 'tensorboard'"
            ]
          },
          "metadata": {}
        }
      ],
      "source": [
        "%tensorboard --logdir logs"
      ]
    },
    {
      "cell_type": "markdown",
      "id": "0afc5be9",
      "metadata": {
        "id": "0afc5be9"
      },
      "source": [
        "## Train the TensorFlow model"
      ]
    },
    {
      "cell_type": "code",
      "execution_count": null,
      "id": "e4cce222",
      "metadata": {
        "scrolled": true,
        "id": "e4cce222",
        "outputId": "d0748d35-c987-4a1e-94a9-51a272d4e7f1",
        "colab": {
          "base_uri": "https://localhost:8080/"
        }
      },
      "outputs": [
        {
          "output_type": "stream",
          "name": "stdout",
          "text": [
            "Epoch 1/1000\n",
            "365/366 [============================>.] - ETA: 0s - loss: 44.1648 - mse: 44.1648 - mae: 4.4991\n",
            "Epoch 00001: val_loss improved from inf to 0.89756, saving model to logP_model\n",
            "INFO:tensorflow:Assets written to: logP_model/assets\n",
            "366/366 [==============================] - 5s 8ms/step - loss: 44.1355 - mse: 44.1355 - mae: 4.4967 - val_loss: 0.8976 - val_mse: 0.8976 - val_mae: 0.7416\n",
            "Epoch 2/1000\n",
            "355/366 [============================>.] - ETA: 0s - loss: 7.0493 - mse: 7.0493 - mae: 1.5510\n",
            "Epoch 00002: val_loss improved from 0.89756 to 0.53602, saving model to logP_model\n",
            "INFO:tensorflow:Assets written to: logP_model/assets\n",
            "366/366 [==============================] - 2s 7ms/step - loss: 6.9479 - mse: 6.9479 - mae: 1.5380 - val_loss: 0.5360 - val_mse: 0.5360 - val_mae: 0.5640\n",
            "Epoch 3/1000\n",
            "360/366 [============================>.] - ETA: 0s - loss: 3.0083 - mse: 3.0083 - mae: 0.9907\n",
            "Epoch 00003: val_loss improved from 0.53602 to 0.43010, saving model to logP_model\n",
            "INFO:tensorflow:Assets written to: logP_model/assets\n",
            "366/366 [==============================] - 2s 7ms/step - loss: 2.9865 - mse: 2.9865 - mae: 0.9880 - val_loss: 0.4301 - val_mse: 0.4301 - val_mae: 0.5026\n",
            "Epoch 4/1000\n",
            "362/366 [============================>.] - ETA: 0s - loss: 1.7584 - mse: 1.7584 - mae: 0.7958\n",
            "Epoch 00004: val_loss improved from 0.43010 to 0.38310, saving model to logP_model\n",
            "INFO:tensorflow:Assets written to: logP_model/assets\n",
            "366/366 [==============================] - 2s 6ms/step - loss: 1.7565 - mse: 1.7565 - mae: 0.7953 - val_loss: 0.3831 - val_mse: 0.3831 - val_mae: 0.4678\n",
            "Epoch 5/1000\n",
            "355/366 [============================>.] - ETA: 0s - loss: 1.2215 - mse: 1.2215 - mae: 0.6945\n",
            "Epoch 00005: val_loss improved from 0.38310 to 0.35385, saving model to logP_model\n",
            "INFO:tensorflow:Assets written to: logP_model/assets\n",
            "366/366 [==============================] - 2s 7ms/step - loss: 1.2116 - mse: 1.2116 - mae: 0.6929 - val_loss: 0.3538 - val_mse: 0.3538 - val_mae: 0.4469\n",
            "Epoch 6/1000\n",
            "365/366 [============================>.] - ETA: 0s - loss: 0.9718 - mse: 0.9718 - mae: 0.6258\n",
            "Epoch 00006: val_loss improved from 0.35385 to 0.33801, saving model to logP_model\n",
            "INFO:tensorflow:Assets written to: logP_model/assets\n",
            "366/366 [==============================] - 2s 6ms/step - loss: 0.9715 - mse: 0.9715 - mae: 0.6258 - val_loss: 0.3380 - val_mse: 0.3380 - val_mae: 0.4371\n",
            "Epoch 7/1000\n",
            "362/366 [============================>.] - ETA: 0s - loss: 0.7279 - mse: 0.7279 - mae: 0.5801\n",
            "Epoch 00007: val_loss improved from 0.33801 to 0.31537, saving model to logP_model\n",
            "INFO:tensorflow:Assets written to: logP_model/assets\n",
            "366/366 [==============================] - 3s 7ms/step - loss: 0.7282 - mse: 0.7282 - mae: 0.5798 - val_loss: 0.3154 - val_mse: 0.3154 - val_mae: 0.4234\n",
            "Epoch 8/1000\n",
            "359/366 [============================>.] - ETA: 0s - loss: 0.6138 - mse: 0.6138 - mae: 0.5430\n",
            "Epoch 00008: val_loss improved from 0.31537 to 0.29442, saving model to logP_model\n",
            "INFO:tensorflow:Assets written to: logP_model/assets\n",
            "366/366 [==============================] - 2s 6ms/step - loss: 0.6100 - mse: 0.6100 - mae: 0.5418 - val_loss: 0.2944 - val_mse: 0.2944 - val_mae: 0.4061\n",
            "Epoch 9/1000\n",
            "355/366 [============================>.] - ETA: 0s - loss: 0.5675 - mse: 0.5675 - mae: 0.5214\n",
            "Epoch 00009: val_loss improved from 0.29442 to 0.28197, saving model to logP_model\n",
            "INFO:tensorflow:Assets written to: logP_model/assets\n",
            "366/366 [==============================] - 2s 7ms/step - loss: 0.5642 - mse: 0.5642 - mae: 0.5211 - val_loss: 0.2820 - val_mse: 0.2820 - val_mae: 0.3939\n",
            "Epoch 10/1000\n",
            "362/366 [============================>.] - ETA: 0s - loss: 0.4733 - mse: 0.4733 - mae: 0.4989\n",
            "Epoch 00010: val_loss did not improve from 0.28197\n",
            "366/366 [==============================] - 1s 4ms/step - loss: 0.4718 - mse: 0.4718 - mae: 0.4984 - val_loss: 0.2842 - val_mse: 0.2842 - val_mae: 0.3996\n",
            "Epoch 11/1000\n",
            "355/366 [============================>.] - ETA: 0s - loss: 0.4343 - mse: 0.4343 - mae: 0.4801\n",
            "Epoch 00011: val_loss improved from 0.28197 to 0.25396, saving model to logP_model\n",
            "INFO:tensorflow:Assets written to: logP_model/assets\n",
            "366/366 [==============================] - 2s 6ms/step - loss: 0.4333 - mse: 0.4333 - mae: 0.4783 - val_loss: 0.2540 - val_mse: 0.2540 - val_mae: 0.3739\n",
            "Epoch 12/1000\n",
            "354/366 [============================>.] - ETA: 0s - loss: 0.4049 - mse: 0.4049 - mae: 0.4700\n",
            "Epoch 00012: val_loss did not improve from 0.25396\n",
            "366/366 [==============================] - 1s 4ms/step - loss: 0.4041 - mse: 0.4041 - mae: 0.4700 - val_loss: 0.2592 - val_mse: 0.2592 - val_mae: 0.3800\n",
            "Epoch 13/1000\n",
            "359/366 [============================>.] - ETA: 0s - loss: 0.3859 - mse: 0.3859 - mae: 0.4634\n",
            "Epoch 00013: val_loss improved from 0.25396 to 0.25149, saving model to logP_model\n",
            "INFO:tensorflow:Assets written to: logP_model/assets\n",
            "366/366 [==============================] - 2s 6ms/step - loss: 0.3842 - mse: 0.3842 - mae: 0.4626 - val_loss: 0.2515 - val_mse: 0.2515 - val_mae: 0.3705\n",
            "Epoch 14/1000\n",
            "353/366 [===========================>..] - ETA: 0s - loss: 0.3833 - mse: 0.3833 - mae: 0.4578\n",
            "Epoch 00014: val_loss improved from 0.25149 to 0.23658, saving model to logP_model\n",
            "INFO:tensorflow:Assets written to: logP_model/assets\n",
            "366/366 [==============================] - 2s 6ms/step - loss: 0.3827 - mse: 0.3827 - mae: 0.4575 - val_loss: 0.2366 - val_mse: 0.2366 - val_mae: 0.3604\n",
            "Epoch 15/1000\n",
            "366/366 [==============================] - ETA: 0s - loss: 0.3552 - mse: 0.3552 - mae: 0.4488\n",
            "Epoch 00015: val_loss improved from 0.23658 to 0.22718, saving model to logP_model\n",
            "INFO:tensorflow:Assets written to: logP_model/assets\n",
            "366/366 [==============================] - 2s 6ms/step - loss: 0.3552 - mse: 0.3552 - mae: 0.4488 - val_loss: 0.2272 - val_mse: 0.2272 - val_mae: 0.3522\n",
            "Epoch 16/1000\n",
            "362/366 [============================>.] - ETA: 0s - loss: 0.3285 - mse: 0.3285 - mae: 0.4350\n",
            "Epoch 00016: val_loss did not improve from 0.22718\n",
            "366/366 [==============================] - 1s 4ms/step - loss: 0.3297 - mse: 0.3297 - mae: 0.4352 - val_loss: 0.2289 - val_mse: 0.2289 - val_mae: 0.3577\n",
            "Epoch 17/1000\n",
            "360/366 [============================>.] - ETA: 0s - loss: 0.3150 - mse: 0.3150 - mae: 0.4243\n",
            "Epoch 00017: val_loss improved from 0.22718 to 0.21554, saving model to logP_model\n",
            "INFO:tensorflow:Assets written to: logP_model/assets\n",
            "366/366 [==============================] - 2s 6ms/step - loss: 0.3154 - mse: 0.3154 - mae: 0.4248 - val_loss: 0.2155 - val_mse: 0.2155 - val_mae: 0.3466\n",
            "Epoch 18/1000\n",
            "365/366 [============================>.] - ETA: 0s - loss: 0.3180 - mse: 0.3180 - mae: 0.4253\n",
            "Epoch 00018: val_loss did not improve from 0.21554\n",
            "366/366 [==============================] - 1s 4ms/step - loss: 0.3180 - mse: 0.3180 - mae: 0.4253 - val_loss: 0.2161 - val_mse: 0.2161 - val_mae: 0.3430\n",
            "Epoch 19/1000\n",
            "234/366 [==================>...........] - ETA: 0s - loss: 0.2992 - mse: 0.2992 - mae: 0.4162"
          ]
        }
      ],
      "source": [
        "tf_model.fit(X_train, y_train, validation_data=(X_val, y_val), epochs=1000, callbacks=[stopping, tensorboard, checkpoint])"
      ]
    },
    {
      "cell_type": "markdown",
      "id": "81e43137",
      "metadata": {
        "id": "81e43137"
      },
      "source": [
        "## Test the accuracy of the final TensorFlow model on the holdout test set"
      ]
    },
    {
      "cell_type": "code",
      "execution_count": null,
      "id": "707a591a",
      "metadata": {
        "id": "707a591a"
      },
      "outputs": [],
      "source": [
        "loss, mse, mae = tf_model.evaluate(X_test, y_test)\n",
        "prediction = tf_model.predict(X_test)"
      ]
    },
    {
      "cell_type": "code",
      "execution_count": null,
      "id": "208e7c75",
      "metadata": {
        "id": "208e7c75"
      },
      "outputs": [],
      "source": [
        "plot_evaluation(tf_model, X_test, y_test, \"TensorFlow\")"
      ]
    },
    {
      "cell_type": "markdown",
      "id": "0f94a0da",
      "metadata": {
        "id": "0f94a0da"
      },
      "source": [
        "## Plot some example predictions\n",
        "\n",
        "Let's plot the molecular structure and meaasured/predicted logP values. We'll use the same indicies as we did for the Ridge \n",
        "Regression."
      ]
    },
    {
      "cell_type": "code",
      "execution_count": null,
      "id": "b3f7f1a5",
      "metadata": {
        "scrolled": true,
        "id": "b3f7f1a5"
      },
      "outputs": [],
      "source": [
        "for idx in indicies:\n",
        "    plot_example(tf_model, X_test, y_test, df, idx, show_3d=True)"
      ]
    },
    {
      "cell_type": "markdown",
      "id": "f2bd23f7",
      "metadata": {
        "id": "f2bd23f7"
      },
      "source": [
        "## Let's finally compare the TensorFlow model to the Ridge Regression model"
      ]
    },
    {
      "cell_type": "code",
      "execution_count": null,
      "id": "d7bd97b2",
      "metadata": {
        "id": "d7bd97b2"
      },
      "outputs": [],
      "source": [
        "def plot_both_evaluation(tf_model, ridge_model, X_test, y_test):\n",
        "    \"\"\"\n",
        "    Scatter plot between target and prediction logP values for both models\n",
        "    \"\"\"\n",
        "    \n",
        "    prediction_tf = tf_model.predict(X_test)\n",
        "    mae_tf = mean_absolute_error(y_test, prediction_tf)\n",
        "    mse_tf = mean_squared_error(y_test, prediction_tf)\n",
        "    \n",
        "    prediction_ridge = ridge_model.predict(X_test)\n",
        "    mae_ridge = mean_absolute_error(y_test, prediction_ridge)\n",
        "    mse_ridge = mean_squared_error(y_test, prediction_ridge)\n",
        "\n",
        "    plt.figure(figsize=(20,10))\n",
        "    plt.subplot(1,2,2);\n",
        "    sns.regplot(x=prediction_tf, y=y_test, scatter_kws={\"color\": \"blue\"}, line_kws={\"color\": \"red\"});\n",
        "    plt.xlabel('Model Prediction', fontsize=24);\n",
        "    plt.ylabel('Measured logP', fontsize=24);\n",
        "    plt.xticks(fontsize=24);\n",
        "    plt.yticks(fontsize=24);\n",
        "    plt.suptitle('Predicting logP from SMILES', fontsize=32);\n",
        "    plt.title(f'TensorFlow: MAE = {mae_tf:.3f}, MSE = {mse_tf:.3f}', fontsize=24);\n",
        "    plt.grid(True);\n",
        "    cc = np.corrcoef(y_test, np.squeeze(prediction_tf))\n",
        "    plt.text(-1.5, 2, f\"Correlation\\ncoefficient\\n{cc[0][1]:.4f}\", fontsize=24, \n",
        "             horizontalalignment=\"center\", backgroundcolor=\"black\", color=\"white\")\n",
        "    \n",
        "    plt.subplot(1,2,1);\n",
        "    sns.regplot(x=prediction_ridge, y=y_test, scatter_kws={\"color\": \"blue\"}, line_kws={\"color\": \"red\"});\n",
        "    plt.xlabel('Model Prediction', fontsize=24);\n",
        "    plt.ylabel('Measured logP', fontsize=24);\n",
        "    plt.xticks(fontsize=24);\n",
        "    plt.yticks(fontsize=24);\n",
        "    plt.suptitle('Predicting logP from SMILES', fontsize=32);\n",
        "    plt.title(f'Ridge MAE = {mae_ridge:.3f}, MSE = {mse_ridge:.3f}', fontsize=24);\n",
        "    \n",
        "    cc = np.corrcoef(y_test, np.squeeze(prediction_ridge))\n",
        "    plt.text(-1.5, 2, f\"Correlation\\ncoefficient\\n{cc[0][1]:.4f}\", fontsize=24, \n",
        "             horizontalalignment=\"center\", backgroundcolor=\"black\", color=\"white\")\n",
        "    plt.grid(True);"
      ]
    },
    {
      "cell_type": "code",
      "execution_count": null,
      "id": "3dbb85ac",
      "metadata": {
        "id": "3dbb85ac"
      },
      "outputs": [],
      "source": [
        "plot_both_evaluation(tf_model, ridge_model, X_test, y_test)"
      ]
    },
    {
      "cell_type": "markdown",
      "id": "c9a44b87",
      "metadata": {
        "id": "c9a44b87"
      },
      "source": [
        "## OpenVINO™-TensorFlow Bridge\n",
        "\n",
        "The [OpenVINO™-TensorFlow](https://github.com/openvinotoolkit/openvino_tensorflow) bridge optimizes deep learning inference on Intel® hardware. It is designed for developers who want to get started using OpenVINO™ with minimal modifications to their inference code. OpenVINO™ integration with TensorFlow accelerates inference across many AI models on a variety of Intel® silicon such as:\n",
        "\n",
        "+ Intel® CPUs\n",
        "+ Intel® integrated GPUs\n",
        "+ Intel® Movidius™ Vision Processing Units - referred as VPU\n",
        "+ Intel® Vision Accelerator Design with 8 Intel Movidius™ MyriadX VPUs - referred as VAD-M or HDDL\n",
        "\n",
        "The current TensorFlow model is a trivial multi-layered network, but for more complex TensorFlow topologies there may be a significant speedup of inference. I'd encourage you to try other deep learning topologies to evaluate the speedups. Note: The truly optimal speedup on Intel® hardware can be obtained by converting the TensorFlow model to the [OpenVINO™](https://docs.openvinotoolkit.org/latest/index.html) format and using the native OpenVINO inference engine.\n",
        "\n",
        "To install the OpenVINO™-TensorFlow bridge you can find specific directions [here](https://openvinotoolkit.github.io/openvino_tensorflow/)"
      ]
    },
    {
      "cell_type": "code",
      "execution_count": null,
      "id": "1ca72a8b",
      "metadata": {
        "id": "1ca72a8b"
      },
      "outputs": [],
      "source": [
        "#!pip install openvino-tensorflow==0.5.0\n",
        "print('TensorFlow version: ', tf.__version__)\n",
        "import openvino_tensorflow\n",
        "print(openvino_tensorflow.__version__)\n",
        "\n",
        "print(f\"OpenVINO is enabled: {openvino_tensorflow.is_enabled()}\")"
      ]
    },
    {
      "cell_type": "markdown",
      "id": "c3d5da69",
      "metadata": {
        "id": "c3d5da69"
      },
      "source": [
        "## Chosing the AI Hardware\n",
        "The next command prints all available hardware for AI inference using OpenVINO™. We can easily switch between hardware using the `set_backend` command. That's it. The bridge does the rest."
      ]
    },
    {
      "cell_type": "code",
      "execution_count": null,
      "id": "a86dd1bb",
      "metadata": {
        "id": "a86dd1bb"
      },
      "outputs": [],
      "source": [
        "openvino_tensorflow.list_backends()"
      ]
    },
    {
      "cell_type": "code",
      "execution_count": null,
      "id": "ff95d753",
      "metadata": {
        "id": "ff95d753"
      },
      "outputs": [],
      "source": [
        "openvino_tensorflow.set_backend('CPU')"
      ]
    },
    {
      "cell_type": "code",
      "execution_count": null,
      "id": "c3c6ebd6",
      "metadata": {
        "id": "c3c6ebd6"
      },
      "outputs": [],
      "source": [
        "loss, mse, mae = tf_model.evaluate(X_test, y_test)\n",
        "prediction_ov = tf_model.predict(X_test)"
      ]
    },
    {
      "cell_type": "code",
      "execution_count": null,
      "id": "2a0129ba",
      "metadata": {
        "id": "2a0129ba"
      },
      "outputs": [],
      "source": [
        "print(f\"The maximum difference between OpenVINO and TensorFlow predictions is {np.max(prediction_ov - prediction):.5f}\")"
      ]
    }
  ],
  "metadata": {
    "kernelspec": {
      "display_name": "Python 3",
      "language": "python",
      "name": "python3"
    },
    "language_info": {
      "codemirror_mode": {
        "name": "ipython",
        "version": 3
      },
      "file_extension": ".py",
      "mimetype": "text/x-python",
      "name": "python",
      "nbconvert_exporter": "python",
      "pygments_lexer": "ipython3",
      "version": "3.8.10"
    },
    "colab": {
      "name": "chemistry_predict_logP_tensorflow.ipynb",
      "provenance": []
    },
    "accelerator": "GPU",
    "widgets": {
      "application/vnd.jupyter.widget-state+json": {
        "3bd9b4be930d43dd9d59a3a96e941acb": {
          "model_module": "@jupyter-widgets/controls",
          "model_name": "VBoxModel",
          "model_module_version": "1.5.0",
          "state": {
            "_view_name": "VBoxView",
            "_dom_classes": [
              "widget-interact"
            ],
            "_model_name": "VBoxModel",
            "_view_module": "@jupyter-widgets/controls",
            "_model_module_version": "1.5.0",
            "_view_count": null,
            "_view_module_version": "1.5.0",
            "box_style": "",
            "layout": "IPY_MODEL_b64ba73a7ebf42ffaf781bcc6e5b7dfc",
            "_model_module": "@jupyter-widgets/controls",
            "children": [
              "IPY_MODEL_be228d4887ba49e4a25c82172bf52f79",
              "IPY_MODEL_a60934122aaf4d6491844d10577d9d39",
              "IPY_MODEL_b31a0c550040477b968ead2081b1b81a"
            ]
          }
        },
        "b64ba73a7ebf42ffaf781bcc6e5b7dfc": {
          "model_module": "@jupyter-widgets/base",
          "model_name": "LayoutModel",
          "model_module_version": "1.2.0",
          "state": {
            "_view_name": "LayoutView",
            "grid_template_rows": null,
            "right": null,
            "justify_content": null,
            "_view_module": "@jupyter-widgets/base",
            "overflow": null,
            "_model_module_version": "1.2.0",
            "_view_count": null,
            "flex_flow": null,
            "width": null,
            "min_width": null,
            "border": null,
            "align_items": null,
            "bottom": null,
            "_model_module": "@jupyter-widgets/base",
            "top": null,
            "grid_column": null,
            "overflow_y": null,
            "overflow_x": null,
            "grid_auto_flow": null,
            "grid_area": null,
            "grid_template_columns": null,
            "flex": null,
            "_model_name": "LayoutModel",
            "justify_items": null,
            "grid_row": null,
            "max_height": null,
            "align_content": null,
            "visibility": null,
            "align_self": null,
            "height": null,
            "min_height": null,
            "padding": null,
            "grid_auto_rows": null,
            "grid_gap": null,
            "max_width": null,
            "order": null,
            "_view_module_version": "1.2.0",
            "grid_template_areas": null,
            "object_position": null,
            "object_fit": null,
            "grid_auto_columns": null,
            "margin": null,
            "display": null,
            "left": null
          }
        },
        "be228d4887ba49e4a25c82172bf52f79": {
          "model_module": "@jupyter-widgets/controls",
          "model_name": "IntSliderModel",
          "model_module_version": "1.5.0",
          "state": {
            "_view_name": "IntSliderView",
            "style": "IPY_MODEL_7d5162eb28064464a906cfeac2cd11f2",
            "_dom_classes": [],
            "description": "Molecule",
            "step": 1,
            "_model_name": "IntSliderModel",
            "orientation": "horizontal",
            "max": 14609,
            "_view_module": "@jupyter-widgets/controls",
            "_model_module_version": "1.5.0",
            "value": 3064,
            "_view_count": null,
            "disabled": false,
            "_view_module_version": "1.5.0",
            "min": 0,
            "continuous_update": true,
            "readout_format": "d",
            "description_tooltip": null,
            "readout": true,
            "_model_module": "@jupyter-widgets/controls",
            "layout": "IPY_MODEL_f0ca04f1f8fe4d1aa7a01004b19371e7"
          }
        },
        "a60934122aaf4d6491844d10577d9d39": {
          "model_module": "@jupyter-widgets/controls",
          "model_name": "DropdownModel",
          "model_module_version": "1.5.0",
          "state": {
            "_options_labels": [
              "line",
              "stick",
              "sphere"
            ],
            "_view_name": "DropdownView",
            "style": "IPY_MODEL_c152fb68ca0f4eb290929e335e89cf67",
            "_dom_classes": [],
            "description": "Style:",
            "_model_name": "DropdownModel",
            "index": 1,
            "_view_module": "@jupyter-widgets/controls",
            "_model_module_version": "1.5.0",
            "_view_count": null,
            "disabled": false,
            "_view_module_version": "1.5.0",
            "description_tooltip": null,
            "_model_module": "@jupyter-widgets/controls",
            "layout": "IPY_MODEL_396b4bff2e3940b5a7f8b9fa565d5cec"
          }
        },
        "b31a0c550040477b968ead2081b1b81a": {
          "model_module": "@jupyter-widgets/output",
          "model_name": "OutputModel",
          "model_module_version": "1.0.0",
          "state": {
            "_view_name": "OutputView",
            "msg_id": "",
            "_dom_classes": [],
            "_model_name": "OutputModel",
            "outputs": [
              {
                "output_type": "stream",
                "name": "stdout",
                "text": [
                  "SMILES notation: C1=CP=[C+]O1\n",
                  "Rotate me!\n"
                ]
              },
              {
                "output_type": "display_data",
                "data": {
                  "application/3dmoljs_load.v0": "<div id=\"3dmolviewer_16444365002325947\"  style=\"position: relative; width: 300px; height: 300px\">\n        <p id=\"3dmolwarning_16444365002325947\" style=\"background-color:#ffcccc;color:black\">You appear to be running in JupyterLab (or JavaScript failed to load for some other reason).  You need to install the 3dmol extension: <br>\n        <tt>jupyter labextension install jupyterlab_3dmol</tt></p>\n        </div>\n<script>\n\nvar loadScriptAsync = function(uri){\n  return new Promise((resolve, reject) => {\n    var tag = document.createElement('script');\n    tag.src = uri;\n    tag.async = true;\n    tag.onload = () => {\n      resolve();\n    };\n  var firstScriptTag = document.getElementsByTagName('script')[0];\n  firstScriptTag.parentNode.insertBefore(tag, firstScriptTag);\n});\n};\n\nif(typeof $3Dmolpromise === 'undefined') {\n$3Dmolpromise = null;\n  $3Dmolpromise = loadScriptAsync('https://3dmol.org/build/3Dmol.js');\n}\n\nvar viewer_16444365002325947 = null;\nvar warn = document.getElementById(\"3dmolwarning_16444365002325947\");\nif(warn) {\n    warn.parentNode.removeChild(warn);\n}\n$3Dmolpromise.then(function() {\nviewer_16444365002325947 = $3Dmol.createViewer($(\"#3dmolviewer_16444365002325947\"),{backgroundColor:\"white\"});\nviewer_16444365002325947.zoomTo();\n\tviewer_16444365002325947.addModel(\"\\n     RDKit          2D\\n\\n  5  5  0  0  0  0  0  0  0  0999 V2000\\n    1.2760    0.0000    0.0000 C   0  0  0  0  0  0  0  0  0  0  0  0\\n    0.3943    1.2135    0.0000 C   0  0  0  0  0  0  0  0  0  0  0  0\\n   -1.0323    0.7500    0.0000 P   0  0  0  0  0  0  0  0  0  0  0  0\\n   -1.0323   -0.7500    0.0000 C   0  0  0  0  0  3  0  0  0  0  0  0\\n    0.3943   -1.2135    0.0000 O   0  0  0  0  0  0  0  0  0  0  0  0\\n  1  2  2  0\\n  2  3  1  0\\n  3  4  2  0\\n  4  5  1  0\\n  5  1  1  0\\nM  CHG  1   4   1\\nM  END\\n\",\"mol\");\n\tviewer_16444365002325947.setStyle({\"stick\": {}});\n\tviewer_16444365002325947.rotate(45,\"y\");\n\tviewer_16444365002325947.zoomTo();\nviewer_16444365002325947.render();\n});\n</script>",
                  "text/html": "<div id=\"3dmolviewer_16444365002325947\"  style=\"position: relative; width: 300px; height: 300px\">\n        <p id=\"3dmolwarning_16444365002325947\" style=\"background-color:#ffcccc;color:black\">You appear to be running in JupyterLab (or JavaScript failed to load for some other reason).  You need to install the 3dmol extension: <br>\n        <tt>jupyter labextension install jupyterlab_3dmol</tt></p>\n        </div>\n<script>\n\nvar loadScriptAsync = function(uri){\n  return new Promise((resolve, reject) => {\n    var tag = document.createElement('script');\n    tag.src = uri;\n    tag.async = true;\n    tag.onload = () => {\n      resolve();\n    };\n  var firstScriptTag = document.getElementsByTagName('script')[0];\n  firstScriptTag.parentNode.insertBefore(tag, firstScriptTag);\n});\n};\n\nif(typeof $3Dmolpromise === 'undefined') {\n$3Dmolpromise = null;\n  $3Dmolpromise = loadScriptAsync('https://3dmol.org/build/3Dmol.js');\n}\n\nvar viewer_16444365002325947 = null;\nvar warn = document.getElementById(\"3dmolwarning_16444365002325947\");\nif(warn) {\n    warn.parentNode.removeChild(warn);\n}\n$3Dmolpromise.then(function() {\nviewer_16444365002325947 = $3Dmol.createViewer($(\"#3dmolviewer_16444365002325947\"),{backgroundColor:\"white\"});\nviewer_16444365002325947.zoomTo();\n\tviewer_16444365002325947.addModel(\"\\n     RDKit          2D\\n\\n  5  5  0  0  0  0  0  0  0  0999 V2000\\n    1.2760    0.0000    0.0000 C   0  0  0  0  0  0  0  0  0  0  0  0\\n    0.3943    1.2135    0.0000 C   0  0  0  0  0  0  0  0  0  0  0  0\\n   -1.0323    0.7500    0.0000 P   0  0  0  0  0  0  0  0  0  0  0  0\\n   -1.0323   -0.7500    0.0000 C   0  0  0  0  0  3  0  0  0  0  0  0\\n    0.3943   -1.2135    0.0000 O   0  0  0  0  0  0  0  0  0  0  0  0\\n  1  2  2  0\\n  2  3  1  0\\n  3  4  2  0\\n  4  5  1  0\\n  5  1  1  0\\nM  CHG  1   4   1\\nM  END\\n\",\"mol\");\n\tviewer_16444365002325947.setStyle({\"stick\": {}});\n\tviewer_16444365002325947.rotate(45,\"y\");\n\tviewer_16444365002325947.zoomTo();\nviewer_16444365002325947.render();\n});\n</script>"
                },
                "metadata": {}
              }
            ],
            "_view_module": "@jupyter-widgets/output",
            "_model_module_version": "1.0.0",
            "_view_count": null,
            "_view_module_version": "1.0.0",
            "layout": "IPY_MODEL_9358514668274dfc9319949bf2c8f7d8",
            "_model_module": "@jupyter-widgets/output"
          }
        },
        "7d5162eb28064464a906cfeac2cd11f2": {
          "model_module": "@jupyter-widgets/controls",
          "model_name": "SliderStyleModel",
          "model_module_version": "1.5.0",
          "state": {
            "_view_name": "StyleView",
            "handle_color": null,
            "_model_name": "SliderStyleModel",
            "description_width": "",
            "_view_module": "@jupyter-widgets/base",
            "_model_module_version": "1.5.0",
            "_view_count": null,
            "_view_module_version": "1.2.0",
            "_model_module": "@jupyter-widgets/controls"
          }
        },
        "f0ca04f1f8fe4d1aa7a01004b19371e7": {
          "model_module": "@jupyter-widgets/base",
          "model_name": "LayoutModel",
          "model_module_version": "1.2.0",
          "state": {
            "_view_name": "LayoutView",
            "grid_template_rows": null,
            "right": null,
            "justify_content": null,
            "_view_module": "@jupyter-widgets/base",
            "overflow": null,
            "_model_module_version": "1.2.0",
            "_view_count": null,
            "flex_flow": null,
            "width": null,
            "min_width": null,
            "border": null,
            "align_items": null,
            "bottom": null,
            "_model_module": "@jupyter-widgets/base",
            "top": null,
            "grid_column": null,
            "overflow_y": null,
            "overflow_x": null,
            "grid_auto_flow": null,
            "grid_area": null,
            "grid_template_columns": null,
            "flex": null,
            "_model_name": "LayoutModel",
            "justify_items": null,
            "grid_row": null,
            "max_height": null,
            "align_content": null,
            "visibility": null,
            "align_self": null,
            "height": null,
            "min_height": null,
            "padding": null,
            "grid_auto_rows": null,
            "grid_gap": null,
            "max_width": null,
            "order": null,
            "_view_module_version": "1.2.0",
            "grid_template_areas": null,
            "object_position": null,
            "object_fit": null,
            "grid_auto_columns": null,
            "margin": null,
            "display": null,
            "left": null
          }
        },
        "c152fb68ca0f4eb290929e335e89cf67": {
          "model_module": "@jupyter-widgets/controls",
          "model_name": "DescriptionStyleModel",
          "model_module_version": "1.5.0",
          "state": {
            "_view_name": "StyleView",
            "_model_name": "DescriptionStyleModel",
            "description_width": "",
            "_view_module": "@jupyter-widgets/base",
            "_model_module_version": "1.5.0",
            "_view_count": null,
            "_view_module_version": "1.2.0",
            "_model_module": "@jupyter-widgets/controls"
          }
        },
        "396b4bff2e3940b5a7f8b9fa565d5cec": {
          "model_module": "@jupyter-widgets/base",
          "model_name": "LayoutModel",
          "model_module_version": "1.2.0",
          "state": {
            "_view_name": "LayoutView",
            "grid_template_rows": null,
            "right": null,
            "justify_content": null,
            "_view_module": "@jupyter-widgets/base",
            "overflow": null,
            "_model_module_version": "1.2.0",
            "_view_count": null,
            "flex_flow": null,
            "width": null,
            "min_width": null,
            "border": null,
            "align_items": null,
            "bottom": null,
            "_model_module": "@jupyter-widgets/base",
            "top": null,
            "grid_column": null,
            "overflow_y": null,
            "overflow_x": null,
            "grid_auto_flow": null,
            "grid_area": null,
            "grid_template_columns": null,
            "flex": null,
            "_model_name": "LayoutModel",
            "justify_items": null,
            "grid_row": null,
            "max_height": null,
            "align_content": null,
            "visibility": null,
            "align_self": null,
            "height": null,
            "min_height": null,
            "padding": null,
            "grid_auto_rows": null,
            "grid_gap": null,
            "max_width": null,
            "order": null,
            "_view_module_version": "1.2.0",
            "grid_template_areas": null,
            "object_position": null,
            "object_fit": null,
            "grid_auto_columns": null,
            "margin": null,
            "display": null,
            "left": null
          }
        },
        "9358514668274dfc9319949bf2c8f7d8": {
          "model_module": "@jupyter-widgets/base",
          "model_name": "LayoutModel",
          "model_module_version": "1.2.0",
          "state": {
            "_view_name": "LayoutView",
            "grid_template_rows": null,
            "right": null,
            "justify_content": null,
            "_view_module": "@jupyter-widgets/base",
            "overflow": null,
            "_model_module_version": "1.2.0",
            "_view_count": null,
            "flex_flow": null,
            "width": null,
            "min_width": null,
            "border": null,
            "align_items": null,
            "bottom": null,
            "_model_module": "@jupyter-widgets/base",
            "top": null,
            "grid_column": null,
            "overflow_y": null,
            "overflow_x": null,
            "grid_auto_flow": null,
            "grid_area": null,
            "grid_template_columns": null,
            "flex": null,
            "_model_name": "LayoutModel",
            "justify_items": null,
            "grid_row": null,
            "max_height": null,
            "align_content": null,
            "visibility": null,
            "align_self": null,
            "height": null,
            "min_height": null,
            "padding": null,
            "grid_auto_rows": null,
            "grid_gap": null,
            "max_width": null,
            "order": null,
            "_view_module_version": "1.2.0",
            "grid_template_areas": null,
            "object_position": null,
            "object_fit": null,
            "grid_auto_columns": null,
            "margin": null,
            "display": null,
            "left": null
          }
        }
      }
    }
  },
  "nbformat": 4,
  "nbformat_minor": 5
}
